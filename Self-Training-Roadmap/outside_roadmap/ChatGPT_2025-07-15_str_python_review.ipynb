{
 "cells": [
  {
   "cell_type": "markdown",
   "id": "c7af47e0",
   "metadata": {},
   "source": [
    "# 📘 فصل ۱: رشته‌ها در پایتون (`str`) - مروری پیشرفته"
   ]
  },
  {
   "cell_type": "markdown",
   "id": "ed32a011",
   "metadata": {},
   "source": [
    "## 🔹 ۱. Immutable بودن رشته‌ها"
   ]
  },
  {
   "cell_type": "code",
   "execution_count": null,
   "id": "d4ed7f76",
   "metadata": {},
   "outputs": [],
   "source": [
    "s = \"iman\"\n",
    "try:\n",
    "    s[0] = \"I\"  # ❌ Error: 'str' object does not support item assignment\n",
    "except TypeError as e:\n",
    "    print(f\"Error: {e}\")"
   ]
  },
  {
   "cell_type": "markdown",
   "id": "2ef87f6f",
   "metadata": {},
   "source": [
    "## 🔹 ۲. Indexing و Slicing"
   ]
  },
  {
   "cell_type": "code",
   "execution_count": null,
   "id": "df09d10f",
   "metadata": {},
   "outputs": [],
   "source": [
    "s = \"python\"\n",
    "print(s[0])     # 'p'\n",
    "print(s[-1])    # 'n'\n",
    "print(s[1:4])   # 'yth'\n",
    "print(s[::-1])  # 'nohtyp' → معکوس"
   ]
  },
  {
   "cell_type": "markdown",
   "id": "b606de2c",
   "metadata": {},
   "source": [
    "## 🔹 ۳. تبدیل حروف"
   ]
  },
  {
   "cell_type": "code",
   "execution_count": null,
   "id": "4a0bfe3e",
   "metadata": {},
   "outputs": [],
   "source": [
    "s = \"ImAn\"\n",
    "print(s.lower())      # 'iman'\n",
    "print(s.upper())      # 'IMAN'\n",
    "print(s.capitalize()) # 'Iman'\n",
    "print(s.title())      # 'Iman'"
   ]
  },
  {
   "cell_type": "markdown",
   "id": "0066eb2b",
   "metadata": {},
   "source": [
    "## 🔹 ۴. حذف فاصله‌های اضافی"
   ]
  },
  {
   "cell_type": "code",
   "execution_count": null,
   "id": "f4f933d6",
   "metadata": {},
   "outputs": [],
   "source": [
    "s = \"  iman  \"\n",
    "print(s.strip())   # 'iman'\n",
    "print(s.lstrip())  # 'iman  '\n",
    "print(s.rstrip())  # '  iman'"
   ]
  },
  {
   "cell_type": "markdown",
   "id": "899d56df",
   "metadata": {},
   "source": [
    "## 🔹 ۵. جستجو در رشته"
   ]
  },
  {
   "cell_type": "code",
   "execution_count": null,
   "id": "5b2150c6",
   "metadata": {},
   "outputs": [],
   "source": [
    "s = \"iman\"\n",
    "print(s.find(\"a\"))      # 2\n",
    "print(s.index(\"a\"))     # 2\n",
    "print(s.startswith(\"i\"))  # True\n",
    "print(s.endswith(\"n\"))    # True"
   ]
  },
  {
   "cell_type": "markdown",
   "id": "8c8b1ff3",
   "metadata": {},
   "source": [
    "## 🔹 ۶. جایگزینی و ترکیب"
   ]
  },
  {
   "cell_type": "code",
   "execution_count": null,
   "id": "9a3c7cf2",
   "metadata": {},
   "outputs": [],
   "source": [
    "s = \"iman iman\"\n",
    "print(s.replace(\"i\", \"I\"))\n",
    "print(\" \".join([\"a\", \"b\"]))\n",
    "print(\"a b c\".split())"
   ]
  },
  {
   "cell_type": "markdown",
   "id": "42184d8e",
   "metadata": {},
   "source": [
    "## 🔹 ۷. رشته‌های چندخطی و raw string"
   ]
  },
  {
   "cell_type": "code",
   "execution_count": null,
   "id": "8bb5e378",
   "metadata": {},
   "outputs": [],
   "source": [
    "multi = '''line1\n",
    "line2'''\n",
    "print(multi)\n",
    "\n",
    "raw = r\"\\nTab\\tSpace\"\n",
    "print(raw)"
   ]
  },
  {
   "cell_type": "markdown",
   "id": "c2053a6b",
   "metadata": {},
   "source": [
    "## 🔹 ۸. interning"
   ]
  },
  {
   "cell_type": "code",
   "execution_count": null,
   "id": "6e196562",
   "metadata": {},
   "outputs": [],
   "source": [
    "a = \"iman\"\n",
    "b = \"iman\"\n",
    "print(a is b)  # ممکنه True\n",
    "print(a == b)  # همیشه True"
   ]
  },
  {
   "cell_type": "markdown",
   "id": "c69d544d",
   "metadata": {},
   "source": [
    "## 🔹 ۹. تفاوت `+` و `join`"
   ]
  },
  {
   "cell_type": "code",
   "execution_count": null,
   "id": "28873b9b",
   "metadata": {},
   "outputs": [],
   "source": [
    "parts = [\"I\", \"love\", \"Python\"]\n",
    "print(\" \".join(parts))\n",
    "\n",
    "text = \"\"\n",
    "for word in parts:\n",
    "    text += word + \" \"  # کندتر"
   ]
  },
  {
   "cell_type": "markdown",
   "id": "05a282a7",
   "metadata": {},
   "source": [
    "## 🔹 ۱۰. توابع داخلی پرکاربرد"
   ]
  },
  {
   "cell_type": "code",
   "execution_count": null,
   "id": "eebea762",
   "metadata": {},
   "outputs": [],
   "source": [
    "print(len(\"iman\"))\n",
    "print(ord(\"a\"))\n",
    "print(chr(65))\n",
    "print(sorted(\"dcab\"))\n",
    "print(list(reversed(\"abc\")))\n",
    "print(list(enumerate(\"hi\")))"
   ]
  },
  {
   "cell_type": "markdown",
   "id": "5f66b850",
   "metadata": {},
   "source": [
    "## 🔹 ۱۱. نام‌گذاری حرفه‌ای"
   ]
  },
  {
   "cell_type": "markdown",
   "id": "cf35ec93",
   "metadata": {},
   "source": [
    "❌ `s`, `a`, `t`  \n",
    "✅ `username`, `full_name`, `cleaned_input`"
   ]
  }
 ],
 "metadata": {},
 "nbformat": 4,
 "nbformat_minor": 5
}
