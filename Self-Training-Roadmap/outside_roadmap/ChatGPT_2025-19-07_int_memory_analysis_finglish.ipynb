{
 "cells": [
  {
   "cell_type": "markdown",
   "id": "84a0340f",
   "metadata": {},
   "source": [
    "# 📘 Advanced Python: Day 1 - Integer Memory & Performance Analysis\n"
   ]
  },
  {
   "cell_type": "markdown",
   "id": "1bce9275",
   "metadata": {},
   "source": [
    "## 🔢 Number of Digits in an Integer\n",
    "- Tavajoh be `math.log10(n)` baraye mohasebeye tedade argham.\n",
    "- Estefade az `len(str(n))` ham mojaz ast vali kamelan motefavet dar memory va performance.\n"
   ]
  },
  {
   "cell_type": "code",
   "execution_count": null,
   "id": "aa82fb32",
   "metadata": {},
   "outputs": [],
   "source": [
    "import math\n",
    "\n",
    "def get_num_digits(n: int) -> int:\n",
    "    return math.floor(math.log10(n)) + 1 if n > 0 else 1\n",
    "\n",
    "print(get_num_digits(10**1000))"
   ]
  },
  {
   "cell_type": "markdown",
   "id": "3d626a91",
   "metadata": {},
   "source": [
    "### 💡 تمرین:\n",
    "- Benvis `get_num_digits_str(n: int)` ke ba `str()` anjam mide.\n",
    "- Fargh ro barresi kon beyne performance donoh."
   ]
  },
  {
   "cell_type": "markdown",
   "id": "ff53f4c7",
   "metadata": {},
   "source": [
    "## 🧠 Deep Dive: Integer Memory Analysis\n",
    "- Estefade az `ctypes` va `memoryview` baraye didan byte-ha.\n"
   ]
  },
  {
   "cell_type": "code",
   "execution_count": null,
   "id": "12bba14d",
   "metadata": {},
   "outputs": [],
   "source": [
    "import ctypes\n",
    "import sys\n",
    "\n",
    "\n",
    "def analyze_int_memory(n: int):\n",
    "    print(f\"Value: {n}\")\n",
    "    print(f\"Address: {hex(id(n))}\")\n",
    "    print(f\"Total size: {sys.getsizeof(n)} bytes\")\n",
    "    \n",
    "    int_obj = ctypes.cast(id(n), ctypes.POINTER(ctypes.c_uint8 * sys.getsizeof(n))).contents\n",
    "    print(\"Raw bytes:\")\n",
    "    for i, byte in enumerate(int_obj):\n",
    "        print(f\"{i:02}: {byte:02x}\")\n",
    "\n",
    "analyze_int_memory(123456789)"
   ]
  },
  {
   "cell_type": "markdown",
   "id": "1cf355fd",
   "metadata": {},
   "source": [
    "### 💡 تمرین:\n",
    "- Khodet bytes-e akhar ro tabdil kon be integer (little-endian).\n",
    "- Chejoori `0x075bcd15` mishe 123456789?\n",
    "- Estefade kon az `int.from_bytes()`."
   ]
  },
  {
   "cell_type": "markdown",
   "id": "ea22de5c",
   "metadata": {},
   "source": [
    "## ♻️ Reference Counting in Python\n",
    "- `sys.getrefcount(obj)` neshun mide chand marhale object reference shode.\n",
    "- Yek reference ezafi baraye khod `getrefcount()` hast.\n"
   ]
  },
  {
   "cell_type": "code",
   "execution_count": null,
   "id": "2ada17a7",
   "metadata": {},
   "outputs": [],
   "source": [
    "import sys\n",
    "\n",
    "x = -548932568\n",
    "y = x\n",
    "print(sys.getrefcount(x))  # momkene 2 ro bede\n",
    "\n",
    "del y\n",
    "print(sys.getrefcount(x))"
   ]
  },
  {
   "cell_type": "markdown",
   "id": "303fc739",
   "metadata": {},
   "source": [
    "## ✅ Khatemeh\n",
    "- Hameye in ha dar memory Python bar asase CPython implement shodan.\n",
    "- Tavasote `sys`, `ctypes`, `dis` mituni performance ro ham barresi koni.\n",
    "\n",
    "---\n",
    "\n",
    "### 🔁 تمرین پایانی:\n",
    "1. `get_num_digits` va `get_num_digits_str` ro barresi kon tuzihat + `timeit`\n",
    "2. Barresi bytes az do adad digar (mesle `2**64`)\n",
    "3. Reference count baraye `[]`, `{}` va `None` ra check kon."
   ]
  }
 ],
 "metadata": {},
 "nbformat": 4,
 "nbformat_minor": 5
}