{
 "cells": [
  {
   "metadata": {},
   "cell_type": "raw",
   "source": "",
   "id": "1af3c695e450a15d"
  },
  {
   "metadata": {
    "ExecuteTime": {
     "end_time": "2025-06-04T11:03:38.166830Z",
     "start_time": "2025-06-04T11:03:38.162562Z"
    }
   },
   "cell_type": "code",
   "source": [
    "import inspect_\n",
    "i=\"iman is a good pesar\"\n",
    "ii=\"giulia è una bella donna\""
   ],
   "id": "b9fc45c660cfd0d1",
   "outputs": [],
   "execution_count": 49
  },
  {
   "metadata": {
    "ExecuteTime": {
     "end_time": "2025-06-04T11:32:55.738374Z",
     "start_time": "2025-06-04T11:32:55.731477Z"
    }
   },
   "cell_type": "code",
   "source": [
    "\n",
    "def start_my_program():\n",
    "    pass\n",
    "def get_var_name(value):\n",
    "    d={}\n",
    "    frame=inspect_.currentframe()\n",
    "    outer=frame.f_back\n",
    "    locals = outer.f_locals.items()\n",
    "    print(len(locals))\n",
    "    if len(locals) == 0: return\n",
    "    for var_name, var_value in outer.f_locals.items():\n",
    "        if type(var_value)==type(value):\n",
    "            if value in var_value and not var_name.startswith(\"_\"):\n",
    "                d[var_name]=var_value\n",
    "            elif value == var_value and not var_name.startswith(\"_\"):\n",
    "                d[var_name]=var_value\n",
    "    return d\n",
    "def get_all_variables():\n",
    "    d={}\n",
    "    frame=inspect_.currentframe()\n",
    "    outer=frame.f_back\n",
    "    locals = outer.f_locals.items()\n",
    "    print(len(locals))\n",
    "    if len(locals) == 0: return\n",
    "    for var_name, var_value in outer.f_locals.items():\n",
    "        if not var_name.startswith(\"_\"):\n",
    "            d[var_name]=type(var_value)\n",
    "    return d"
   ],
   "id": "654843bb136759ee",
   "outputs": [],
   "execution_count": 87
  },
  {
   "metadata": {
    "ExecuteTime": {
     "end_time": "2025-06-04T11:12:37.092580Z",
     "start_time": "2025-06-04T11:12:37.087267Z"
    }
   },
   "cell_type": "code",
   "source": "print(get_var_name(9876))",
   "id": "5de89788e8206e50",
   "outputs": [
    {
     "name": "stdout",
     "output_type": "stream",
     "text": [
      "112\n",
      "{}\n"
     ]
    }
   ],
   "execution_count": 71
  },
  {
   "metadata": {
    "ExecuteTime": {
     "end_time": "2025-06-04T11:33:38.381424Z",
     "start_time": "2025-06-04T11:33:38.371363Z"
    }
   },
   "cell_type": "code",
   "source": [
    "items=get_all_variables()\n",
    "my_pointer=False\n",
    "for k,v in items.items():\n",
    "    if k==\"inspect\":\n",
    "        my_pointer=True\n",
    "        continue\n",
    "    if my_pointer==False:\n",
    "        continue\n",
    "    print(k,v,  end=\"\\n----------------------------------------\\n\")"
   ],
   "id": "f5ba330c5e785abc",
   "outputs": [
    {
     "name": "stdout",
     "output_type": "stream",
     "text": [
      "138\n",
      "s1 <class 'str'>\n",
      "----------------------------------------\n",
      "s2 <class 'str'>\n",
      "----------------------------------------\n",
      "get_var_name <class 'function'>\n",
      "----------------------------------------\n",
      "i <class 'str'>\n",
      "----------------------------------------\n",
      "ii <class 'str'>\n",
      "----------------------------------------\n",
      "get_var_name_by_value <class 'function'>\n",
      "----------------------------------------\n",
      "user_input <class 'str'>\n",
      "----------------------------------------\n",
      "a <class 'str'>\n",
      "----------------------------------------\n",
      "b <class 'str'>\n",
      "----------------------------------------\n",
      "c <class 'str'>\n",
      "----------------------------------------\n",
      "name_found <class 'str'>\n",
      "----------------------------------------\n",
      "get_all_variables <class 'function'>\n",
      "----------------------------------------\n",
      "k <class 'str'>\n",
      "----------------------------------------\n",
      "v <class 'type'>\n",
      "----------------------------------------\n",
      "items <class 'dict'>\n",
      "----------------------------------------\n",
      "start_my_program <class 'function'>\n",
      "----------------------------------------\n",
      "my_pointer <class 'bool'>\n",
      "----------------------------------------\n"
     ]
    }
   ],
   "execution_count": 90
  },
  {
   "metadata": {
    "ExecuteTime": {
     "end_time": "2025-06-04T11:33:05.253823Z",
     "start_time": "2025-06-04T11:33:05.247619Z"
    }
   },
   "cell_type": "code",
   "source": [
    "items=get_all_variables()\n",
    "my_pointer=False\n",
    "for k,v in items.items():\n",
    "    if k==\"start_my_program\":\n",
    "        my_pointer=True\n",
    "        continue\n",
    "    if my_pointer==False:\n",
    "        continue\n",
    "    print(k, v, end=\"\\n----------------------------------------\\n\")"
   ],
   "id": "b23604e9c158ab69",
   "outputs": [
    {
     "name": "stdout",
     "output_type": "stream",
     "text": [
      "136\n",
      "my_pointer <class 'bool'>\n",
      "----------------------------------------\n"
     ]
    }
   ],
   "execution_count": 88
  },
  {
   "metadata": {},
   "cell_type": "code",
   "outputs": [],
   "execution_count": null,
   "source": [
    "a = \"hello\"\n",
    "b = user_input\n"
   ],
   "id": "dc2f05d08dc03f79"
  },
  {
   "metadata": {
    "ExecuteTime": {
     "end_time": "2025-06-04T10:57:20.772472Z",
     "start_time": "2025-06-04T10:57:05.431152Z"
    }
   },
   "cell_type": "code",
   "source": [
    "import inspect_\n",
    "\n",
    "def get_var_name_by_value(value):\n",
    "    # به استک بالایی برو (جایی که تابع صدا زده شده)\n",
    "    frame = inspect.currentframe().f_back\n",
    "    for var_name, var_val in frame.f_locals.items():\n",
    "        if var_val == value:\n",
    "            return var_name\n",
    "    return None\n",
    "\n",
    "# گرفتن ورودی از کاربر\n",
    "user_input = input(\"Yek kalame vared kon: \")  # مثلاً: python\n",
    "\n",
    "# تعریف متغیرها\n",
    "a = \"salam\"\n",
    "b = user_input\n",
    "c = \"python\"\n",
    "\n",
    "# بررسی\n",
    "name_found = get_var_name_by_value(user_input)\n",
    "\n",
    "print(\"Kalameye voroodi:\", user_input)\n",
    "print(\"Peyda shode dar motaghayer:\", name_found)\n"
   ],
   "id": "4af758339dd1abfa",
   "outputs": [
    {
     "name": "stdout",
     "output_type": "stream",
     "text": [
      "Kalameye voroodi: python\n",
      "Peyda shode dar motaghayer: user_input\n"
     ]
    }
   ],
   "execution_count": 33
  },
  {
   "metadata": {},
   "cell_type": "code",
   "outputs": [],
   "execution_count": null,
   "source": "",
   "id": "15391d81ced62ee7"
  }
 ],
 "metadata": {},
 "nbformat": 4,
 "nbformat_minor": 5
}
