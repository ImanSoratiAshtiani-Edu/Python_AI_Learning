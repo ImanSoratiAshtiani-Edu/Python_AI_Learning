{
  "cells": [
    {
      "cell_type": "markdown",
      "metadata": {},
      "source": [
        "# L0_S1 — Development Environment & Tooling (Master)\n\n**Date:** 2025-09-21\n\n**What you'll learn in this notebook:**\n- Python versions and environments: pyenv / venv / Conda\n- Project structure & IDE setup\n- Code quality: Black, Ruff, isort, mypy\n- pre-commit hooks and CI-ready workflow\n\n> این نوت‌بوک از ادغام چند منبع تهیه شده تا محتوای تکراری حذف و مسیر مطالعه یکپارچه شود.\n"
      ]
    },
    {
      "cell_type": "markdown",
      "id": "4fe304e9",
      "metadata": {
        "__source_file": "ChatGPT_2025-08-21_L0_1_Development_Environment.ipynb"
      },
      "source": [
        "<div dir=\"rtl\" align=\"right\">\n",
        "\n",
        "\n",
        "# 🗺️ موقعیت ما در نقشهٔ راه (L0)\n",
        "\n",
        "- [■] Python پایه برای AI/ML\n",
        "- [■■] **L0-S1: Development Environment**  ← شما اینجایید\n",
        "- [□] NumPy/Pandas/Scikit-learn مقدماتی (مرور سریع)\n",
        "- [□] SciPy و Matplotlib/Seaborn\n",
        "- [□] نخستین الگوریتم‌های ML (intuition)\n",
        "\n",
        "نوار پیشرفت: ████████░░ 60%\n",
        "\n",
        "\n",
        "</div>"
      ]
    },
    {
      "cell_type": "markdown",
      "id": "1b8bcdec",
      "metadata": {
        "__source_file": "ChatGPT_2025-08-21_L0_1_Development_Environment.ipynb"
      },
      "source": [
        "<div dir=\"rtl\" align=\"right\">\n",
        "\n",
        "\n",
        "# 📘 ادامهٔ L0-S1: محیط توسعه (Development Environment)\n",
        "در این بخش، با مدیریت نسخه‌های پایتون، محیط‌های مجزا، مدیریت وابستگی‌ها، ابزارهای مدرن (Poetry/Conda)،\n",
        "ساختار استاندارد پوشه‌های پروژه، و Git/Branching آشنا می‌شویم.\n",
        "\n",
        "## 🎯 اهداف\n",
        "- درک تفاوت `pyenv` و `venv` (#L0S1-1)\n",
        "- مدیریت وابستگی‌ها با `pip` و `requirements.txt` (#L0S1-2)\n",
        "- آشنایی با `Poetry` و زمان استفاده از آن (#L0S1-3)\n",
        "- آشنایی با `Conda` برای پروژه‌های علمی/داده‌ای (#L0S1-4)\n",
        "- طراحی ساختار پوشهٔ پروژه و فایل‌های کلیدی (#L0S1-5)\n",
        "- مبانی Git و Branching برای کار تیمی (#L0S1-6)\n",
        "\n",
        "\n",
        "</div>"
      ]
    },
    {
      "cell_type": "markdown",
      "id": "bd8f2792",
      "metadata": {
        "__source_file": "ChatGPT_2025-08-21_L0_1_Development_Environment.ipynb"
      },
      "source": [
        "<div dir=\"rtl\" align=\"right\">\n",
        "\n",
        "\n",
        "## #L0S1-1 — مدیریت نسخهٔ Python: `pyenv` vs `venv`\n",
        "- **`pyenv`**: چند **نسخهٔ پایتون** را روی یک سیستم نصب/مدیریت می‌کند. (مثلاً 3.8، 3.10، 3.12)\n",
        "- **`venv`**: یک **محیط مجزا** از پکیج‌ها برای هر پروژه می‌سازد (بدون تغییر نسخهٔ Python).\n",
        "\n",
        "### چرا هر دو مهم‌اند؟\n",
        "- در تیم‌ها باید **همه** روی یک نسخهٔ یکسان Python کدنویسی کنند → `pyenv` به همسان‌سازی نسخه کمک می‌کند.\n",
        "- هر پروژه وابستگی‌های متفاوت دارد → `venv` ایزوله‌سازی وابستگی‌ها را تضمین می‌کند.\n",
        "\n",
        "\n",
        "</div>"
      ]
    },
    {
      "cell_type": "code",
      "execution_count": null,
      "id": "a134b92b",
      "metadata": {
        "__source_file": "ChatGPT_2025-08-21_L0_1_Development_Environment.ipynb"
      },
      "outputs": [],
      "source": [
        "\n",
        "# نصب نمونه‌ای با pyenv (در شِل سیستم، نه داخل Colab)\n",
        "# پیش‌نیازها بستگی به سیستم‌عامل دارد.\n",
        "# راهنمای عمومی:\n",
        "# 1) نصب pyenv\n",
        "# 2) نصب نسخهٔ Python\n",
        "# 3) تنظیم نسخهٔ محلی پروژه\n",
        "\n",
        "# نصب نسخهٔ Python:\n",
        "# pyenv install 3.12.5\n",
        "\n",
        "# تنظیم نسخهٔ محلی برای پروژه (داخل پوشهٔ پروژه):\n",
        "# pyenv local 3.12.5\n",
        "\n",
        "# ساخت محیط مجزا با venv (پس از فعال بودن نسخهٔ درست Python):\n",
        "# python -m venv .venv\n",
        "\n",
        "# فعال‌سازی محیط (Linux/macOS):\n",
        "# source .venv/bin/activate\n",
        "# غیرفعال‌سازی:\n",
        "# deactivate\n",
        "\n",
        "# فعال‌سازی محیط (Windows PowerShell):\n",
        "# .venv\\Scripts\\Activate.ps1\n"
      ]
    },
    {
      "cell_type": "markdown",
      "id": "f8bab759",
      "metadata": {
        "__source_file": "ChatGPT_2025-08-21_L0_1_Development_Environment.ipynb"
      },
      "source": [
        "<div dir=\"rtl\" align=\"right\">\n",
        "\n",
        "\n",
        "## #L0S1-2 — مدیریت وابستگی‌ها با `pip` و ثبت آن‌ها\n",
        "- نصب پکیج‌ها داخل محیط مجزا با `pip install ...`\n",
        "- ثبت دقیق نسخه‌ها برای بازتولید محیط: `pip freeze > requirements.txt`\n",
        "- بازنصب همان محیط در ماشین دیگر: `pip install -r requirements.txt`\n",
        "\n",
        "**نکتهٔ مهم**: `requirements.txt` وضعیت «فعلی» محیط را پین می‌کند (نسخه‌ها دقیق‌اند).\n",
        "\n",
        "\n",
        "</div>"
      ]
    },
    {
      "cell_type": "code",
      "execution_count": null,
      "id": "333fc758",
      "metadata": {
        "__source_file": "ChatGPT_2025-08-21_L0_1_Development_Environment.ipynb"
      },
      "outputs": [],
      "source": [
        "\n",
        "# داخل محیط فعال پروژه:\n",
        "# نصب:\n",
        "# pip install numpy pandas scikit-learn scipy matplotlib seaborn\n",
        "\n",
        "# ثبت نسخه‌های دقیق:\n",
        "# pip freeze > requirements.txt\n",
        "\n",
        "# بازتولید محیط روی ماشین دیگر:\n",
        "# pip install -r requirements.txt\n"
      ]
    },
    {
      "cell_type": "markdown",
      "id": "6c44b8c8",
      "metadata": {
        "__source_file": "ChatGPT_2025-08-21_L0_1_Development_Environment.ipynb"
      },
      "source": [
        "<div dir=\"rtl\" align=\"right\">\n",
        "\n",
        "\n",
        "## #L0S1-3 — Poetry در برابر pip: کی و چرا؟\n",
        "- **Poetry** رویکرد مدرن برای مدیریت وابستگی‌ها + ساخت پکیج است.\n",
        "- فایل‌های کلیدی: `pyproject.toml` و `poetry.lock`\n",
        "- مزایا: رزولوشن وابستگی دقیق، اسکریپت‌ها، انتشار پکیج، و مدیریت نسخه‌ها.\n",
        "- اگر پروژهٔ شما **کد قابل‌انتشار** دارد یا همکاری چندنفره دارید، Poetry گزینهٔ خوبی است.\n",
        "\n",
        "\n",
        "</div>"
      ]
    },
    {
      "cell_type": "code",
      "execution_count": null,
      "id": "5bca928a",
      "metadata": {
        "__source_file": "ChatGPT_2025-08-21_L0_1_Development_Environment.ipynb"
      },
      "outputs": [],
      "source": [
        "\n",
        "# نصب Poetry (مثال عمومی؛ دستور واقعی بسته به سیستم فرق دارد):\n",
        "# curl -sSL https://install.python-poetry.org | python -\n",
        "\n",
        "# ساخت پروژهٔ جدید:\n",
        "# poetry new myproject\n",
        "# cd myproject\n",
        "\n",
        "# افزودن وابستگی:\n",
        "# poetry add numpy pandas\n",
        "\n",
        "# ایجاد شِل محیط ایزوله:\n",
        "# poetry shell\n",
        "\n",
        "# اجرای پایتون/اسکریپت داخل محیط Poetry:\n",
        "# poetry run python -V\n"
      ]
    },
    {
      "cell_type": "markdown",
      "id": "634d661a",
      "metadata": {
        "__source_file": "ChatGPT_2025-08-21_L0_1_Development_Environment.ipynb"
      },
      "source": [
        "<div dir=\"rtl\" align=\"right\">\n",
        "\n",
        "\n",
        "## #L0S1-4 — Conda: کی مناسب است؟\n",
        "- برای پروژه‌های علمی/داده‌ای که به **باینری‌های از پیش‌ساخته** (BLAS, MKL, CUDA) نیاز دارند، `conda` بسیار کارآمد است.\n",
        "- مدیریت محیط + پکیج‌های غیر Python (مثل C/C++ libs) را ساده می‌کند.\n",
        "- اگر GPU/CUDA و کتابخانه‌های علمی سنگین می‌خواهید، `conda` معمولاً انتخاب راحت‌تری است.\n",
        "\n",
        "\n",
        "</div>"
      ]
    },
    {
      "cell_type": "code",
      "execution_count": null,
      "id": "5653c5a0",
      "metadata": {
        "__source_file": "ChatGPT_2025-08-21_L0_1_Development_Environment.ipynb"
      },
      "outputs": [],
      "source": [
        "\n",
        "# نمونه‌های conda (در شِل سیستم):\n",
        "# conda create -n ai-l0 python=3.12\n",
        "# conda activate ai-l0\n",
        "# conda install numpy pandas scikit-learn scipy matplotlib seaborn\n"
      ]
    },
    {
      "cell_type": "markdown",
      "id": "cc59146a",
      "metadata": {
        "__source_file": "ChatGPT_2025-08-21_L0_1_Development_Environment.ipynb"
      },
      "source": [
        "<div dir=\"rtl\" align=\"right\">\n",
        "\n",
        "\n",
        "## #L0S1-5 — ساختار استاندارد پوشهٔ پروژه\n",
        "پیشنهاد ساختار پوشه‌ها برای پروژه‌های داده/ML:\n",
        "\n",
        "```\n",
        "project-name/\n",
        "├─ README.md\n",
        "├─ pyproject.toml / requirements.txt\n",
        "├─ .gitignore\n",
        "├─ src/\n",
        "│  └─ package_name/\n",
        "│     ├─ __init__.py\n",
        "│     ├─ data_io.py\n",
        "│     ├─ features.py\n",
        "│     └─ models.py\n",
        "├─ notebooks/\n",
        "│  └─ 01_exploration.ipynb\n",
        "├─ tests/\n",
        "│  └─ test_features.py\n",
        "├─ data/\n",
        "│  ├─ raw/      (فایل‌های خام - در git نریزید)\n",
        "│  ├─ interim/  (میانی)\n",
        "│  └─ processed/(تمیز/نهایی)\n",
        "└─ scripts/\n",
        "   └─ train.py\n",
        "```\n",
        "\n",
        "**نکته‌ها**\n",
        "- داده‌های خام را در Git نریزید؛ آن‌ها را در `data/raw` نگه دارید و در `.gitignore` ثبت کنید.\n",
        "- نوت‌بوک‌ها را در `notebooks/` نگه دارید، و کد اصلی را در `src/` تا تکرار نشود.\n",
        "\n",
        "\n",
        "</div>"
      ]
    },
    {
      "cell_type": "code",
      "execution_count": null,
      "id": "be22585e",
      "metadata": {
        "__source_file": "ChatGPT_2025-08-21_L0_1_Development_Environment.ipynb"
      },
      "outputs": [],
      "source": [
        "\n",
        "# نمونهٔ .gitignore مخصوص پروژه‌های داده/ML\n",
        "# فایل: .gitignore\n",
        "\n",
        "# Python\n",
        "__pycache__/\n",
        "*.py[cod]\n",
        "*.pyo\n",
        "*.pyd\n",
        "*.so\n",
        "*.egg-info/\n",
        "\n",
        "# Virtual env\n",
        ".venv/\n",
        "env/\n",
        "venv/\n",
        "\n",
        "# Jupyter/Colab\n",
        ".ipynb_checkpoints/\n",
        ".notebooks_cache/\n",
        "\n",
        "# Data\n",
        "data/raw/\n",
        "data/interim/\n",
        "data/tmp/\n",
        "*.csv\n",
        "*.parquet\n",
        "*.xlsx\n",
        "\n",
        "# OS/IDE\n",
        ".DS_Store\n",
        "*.swp\n",
        ".vscode/\n",
        ".idea/\n"
      ]
    },
    {
      "cell_type": "markdown",
      "id": "e1116a50",
      "metadata": {
        "__source_file": "ChatGPT_2025-08-21_L0_1_Development_Environment.ipynb"
      },
      "source": [
        "<div dir=\"rtl\" align=\"right\">\n",
        "\n",
        "\n",
        "## #L0S1-6 — Git و همکاری تیمی\n",
        "- هر تغییر منطقی → یک commit با **پیام واضح**.\n",
        "- برای فیچرهای جدید از **branch** جداگانه استفاده کنید (مثلاً `feature/cleaning`).\n",
        "- Pull Request برای مرور کد و بحث.\n",
        "- قوانین سادهٔ نام‌گذاری: `feature/...`, `bugfix/...`, `hotfix/...`\n",
        "\n",
        "\n",
        "</div>"
      ]
    },
    {
      "cell_type": "code",
      "execution_count": null,
      "id": "376fe8e6",
      "metadata": {
        "__source_file": "ChatGPT_2025-08-21_L0_1_Development_Environment.ipynb"
      },
      "outputs": [],
      "source": [
        "\n",
        "# آغاز مخزن\n",
        "# git init\n",
        "# git add .\n",
        "# git commit -m \"init: scaffold project structure\"\n",
        "\n",
        "# ساخت branch جدید برای فیچر\n",
        "# git checkout -b feature/data-loading\n",
        "# ... تغییرات ...\n",
        "# git add src/data_io.py\n",
        "# git commit -m \"feat(data): add CSV loader with schema validation\"\n",
        "\n",
        "# بازگشت به شاخهٔ اصلی و ادغام\n",
        "# git checkout main\n",
        "# git merge feature/data-loading\n",
        "\n",
        "# ارسال به GitHub\n",
        "# git remote add origin https://github.com/user/repo.git\n",
        "# git push -u origin main\n"
      ]
    },
    {
      "cell_type": "markdown",
      "id": "391edbaa",
      "metadata": {
        "__source_file": "ChatGPT_2025-08-21_L0_1_Development_Environment.ipynb"
      },
      "source": [
        "<div dir=\"rtl\" align=\"right\">\n",
        "\n",
        "\n",
        "# 🧪 تمرین‌های L0-S1 (Lesson Only)\n",
        "1) در یک پوشهٔ تست، با `pyenv` نسخهٔ Python دلخواه را نصب و `pyenv local` کنید. سپس با `python -m venv .venv` یک محیط بسازید و فعال کنید. بسته‌های `numpy, pandas, scikit-learn` را نصب و خروجی `pip freeze > requirements.txt` بگیرید.\n",
        "2) همان پروژه را با **Poetry** بسازید: یک پکیج فرضی `ml_utils` ایجاد کنید، وابستگی‌های `numpy` و `pandas` را اضافه کنید و اسکریپتی برای چاپ نسخهٔ NumPy بنویسید (با `poetry run` اجرا کنید).\n",
        "3) ساختار پوشه‌های پیشنهادی را پیاده کنید. برای `data/raw` یک فایل نمونهٔ CSV قرار دهید و مطمئن شوید که در `.gitignore` است.\n",
        "4) یک مخزن Git بسازید، روی شاخهٔ `feature/project-scaffold` ساختار را اضافه کنید، commit بزنید و سپس به `main` ادغام کنید.\n",
        "\n",
        "\n",
        "</div>"
      ]
    },
    {
      "cell_type": "markdown",
      "id": "064d09ca",
      "metadata": {
        "__source_file": "ChatGPT_2025-08-21_L0_1_Development_Environment.ipynb"
      },
      "source": [
        "<div dir=\"rtl\" align=\"right\">\n",
        "\n",
        "\n",
        "# ❓ سؤالات تشریحی (+ پاسخ پیشنهادی برای یادداشت‌برداری)\n",
        "**س1. تفاوت `pyenv` و `venv` چیست و چرا معمولاً هر دو لازم‌اند؟**  \n",
        "پاسخ پیشنهادی: `pyenv` نسخهٔ مفسر پایتون را در سطح سیستم مدیریت می‌کند، در حالی‌که `venv` برای هر پروژه یک محیط ایزوله از وابستگی‌ها می‌سازد. در کار تیمی نیاز است همه روی نسخهٔ یکسان Python باشند (کاربرد pyenv) و هر پروژه وابستگی‌های خودش را داشته باشد (کاربرد venv).\n",
        "\n",
        "**س2. چه تفاوتی بین `requirements.txt` و `pyproject.toml` وجود دارد؟**  \n",
        "پاسخ پیشنهادی: `requirements.txt` لیست **وضعیت فعلی** وابستگی‌ها با نسخه‌های پین‌شده است (مناسب بازتولید سریع). `pyproject.toml` فایل پیکربندی مدرن برای مدیریت وابستگی و ساخت پکیج است که توسط ابزارهایی مانند Poetry استفاده می‌شود و همراه با `poetry.lock` رزولوشن دقیق نسخه‌ها را تضمین می‌کند.\n",
        "\n",
        "**س3. در چه پروژه‌هایی Conda انتخاب بهتری است؟**  \n",
        "پاسخ پیشنهادی: زمانی که به باینری‌های از پیش‌ساخته (مانند BLAS/MKL/CUDA) یا کتابخانه‌های علمی سنگین نیاز داریم و سازگاری کامپایل دشوار است؛ مخصوصاً برای کار با GPU.\n",
        "\n",
        "**س4. اصول طراحی ساختار پوشهٔ پروژهٔ داده/ML چیست و چرا دادهٔ خام را در Git قرار نمی‌دهیم؟**  \n",
        "پاسخ پیشنهادی: جداسازی کد (`src/`)، نوت‌بوک‌ها (`notebooks/`)، تست‌ها (`tests/`) و داده‌ها (`data/`) مانع تداخل و تکرار می‌شود. دادهٔ خام حجیم و تکرارشونده است و تاریخچهٔ Git را بی‌دلیل بزرگ می‌کند؛ باید در `data/raw` بماند و در `.gitignore` باشد.\n",
        "\n",
        "**س5. سه قاعدهٔ ساده برای تمیز نگه‌داشتن تاریخچهٔ Git را بنویسید.**  \n",
        "پاسخ پیشنهادی: (۱) commitهای کوچک و معنادار با پیام واضح؛ (۲) شاخهٔ جدا برای هر فیچر/رفع‌باگ؛ (۳) Pull Request برای مرور کد پیش از ادغام.\n",
        "\n",
        "\n",
        "</div>"
      ]
    },
    {
      "cell_type": "markdown",
      "id": "68288de4",
      "metadata": {
        "__source_file": "ChatGPT_2025-08-20_L0_S1_DevEnv.ipynb"
      },
      "source": [
        "<div dir=\"rtl\" align=\"right\">\n",
        "\n",
        "# 📘 جلسه L0-S1 — بخش سوم: محیط توسعه (Development Environment)\n",
        "\n",
        "در این بخش با اصول ساخت محیط کاری حرفه‌ای در پایتون آشنا می‌شویم: virtualenv، مدیریت پکیج‌ها، ابزارهای کیفیت کد، pre-commit hooks و ساختار پروژه.\n",
        "\n",
        "</div>"
      ]
    },
    {
      "cell_type": "markdown",
      "id": "b0f933b3",
      "metadata": {
        "__source_file": "ChatGPT_2025-08-20_L0_S1_DevEnv.ipynb"
      },
      "source": [
        "<div dir=\"rtl\" align=\"right\">\n",
        "\n",
        "## 1. محیط مجازی (Virtual Environment)\n",
        "\n",
        "محیط مجازی باعث می‌شود هر پروژه کتابخانه‌های مخصوص به خودش را داشته باشد و پروژه‌ها به هم وابسته نشوند.\n",
        "\n",
        "</div>"
      ]
    },
    {
      "cell_type": "code",
      "execution_count": null,
      "id": "a15aba2c",
      "metadata": {
        "__source_file": "ChatGPT_2025-08-20_L0_S1_DevEnv.ipynb"
      },
      "outputs": [],
      "source": [
        "# ساخت محیط مجازی\n",
        "python -m venv venv\n",
        "\n",
        "# فعال‌سازی روی ویندوز (PowerShell)\n",
        ".\\venv\\Scripts\\Activate.ps1\n",
        "\n",
        "# فعال‌سازی روی لینوکس/مک\n",
        "source venv/bin/activate\n",
        "\n",
        "# غیرفعال کردن\n",
        "deactivate"
      ]
    },
    {
      "cell_type": "markdown",
      "id": "9e447d47",
      "metadata": {
        "__source_file": "ChatGPT_2025-08-20_L0_S1_DevEnv.ipynb"
      },
      "source": [
        "<div dir=\"rtl\" align=\"right\">\n",
        "\n",
        "## 2. مدیریت پکیج‌ها\n",
        "\n",
        "چهار ابزار اصلی:\n",
        "\n",
        "1. **pip**\n",
        "2. **pip-tools**\n",
        "3. **Poetry**\n",
        "4. **uv**\n",
        "\n",
        "</div>"
      ]
    },
    {
      "cell_type": "code",
      "execution_count": null,
      "id": "49f872fd",
      "metadata": {
        "__source_file": "ChatGPT_2025-08-20_L0_S1_DevEnv.ipynb"
      },
      "outputs": [],
      "source": [
        "# نصب پکیج با pip\n",
        "pip install requests\n",
        "\n",
        "# ذخیره نسخه‌ها در فایل requirements.txt\n",
        "pip freeze > requirements.txt"
      ]
    },
    {
      "cell_type": "code",
      "execution_count": null,
      "id": "96d38cf2",
      "metadata": {
        "__source_file": "ChatGPT_2025-08-20_L0_S1_DevEnv.ipynb"
      },
      "outputs": [],
      "source": [
        "# pip-tools\n",
        "pip install pip-tools\n",
        "pip-compile requirements.in"
      ]
    },
    {
      "cell_type": "code",
      "execution_count": null,
      "id": "13c537d9",
      "metadata": {
        "__source_file": "ChatGPT_2025-08-20_L0_S1_DevEnv.ipynb"
      },
      "outputs": [],
      "source": [
        "# Poetry\n",
        "pip install poetry\n",
        "poetry init\n",
        "poetry add requests"
      ]
    },
    {
      "cell_type": "markdown",
      "id": "f26bcc2f",
      "metadata": {
        "__source_file": "ChatGPT_2025-08-20_L0_S1_DevEnv.ipynb"
      },
      "source": [
        "<div dir=\"rtl\" align=\"right\">\n",
        "\n",
        "## 3. ابزارهای کیفیت کد (Code Quality Tools)\n",
        "\n",
        "- **Black** → auto-formatting  \n",
        "- **Ruff** → linting  \n",
        "- **isort** → مرتب‌سازی importها  \n",
        "- **mypy** → static type checking  \n",
        "\n",
        "</div>"
      ]
    },
    {
      "cell_type": "code",
      "execution_count": null,
      "id": "dc684c9b",
      "metadata": {
        "__source_file": "ChatGPT_2025-08-20_L0_S1_DevEnv.ipynb"
      },
      "outputs": [],
      "source": [
        "pip install black ruff isort mypy\n",
        "black src/\n",
        "ruff src/\n",
        "isort src/\n",
        "mypy src/"
      ]
    },
    {
      "cell_type": "markdown",
      "id": "8b4df838",
      "metadata": {
        "__source_file": "ChatGPT_2025-08-20_L0_S1_DevEnv.ipynb"
      },
      "source": [
        "<div dir=\"rtl\" align=\"right\">\n",
        "\n",
        "## 4. Pre-commit Hooks\n",
        "\n",
        "قبل از هر commit تست‌ها و formatterها اجرا می‌شوند. این کار تضمین می‌کند که کد کثیف وارد ریپو نمی‌شود.\n",
        "\n",
        "</div>"
      ]
    },
    {
      "cell_type": "code",
      "execution_count": null,
      "id": "255d9883",
      "metadata": {
        "__source_file": "ChatGPT_2025-08-20_L0_S1_DevEnv.ipynb"
      },
      "outputs": [],
      "source": [
        "pip install pre-commit\n",
        "pre-commit install"
      ]
    },
    {
      "cell_type": "code",
      "execution_count": null,
      "id": "183edc9c",
      "metadata": {
        "__source_file": "ChatGPT_2025-08-20_L0_S1_DevEnv.ipynb"
      },
      "outputs": [],
      "source": [
        "# فایل .pre-commit-config.yaml نمونه\n",
        "\n",
        "repos:\n",
        "  - repo: https://github.com/psf/black\n",
        "    rev: 23.7.0\n",
        "    hooks:\n",
        "      - id: black\n",
        "  - repo: https://github.com/charliermarsh/ruff-pre-commit\n",
        "    rev: v0.0.284\n",
        "    hooks:\n",
        "      - id: ruff"
      ]
    },
    {
      "cell_type": "markdown",
      "id": "af3fc6ce",
      "metadata": {
        "__source_file": "ChatGPT_2025-08-20_L0_S1_DevEnv.ipynb"
      },
      "source": [
        "<div dir=\"rtl\" align=\"right\">\n",
        "\n",
        "## 5. ساختار پروژه حرفه‌ای\n",
        "\n",
        "یک پروژه استاندارد پایتونی معمولاً این ساختار را دارد:\n",
        "\n",
        "</div>"
      ]
    },
    {
      "cell_type": "code",
      "execution_count": null,
      "id": "37618a1b",
      "metadata": {
        "__source_file": "ChatGPT_2025-08-20_L0_S1_DevEnv.ipynb"
      },
      "outputs": [],
      "source": [
        "project/\n",
        "├── src/\n",
        "│   └── package_name/\n",
        "│       ├── __init__.py\n",
        "│       ├── module1.py\n",
        "│       └── module2.py\n",
        "├── tests/\n",
        "│   └── test_module1.py\n",
        "├── requirements.in / pyproject.toml\n",
        "├── .gitignore\n",
        "├── README.md\n",
        "└── .pre-commit-config.yaml"
      ]
    },
    {
      "cell_type": "markdown",
      "id": "d6c48616",
      "metadata": {
        "__source_file": "ChatGPT_2025-08-20_L0_S1_DevEnv.ipynb"
      },
      "source": [
        "<div dir=\"rtl\" align=\"right\">\n",
        "\n",
        "## 📝 تمرین‌ها\n",
        "\n",
        "1. یک محیط مجازی بساز و یک پکیج (مثلاً `requests`) نصب کن.  \n",
        "2. فایل `requirements.txt` تولید کن.  \n",
        "3. ابزار Black و Ruff را نصب کن و روی یک فایل ساده اجرا کن.  \n",
        "4. یک ساختار پروژه ساده شبیه نمونه بالا درست کن.  \n",
        "\n",
        "</div>"
      ]
    },
    {
      "cell_type": "markdown",
      "id": "c7a9b43f",
      "metadata": {
        "__source_file": "ChatGPT_2025-08-20_L0_S1_DevEnv.ipynb"
      },
      "source": [
        "<div dir=\"rtl\" align=\"right\">\n",
        "\n",
        "## ❓ سؤالات تشریحی\n",
        "\n",
        "- چرا virtual environment مهم‌تر از نصب global است؟  \n",
        "- تفاوت Poetry با pip چیست و در چه شرایطی یکی بر دیگری برتری دارد؟  \n",
        "\n",
        "</div>"
      ]
    }
  ],
  "metadata": {
    "kernelspec": {
      "display_name": "Python 3",
      "language": "python",
      "name": "python3"
    },
    "language_info": {
      "name": "python",
      "version": "3.x"
    }
  },
  "nbformat": 4,
  "nbformat_minor": 5
}