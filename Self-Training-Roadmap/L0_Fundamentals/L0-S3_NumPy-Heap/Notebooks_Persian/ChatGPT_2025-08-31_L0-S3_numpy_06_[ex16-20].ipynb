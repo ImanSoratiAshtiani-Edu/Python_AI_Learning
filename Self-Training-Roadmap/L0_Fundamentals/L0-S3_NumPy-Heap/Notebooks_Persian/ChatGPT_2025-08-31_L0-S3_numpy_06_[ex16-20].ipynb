{
 "cells": [
  {
   "cell_type": "markdown",
   "id": "79c007e2",
   "metadata": {
    "id": "79c007e2"
   },
   "source": [
    "<div dir=\"rtl\" align=\"right\">\n",
    "\n",
    "# 📘 آموزش NumPy مقدماتی (L0-S3) – Lesson Only\n",
    "\n",
    "این دفترچه شامل **توضیحات کامل درس جلسه L0-S3 (بخش NumPy مقدماتی)** است.  \n",
    "تمرین‌ها و پاسخ‌ها در نسخهٔ Full اضافه خواهند شد.  \n",
    "\n",
    "</div>\n"
   ]
  },
  {
   "cell_type": "markdown",
   "id": "d0ec7d9e",
   "metadata": {
    "id": "d0ec7d9e"
   },
   "source": [
    "<div dir=\"rtl\" align=\"right\">\n",
    "\n",
    "## 🔹 NumPy مقدماتی – Memory Layout, C/F-order, Strides, Axis\n",
    "\n",
    "### ۱.1 C-order vs F-order\n",
    "- **C-order (Row-major):** داده‌ها در حافظه ردیف به ردیف ذخیره می‌شوند (مثل زبان C و Python).  \n",
    "- **F-order (Column-major):** داده‌ها در حافظه ستون به ستون ذخیره می‌شوند (مثل زبان Fortran و MATLAB).  \n",
    "\n",
    "```\n",
    "import numpy as np\n",
    "\n",
    "a = np.arange(6).reshape(2,3, order=\"C\")\n",
    "print(\"C-order:\\n\", a)\n",
    "\n",
    "b = np.arange(6).reshape(2,3, order=\"F\")\n",
    "print(\"F-order:\\n\", b)\n",
    "```\n",
    "\n",
    "---\n",
    "\n",
    "### ۱.2 مفهوم Strides\n",
    "- **stride** یعنی فاصله‌ی بایت‌ها برای حرکت در هر محور.  \n",
    "\n",
    "## 🎯 تعریف Stride در NumPy\n",
    "\n",
    "در NumPy، داده‌ها در حافظه پشت‌سر‌هم ذخیره می‌شن.  \n",
    "ویژگی `strides` مشخص می‌کنه برای رفتن از یک عنصر به عنصر بعدی، چند **بایت** باید در حافظه جلو بریم.\n",
    "\n",
    "مثلاً اگر نوع داده `int32` باشه، هر عدد ۴ بایت حافظه می‌گیره.\n",
    "\n",
    "---\n",
    "\n",
    "## 🧪 مثال پایه\n",
    "\n",
    "آرایه‌ای با شکل `(2, 3)` و نوع داده `int32`:\n",
    "\n",
    "- هر عدد: ۴ بایت\n",
    "- برای رفتن به سطر بعدی: ۳ عدد × ۴ بایت = ۱۲ بایت\n",
    "- برای رفتن به ستون بعدی: فقط ۴ بایت\n",
    "\n",
    "بنابراین:\n",
    "- `strides = (12, 4)`\n",
    "\n",
    "- مثال:  \n",
    "\n",
    "\n",
    "\n",
    "</div>\n"
   ]
  },
  {
   "cell_type": "code",
   "execution_count": null,
   "id": "M7ZRVGa1BKoi",
   "metadata": {
    "id": "M7ZRVGa1BKoi"
   },
   "outputs": [],
   "source": [
    "import numpy as np\n",
    "\n",
    "a = np.arange(12).reshape(3, 4)\n",
    "print(\"Array:\\n\", a)\n",
    "print(\"Strides:\", a.strides)"
   ]
  },
  {
   "cell_type": "markdown",
   "id": "6kLqTe-1BGjJ",
   "metadata": {
    "id": "6kLqTe-1BGjJ"
   },
   "source": [
    "\n",
    "<div dir=\"rtl\" align=\"right\">\n",
    "روی سیستم 64 بیتی خروجی معمولاً `(8, 32)` است:  \n",
    "- برای تغییر سطر: 32 بایت بپریم (۴ ستون × ۸ بایت).  \n",
    "- برای تغییر ستون: 8 بایت بپریم (یک int64).  \n",
    "</dev>\n"
   ]
  },
  {
   "cell_type": "code",
   "execution_count": null,
   "id": "fOAHLyuSBxaj",
   "metadata": {
    "id": "fOAHLyuSBxaj"
   },
   "outputs": [],
   "source": [
    "import numpy as np\n",
    "\n",
    "a = np.array([[1, 2, 3], [4, 5, 6]], dtype=np.int32)\n",
    "\n",
    "print(\"Array a:\\n\", a)\n",
    "print(\"Shape:\", a.shape)\n",
    "print(\"Strides:\", a.strides)"
   ]
  },
  {
   "cell_type": "code",
   "execution_count": null,
   "id": "nIpF34aLBzcv",
   "metadata": {
    "id": "nIpF34aLBzcv"
   },
   "outputs": [],
   "source": [
    "c = a[:, ::2]  # انتخاب هر دو ستون یکی\n",
    "print(\"Array c:\\n\", c)\n",
    "print(\"Shape:\", c.shape)\n",
    "print(\"Strides:\", c.strides)"
   ]
  },
  {
   "cell_type": "markdown",
   "id": "HtIyuXLvB1N-",
   "metadata": {
    "id": "HtIyuXLvB1N-"
   },
   "source": [
    "<div dir=\"rtl\" align=\"right\">\n",
    "آرایه‌ی `c` فقط ستون‌های ۰ و ۲ رو نگه می‌داره:\n",
    "\n",
    "- شکل: `(2, 2)`\n",
    "- stride سطرها همون ۱۲ باقی می‌مونه\n",
    "- stride ستون‌ها می‌شه: ۴ × ۲ = ۸\n",
    "\n",
    "✅ پس `c.strides = (12, 8)`"
   ]
  },
  {
   "cell_type": "markdown",
   "id": "cS13Q2tzBQ_m",
   "metadata": {
    "id": "cS13Q2tzBQ_m"
   },
   "source": [
    "<div dir=\"rtl\" align=\"right\">\n",
    "### ۱.3 توابع sum, mean, std با axis\n",
    "- **بدون axis:** روی کل آرایه اعمال می‌شود.  \n",
    "- **با axis=0:** روی ستون‌ها (جمع عمودی).  \n",
    "- **با axis=1:** روی ردیف‌ها (جمع افقی).  \n"
   ]
  },
  {
   "cell_type": "code",
   "execution_count": null,
   "id": "dgPadGa3BVb-",
   "metadata": {
    "id": "dgPadGa3BVb-"
   },
   "outputs": [],
   "source": [
    "a = np.arange(12).reshape(3, 4)\n",
    "\n",
    "print(\"Sum all:\", a.sum())\n",
    "print(\"Sum axis=0:\", a.sum(axis=0))\n",
    "print(\"Sum axis=1:\", a.sum(axis=1))\n",
    "print(\"Mean axis=1:\", a.mean(axis=1))\n",
    "print(\"Std axis=0:\", a.std(axis=0))"
   ]
  }
 ],
 "metadata": {
  "colab": {
   "provenance": []
  }
 },
 "nbformat": 4,
 "nbformat_minor": 5
}
