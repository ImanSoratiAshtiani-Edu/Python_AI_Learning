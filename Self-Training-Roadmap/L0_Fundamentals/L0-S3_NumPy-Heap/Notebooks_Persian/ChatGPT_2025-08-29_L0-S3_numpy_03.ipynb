{
 "cells": [
  {
   "cell_type": "markdown",
   "id": "c52d11d0",
   "metadata": {},
   "source": [
    "\n",
    "<div dir=\"rtl\" align=\"right\">\n",
    "\n",
    "# 📘 L0/S3 — NumPy (ravel vs flatten, order C/F, reshape با -1)\n",
    "این فایل نسخهٔ **FULL** است و شامل:\n",
    "- آموزش مفهومی\n",
    "- تمرین‌ها\n",
    "- ✅ حل ایمان\n",
    "- 🌟 حل حرفه‌ای GPT\n",
    "- مقایسه و نکات\n",
    "\n",
    "</div>\n"
   ]
  },
  {
   "cell_type": "markdown",
   "id": "3fc15c6d",
   "metadata": {},
   "source": [
    "\n",
    "<div dir=\"rtl\" align=\"right\">\n",
    "\n",
    "## 🧪 تمرین ex08\n",
    "**صورت سؤال:**  \n",
    "1. آرایهٔ 4×5 بساز.  \n",
    "2. با ravel و flatten نسخهٔ خطی بگیر.  \n",
    "3. یک عنصر از آرایهٔ اصلی را عوض کن و تفاوت خروجی‌ها را چاپ کن.  \n",
    "\n",
    "</div>\n"
   ]
  },
  {
   "cell_type": "code",
   "execution_count": null,
   "id": "bc55f9a3",
   "metadata": {},
   "outputs": [],
   "source": [
    "# ✅ حل ایمان\n",
    "import numpy as np\n",
    "\n",
    "\n",
    "def ex08():\n",
    "    arr = np.arange(20)\n",
    "    a = arr.reshape(4, -1)\n",
    "    a_r = a.ravel()\n",
    "    a_f = a.flatten()\n",
    "    a[0, 0] = 99\n",
    "    return arr, a, a_r, a_f\n",
    "\n",
    "\n",
    "ex08()"
   ]
  },
  {
   "cell_type": "markdown",
   "id": "c944560f",
   "metadata": {},
   "source": [
    "\n",
    "<div dir=\"rtl\" align=\"right\">\n",
    "\n",
    "🔎 **نکته:** کدی که نوشتی درسته. تفاوت را با return هم برگردوندی.  \n",
    "ولی برای مشاهده واضح‌تر اثر، بهتره مقدارها را چاپ کنیم.  \n",
    "\n",
    "</div>\n"
   ]
  },
  {
   "cell_type": "code",
   "execution_count": null,
   "id": "0205664c",
   "metadata": {},
   "outputs": [],
   "source": [
    "# 🌟 حل حرفه‌ای GPT\n",
    "\n",
    "\n",
    "def ex08_pro():\n",
    "    a = np.arange(20).reshape(4, 5)\n",
    "    r = a.ravel()\n",
    "    f = a.flatten()\n",
    "    a[0, 0] = 99\n",
    "    print(\"a[0,0] =\", a[0, 0])\n",
    "    print(\"r[0] =\", r[0], \"(view)\")\n",
    "    print(\"f[0] =\", f[0], \"(copy)\")\n",
    "\n",
    "\n",
    "ex08_pro()"
   ]
  },
  {
   "cell_type": "markdown",
   "id": "8b5eea23",
   "metadata": {},
   "source": [
    "\n",
    "<div dir=\"rtl\" align=\"right\">\n",
    "\n",
    "## 🧪 تمرین ex09\n",
    "**صورت سؤال:**  \n",
    "همان آرایه را با order='F' reshape کن و ravel(order='F') را چاپ کن.  \n",
    "تفاوت ترتیب را توضیح بده.  \n",
    "\n",
    "</div>\n"
   ]
  },
  {
   "cell_type": "code",
   "execution_count": null,
   "id": "48f244ac",
   "metadata": {},
   "outputs": [],
   "source": [
    "# ✅ حل ایمان\n",
    "\n",
    "\n",
    "def ex09():\n",
    "    a = np.arange(20).reshape(4, -1)\n",
    "    a_r = a.ravel(order=\"F\")\n",
    "    return a, a_r\n",
    "\n",
    "\n",
    "ex09()"
   ]
  },
  {
   "cell_type": "markdown",
   "id": "25c5c0ce",
   "metadata": {},
   "source": [
    "\n",
    "<div dir=\"rtl\" align=\"right\">\n",
    "\n",
    "🔎 **نکته:** درست پیاده‌سازی شد. فقط در کدت اشتباهی تایپی داشتی (`import numpy as no`).  \n",
    "در توضیحت هم گفتی \"ستون‌به‌ستون\" که دقیقاً درست است.  \n",
    "\n",
    "</div>\n"
   ]
  },
  {
   "cell_type": "code",
   "execution_count": null,
   "id": "86819d93",
   "metadata": {},
   "outputs": [],
   "source": [
    "# 🌟 حل حرفه‌ای GPT\n",
    "def ex09_pro():\n",
    "    a = np.arange(20).reshape(4, 5, order=\"F\")\n",
    "    print(\"a =\\n\", a)\n",
    "    print(\"ravel(order='F'):\", a.ravel(order=\"F\"))\n",
    "    print(\"توضیح: در F-order عناصر ستون‌به‌ستون در حافظه ذخیره می‌شوند.\")\n",
    "\n",
    "\n",
    "ex09_pro()"
   ]
  },
  {
   "cell_type": "markdown",
   "id": "e862e097",
   "metadata": {},
   "source": [
    "\n",
    "<div dir=\"rtl\" align=\"right\">\n",
    "\n",
    "## 🧪 تمرین ex10\n",
    "**صورت سؤال:**  \n",
    "1. آرایهٔ 2×3×2 بساز.  \n",
    "2. با reshape(-1) آن را یک‌بعدی کن.  \n",
    "3. دوباره به (3, -1) reshape کن.  \n",
    "4. بررسی کن کدام عملیات view است (با تغییر مقدار).  \n",
    "\n",
    "</div>\n"
   ]
  },
  {
   "cell_type": "code",
   "execution_count": null,
   "id": "108bcb63",
   "metadata": {},
   "outputs": [],
   "source": [
    "# ✅ حل ایمان\n",
    "\n",
    "\n",
    "def ex10():\n",
    "    arr = np.arange(12)\n",
    "    a = arr.reshape(2, 3, 2)\n",
    "    a_reshaped1 = a.reshape(-1)\n",
    "    a_reshaped2 = a_reshaped1.reshape(3, -1)\n",
    "    a[0, 0, 0] = 99\n",
    "    return a, a_reshaped1, a_reshaped2\n",
    "\n",
    "\n",
    "ex10()"
   ]
  },
  {
   "cell_type": "markdown",
   "id": "89759a9f",
   "metadata": {},
   "source": [
    "\n",
    "<div dir=\"rtl\" align=\"right\">\n",
    "\n",
    "🔎 **نکته:** درست گفتی: هر دو (`reshape(-1)` و بعدی) view هستند چون تغییر مقدار در همه منعکس شد.  \n",
    "ولی همیشه این‌طور نیست: اگر آرایه contiguous نباشد، NumPy مجبور می‌شود copy بزند.  \n",
    "\n",
    "</div>\n"
   ]
  },
  {
   "cell_type": "code",
   "execution_count": null,
   "id": "f438b429",
   "metadata": {},
   "outputs": [],
   "source": [
    "# 🌟 حل حرفه‌ای GPT\n",
    "def ex10_pro():\n",
    "    x = np.arange(12).reshape(2, 3, 2)\n",
    "    y = x.reshape(-1)\n",
    "    z = y.reshape(3, -1)\n",
    "    x[0, 0, 0] = 777\n",
    "    print(\"y[0] =\", y[0])\n",
    "    print(\"z[0,0] =\", z[0, 0])\n",
    "    print(\"نکته: هر دو view بودند چون آرایه contiguous بود.\")\n",
    "\n",
    "\n",
    "ex10_pro()"
   ]
  },
  {
   "cell_type": "markdown",
   "id": "bc7df951",
   "metadata": {},
   "source": [
    "\n",
    "<div dir=\"rtl\" align=\"right\">\n",
    "\n",
    "## ✍️ پاسخ‌های تشریحی ایمان\n",
    "\n",
    "- **چه زمانی flatten؟**  \n",
    "زمانی که بخواهم آرایهٔ خطی‌شده هیچ وابستگی به آرایهٔ اصلی نداشته باشد (ایزوله).  \n",
    "\n",
    "- **تفاوت C-order و F-order:**  \n",
    "C-order → پیمایش سطر به سطر (row-major).  \n",
    "F-order → پیمایش ستون به ستون (column-major).  \n",
    "\n",
    "</div>\n"
   ]
  }
 ],
 "metadata": {
  "kernelspec": {
   "display_name": "Python 3",
   "language": "python",
   "name": "python3"
  },
  "language_info": {
   "name": "python",
   "pygments_lexer": "ipython3"
  }
 },
 "nbformat": 4,
 "nbformat_minor": 5
}
