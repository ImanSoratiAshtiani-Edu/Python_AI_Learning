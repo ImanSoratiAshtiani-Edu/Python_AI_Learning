{
 "cells": [
  {
   "cell_type": "markdown",
   "id": "039a5bf2",
   "metadata": {
    "id": "039a5bf2"
   },
   "source": [
    "\n",
    "<div dir=\"rtl\" align=\"right\">\n",
    "\n",
    "\n",
    "## 🟩 بخش اول: آشنایی با Indexing و Slicing در NumPy\n",
    "\n",
    "در این جلسه با موضوعات زیر آشنا شدیم:\n",
    "- ساخت ماسک بولی با عملگرها و `ufunc`ها\n",
    "- فیلتر کردن آرایه‌ها و DataFrameها\n",
    "- شرط‌گذاری ترکیبی (AND / OR)\n",
    "- تفاوت روش‌های `df[...]`، `np.greater`، `np.mod` و غیره\n",
    "- مقدماتی از `broadcasting` شرطی\n",
    "\n",
    "\n",
    "</div>\n",
    "\n",
    "\n",
    "\n",
    "🧭 موقعیت در نقشه مسیر:\n",
    "```\n",
    "Level 0 → جلسه 3 از 4\n",
    "├── L0_1: NumPy Basics & Broadcasting ✅\n",
    "├── L0_2: Reshape, Mean/Std, View vs Copy ✅\n",
    "➡️ L0_3: Indexing, Boolean Masking & Filtering 🔥\n",
    "├── L0_4: ترکیب ابزارها و پروژه مینی آنالیز 🔜\n",
    "```\n",
    "\n",
    "<div dir=\"rtl\" align=\"right\">\n",
    "\n",
    "در NumPy، تو می‌تونی با استفاده از اندیس‌ها یا بازه‌ها (slicing) بخش‌هایی از آرایه‌ات رو جدا کنی.\n",
    "\n",
    "</div>"
   ]
  },
  {
   "cell_type": "markdown",
   "id": "060c267a",
   "metadata": {
    "id": "060c267a"
   },
   "source": [
    "<div dir=\"rtl\" align=\"right\">\n",
    "\n",
    "## 🟩 بخش اول: Indexing و Slicing در NumPy\n",
    "\n",
    "</div>\n"
   ]
  },
  {
   "cell_type": "code",
   "execution_count": null,
   "id": "fa26f140",
   "metadata": {},
   "outputs": [],
   "source": [
    "import numpy as np\n",
    "\n",
    "a = np.array([[10, 20, 30],\n",
    "              [40, 50, 60],\n",
    "              [70, 80, 90]])\n",
    "\n",
    "print(a[0, 1])       # مقدار سطر اول، ستون دوم → 20\n",
    "print(a[1])          # کل سطر دوم → [40 50 60]\n",
    "print(a[:, 1])       # تمام سطرها، ستون دوم → [20 50 80]\n",
    "print(a[1:, 1:])     # از سطر دوم به بعد، از ستون دوم به بعد"
   ]
  },
  {
   "cell_type": "markdown",
   "id": "7c103d34",
   "metadata": {},
   "source": [
    "<div dir=\"rtl\" align=\"right\">\n",
    "\n",
    "🔸 مفهوم Slicing:\n",
    "\n",
    "</div>"
   ]
  },
  {
   "cell_type": "code",
   "execution_count": null,
   "id": "8c359498",
   "metadata": {},
   "outputs": [],
   "source": [
    "arr = np.arange(10)\n",
    "print(arr[1:7:2])  # [1 3 5]\n",
    "print(arr[::-1])   # برعکس کردن آرایه"
   ]
  },
  {
   "cell_type": "markdown",
   "id": "4f33cac5",
   "metadata": {},
   "source": [
    "\n",
    "<div dir=\"rtl\" align=\"right\">\n",
    "\n",
    "🧠 نکته مهم: تفاوت لیست و NumPy در استفاده از گام منفی در Slicing\n",
    "\n",
    "</div>\n"
   ]
  },
  {
   "cell_type": "code",
   "execution_count": null,
   "id": "1dbd4e91",
   "metadata": {},
   "outputs": [],
   "source": [
    "lst = [0, 1, 2, 3, 4]\n",
    "print(lst[3:1:-1])  # [3, 2]\n",
    "print(lst[1:3:-1])  # []\n",
    "\n",
    "a = np.array([[0,1,2],[3,4,5],[6,7,8]])\n",
    "print(a[:, 2:0:-1])  # [[2 1]\n",
    "                     #  [5 4]\n",
    "                     #  [8 7]]\n",
    "print(a[:, 0:2:-1])  # []"
   ]
  },
  {
   "cell_type": "markdown",
   "id": "4e7bfd82",
   "metadata": {},
   "source": [
    "<div dir=\"rtl\" align=\"right\">\n",
    "\n",
    "## 🟩 بخش دوم: ماسک بولی (Boolean Masking) و فیلتر کردن در NumPy\n",
    "\n",
    "ماسک بولی یعنی ایجاد یک آرایه‌ی True/False که می‌تونه برای فیلتر کردن مقادیر استفاده بشه.\n",
    "\n",
    "</div>\n"
   ]
  },
  {
   "cell_type": "code",
   "execution_count": null,
   "id": "8c2cdf95",
   "metadata": {},
   "outputs": [],
   "source": [
    "a = np.array([10, 20, 30, 40, 50])\n",
    "mask = a > 30\n",
    "print(mask)      # [False False False  True  True]\n",
    "print(a[mask])   # [40 50]\n",
    "print(a[a > 30]) # روش مستقیم"
   ]
  },
  {
   "cell_type": "markdown",
   "id": "554ba00f",
   "metadata": {},
   "source": [
    "<div dir=\"rtl\" align=\"right\">\n",
    "\n",
    "🔹 شرط ترکیبی در NumPy (AND, OR, NOT)\n",
    "\n",
    "</div>\n"
   ]
  },
  {
   "cell_type": "markdown",
   "id": "0ac9eddb",
   "metadata": {},
   "source": [
    "<div dir=\"rtl\" align=\"right\">\n",
    "### 🧠 نکته مهم در شرط‌ها:\n",
    "\n",
    "برای استفاده از چند شرط، باید از &, |, ~ به‌جای and, or, not استفاده کنی:\n",
    "</div>"
   ]
  },
  {
   "cell_type": "code",
   "execution_count": null,
   "id": "29c743f0",
   "metadata": {},
   "outputs": [],
   "source": [
    "a = np.array([10, 20, 30, 40, 50])\n",
    "\n",
    "print(a[(a > 20) & (a < 50)])   # [30 40]\n",
    "print(a[(a < 20) | (a > 40)])   # [10 50]\n",
    "print(a[~(a > 30)])             # [10 20 30]"
   ]
  },
  {
   "cell_type": "markdown",
   "id": "f39a829f",
   "metadata": {},
   "source": [
    "\n",
    "<div dir=\"rtl\" align=\"right\">\n",
    "\n",
    "## 🟩 بخش سوم: ماسک بولی در آرایه‌های ۲بعدی\n",
    "\n",
    "</div>\n"
   ]
  },
  {
   "cell_type": "code",
   "execution_count": null,
   "id": "19406982",
   "metadata": {},
   "outputs": [],
   "source": [
    "m = np.array([[1, 2],\n",
    "              [3, 4],\n",
    "              [5, 6]])\n",
    "\n",
    "print(m[m[:, 0] > 2])  # فقط سطرهایی که مقدار ستون اول > 2"
   ]
  },
  {
   "cell_type": "markdown",
   "id": "c993f696",
   "metadata": {},
   "source": [
    "\n",
    "<div dir=\"rtl\" align=\"right\">\n",
    "\n",
    "## 🟦 بخش چهارم: فیلتر کردن در Pandas\n",
    "\n",
    "</div>\n"
   ]
  },
  {
   "cell_type": "code",
   "execution_count": null,
   "id": "66346d0a",
   "metadata": {},
   "outputs": [],
   "source": [
    "import pandas as pd\n",
    "\n",
    "df = pd.DataFrame({\n",
    "    'name': ['ali', 'sara', 'amir', 'niloofar'],\n",
    "    'age': [25, 32, 18, 45]\n",
    "})\n",
    "\n",
    "filtered = df[df['age'] > 30]\n",
    "print(filtered)\n",
    "\n",
    "# شرط ترکیبی:\n",
    "print(df[(df['age'] > 20) & (df['name'].str.startswith('a'))])"
   ]
  },
  {
   "cell_type": "markdown",
   "id": "08dd040e",
   "metadata": {},
   "source": [
    "\n",
    "<div dir=\"rtl\" align=\"right\">\n",
    "\n",
    "🔹 شرط روی ستون‌ها با iloc:\n",
    "\n",
    "</div>\n"
   ]
  },
  {
   "cell_type": "code",
   "execution_count": null,
   "id": "008c0529",
   "metadata": {},
   "outputs": [],
   "source": [
    "print(df.iloc[:, 1] > 30)           # ستون دوم (age)\n",
    "print(df[df.iloc[:, 1] > 30])       # فقط ردیف‌هایی که age > 30"
   ]
  },
  {
   "cell_type": "markdown",
   "id": "1f6acf1f",
   "metadata": {},
   "source": [
    "<div dir=\"rtl\" align=\"right\">\n",
    "✅ تمرین 1:\n",
    "یک آرایه‌ی 1 بعدی با 20 عدد صحیح تصادفی بین 1 تا 100 تولید کن.\n",
    "هم با NumPy و هم با Pandas، اعداد بزرگتر از 50 را استخراج کن.\n",
    "</div>"
   ]
  },
  {
   "cell_type": "code",
   "execution_count": null,
   "id": "7e8231e4",
   "metadata": {},
   "outputs": [],
   "source": [
    "# NumPy\n",
    "a = np.random.randint(1, 101, size=20)\n",
    "filtered = a[a > 50]\n",
    "print(\"Original:\", a)\n",
    "print(\"Filtered (>50):\", filtered)"
   ]
  },
  {
   "cell_type": "code",
   "execution_count": null,
   "id": "7e2fe0d8",
   "metadata": {},
   "outputs": [],
   "source": [
    "# Pandas\n",
    "df = pd.DataFrame({'nums': a})\n",
    "filtered_df = df[df['nums'] > 50]\n",
    "print(filtered_df)"
   ]
  },
  {
   "cell_type": "code",
   "execution_count": null,
   "id": "833152a4",
   "metadata": {},
   "outputs": [],
   "source": [
    "\n",
    "# Version 2\n",
    "\n",
    "a = np.array([random.randint(0,100) for i in range(20)])\n",
    "print(a)\n",
    "print(a[a>50])\n",
    "print(a[np.greater(a,50)])"
   ]
  },
  {
   "cell_type": "markdown",
   "id": "91c27901",
   "metadata": {},
   "source": [
    "<div dir=\"rtl\" align=\"right\">\n",
    "✅ تمرین 2:\n",
    "یک آرایه‌ی 2 بعدی با ابعاد (5×4) بساز که شامل اعداد تصادفی بین 10 تا 99 باشد.\n",
    "ردیف‌هایی را فیلتر کن که میانگین ستون اولشان از 50 بیشتر باشد.\n",
    "</div>"
   ]
  },
  {
   "cell_type": "code",
   "execution_count": null,
   "id": "f425b074",
   "metadata": {},
   "outputs": [],
   "source": [
    "# NumPy\n",
    "m = np.random.randint(10, 100, size=(5,4))\n",
    "mask = m[:,0] > 50\n",
    "filtered_rows = m[mask]\n",
    "print(\"Original matrix:\\n\", m)\n",
    "print(\"Filtered rows (col[0] > 50):\\n\", filtered_rows)"
   ]
  },
  {
   "cell_type": "code",
   "execution_count": null,
   "id": "7b76ac4a",
   "metadata": {},
   "outputs": [],
   "source": [
    "# Pandas\n",
    "df = pd.DataFrame(m, columns=['A', 'B', 'C', 'D'])\n",
    "filtered_df = df[df['A'] > 50]\n",
    "print(filtered_df)"
   ]
  },
  {
   "cell_type": "code",
   "execution_count": null,
   "id": "34e50171",
   "metadata": {},
   "outputs": [],
   "source": [
    "\n",
    "# Version 2\n",
    "\n",
    "a = np.array([random.randint(10, 100) for _ in range(20)]).reshape(4,5)\n",
    "print(a)\n",
    "print(a[a[:,0]>50])\n",
    "print(a[np.greater(a[:,0],50)])"
   ]
  },
  {
   "cell_type": "markdown",
   "id": "8d489994",
   "metadata": {},
   "source": [
    "<div dir=\"rtl\" align=\"right\">\n",
    "✅ تمرین 3:\n",
    "یک DataFrame با 6 سطر و 3 ستون بساز که شامل نام، سن، و نمره باشد.\n",
    "\n",
    "همه افرادی که سن‌شان کمتر از 30 و نمره‌شان بالای 17 است را فیلتر کن\n",
    "</div>"
   ]
  },
  {
   "cell_type": "code",
   "execution_count": null,
   "id": "f7d4febd",
   "metadata": {},
   "outputs": [],
   "source": [
    "data = {\n",
    "    'name': ['Ali', 'Sara', 'Niloofar', 'Reza', 'Mehdi', 'Tara'],\n",
    "    'age': [28, 35, 22, 19, 31, 25],\n",
    "    'score': [18.5, 14.0, 19.0, 17.5, 12.5, 20.0]\n",
    "}\n",
    "df = pd.DataFrame(data)\n",
    "filtered = df[(df['age'] < 30) & (df['score'] > 17)]\n",
    "print(filtered)"
   ]
  },
  {
   "cell_type": "code",
   "execution_count": null,
   "id": "af6f07cf",
   "metadata": {},
   "outputs": [],
   "source": [
    "\n",
    "# Version 2\n",
    "\n",
    "df = pd.DataFrame({\n",
    "    'name':['iman', 'sara', 'hamid', 'sahar', 'kosar', 'asieh'],\n",
    "    'age': [random.randint(18, 100) for _ in range(6)],\n",
    "    'vote': [random.randint(0, 21) for _ in range(6)]\n",
    "})\n",
    "print(df)\n",
    "print(df[(df['age'] < 30) & (df['vote'] > 17)])\n",
    "print(df[(np.less(df['age'],30) & np.greater(df['vote'], 17))])"
   ]
  },
  {
   "cell_type": "markdown",
   "id": "fae19eee",
   "metadata": {},
   "source": [
    "\n",
    "<div dir=\"rtl\" align=\"right\">\n",
    "✅ تمرین 4:\n",
    "با استفاده از NumPy، یک ماسک بولی بساز که مشخص کند کدام عناصر آرایه زیر زوج هستند.\n",
    "در ادامه، همان را در Pandas انجام بده و فقط ردیف‌هایی را نگه‌دار که مقدار ستون دومشان زوج است.\n",
    "</div>"
   ]
  },
  {
   "cell_type": "code",
   "execution_count": null,
   "id": "07ad0941",
   "metadata": {},
   "outputs": [],
   "source": [
    "# NumPy\n",
    "arr = np.random.randint(1, 50, size=(5, 3))\n",
    "even_mask = arr % 2 == 0\n",
    "print(\"Original array:\\n\", arr)\n",
    "print(\"Even mask:\\n\", even_mask)"
   ]
  },
  {
   "cell_type": "code",
   "execution_count": null,
   "id": "41c960c2",
   "metadata": {},
   "outputs": [],
   "source": [
    "# Pandas\n",
    "df = pd.DataFrame(arr, columns=['X', 'Y', 'Z'])\n",
    "filtered_df = df[df['Y'] % 2 == 0]\n",
    "print(filtered_df)"
   ]
  },
  {
   "cell_type": "code",
   "execution_count": null,
   "id": "e64d0ed6",
   "metadata": {},
   "outputs": [],
   "source": [
    "\n",
    "# Version 2\n",
    "\n",
    "a = np.random.randint(1,51,size=(5,3))\n",
    "print(a)\n",
    "msk_1 = a%2==0\n",
    "msk_2 = np.equal(np.mod(a,2),0)\n",
    "print(a[msk_1])\n",
    "print(a[msk_2])\n",
    "df = pd.DataFrame(a, columns=(\"a\",\"b\",\"c\"))\n",
    "print(df)\n",
    "print(df[df.iloc[:,1]%2 ==0])\n",
    "print(df[np.equal(np.mod(df.loc[:,\"b\"], 2),0)])"
   ]
  },
  {
   "cell_type": "markdown",
   "id": "f8e3fd6d",
   "metadata": {},
   "source": [
    "<div dir=\"rtl\" align=\"right\">\n",
    "✅ تمرین 5 (ترکیبی و کمی دشوارتر):\n",
    "یک DataFrame شامل اطلاعات زیر بساز:\n",
    "\n",
    "ستون ۱: امتیاز تست اول\n",
    "\n",
    "ستون ۲: امتیاز تست دوم\n",
    "\n",
    "ستون ۳: نام فرد\n",
    "\n",
    "سپس همه افرادی را پیدا کن که:\n",
    "\n",
    "نمره تست اولشان بین 14 و 18 باشد یا\n",
    "\n",
    "نمره تست دومشان کمتر از 10 باشد\n",
    "نتایج را هم با NumPy (از روی آرایه‌ی اصلی) و هم با Pandas (DataFrame) فیلتر کن.\n",
    "</div>"
   ]
  },
  {
   "cell_type": "code",
   "execution_count": null,
   "id": "f749a338",
   "metadata": {},
   "outputs": [],
   "source": [
    "# NumPy\n",
    "scores = np.random.randint(0, 21, size=(6,2))\n",
    "names = np.array(['Ali', 'Sara', 'Niloofar', 'Reza', 'Mina', 'Kian'])\n",
    "\n",
    "mask = (scores[:,0] >= 14) & (scores[:,0] <= 18) | (scores[:,1] < 10)\n",
    "filtered_names = names[mask]\n",
    "filtered_scores = scores[mask]\n",
    "\n",
    "print(\"Names:\", names)\n",
    "print(\"Scores:\\n\", scores)\n",
    "print(\"Filtered:\\n\", np.column_stack((filtered_names, filtered_scores)))"
   ]
  },
  {
   "cell_type": "code",
   "execution_count": null,
   "id": "ba1ea6c6",
   "metadata": {},
   "outputs": [],
   "source": [
    "# Pandas\n",
    "df = pd.DataFrame({\n",
    "    'name': names,\n",
    "    'test1': scores[:,0],\n",
    "    'test2': scores[:,1]\n",
    "})\n",
    "\n",
    "filtered = df[((df['test1'] >= 14) & (df['test1'] <= 18)) | (df['test2'] < 10)]\n",
    "print(filtered)"
   ]
  },
  {
   "cell_type": "code",
   "execution_count": null,
   "id": "09cd13c0",
   "metadata": {},
   "outputs": [],
   "source": [
    "\n",
    "# Version 2\n",
    "\n",
    "df = pd.DataFrame({\n",
    "    'test_A':[random.randint(0, 20) for _ in range(6)],\n",
    "    'test_B': [random.randint(0, 20) for _ in range(6)],\n",
    "    'name': ['iman', 'sara', 'hamid', 'sahar', 'kosar', 'asieh']\n",
    "})\n",
    "print(df)\n",
    "print(df[((df['test_A'] >= 14) & (df['test_A'] <= 18)) | (df['test_B'] < 10)])\n",
    "print(df[((np.less_equal(df['test_A'], 18)) & (np.greater_equal(df['test_A'], 14))) | (np.less(df['test_B'], 10))])"
   ]
  },
  {
   "cell_type": "markdown",
   "id": "b8842339",
   "metadata": {},
   "source": [
    "\n",
    "<div dir=\"rtl\" align=\"right\">\n",
    "\n",
    "## چند مثال دیگر\n",
    "\n",
    "</div>"
   ]
  },
  {
   "cell_type": "code",
   "execution_count": null,
   "id": "dfebfc75",
   "metadata": {},
   "outputs": [],
   "source": [
    "\n",
    "import numpy as np\n",
    "a = np.array([1, 2, 3, 4, 5, 6])\n",
    "print(a[a > 3])                 # شرط ساده با عملگر\n",
    "print(a[np.greater(a, 3)])      # همان شرط با ufunc\n"
   ]
  },
  {
   "cell_type": "code",
   "execution_count": null,
   "id": "38dad253",
   "metadata": {},
   "outputs": [],
   "source": [
    "\n",
    "a = np.random.randint(10, 100, size=(4, 5))\n",
    "print(a)\n",
    "print(a[a[:, 0] > 50])  # فیلتر سطرها بر اساس ستون اول\n"
   ]
  },
  {
   "cell_type": "code",
   "execution_count": null,
   "id": "a38013e6",
   "metadata": {},
   "outputs": [],
   "source": [
    "\n",
    "import pandas as pd\n",
    "df = pd.DataFrame({\n",
    "    'name': ['iman', 'sara', 'hamid', 'sahar', 'kosar', 'asieh'],\n",
    "    'age': [23, 45, 28, 18, 33, 22],\n",
    "    'vote': [10, 19, 8, 20, 17, 6]\n",
    "})\n",
    "print(df[df['age'] < 30])\n",
    "print(df[(df['age'] < 30) & (df['vote'] > 17)])\n"
   ]
  },
  {
   "cell_type": "code",
   "execution_count": null,
   "id": "bd2673a4",
   "metadata": {},
   "outputs": [],
   "source": [
    "\n",
    "# ماسک برای زوج‌ها\n",
    "a = np.random.randint(1, 51, size=(5, 3))\n",
    "mask = a % 2 == 0\n",
    "print(a)\n",
    "print(a[mask])\n"
   ]
  },
  {
   "cell_type": "code",
   "execution_count": null,
   "id": "18f7fe6a",
   "metadata": {},
   "outputs": [],
   "source": [
    "\n",
    "# شرط ترکیبی پیچیده\n",
    "df = pd.DataFrame({\n",
    "    'test_A': [14, 16, 10, 8, 19, 20],\n",
    "    'test_B': [11, 5, 9, 3, 18, 2],\n",
    "    'name': ['iman', 'sara', 'hamid', 'sahar', 'kosar', 'asieh']\n",
    "})\n",
    "print(df[((df['test_A'] >= 14) & (df['test_A'] <= 18)) | (df['test_B'] < 10)])\n"
   ]
  },
  {
   "cell_type": "markdown",
   "id": "b0823cc9",
   "metadata": {},
   "source": [
    "\n",
    "<div dir=\"rtl\" align=\"right\">\n",
    "\n",
    "## 🧠 تمرین‌ها\n",
    "\n",
    "\n",
    "\n",
    "\n",
    "</div>\n"
   ]
  },
  {
   "cell_type": "markdown",
   "id": "1bc17a4a",
   "metadata": {},
   "source": [
    "<div dir=\"rtl\" align=\"right\">\n",
    "\n",
    "1. آرایه‌ای با 20 عدد تصادفی بین 0 تا 100 بساز. تمام مقادیر بزرگ‌تر از ۵۰ را استخراج کن.\n",
    "\n",
    "\n",
    "</div>"
   ]
  },
  {
   "cell_type": "code",
   "execution_count": null,
   "id": "11be3d9b",
   "metadata": {},
   "outputs": [],
   "source": []
  },
  {
   "cell_type": "markdown",
   "id": "a0e8492e",
   "metadata": {},
   "source": [
    "<div dir=\"rtl\" align=\"right\">\n",
    "\n",
    "2. یک آرایه‌ی ۲بعدی (4×5) با اعداد تصادفی بساز. سطرهایی را استخراج کن که مقدار ستون اول آن‌ها بیش از ۵۰ است.\n",
    "\n",
    "</div>"
   ]
  },
  {
   "cell_type": "code",
   "execution_count": null,
   "id": "22b5716b",
   "metadata": {},
   "outputs": [],
   "source": []
  },
  {
   "cell_type": "markdown",
   "id": "9c8baac1",
   "metadata": {},
   "source": [
    "<div dir=\"rtl\" align=\"right\">\n",
    "\n",
    "3. DataFrame بساز با ستون‌های `age` و `vote`. ردیف‌هایی را پیدا کن که `age < 30` و `vote > 17`.\n",
    "\n",
    "</div>"
   ]
  },
  {
   "cell_type": "code",
   "execution_count": null,
   "id": "16217c54",
   "metadata": {},
   "outputs": [],
   "source": []
  },
  {
   "cell_type": "markdown",
   "id": "1351da0b",
   "metadata": {},
   "source": [
    "<div dir=\"rtl\" align=\"right\">\n",
    "\n",
    "4. در یک آرایه 5×3 بررسی کن کدام عناصر زوج هستند و آن‌ها را چاپ کن. سپس DataFrame بساز و فقط ردیف‌هایی که ستون دوم زوج است را نگه دار.\n",
    "\n",
    "</div>"
   ]
  },
  {
   "cell_type": "code",
   "execution_count": null,
   "id": "dae51027",
   "metadata": {},
   "outputs": [],
   "source": []
  },
  {
   "cell_type": "markdown",
   "id": "3763deb7",
   "metadata": {},
   "source": [
    "<div dir=\"rtl\" align=\"right\">\n",
    "\n",
    "5. DataFrame بساز و ردیف‌هایی را پیدا کن که یا `test_A` بین 14 تا 18 باشد یا `test_B` کمتر از 10 باشد.\n",
    "</div>"
   ]
  },
  {
   "cell_type": "code",
   "execution_count": null,
   "id": "2a7ec18b",
   "metadata": {},
   "outputs": [],
   "source": []
  },
  {
   "cell_type": "markdown",
   "id": "3ca79726",
   "metadata": {},
   "source": [
    "\n",
    "<div dir=\"rtl\" align=\"right\">\n",
    "\n",
    "## 🧠 تحلیل و نسخه‌ی حرفه‌ای‌تر تمرین‌ها\n",
    "\n",
    "- در اکثر موارد کدهای ایمان کاملاً درست و خوانا بودند 👏  \n",
    "- در پروژه‌های بزرگ، استفاده از `ufunc`ها برای عملکرد بهتر و خوانایی در شرایط پیچیده توصیه می‌شود.\n",
    "- در `Pandas` معمولاً استفاده از عملگرهای `&`, `|` همراه با پرانتز بهتر خوانده می‌شود.\n",
    "- استفاده از `iloc`, `loc` را در جلسات بعدی دقیق بررسی خواهیم کرد.\n",
    "\n",
    "</div>\n"
   ]
  }
 ],
 "metadata": {
  "colab": {
   "provenance": []
  },
  "language_info": {
   "name": "python"
  }
 },
 "nbformat": 4,
 "nbformat_minor": 5
}
