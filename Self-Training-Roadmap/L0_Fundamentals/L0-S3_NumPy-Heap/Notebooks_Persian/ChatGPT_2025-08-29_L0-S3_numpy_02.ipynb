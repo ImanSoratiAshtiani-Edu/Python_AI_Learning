{
 "cells": [
  {
   "cell_type": "markdown",
   "id": "cff6429f",
   "metadata": {},
   "source": [
    "\n",
    "<div dir=\"rtl\" align=\"right\">\n",
    "\n",
    "# 📘 L0/S3 — NumPy (ravel vs flatten, order C/F, reshape با -1)\n",
    "این نوت‌بوک «Lesson Only» است و شامل:\n",
    "- توضیحات آموزشی راست‌چین به سبک رسمی ایمان\n",
    "- مثال‌های کد جدا در سلول‌های کد\n",
    "- تمرین‌های شماره‌گذاری‌شده: **ex08، ex09، ex10** (بدون حل)\n",
    "  \n",
    "**وضعیت در نقشه راه:** L0 → S3 (NumPy مقدماتی) → سپس Heap / Priority Queue\n",
    "\n",
    "</div>\n"
   ]
  },
  {
   "cell_type": "markdown",
   "id": "abd1c6f0",
   "metadata": {},
   "source": [
    "\n",
    "<div dir=\"rtl\" align=\"right\">\n",
    "\n",
    "## #L0S3-01 — تفاوت `ravel` و `flatten` (خیلی خلاصه و دقیق)\n",
    "- `ravel` تا حد امکان **نمایهٔ دید (view)** برمی‌گرداند → اشتراک حافظه با آرایهٔ اصلی (تغییرات منعکس می‌شوند).\n",
    "- `flatten` همیشه **کپی** می‌سازد → مستقل از آرایهٔ اصلی (ایمن‌تر برای جلوگیری از اثرات جانبی).\n",
    "- گزاره‌ی عملی: وقتی copy لازم نیست یا سرعت/حافظه مهم است از `ravel` استفاده کن؛ وقتی ایزوله‌سازی لازم داری از `flatten`.\n",
    "\n",
    "</div>\n"
   ]
  },
  {
   "cell_type": "code",
   "execution_count": null,
   "id": "17e8043d",
   "metadata": {},
   "outputs": [],
   "source": [
    "# مثال: ravel (view) vs flatten (copy)\n",
    "import numpy as np\n",
    "\n",
    "a = np.arange(6).reshape(2, 3)\n",
    "r = a.ravel()  # معمولاً view\n",
    "f = a.flatten()  # همیشه copy\n",
    "\n",
    "a[0, 0] = 99\n",
    "print(\"a:\\n\", a)\n",
    "print(\"r (از ravel):\", r)  # انتظار: اولین المان 99\n",
    "print(\"f (از flatten):\", f)  # انتظار: اولین المان 0 (کپی مستقل)"
   ]
  },
  {
   "cell_type": "markdown",
   "id": "cb30c402",
   "metadata": {},
   "source": [
    "\n",
    "<div dir=\"rtl\" align=\"right\">\n",
    "\n",
    "## #L0S3-02 — `order='C'` در برابر `order='F'`\n",
    "- **C-order**: سطرمحور (Row-major) — پیش‌فرض NumPy.\n",
    "- **F-order**: ستون‌محور (Column-major) — شبیه Fortran/Matlab.\n",
    "- در توابعی مانند `ravel/flatten/reshape` می‌توان ترتیب پیمایش/چیدمان را مشخص کرد.\n",
    "\n",
    "</div>\n"
   ]
  },
  {
   "cell_type": "code",
   "execution_count": null,
   "id": "d94a13d8",
   "metadata": {},
   "outputs": [],
   "source": [
    "# نمایش تفاوت ترتیب پیمایش در ravel\n",
    "a = np.arange(6).reshape(2, 3, order=\"C\")\n",
    "print(\"a =\\n\", a)\n",
    "print(\"ravel(order='C'):\", a.ravel(order=\"C\"))  # [0 1 2 3 4 5]\n",
    "print(\"ravel(order='F'):\", a.ravel(order=\"F\"))  # [0 3 1 4 2 5]"
   ]
  },
  {
   "cell_type": "markdown",
   "id": "cb61bb29",
   "metadata": {},
   "source": [
    "\n",
    "<div dir=\"rtl\" align=\"right\">\n",
    "\n",
    "## #L0S3-03 — `reshape` با `-1` و نکات پیوستگی حافظه\n",
    "- مقدار `-1` یعنی «این بُعد را از روی تعداد کل عناصر نتیجه‌گیری کن».\n",
    "- `reshape` وقتی آرایه **پیوسته** باشد (C-Contiguous یا F-Contiguous) معمولاً **view** می‌دهد؛ در غیر این‌صورت **copy**.\n",
    "- برای بررسی سریع: از `a.flags` و `a.strides` استفاده کن.\n",
    "\n",
    "</div>\n"
   ]
  },
  {
   "cell_type": "code",
   "execution_count": null,
   "id": "5b857bf2",
   "metadata": {},
   "outputs": [],
   "source": [
    "b = np.arange(12)\n",
    "print(\"b.shape:\", b.shape)\n",
    "print(\"b.reshape(3, -1).shape:\", b.reshape(3, -1).shape)  # (3, 4)\n",
    "\n",
    "c = np.asfortranarray(np.arange(12).reshape(3, 4))  # نمونه F-Contiguous\n",
    "print(\"c.flags:\", c.flags)\n",
    "print(\"c.strides:\", c.strides)"
   ]
  },
  {
   "cell_type": "markdown",
   "id": "6c0adf87",
   "metadata": {},
   "source": [
    "\n",
    "<div dir=\"rtl\" align=\"right\">\n",
    "\n",
    "## #L0S3-04 — نکات طلایی\n",
    "- تغییر شکل بی‌هزینه وقتی ممکن است که آرایه **contiguous** باشد (C یا F).\n",
    "- `ravel` پیش‌فرض خوب و بهینه؛ `flatten` برای زمانی که **قطعاً** کپی مستقل می‌خواهی.\n",
    "- ترتیب C/F روی **ترتیب پیمایش/خطی‌سازی** اثر دارد؛ نه لزوماً شکل دو/سه‌بعدی.\n",
    "\n",
    "</div>\n"
   ]
  },
  {
   "cell_type": "markdown",
   "id": "0a838bf8",
   "metadata": {},
   "source": [
    "\n",
    "<div dir=\"rtl\" align=\"right\">\n",
    "\n",
    "# 🧪 تمرین‌ها (بدون حل)\n",
    "- لطفاً کد هر تمرین را در سلول مربوطه کامل کنید و اجرا بگیرید.\n",
    "- نام تمرین‌ها طبق درخواست شما: **ex08**, **ex09**, **ex10**.\n",
    "\n",
    "</div>\n"
   ]
  },
  {
   "cell_type": "code",
   "execution_count": null,
   "id": "5c5ab762",
   "metadata": {},
   "outputs": [],
   "source": [
    "# ex08\n",
    "# 1) یک آرایهٔ 4x5 بساز.\n",
    "# 2) با ravel و flatten نسخهٔ خطی بگیر.\n",
    "# 3) یک عنصر از آرایهٔ اصلی را عوض کن و تفاوت خروجی‌ها را چاپ کن.\n",
    "\n",
    "import numpy as np\n",
    "\n",
    "\n",
    "def ex08() -> None:\n",
    "    # TODO: کد تمرین را اینجا بنویس\n",
    "    a = np.arange(20).reshape(4, 5)\n",
    "    r = a.ravel()\n",
    "    f = a.flatten()\n",
    "    # تغییر یک عنصر\n",
    "    a[0, 0] = -1\n",
    "    print(\"a[0,0] ->\", a[0, 0])\n",
    "    print(\"r[0] ->\", r[0], \"(انتظار: -1 چون view)\")\n",
    "    print(\"f[0] ->\", f[0], \"(انتظار: 0 چون copy)\")\n",
    "\n",
    "\n",
    "# برای اجرا:\n",
    "# ex08()"
   ]
  },
  {
   "cell_type": "code",
   "execution_count": null,
   "id": "4eeffc1f",
   "metadata": {},
   "outputs": [],
   "source": [
    "# ex09\n",
    "# همان آرایه را با order='F' reshape کن و ravel(order='F') را چاپ کن؛\n",
    "# در یک/دو خط تفاوت ترتیب را درک و چاپ کن (به‌عنوان توضیح).\n",
    "\n",
    "import numpy as np\n",
    "\n",
    "\n",
    "def ex09() -> None:\n",
    "    # TODO: کد تمرین را اینجا کامل کن\n",
    "    a = np.arange(20).reshape(4, 5, order=\"F\")\n",
    "    print(\"a =\\n\", a)\n",
    "    print(\"ravel(order='F'):\", a.ravel(order=\"F\"))\n",
    "    print(\"توضیح کوتاه: در F-order عناصر ستون‌به‌ستون خطی می‌شوند.\")\n",
    "\n",
    "\n",
    "# برای اجرا:\n",
    "# ex09()"
   ]
  },
  {
   "cell_type": "code",
   "execution_count": null,
   "id": "ff0b8929",
   "metadata": {},
   "outputs": [],
   "source": [
    "# ex10\n",
    "# آرایه 2x3x2 بساز، با reshape(-1) یک‌بعدی کن، سپس به شکل (3, -1) برگردان.\n",
    "# بررسی کن کدام عملیات view است (با تغییر مقدار و مشاهده اثر).\n",
    "\n",
    "import numpy as np\n",
    "\n",
    "\n",
    "def ex10() -> None:\n",
    "    # TODO: کد تمرین را اینجا کامل کن\n",
    "    x = np.arange(12).reshape(2, 3, 2)\n",
    "    y = x.reshape(-1)  # ممکن است view باشد\n",
    "    z = y.reshape(3, -1)  # بسته به پیوستگی، view یا copy\n",
    "    # آزمون ساده‌ی view/copy:\n",
    "    x[0, 0, 0] = 777\n",
    "    print(\"y[0] ->\", y[0], \"(اگر view باشد باید 777 باشد)\")\n",
    "    print(\"z[0, 0] ->\", z[0, 0], \"(اگر view باشد باید 777 باشد)\")\n",
    "\n",
    "\n",
    "# برای اجرا:\n",
    "# ex10()"
   ]
  },
  {
   "cell_type": "markdown",
   "id": "bfe3ded1",
   "metadata": {},
   "source": [
    "\n",
    "<div dir=\"rtl\" align=\"right\">\n",
    "\n",
    "## ✍️ سؤالات تشریحی کوتاه\n",
    "1) در یک جمله بگو چه زمانی `flatten` را به‌جای `ravel` انتخاب می‌کنی.\n",
    "2) در یک جمله تفاوت مفهومی C-order و F-order را بیان کن.\n",
    "\n",
    "</div>\n"
   ]
  }
 ],
 "metadata": {
  "kernelspec": {
   "display_name": "Python 3",
   "language": "python",
   "name": "python3"
  },
  "language_info": {
   "name": "python",
   "pygments_lexer": "ipython3"
  }
 },
 "nbformat": 4,
 "nbformat_minor": 5
}
