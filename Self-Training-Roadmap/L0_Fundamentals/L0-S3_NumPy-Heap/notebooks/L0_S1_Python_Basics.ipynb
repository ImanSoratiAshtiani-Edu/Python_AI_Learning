{
 "cells": [
  {
   "cell_type": "markdown",
   "id": "2071722a",
   "metadata": {},
   "source": [
    "# 🎓 درس ۱: مبانی پایتون\n",
    "به اولین جلسه خوش آمدی! این جلسه درباره‌ی مبانی پایتون است."
   ]
  },
  {
   "cell_type": "markdown",
   "id": "40e09f2f",
   "metadata": {},
   "source": [
    "## 🔹 چاپ متن و خروجی گرفتن"
   ]
  },
  {
   "cell_type": "code",
   "execution_count": null,
   "id": "073a377e",
   "metadata": {},
   "outputs": [],
   "source": [
    "print(\"سلام به پایتون خوش اومدی!\")"
   ]
  },
  {
   "cell_type": "markdown",
   "id": "f8774c41",
   "metadata": {},
   "source": [
    "## 🔹 متغیرها و انواع داده"
   ]
  },
  {
   "cell_type": "code",
   "execution_count": null,
   "id": "c6299d72",
   "metadata": {},
   "outputs": [],
   "source": [
    "name = \"Ali\"\n",
    "age = 22\n",
    "height = 1.75\n",
    "is_student = True\n",
    "\n",
    "print(\"Name:\", name)\n",
    "print(\"Age:\", age)\n",
    "print(\"Height:\", height)\n",
    "print(\"Is Student:\", is_student)"
   ]
  },
  {
   "cell_type": "markdown",
   "id": "a0522b63",
   "metadata": {},
   "source": [
    "## 🔹 عملگر ساده روی عدد"
   ]
  },
  {
   "cell_type": "code",
   "execution_count": null,
   "id": "0af7ccba",
   "metadata": {},
   "outputs": [],
   "source": [
    "months = age * 12\n",
    "print(\"Age in months:\", months)"
   ]
  },
  {
   "cell_type": "markdown",
   "id": "db780170",
   "metadata": {},
   "source": [
    "## 📝 تمرین\n",
    "- یک متغیر `country` تعریف کن و اسم کشورت رو توش بذار.\n",
    "- یک متغیر `year` بذار که سال تولدت باشه.\n",
    "- حاصل جمع `year + 100` رو حساب کن و چاپ کن (یعنی چه سالی ۱۰۰ ساله می‌شی)."
   ]
  }
 ],
 "metadata": {},
 "nbformat": 4,
 "nbformat_minor": 5
}
