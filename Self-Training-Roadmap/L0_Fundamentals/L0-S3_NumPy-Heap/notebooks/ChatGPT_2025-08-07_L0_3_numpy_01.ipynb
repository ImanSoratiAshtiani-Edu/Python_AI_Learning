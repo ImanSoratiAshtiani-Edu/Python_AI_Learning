{
 "cells": [
  {
   "cell_type": "markdown",
   "metadata": {
    "id": "K5XEtBCfMAGQ"
   },
   "source": [
    "<div dir=\"rtl\" align=\"right\">\n",
    "# 📘 جلسه اول - NumPy: مفاهیم پایه، ساخت آرایه، Indexing و Broadcasting\n",
    "\n",
    "در این جلسه، با پایه‌ای‌ترین مفاهیم کتابخانه NumPy آشنا می‌شویم که ابزار کلیدی برای تمام محاسبات عددی در Python و یادگیری ماشین است.\n",
    "</div>"
   ]
  },
  {
   "cell_type": "markdown",
   "metadata": {
    "id": "qd29OClLMAGR"
   },
   "source": [
    "<div dir=\"rtl\" align=\"right\">\n",
    "## 🔹 ساخت آرایه و بررسی نوع و شکل (shape & dtype)\n",
    "\n",
    "`np.array` برای ساخت آرایه استفاده می‌شود و نوع داده (dtype) و شکل (shape) آن قابل بررسی است.\n",
    "\n",
    "- `a.shape`: تعداد سطر و ستون‌ها را نشان می‌دهد\n",
    "- `a.dtype`: نوع داده‌ای هر عنصر را نمایش می‌دهد\n",
    "</div>"
   ]
  },
  {
   "cell_type": "code",
   "execution_count": 1,
   "metadata": {
    "colab": {
     "base_uri": "https://localhost:8080/"
    },
    "executionInfo": {
     "elapsed": 105,
     "status": "ok",
     "timestamp": 1754569306530,
     "user": {
      "displayName": "Iman Sorati Ashtiani",
      "userId": "01458661742524148253"
     },
     "user_tz": -120
    },
    "id": "zg5IJrjRMAGS",
    "outputId": "c8770c98-f2e3-4433-85eb-f21d3249d2a3"
   },
   "outputs": [
    {
     "name": "stdout",
     "output_type": "stream",
     "text": [
      "آرایه a:\n",
      "[[1 2]\n",
      " [3 4]]\n",
      "شکل: (2, 2)\n",
      "نوع داده: int64\n",
      "\n",
      "آرایه b:\n",
      "[[1. 2.]\n",
      " [3. 4.]]\n",
      "[[1. 2.]\n",
      " [3. 4.]]\n",
      "شکل: (2, 2)\n",
      "نوع داده: float64\n"
     ]
    }
   ],
   "source": [
    "import numpy as np\n",
    "\n",
    "# ساخت آرایه عدد صحیح\n",
    "a = np.array([[1, 2], [3, 4]])\n",
    "print(\"آرایه a:\")\n",
    "print(a)\n",
    "print(\"شکل:\", a.shape)\n",
    "print(\"نوع داده:\", a.dtype)\n",
    "\n",
    "# ساخت آرایه float\n",
    "b = np.array([[1.0, 2.0], [3.0, 4.0]])\n",
    "c = np.array([[1, 2], [3, 4]], dtype=np.float32)\n",
    "print(\"\\nآرایه b:\")\n",
    "print(b)\n",
    "print(c)\n",
    "print(\"شکل:\", b.shape)\n",
    "print(\"نوع داده:\", b.dtype)"
   ]
  },
  {
   "cell_type": "markdown",
   "metadata": {
    "id": "Su6mF0fYMAGS"
   },
   "source": [
    "<div dir=\"rtl\" align=\"right\">\n",
    "## 🔹 Indexing و Slicing در آرایه‌های دوبعدی\n",
    "\n",
    "می‌توان به عناصر با استفاده از ایندکس دسترسی داشت:\n",
    "\n",
    "- `a[1,1]`: عنصر ردیف دوم، ستون دوم\n",
    "- `a[-1]`: سطر آخر\n",
    "- `a[:,1]`: ستون دوم کامل\n",
    "</div>"
   ]
  },
  {
   "cell_type": "code",
   "execution_count": null,
   "metadata": {
    "id": "CAnBcSrDMAGT"
   },
   "outputs": [],
   "source": [
    "a = np.array([[0, 1, 2], [3, 4, 5], [6, 7, 8]])\n",
    "\n",
    "print(\"عنصر وسط:\", a[1, 1])\n",
    "print(\"سطر آخر:\", a[-1])\n",
    "print(\"ستون دوم:\", a[:, 1])"
   ]
  },
  {
   "cell_type": "markdown",
   "metadata": {
    "id": "6dl3RYs5MAGT"
   },
   "source": [
    "<div dir=\"rtl\" align=\"right\">\n",
    "## 🔹 عملیات برداری (Broadcasting)\n",
    "\n",
    "اگر شکل آرایه‌ای که با آرایه دیگر عملیات انجام می‌دهد متناسب باشد، NumPy آن را به شکل مناسب تبدیل می‌کند.\n",
    "\n",
    "- مثال: جمع آرایه `(2,3)` با آرایه یک‌بعدی `(,3)`\n",
    "</div>"
   ]
  },
  {
   "cell_type": "code",
   "execution_count": null,
   "metadata": {
    "id": "SRJWF8pKMAGT"
   },
   "outputs": [],
   "source": [
    "a = np.array([[1, 2, 3], [4, 5, 6]])\n",
    "b = np.array([10, 20, 30])\n",
    "\n",
    "print(\"شکل a:\", a.shape)\n",
    "print(\"شکل b:\", b.shape)\n",
    "print(\"جمع a و b:\")\n",
    "print(a + b)"
   ]
  },
  {
   "cell_type": "markdown",
   "metadata": {
    "id": "jxXIEqCsMAGU"
   },
   "source": [
    "<div dir=\"rtl\" align=\"right\">\n",
    "## ✅ تمرین‌های نهایی (کدنویسی)\n",
    "\n",
    "1. یک آرایه NumPy با شکل `(3,3)` بساز که شامل اعداد 0 تا 8 باشد.\n",
    "2. سطر دوم آن را استخراج کن.\n",
    "3. ستون سوم آن را استخراج کن.\n",
    "4. آرایه‌ای با شکل `(1,3)` بساز و آن را به آرایه اولیه جمع کن.\n",
    "5. آرایه‌ای با شکل `(3,1)` بساز و نتیجه‌ی جمع با آرایه اولیه را چاپ کن.\n",
    "</div>"
   ]
  },
  {
   "cell_type": "code",
   "execution_count": null,
   "metadata": {
    "colab": {
     "base_uri": "https://localhost:8080/"
    },
    "executionInfo": {
     "elapsed": 9,
     "status": "ok",
     "timestamp": 1754572855584,
     "user": {
      "displayName": "Iman Sorati Ashtiani",
      "userId": "01458661742524148253"
     },
     "user_tz": -120
    },
    "id": "oTD9pJhFff1i",
    "outputId": "d44763ea-5c1e-4910-f5a4-051d60634593"
   },
   "outputs": [
    {
     "name": "stdout",
     "output_type": "stream",
     "text": [
      "[[8 7 2]\n",
      " [7 1 2]\n",
      " [2 7 6]]  : a\n",
      "[7 1 2]  : a[1]\n",
      "[2 2 6]  : a[:,2]\n",
      "[[0 6 1]]  : b\n",
      "[[ 8 13  3]\n",
      " [ 7  7  3]\n",
      " [ 2 13  7]]  : a + b\n",
      "[[1]\n",
      " [2]\n",
      " [7]]  : c\n",
      "[[ 9  8  3]\n",
      " [ 9  3  4]\n",
      " [ 9 14 13]]  : a + c\n"
     ]
    }
   ],
   "source": [
    "import numpy as np\n",
    "\n",
    "\n",
    "# 1\n",
    "def l_maker(dim_0: int, dim_1: int) -> list:\n",
    "    import random\n",
    "\n",
    "    lst = []\n",
    "    for i in range(dim_0):\n",
    "        lst.append([random.randint(0, 8) for j in range(dim_1)])\n",
    "    return lst\n",
    "\n",
    "\n",
    "a = np.array(l_maker(3, 3))\n",
    "print(a, \" : a\")\n",
    "# 2\n",
    "print(a[1], \" : a[1]\")\n",
    "# 3\n",
    "print(a[:, 2], \" : a[:,2]\")\n",
    "# 4\n",
    "b = np.array(l_maker(1, 3))\n",
    "print(b, \" : b\")\n",
    "print(a + b, \" : a + b\")\n",
    "# 5\n",
    "c = np.array(l_maker(3, 1))\n",
    "print(c, \" : c\")\n",
    "print(a + c, \" : a + c\")"
   ]
  },
  {
   "cell_type": "markdown",
   "metadata": {
    "id": "hcKbE1Ve4zkp"
   },
   "source": [
    "### 📌 نکات مهم یادگیری از تمرین ۱"
   ]
  },
  {
   "cell_type": "markdown",
   "metadata": {
    "id": "_MPeLPifvDEz"
   },
   "source": [
    "<div dir=\"rtl\" align=\"right\">\n",
    "\n",
    "\n",
    "\n",
    "- وقتی `b` شکلی مثل `(1,3)` داره و `a` شکلش `(3,3)` هست، NumPy `b` رو به‌صورت خودکار روی سطرهای `a` پخش (broadcast) می‌کنه؛ یعنی `b` در همه‌ی سطرها کپی می‌شه.\n",
    "  \n",
    "- اگر `c` شکلش `(3,1)` باشه، در این حالت روی ستون‌ها broadcast می‌شه؛ یعنی هر سطر `a` با یک عدد متفاوت از `c` جمع می‌شه. این تفاوت جهت broadcast بسیار مهمه.\n",
    "\n",
    "- اگر شکل‌ها سازگار نباشند (مثل `(2,2)` و `(3,)`)، عملیات جمع منجر به خطا می‌شه. NumPy فقط وقتی اجازه broadcast می‌ده که یکی از بعدها برابر ۱ باشه یا باهم مساوی باشن.\n",
    "\n",
    "</div>\n"
   ]
  },
  {
   "cell_type": "markdown",
   "metadata": {
    "id": "aahTSC925VtL"
   },
   "source": [
    "## ❓ سوالات تشریحی برای تسلط مفهومی"
   ]
  },
  {
   "cell_type": "markdown",
   "metadata": {
    "id": "e8EG61X9MAGU"
   },
   "source": [
    "<div dir=\"rtl\" align=\"right\">\n",
    "\n",
    "\n",
    "1. تفاوت `shape=(3,)` و `shape=(3,1)` در NumPy چیست؟ مثال بزن.\n",
    "</div>"
   ]
  },
  {
   "cell_type": "markdown",
   "metadata": {
    "id": "Sou-KAzl4-H2"
   },
   "source": [
    "### ❓ (3,) vs (3,1)"
   ]
  },
  {
   "cell_type": "markdown",
   "metadata": {
    "id": "Fm2cjQF_02CI"
   },
   "source": [
    "<div dir=\"rtl\" align=\"right\">\n",
    "\n",
    "🟥 خیر، این دو شکل کاملاً متفاوت هستند و در عملیات NumPy نتایج و رفتارهای متفاوتی دارند.\n",
    "\n",
    "---\n",
    "\n",
    "### 🔸 `shape=(3,)` چیست؟\n",
    "\n",
    "- آرایه‌ای **تخت و یک‌بعدی** است (مثل یک لیست ساده در پایتون).\n",
    "- ۳ عنصر دارد، بدون سطر و ستون.\n",
    "- در عملیات ماتریسی محدود است چون ساختار 2D ندارد.\n",
    "- Transpose روی آن تأثیری ندارد.\n",
    "\n",
    "[1 2 3] → shape: (3,)\n",
    "\n",
    "\n",
    "```\n",
    "a = np.array([1, 2, 3])\n",
    "print(a.shape)  # (3,)\n",
    "print(a.ndim)   # 1\n",
    "```\n",
    "\n",
    "\n",
    "\n",
    "### 🔸 shape=(1,3) چیست؟\n",
    "آرایه‌ای دوبعدی با ۱ سطر و ۳ ستون است.\n",
    "\n",
    "در عملیات ریاضی، مثل یک ردیف واقعی در ماتریس عمل می‌کند.\n",
    "\n",
    "قابل transpose شدن است و می‌تواند به (3,1) تبدیل شود.\n",
    "\n",
    "\n",
    "[1 2 3]    →  shape: (1,3)\n",
    "\n",
    "\n",
    "```\n",
    "b = np.array([[1, 2, 3]])\n",
    "print(b.shape)   # (1, 3)\n",
    "print(b.ndim)    # 2\n",
    "print(b.T.shape) # (3, 1)\n",
    "```\n"
   ]
  },
  {
   "cell_type": "markdown",
   "metadata": {
    "id": "UxtyOPSj4kWh"
   },
   "source": [
    "![image.png](data:image/png;base64,iVBORw0KGgoAAAANSUhEUgAABZsAAAFaCAYAAAB49YNrAAAAAXNSR0IArs4c6QAAAARnQU1BAACxjwv8YQUAAAAJcEhZcwAADsMAAA7DAcdvqGQAAHUaSURBVHhe7d15XJTl/v/xNw7IMrkSiksLKraoKKYd8XQIj1/TLE3qZKloHKujmUcjzaxc0rIoMU+79S1ygTIzcctCs9AMTU9yBDcOMu4KLsnigAjD/P74yvycG1B0cMPX8/HwEV2f675n5kavuec9133dbgEBAXYBAAAAAAAAAOCCWsYGAAAAAAAAAAAuFGEzAAAAAAAAAMBlhM0AAAAAAAAAAJcRNgMAAAAAAAAAXEbYDAAAAAAAAABwGWEzAAAAAAAAAMBlhM0AAAAAAAAAAJcRNgMAAAAAAAAAXEbYDAAAAAAAAABwGWEzAAAAAAAAAMBlhM0AAAAAAAAAAJcRNgMAAAAAAAAAXEbYDAAAAAAAAABwGWEzAAAAAAAAAMBlhM0AAAAAAAAAAJcRNgMAAAAAAAAAXEbYDAAAAAAAAABwGWEzAAAAAAAAAMBlhM0AAAAAAABXUFxcnCwWixITE53aQ0JCFB4err59+yowMFDdunVTeHi4evXqJbPZ7NT3SoiOjpbFYlFaWprCw8ONZQDXIcJmAAAAAACAq9Czzz6rGTNmaPr06XrwwQc1fvx4zZgxQ5MmTVJQUJCxOwBccYTNAAAAAAAAAACXETYDAAAAAABchSIiItSiRQvddtttmjlzpnr27KkWLVqoa9euWr9+vbE7LoPb6ntp4f2BeryNn7EEgLAZAAAAAAAAOL8Wdb30cegtuq2em8Z3bKS+gQ2NXYDrHmEzAAAAAACoUUaMGKEtW7YoPT1db7/9trHsJCQkRMnJybJYLIqLizOWcRmFhYVp48aNjpslXg03QSzjb66tT0Nvlp+PXSp1U63CEk26q6l6BjQwdgWua4TNAAAAAACgRunatavq1KkjDw8P3X333br99tuNXRQeHq6FCxfqf//3f+Xv728sXzWCg4P17bffKiMjQ+np6fr888+v6ufriqSkJP33v/+VJDVp0kT333+/scsV4evtoTlht6jxDZJK3WS3SbK5yaPAptfvaq6uzeoaNwGuW4TNAAAAAACgRsnMzJTNZpPdbtfevXu1c+dORy0wMFDz5s3T22+/rY4dO8rHx8dp26tJYGCgpk2bpuDgYJlMJnl4eCgsLEzTp0+/qmb9Vqfff/9dxcXF8vHxUbt27Yxlvf3229qyZYsyMzNlsViUkZGhjRs36v3331eXLl2M3V1Wt7a7Zne7RU3ruJ0Jmp3/62Et1fROt6qTfx3jpsB1ibAZAAAAAADUKJMnT9aQIUP01FNP6YknnnC0m81mTZo0SV27dpXJZJLdbtfJkydVVFTktL0rEhMTHctAGEVFRSk9PV3p6emKiooylssZMmSIWrduLUkqLi6WzWaTm5ub7rrrLg0ePNjY3aFLly5asmSJMjIylJmZqc2bN2vy5MmXPaCeNm2atm3bpszMTK1atUphYWHGLuWkpKQoNzdXtWrVUqtWrYxlNW3aVHXq1JGbm5skyWQy6cYbb9QDDzygOXPmaMmSJXrmmWcUFBRk3PSifHbvzbq1bi3JdiZgtqlc4OxjLdX04FuNmwLXJcJmAAAAAABQ46xfv14///yzU9uzzz6rP/3pT5KkjIwMjRgxQsOGDdOJEyec+l0NzGaz7r77btWqVUvZ2dkaNmyYPvnkExUVFcnLy0vdunUzbiKdWYN6xowZateunUwmk9zc3FS/fn1FRERoypQpxu6XzFtvvaX+/fvL29tbbm5uatmypSZNmqTAwEBjVydJSUnat2+fJOmmm24qFxrbbDYVFBRo37592rlzp7KyslRYWCi73S4PDw+1a9dOL7zwghYvXqw5c+Y4bXsxiv/w+r+gufRM0Fzqdlbw/P+X1CjJtRs3Ba5LhM0AAAAAAOC60KZNG7m7u+vQoUMaP358hbOPjSqbjRwdHS2LxaLk5GSFhIQ4bVMdgoKCVKfO/y3NsGnTJiUlJenjjz/Wrl27pDNBbEWPO3DgQMeazqdOnVJBQYHsdrtMJpN69eqliIgI4ybVLiwsTN26dZPJZJLNZlNxcbEk6ZZbbtHIkSON3cvJzMyU3W5X/fr1HTO7yzzxxBNq27atwsLC1Lt3b3Xt2lVt2rTRiBEjtHnzZpWWlkqS7Ha7Dhw44LTtxRj0+3Ztz6x9VuBc/r9/nJZGpVmMmwLXJcJmAAAAAABwXTCZTMama0KTJk1kNptltVodgWqdOnXK3SgwLCzMMXN7/fr1+utf/6q2bdsqISFBNptNPj4+uvvuu522uRS6deumhg0bqqSkRLNnz9awYcOUnZ0tNzc3BQcHl5utbGSxWFRUVCRvb+9yYXNFzGazunbtqjvvvFO1av1f1FVcXKzs7Gxj14vy2OY0bd/jbpjR/H8znf84LY1MzdSO/ALjZsB1ibAZAAAAAABcF44fPy673a5mzZpp3rx5SkxM1IwZM+Tn52fsWmW1atW6JCH2+vXrtX//fklShw4d9P7778vf3185OTmy2WzG7pKkBx54QA0bNlReXp6+/vprZWVlSZLi4+MdPzds2NCwVcWWLl0qi8WipUuXGkvndeutt6pWrVr6448/tGbNGiUlJWnjxo2y2+1q2LChOnToYNzEyZEjR2Sz2WQymXTnnXcay04iIiL03XffKSIiQl5eXtKZ3/O//vUvvffee8buF+3x/6RpxwH3s9ZqJmgGKkLYDAAAAAAAapyQkJBy6xonJCQ4Zrv6+PgoMDBQ/v7+jrC4Xr165W6id/PNN8tkMslkMjmCWrPZrJtuukmSVKdOHcfs28DAQHl6ekpn9h8cHHzWnv6vb9nM24r4+vqqV69ejv//+OOPdfDgQZlMJoWFhWnZsmXq2bOnPDw8VFxc7HRjw8jISPXo0UO1atVScXGxI3i9GEFBQapfv74kKS8vz1g+r7Lj6e7urhtuuEGStG7dOhUWFsrT01PNmzc3bOEsKCjIcRzvuOMOPfroo071wMBAvfTSS/rll180ZcoU3XzzzXJzc5PNZlNSUpL69OmjWbNmOW1THR7fkqqdh//vZoFHi+wEzUAF3AICAljBHAAAAAAA1BhTpkzRwIEDVatWLa1bt05PPPGEoxYaGqrRo0frzjvvlKenp2w2m0pLS+Xh4SFJKikpkc1mU0lJidzc3Bw3uNOZm9MVFRXJzc1NXl5eTu2nTp2SyWRyCnltNpvsdrsjFPby8pLJZFJOTo4mTJigFStWSGdupve3v/3NEZievc2pU6dUv379crOnyx7Tw8NDdrtd7u7uTn3sdrtOnTrleG21a9dWaWmp4uPjNXnyZKd9GZXdZNDf31/ffvutXnjhBWMX6cy61f3799fx48c1fvx4rV69Wjpz/AcNGqRatWopPz9fhw8flpeXl5o1ayaTyaQFCxZo/PjxmjZtmh5//HEVFRU5ZmvXqlXL6dhKUmlpqU6dOiW73V5hXZKOHj2q9957T/Hx8U7tl8L021rrfw/u139PFhpLwHWv8q/TAAAAAAAArkEtW7aUyWSSm5ubbrnlFt1+++2O2tq1a/XII4/ojjvuUIsWLRQYGKiPPvrIEe66u7vL09NTZrNZPj4+TgGwyWSSj4+PI4A+u91sNjuC5rKb1JlMJrm7u8tsNstsNstkMslut2vbtm1as2aN4zmtW7dOubm5FW7j6+tbLmgu62c2m+Xh4SFPT0/Hvg8fPiybzeYIys1ms2rXri1J+u9//6u4uDjjri5a2ezu4uJiFRT8/xm+ixcvdiwBUjbzu2yG+Nmys7Mds7DLXm/ZsbXb7frjjz9UUlKiWrVqycfHx6leJjc3V/PmzdNDDz10WYJmSXoh/b8EzUAlCJsBAAAAAECNkpycrPz8fBUXF2vjxo3auXOnsYuTd999V/Hx8crJyZHOzArWmdnDu3fv1sSJE7V06VJHoGqz2ZSWlqbhw4dr1apVKiz8v+CxrH3ChAnatWuX7Ha7Y192u10nT55UUlKSpk6dKqvV6nj8ZcuW6cMPP1R2drbTNmXsdrsKCgpksVj0888/a+/evSooKJDdbldpaansdrtyc3O1ZMkSPfLII3rllVeUnp6u06dPS5KKior066+/6pVXXlFGRobTvs8nICDA2CSdmf1cVsvNzdX69esdtZSUFL300ktKSUlxhPjFxcWO2ctl0tPTdfz4ccfz1JljeOzYMSUkJOjhhx/WmjVrZLPZHNvabDadOHFCv/76qyZOnKh77rlHkydPdqxJDeDKYhkNAAAAAAAAOPn+++912223qaioSLNnz9Zbb73lqHXp0kUvvfSS2rZtK0lavny5Ro8efdbW5fXt21evvfaazGZzlZbyAHBtImwGAAAAAAC4RAIDA3XHHXfIZDIpKytLVqtVLVu2lM1m044dOy54pvHl8tprr2nAgAGOGxqeOnXKaXmOsqUsjh8/rgkTJigxMdGwB2dl+zt16pTefvttzZ0719jlgvn7+6tz585yd3dXVlaW0+xqAFeGqUGDBq8aGwEAAAAAAOC6J554Qi+//LLuv/9+NWnSRLfccouef/55de/eXXl5edqwYYNxk6vCgQMHdPfdd+vGG2+UzqxlXbt2bXl4eDiCZqvVqtmzZzvWSu7fv78iIiJks9m0Z88ex75GjhypgQMHysvLS9nZ2YqNjVV2drajfrF69Oih119/XQ8++KCaNGmiRYsWGbsAuMxYsxkAAAAAAABOMjIyNHToUC1evFgnTpxwrJlst9uVn5+vX3/9Vc8++6zeffddxzbNmjXTww8/rNjYWG3fvl1paWnavn27nn/+edWpU0c2m00///yzUlNTz3okADUJy2gAAAAAAADAZVFRURo+fLg8PDyMJdntdq1bt04jRoxwujkigJqFZTQAAAAAAADgsuPHj8vb21v169eX2WxWrVq1ZLPZdOzYMS1YsEATJ04kaAZqOGY2AwAAAAAAAABcxprNAAAAAAAAAACXETYDAAAAAAAAAFxG2AwAAAAAAAAAcBlhMwAAAAAAAADAZYTNAAAAAAAAAACXETYDAAAAAAAAAFxG2AwAAAAAAAAAcBlhMwAAAAAAAADAZYTNAAAAAAAAAACXETYDAAAAAAAAAFxG2AwAAAAAAAAAcBlhMwAAAAAAAADAZW4BAQF2YyNwrWjcuLFuueUWtW7dWnXq1DGWJUk2m01paWnavHmzioqKjGUAcOLu7q569erJ29tbHh4exvI1q7i4WIWFhcrNzVVJSYmxDADX5PjH2AYAAHB1IWzGNcnT01OvvfaaevXqZSyd0549e/Tss89q//79xhIAyNvbW35+fjKZTMZSjWGz2XT06FEVFhYaSwCuY9f6+MfYBgAAcHUgbMY16dVXX9XDDz+snJwcLV26VFar1dilnK5du6p9+/Y6evSoHnnkEeXk5Bi7ALiOubu7q2nTptds0HIhbDabDh06xCxAAFINGv8Y2wAAAK48wmZcc1q2bKmEhATl5ORo4MCBOnDggLFLhby9vfXxxx+rY8eO+uijjzRr1ixjFwDXMV9fX9WtW9fYXGPl5eXp+PHjxmYA16GaNP4xtgEALkRwcLCef/55WSwWTZ482VgGcBG4QSCuOe3atZMkLVu2rMpBsyQVFhZqypQpkqT27dsbywCuc97e3samGu16e70AKleTxoOa9FoAAJfW8OHD9emnn6pr166qVYt4DKgu/GvCNadevXqSpKysLGPpvPLy8iRJDRs2NJYAXOeulZthVZfr7fUCqFxNGg9q0msBAFwaoaGhWrp0qV544QVJ0vTp0zVx4kRjNwAXiWU0cE1o1aqVevToIZ25zKVLly765ZdftHXrVqd+paWlSktL06ZNm1RcXOxUk6T69etr7dq1+u9//6u//e1vxjKA61hAQICxqcbbvXu3sQnAdaimjX+MbQCAipjNZo0dO1YPP/ywvLy89MMPP+irr77Ss88+yzIaQDUibMZVrVatWnrxxRc1YMAAY+mcsrKyNGrUKO3cudOpvW7dulq3bp127dqlhx9+2KkG4Pp2oWHL2LFjde+99+q9997TqlWrjOXLKjY2VsePH3fMzqgqAhkAuojxLzg4WOPHj9e+ffsueNy5EIxtAIDq0r9/f40YMULNmzfXgQMHNGvWLN122216+OGHVadOHS1YsEDjx483bgbgIhA246r23HPPaejQobJarVqyZIlyc3ONXcpp3bq1unfvrsLCQj300ENOy23UqVNHv/76qzIzMxUeHu60HYDr24WELZGRkRowYIBWrVqlmJgYY1k9evTQqFGjVLt2bX311VeaPXu2sct5le3Dx8fH0bZ3714NHTrUqZ/Oej6pqakXFMoQyADQBY5/OhMCm81mRUdHKyUlxVg+J8Y2AMDl9tRTTykqKkolJSVatGiRjhw5ooiICPn7+8vNzU1FRUWKjY3V9OnTHdtERUVp+PDhOn36tCZNmqSEhASnfQKoHGEzrlqNGzfWypUrlZeXp8jISGVmZhq7VGrEiBEaPny44uPj9dZbbznaCZsBVKaqYUtZULJz584Kw4/Y2Fj5+fnp4MGDCggIuOiw2ajscY8ePVphKDN27Fj16NHjgh6PQAaALmD805l1LW+//fZqu6qDsQ0AcKmNGjVKoaGhWrhwoQYOHKg2bdrIzc1NNptNv//+uz766COtXbvWaRvCZuDicYNAXLVuv/12ubm5adWqVRcUNEvS/PnzpTOXeQJAdRowYIAKCgr05ZdfGkuO2RB9+vRRfn6+seySVatWaefOnfLz83OsYX+2mJgYHTx4UPfffz9jH4BLIjIyUkFBQVqzZk21BM1ibAMAXAYLFizQwYMHNXnyZLVt21aStGPHDo0bN06PP/54uaBZkmbOnKnbbrtN7dq1I2gGLhBhM65a9evXlySdOHHCWDqvsuU2yvZhVFpaamwCgPPq0aOH/Pz8tGnTpgovHX/hhRcqnJlXnQoKCnTs2DFjsyRp7dq1ql+/vrp3724sAYDL2rRpo5ycHK1evdpYchljGwDgUhkwYIB69eolT09PZWVlafr06XrggQcqDJHDw8OVlpYmi8Wi6OhoxcXFyWKxKDEx0dgVQCUIm3HV8vDwkCQVFxcbS+dls9kkSSaTyand3d1dklRSUuLUDgBV0b59e9WuXbvSQORSKptRWFnQLUlbtmxRTk6OGjdubCwBgEuCg4N18803y2q1VjoGXQzGNgDA5eTr66s///nPXC0DXEKEzbhqlc0+dnNzM5aqpCxwPpu3t7ckqaioyFgCgPNq3LixcnJytGXLFmPpkujRo4eWLVum1atXa/DgwTp48GCFNyQsk5KSIqvVqptvvpkTaADV6sYbb5SPj4+2b99uLF0wxjYAwOX01VdfacmSJcrPz5eHh4f+/Oc/a9asWRo0aJCxqxISEtSuXTu1aNFC48ePV0REhFq0aKGePXsauwKoBGEzarRatZz/ioeEhEiS9u3b59QOAFXh6+trbLqkVq1apT59+qh79+6Oy8eXLVtW4bqmAHApNWvWTLVr1zY2XxTGNgDA5ZSVlaVx48YpMjJSv/76q2w2m/z8/PTKK6/o+eefN3avkrLlNtLS0hQeHm4sA9c1wmbUaGevzRwcHKzx48dLkn744YezegFA1Rw/ftzYdFl99dVXkqT77rvPWHJS3Ze5A8DBgwd1+vRpY3O1YGwDAFwOKSkpGjx4sGJiYpSbmysvLy8NHjxYjz76qLGrzGazEhMTZbFY9N577xnL5+Xv76/PP/9c6enpSk9P1+effy5/f39jN6BGImxGjda4cWOlpqYqNTVVc+bMkaenp7744gutW7fO2BUAzis7O1v169dX+/btjaXLKjs729gknflSzWw2X/FQHEDNc+zYMRUUFOjOO+80lqoNYxsAoDLTpk1TZmamvv/+e2NJkhQWFqZVq1YpMzNTW7Zs0ejRo41dHD755BPFxMQoLy9P9erVU69evYxdZLVa9Z///Ed2u13t2rVTQECAscs5vfbaawoLC5OHh4c8PDwUFham1157zdgNqJEIm1HjZWZm6t///reSk5M1fvx4zZw509gFAKpky5YtOn36tNq0aWMsXZTY2FitXr1a06dPN5bKCQ4O1lNPPaWCggKtXr3aWJbO3MCwfv36lQY2AHCxUlJStG/fPvn5+Z13uQvGNgBAdbvlllvk5uam/fv3G0uSpOeee04tW7aUm5ub6tSpoyeeeEJ9+vQxdnOIj49XYmKi7Ha7WrRoUWGYvG3bNhUWFqpevXq64447jOVK9e7dW3fddZckKSMjQxkZGZKkTp06qW/fvobeQM1D2Iyrlt1uly7yBoFubm4ymUzKzs5WeHi4hg4dquHDh2vFihXGrgBQZatWrdLRo0d1++23Vxi2REZGKjExUatXr1bHjh3l7u6uwYMHa/Xq1YqNjTV2d8zSq2h/Y8eO1erVqx1/YmJitG/fPj322GOVXkYeGhqqnJycSgMbAHDFtm3bVLt27fMud8HYBgCobnXr1pUk/fHHH8aSQkJC1KhRI5WWluqnn35SVlaW6tevryFDhshsNhu7Oxw5ckQlJSUymUyqU6eOsawdO3YoLy9PPj4+atWqlbFcqdtuu01ms1mHDh3S+PHjNXLkSO3du1d169bVn//8Z2N3oMYhbMZVy2q1SpK8vLyMpfMq26ZsHwBQXc61tujs2bPVs2dPx02vzv4zdOhQY3etXLlSBQUFKigo0LFjx5xqMTEx5fbxwgsvOPU529ixY9WsWTN9//33lQY2AOCK2bNnKzU1tcIQ+WyMbQCA6ubp6WlsckhNTdXx48dlt9u1b98+zZ07V6dOnVLHjh2VkJCgr7/+WjNmzHD6M2/ePEVERMjDw0OHDx9WamqqcbfatGmT8vPzVbt2bT3++ONauHChYmNjNWPGDA0aNEheXl46deqU8vLyjJtKkho0aKDIyEjdfffdOnLkiNzc3NSsWTNjN6DGIWzGVSszM1M6c3nlhc5uDg0NlST997//NZYAwCWrVq3SmjVr1LFjxypdIn4u9913n3x8fLRp0yaXQpTIyEj16NFDqampmj17trEMANXmyy+/VEFBgUaNGlVp4MzYBgCobmVfXjZs2NBYktVq1YoVK1RSUqIHH3xQO3fu1KZNmyRJrVq1UseOHRUeHu70589//rPq1aunvLw8LV261LhLh6NHj0pnbvjXoUMHhYWFKTw8XB07dpTJZJLFYil35c2GDRt07Ngx+fj4qE+fPnrttdd09913S5L8/Pyc+gI1EWEzrlqZmZnasWOH2rdvr1dffVWtW7c2dqnQ3XffralTp8put+vrr782lgHAZTExMfr+++/PO7uvMmXLbQQFBWnevHmKiYkxdrkgoaGhSk1NPefsQACoDikpKYqOjlZBQUG5KzwY2wAAl0rZEk133323Bg0aZCxr9+7dslqt8vb2VoMGDfTiiy8qKSlJxcXFKi0tdeprt9t18uRJ/fvf/9aoUaMUHx/vVD9b2cS3Y8eOOZb6lKSioiJt2rRJ0dHRZ/X+P+vXr9f06dOVnp4um80mu92u4uJiYzegxnILCAj4//9agKtMy5Yt9cUXX6h+/frG0nnFxMRo7ty5xmYAqFDz5s3l4eFhbK6xiouLdeDAAWMzgOtQTRr/GNsAoGZ6/PHHNX78eNWtW1dFRUXavn279uzZI0lq1KiR2rRpo/r16+vYsWMaN26ckpKSjLu4YGazWYsXL9att96qL774Qm+88YaxS5V9+umn+p//+R+tX7++wrAcqEkIm3HV8/b21vDhw9WuXTtjqZzS0lKlpaXpl19+0ebNm41lAKiUr6+v48Yj14O8vDzHDBEA17eaNP4xtgFAzRUTE6OHHnpIJpPJWJLOfOG4aNEivfTSS8bSRYmMjNTYsWMlSdHR0YqLi1NcXJy6du2qrKwsbdq0SX369JHVatWkSZOUkJCggIAA7d6922k/YWFhevPNN9WoUSMtXLhQL774olMdqGkImwEAkOTu7q6mTZtWevJak9hsNh06dEglJSXGEoDrUE0Z/xjbAKDmGz58uAYMGOB43ypbEiMjI0Px8fFKSEgwblJlw4cPV58+fbRv3z7Vr19fHTp0kKenp9LT0zVixAjt3r37vGFzYmKiGjVqpL1792rPnj3y8/NTUFCQzGazcnJyNHnyZC1btsz40ECNQtgMAMAZ3t7e8vPzu+YDl3Ox2Ww6evSoCgsLjSUA17FrffxjbAMAuCoqKkrDhw93WloqLy9P06dPP+e6zmdLTExUYGCgsVk2m02LFy/mPgS4LpgaNGjwqrERAIDrUUlJiaxWq9zc3FSrVq1rNnSpSHFxsaxWq44dO6bTp08bywCuc9fq+MfYBgCoLrfddps6dOggLy8vlZaWau/evfrXv/6l+fPnG7tWqlGjRrrxxhtlNptlMpkcV918+umnevPNN43dgRqJmc0AAAAAAAAAAJfVMjYAAAAAAAAAAHChCJsBAAAAAAAAAC4jbAYAAAAAAAAAuIywGQAAAAAAAADgMsJmAAAAAAAAAIDLCJsBAAAAAAAAAC4jbAYAAAAAAAAAuIywGQAAAAAAAADgMsJmAAAAAAAAAIDL3AICAuzGRuByCAgIMDYBAAAAAADUaLt37zY2ATUGYTMAAAAAAAAAwGUsowEAAAAAAAAAcBlhMwAAAAAAAADAZYTNAAAAAAAAAACXETYDAAAAAAAAAFxG2AwAAAAAAAAAcBlhMwAAAAAAAADAZYTNAAAAAAAAAACXETYDAAAAAAAAAFxG2AwAAAAAAAAAcBlhMwAAAAAAAADAZYTNAAAAAAAAAACXETYDAAAAAAAAAFxG2AwAAAAAAAAAcBlhMwAAAAAAAADAZYTNAAAAAAAAAACXETYDAAAAAAAAAFxG2AwAAAAAAAAAcBlhMwAAAAAAAADAZYTNAAAAAAAAAACXETYDAAAAAAAAAFxG2AwAAAAAAAAAcBlhMwAAAAAAAADAZYTNAAAAAAAAAACXETYDAAAAAADgooWHhystLU2JiYnGkstCQkKUnJys5ORkhYSEGMsXJTo6WhaLRdHR0cYSABcRNgMAUAOFh4dr8eLF2rZtmywWizIyMrR27Vo9+eSTxq4AcM0ym82aMmWKNm7cqPDwcGMZAAAAlxlhMwAANcwrr7yiadOmKTAwUDt37lRCQoL+/e9/y8/PT1FRUYqMjDRuAgDXFLPZrJEjR2rlypWKiIiQt7e3sQsAAACuAMJmAABqmG3btmnjxo168skn9cgjj2jMmDEaMGCAYmNj5eHhoYcffti4CQBcM0JCQrRy5Uo9//zzql+/vo4dO2bsAgDAVaFsCZC0tDQNHTrU8TNX46AmI2wGAKCGWbx4sSIjI7Vhwwan9nXr1un48eO68cYbq229OwC43NavX69ff/1VcXFx6tevnzIyMoxdAAAAcIUQNgMAcJ0wmUyqVauWSkpKZLVajWUAuGaMGzdOkyZNImgGAFwSvXv31ubNm/Xjjz8qICDAWK6y9evXq2vXrmrXrp1iY2MdPyckJBi7AjUGYTMAANeJzp07q0GDBtq3b59SU1ONZQAAAKBCgYGBWrFihbZv367nn3/eWL7qjB07Vtu3b9d3332nwMBAY/m8VqxYIYvFokaNGumuu+4ylgGcA2EzAADXgbCwMD366KMqKCjQkiVLjGUAAACgUhkZGXr77beVk5OjwYMH69FHHzV2Kadbt25atGiRfv/9d23btk2ZmZmyWCzKzMxUamqqZs2aJX9/f+NmSkxMdHld45iYGK1YsUKtW7fWhAkTjOUq2bZtm7y9vdW5c2en9tGjR2v16tXasmWLdu7cKYvFIovFooyMDG3YsEGjR4926i9JUVFRSk9PV1xcnLEE1DiEzQAA1HCDBg3S9OnT1aBBA8XHx+ubb74xdgEAAADOKSkpSR9++KFq1aqliIgImc1mYxcn9evXV2BgoBo0aCBvb2+5ublJktzc3HTDDTeoe/fuGjp0qHGzajN58mRt3LhRnTt31vDhw43l8/rtt9+Un5+vO+64w6m9SZMmCggIUJ06dVS7dm1Hu8lkUqNGjRQREaHu3bs7bQNcTwibAQCoocxms9566y1NmjRJ7u7u+te//qWYmBhjNwAAAKBK4uPjtXbtWt122236xz/+YSw72bp1q/bv368//vhDL774olq0aKEWLVqoZ8+eWr16tUpLS1VYWGjcrNpYrVbNnTtXVqtVDz300AWvvbxmzRodP35cTZo0cQqP09LSlJeXp//85z/q27ev43UNHTpU+/fvV3FxsQoKCpz2BVxPCJsBAKiBAgMD9dlnn+nhhx/Wtm3bNHToUH3yySfGbgAAAMAFWbVqlQoLC9WlSxdjyUnZ0hunT5/WM888o7CwMEnSoUOHVL9+fR0/flwbNmwwblatEhMTlZqaqptuukl//vOfjeVzslqtys7OltlsVqtWrRzt8fHxiouLU+vWrRUVFeWY4e3p6SkfHx9ZLBatX7/+rD0B1xfCZgAAaqAJEyaoU6dOWr58uQYPHqyUlBRjFwAAAOCCHT16VIWFhapfv76xVE7Z0hsNGzbUzJkzNXr0aL3//vtq27atvvvuu8sSyh49elQeHh7y8/Mzls7r8OHD8vLyUps2bZzaY2Ji9MMPPyg0NFSLFi1SRESExo8fL0maN2+eU1/gekPYDABADfO3v/1NwcHBSk1N1YQJE2S1Wo1dAAAAgPPq1q2bQkJCHP8fGBiovn37ytfX16lfXl6eTp06pcaNGysyMtKptnjxYn3yyScqLS3V6NGjFRoaqvXr12vjxo1O/SQpMjJSjRs3Vn5+vrKysozlcwoMDFTv3r2dbjrYt29f3X333U79KlLRthEREbrnnnskSaGhoeVe1yeffKLvv/9eAQEBmjp1qvz8/LR48WIdPnzYqZ+/v786deokd3d3HThwwKkG1ERuAQEBdmMjAAC4dr388sv6+9//rtTUVO3Zs8dYliStX79eCxcuNDYDwDUnLi5O7du316RJk5SQkGAsAwBcsHTpUrVt29bYLJvNpkWLFunFF1+Uztwr5Msvv1S7du0kSaWlpapVq/z8xoKCAnl6espkMjnabDab0/9L0qZNm/TYY49JkkJCQjRjxgxJ0pgxYyqdDT1s2DCNHj1aXl5expIOHz6ssWPHOraNjo5W//79tWDBAo0fP15DhgzRuHHj5OPj47Sd3W6XxWJRkyZNnG5yaOxjtVplNpud6sZjUFBQoOjoaMXFxTnagJqo/L98AABwTatbt65MJpOCg4MVHh5e4Z9OnToZNwMAAACc7Nu3T4WFhbLb/2+eos1m05EjRzRnzhxNnTrV0c9qtWrmzJnatWuXo6/OCmJ37Nihjz/+WP/zP/+jkSNH6pdfflFOTo5TX53Zf1pammbOnOnUXhV79uzRiRMnZLPZHG2FhYVKSUnRSy+9VGlIrTOv8/jx445t7Xa7Tp486ViSbsWKFSotLXX0t9lsOnHihH799Ve98sorCgkJ0fTp07Vjx45yNz202+3KycnR/PnzCZpxXWBmMwAAAAAAAADAZcxsBgAAAAAAwBUXHh6utLQ0JScnO60VDeDaQdgMAAAAAAAAAHAZy2gAAAAAAAAAAFzGzGYAAAAAAAAAgMsImwEAAAAAAAAALiNsBgAAAAAAAAC4jLAZAAAAAAAAAOAywmYAAAAAAAAAgMsImwEAAAAAAAAALiNsBgAAAAAAAAC4jLAZAAAAAAAAAOAywmYAAAAAAAAAgMsImwEAAAAAAAAALiNsBgAAAAAAAAC4jLAZAAAAAAAAAOAywmYAAAAAAAAAgMsImwEAAAAAAAAALiNsBgAAAAAAAAC4jLAZAAAAAAAAAOAywmYAAAAAAAAAgMsImwEAAAAAAAAALiNsBgAAAAAAAAC4zC0gIMBubAQuB7PZbGwCAAAAAACo0axWq7EJqDEImwEAAAAAAAAALmMZDQAAAAAAAACAywibAQAAAAAAAAAuI2wGAAAAAAAAALiMsBkAAAAAAAAA4DLCZgAAAAAAAACAywibAQAAAAAAAAAuI2wGAAAAAAAAALiMsBkAAAAAAAAA4DLCZgAAAAAAAACAywibAQAAAAAAAAAuI2wGAAAAAAAAALiMsBkAAAAAAAAA4DLCZgAAAAAAAACAywibAQAAAAAAAAAuI2wGAAAAAAAAALiMsBkAAAAAAAAA4DLCZgAAAAAAAACAywibAQAAAAAAAAAuI2wGAAAAAAAAALiMsBkAAAAAAAAA4DLCZgAAAAAAAACAywibAQAAAAAAAAAuI2wGAAAAAAAAALiMsBkAAAAAAAAA4DLCZgDAdSs6OloWi0XR0dHGEgBcUxITE5WcnKyQkBBj6arAeAsAuJRCQkKUnJx8yd4L4+LilJ6erqioKGMJgAFhMwAAAAAAAADAZYTNAABcYWUz/uLi4owlAAAAAACuGYTNAIAareySurS0NA0dOtTxc3h4uLErAAAAgBoiPDxcaWlpSk5O1tChQx0/X4plNgD8f4TNAABcYePHj1eLFi0UERFhLAHAZRUXF8faygCA68rZoTRBNOA6wmYAQI22fv16de3aVe3atVNsbKzj54SEBGNXAAAAADVEQkKC2rVrp65duyo2Ntbx8/r1641dAVQjwmYAAGqAmJgYZWRkaM6cOTKbzcYyAFRJRESEWrRoofHjxxtLl8zYsWO1fft2fffddwoMDDSWAQC4pM4OpQmiAdcRNgMArhpxcXFKT09XVFSUU3vZusuuXNoWFRWl9PT0q+4mfF26dNGSJUuUkZGhHTt2aObMmZWGxYmJiZWuNz158mRt2LBBXbt21aRJk4xlANcRs9msF154QWvWrFFGRoYsFosyMjL0/fffq3///k59g4KC9M0332jHjh2yWCzKzMzUpk2bNGPGjMsW/MbExGjFihVq3bq1JkyYYCyf19U6vgMArg5lN+M+e4mo0aNHa9OmTcrMzJTFYtGOHTu0bNmyS7asXXV8ngGuFYTNAABUwGw2a+bMmdq2bZssFotSUlIuKgQ5l4CAAE2cOFHt2rWTyWSSp6enHnzwQU2ZMsXY9bysVqumTp0qi8WiHj16qE+fPsYuAK4Dt956q5YvX65nnnlGN910k0wmkyTJZDLptttu08svv6xBgwY5+pvNZjVr1kyenp6SJDc3N/n6+io8PFyLFi3SRx99pF69ejn6XyqTJ0/Wxo0b1blzZw0fPtxYBgCgWjVp0kS+vr5yc3OTJHl6eqpNmzaaMmWKVq5cqX/+85+X7UtXoKYhbAYAXBGVzWK+WL1799bmzZu1bNmySmcGX4gpU6bowQcflLe3tySpXr16GjRokMaOHWvsWs6oUaO0c+dOvffee8aSk/vuu08BAQHKysrSiBEjFB8fr5KSEv31r3+9qLA4IyNDX331lWrXrq3HHnvMqVZ2fBITE6vl+AC4+nh5eWnMmDG6+eabtWvXLsXExDjWqX/hhRe0fft21alTR48//rhjHMjKytKMGTPUr18/tWjRwtH3xx9/VGlpqXr16qWPPvpI33//vfHhKjRs2DBt3779gmcZW61WzZ07V1arVQ899JACAgKc6kuXLlVKSor69u3r1A4AuL5U1zntihUrNHr0aLVr104tWrRQv3799Mknn2jXrl0KCAhQVFSUli1bplGjRhk3dVLRjOWK2oDrCWEzAKDKgoKCtHbtWq1du1ZBQUHGsmRYFqLs8m2LxaKtW7dqxIgRxu7VZsWKFTpw4ICaNWume++911i+IGFhYQoNDdWxY8c0adIkde3aVYmJiXJ3d1evXr3KhSBGjRs3loeHhwoKCowlJz4+PjKZTPr111/1ww8/KDo6Wlu3blWdOnXUrl07Y/cq+eabb7R79261bt1aYWFhjvay49OkSRPdf//9TtsAuDKqMqaOGTNGKSkpyszM1KpVq5z+XRvVr19fderU0cKFCxUeHq6PPvpIWVlZslqt+vbbbzVx4kQdOnRIfn5+Cg4OliTt3r1b3377rVJTU6Uzoe+3336rSZMmKSkpScXFxZKkI0eOOD1WZdavX69jx46pRYsWF/wBOzExUampqbrpppv05z//2amWkpKiG264QXfddZdTOwDg+lJd57Rr167VsmXLZLVaJUmpqal666239Pnnn+vgwYOSpKKiIu3Zs8ewJYDzIWwGAFRZ8+bNdcMNN8hqtTqCibOZzWa99NJLjmUhyi5LkyQPDw/HZdqXSnp6usxms+644w5j6YI88MADMpvNmjt3ruLi4pSVlaWxY8dqz549atiw4Xn3X/bayy5fr8yBAwdUUFCgNm3aKDAwUFarVZmZmapVq9ZFz9SwWq3Kzc2Vt7e3GjRo4FRLT0+Xt7e3Wrdu7dQO4Mo435jas2dPDRw4UPXq1ZObm5tatmypZ599ttLxwWazadmyZXrxxRcdH57PlpKSooKCApnNZvn5+RnLkiR/f39NmTJF33//vfr06aPS0lLHPqsiNTVV+/fvV926dS/q8uOjR4/Kw8Oj3PPbunWrioqK1KpVK6d2AMD151Kc0/bs2VNLly7VtGnTdNNNN2nfvn2aNm2ali5dauwK4DwImwEAVebp6SkPDw8dP37cWJLOzNLz8/PTiRMnNG7cOLVq1UotWrTQL7/8Ind3d7Vu3Vr+/v7q06ePWrVqJXd3d7Vr107+/v7q0aOHo61Tp07y9/d37Dc0NFQNGjRQfn7+Oe8QvX//ftntdnXq1Mkp5PD391enTp3k7u6uAwcOONrz8vJks9nUvn17BQcHy2w2a/LkyerVq5fsdruaN2/umG0YHh6uevXq6fTp08rLy3PsoyK7d+/WqVOndN9992nixImVzlj85ptv9Oabb8rLy0txcXF64YUXVK9ePRUWFmrHjh1OfSMjI9W4cWPl5+crKytLOnO8e/Xq5QiezGazIiMjKz3x3r9/v2w2m9OxBXDlnG9M9fHxUe3atfXbb7/p9ddfV15enjp06KBPP/1UXbp0cfQLCwtTgwYNtGvXLn344YdO+yjj7++v559/Xv7+/vLy8lJoaKhj7AgJCdEzzzyjb7/9VqtXr9bgwYNVt25dbd26VcOGDdPo0aMd405V7NmzR7Vr11bz5s2NJYfAwED17t3baTzq27ev7r77bqd+Zfbs2aO8vDy1bNnSaZmhysZ3AEDNVdE5bVZWloqKitSgQQOFhoY62vv06eP4/+DgYMeVPf7+/goPD9c777yjX3/9VR999JHatm2rgoICzZ07Vw888IAWLFjg2M8ff/xR7nOKv7+/+vbtK19fX9WrV09/+tOfZDab1a1bNzVo0MDpuZR9nqnsC2agJnELCAiwGxsBAKhIeHi4pk6dqkOHDqlnz57GsiRpzpw5at++vd577z3FxsZKksaNG6ennnpK7u7ujn42m03FxcXy8vJytNntdpWWlspkMslmsznNDLbb7Vq+fLlGjx7taDMqe35lAUpJSYnTYxYUFCg6OtqxlmifPn00ZcoU1a9f3+nxiouLVVxcLB8fH8e2OvMc1q1bpyeeeMKp3SggIEAffPDBeWdAn4/dbneaHS5JmzZtcqzHPGXKFA0aNEi1apX/7njHjh0aOXKkdu/e7WgrOz5btmy5ZHfaBlB15xtTy8aShg0b6qWXXlKnTp305JNPytPTs8LxoSoKCgpkt9tlNptVWlpabvyw2+3av3+/4uLi9NlnnznVqioqKkrDhw9XQkKCxo8fL0mKjo5W//79tWDBAo0fP94RYp/9HlDm8OHDGjt2bLkvFxMTEx1fJBqfu3F8BwDUXJWd0/7v//6v/vrXv8rNzc3pfdJut6uwsFA+Pj6Vvn8WFhZq7dq1+vTTT5WSkmIsa/jw4Ro1apS8vLzKfU45deqU3N3dnT53nD59WiaT6YI/zwA1QflPpwAAVOLAgQPKz89Xo0aNKr1J0+uvv66cnBwNGTLEMaP3ww8/1HfffedYw7iwsFDLly/X1KlTlZ2dLbvdruLiYq1bt06vvfZauVl+RUVFWrdunT744AOn9socPXpUJSUljv+32+3KycnR/PnznYKIZcuWac6cOcrJyXHqN2/ePA0ePFhJSUmO51z2HF5//XXH9pXZvXu3nnzySS1atEhZWVkqLCyU3X7u73ZPnTqlgwcPatu2bTpx4oRsNptT3WazKS0tTTNnznS07du3T7m5uY6+drtdJ0+eVFJSkiZMmOAUNAO4+pxvTC1bT7lu3boaOHCgYmJi9O677zrGzQtx6tQppaena+rUqfrss8906tQpR+306dM6duyYEhMTNWLECIWFhV100FxVe/bsKTfWFRYWKiUlRS+99FK5oLmM1Wp1Wg+/svEdAHD9efvtt5WSkqLS0lJHW1FRkZKSkvTqq69qz549jvdPu90uq9WqHTt26OOPP1b37t31zDPPVBg0S9KsWbOUkJCgwsJCR5vdbldWVpbeeOMNrVy5UkVFRbLb7Tp69KimT5+uBQsWON6ziouLtWnTpip/ngGuZcxsBgBckM8//1zdunXTiRMntGjRIi1btsxxKVivXr3Ur18/devWTcePH9fo0aO1adMm4y4umbKZcuvWrdM//vEPY/m6V3Z8Nm/ezMxm4Cpx9pi6cOFCLVy4UBkZGfL391fPnj0VERGhFi1aaPXq1dfMuFZ21cXChQsdM5tdFRQU5PiAPnLkSC5BBoDrGOe0wNWNmc0AgAsyb948HTx4UA0aNNCTTz6pxYsXy2KxyGKx6KOPPtJ9992nWrVq6ddff3U5aI6OjpbFYlFcXJyioqKUnp6uxMREYzeH9u3by8PDo0bdNfrs1x0eHq60tDQlJycrJCTE2PW82rdvL09PT+3du9dYAnCFzJs3T1lZWWrQoIGefvppJSYmymKxKDk5WZMnT1bLli117Ngxffvtt8ZNr0pms1lt27ZVSUmJDh06ZCxftE6dOsnX11dHjhwpFzTHxcXJYrEoOjraqR0AUDNxTgtc3QibAQAXJCkpSaNGjVJSUpLy8/OdLkXLz8/X5s2bNXHiRL3wwgvGTatVcHCwhgwZosDAQPn7+2vatGmO2YHJycnG7tedyo5PXl6efvvtN2N3AFdIUlKSnn32WSUlJenkyZOOMdVms+nYsWNatmyZhg8ffs4v2q6k0NBQDRgwQP7+/goMDNSMGTMUFBSko0eP6pdffjF2r7LIyEjHl2oRERF6+umn5eHhoY0bNxq7AgBqMM5pgWsPy2gAAK5JxpsB6kw4s2jRIr344otOfa9HlR2fJUuWaOzYsU59AeBild0M0MPDw9FWVFSkzz//XDExMU59L8TZNwMsU9GNTwEANRvntMC1h5nNAIBrUk5Ojo4ePSqbzea4EUdsbCxB8xk5OTmOm2+dfXw4KQdQnf744w/l5ubKbrfLZrPpwIEDiomJcSlolqTDhw+rqKhIklRQUKCff/5Zzz33HEEzAFxnOKcFrj3MbAYAAAAAAAAAuIyZzQAAAAAAAAAAlxE2AwAAAAAAAABcRtgMAAAAAAAAAHAZYTMAAAAAAAAAwGWEzQAAAAAAAAAAlxE2AwAAAAAAAABcRtgMAAAAAAAAAHAZYTMAAAAAAAAAwGWEzQAAAAAAAAAAlxE2AwAAAAAAAABcRtgMAAAAAAAAAHAZYTMAAAAAAAAAwGWEzQAAAAAAAAAAlxE2AwAAAAAAAABcRtgMAAAAAAAAAHAZYTMAAAAAAAAAwGWEzQAAAAAAAAAAl7kFBATYjY3A5WA2m41NAAAAAAAANZrVajU2ATUGYTMAAAAAAAAAwGUsowEAAAAAAAAAcBlhMwAAAAAAAADAZYTNAAAAAAAAAACXETYDAAAAAAAAAFxG2AwAAAAAAAAAcBlhMwAAAAAAAADAZYTNAAAAAAAAAACXETYDAAAAAAAAAFxG2AwAAAAAAAAAcBlhMwAAAAAAAADAZYTNAAAAAAAAAACXETYDAAAAAAAAAFxG2AwAAAAAAAAAcBlhMwAAAAAAAADAZYTNAAAAAAAAAACXETYDAAAAAAAAAFxG2AwAAAAAAAAAcBlhMwAAAAAAAADAZYTNAAAAAAAAAACXuQUEBNiNjQAAXO3c3d1Vr149eXt7y8PDw1i+ZhUXF6uwsFC5ubkqKSkxlgEAAAAAuGoRNgMArjne3t7y8/OTyWQylmoMm82mo0ePqrCw0FgCAAAAAOCqxDIaAIBriru7e40PmiXJZDLJz89P7u7uxhIAAAAAAFclwmYAwDWlXr16NT5oLmMymVSvXj1jMwAAAAAAVyXCZgCAk/DwcKWlpSkxMdFYuip4e3sbm2q06+31Ate60NBQLVy4UKNGjTKWAADAVSw6OloWi0XR0dHGEoALQNgMALim1KSbAVbF9fZ6gWuV2WzWm2++qU8++UR33nmn7HZuiwIAAIDrD2EzALiobCZwcnKyQkJCjGUAQA3Xv39/fffdd3r00UeVnZ2tV199Ve+//76xGwDgGtStWzf98MMPio2NNZYASVJcXBwzooGzEDYDAK64s0/QqvtkLTY29qr4cBAcHKyvv/5aY8eONZYAXAMqGpv8/f317rvv6rXXXlODBg00b948PfDAA1qwYIHTtldCSEiIkpOTlZaWpvDwcGP5mnC+L3PPfo1Dhw695l8vgKtT/fr11axZM9WuXdtYwnWgbGmNuLg4p58BVI6wGQBclJCQoHbt2qlr165av369sYwraPr06fLz89NXX33l1N6jRw8tW7ZMq1evdvxxNZAu22diYqIiIyONZaWkpGjTpk26//77CZyBGuDJJ5/UsmXL1Lt3b/373/9WZGSkpkyZIqvVauwKAABqsIiICLVo0ULjx483loDrkltAQAALygHARYqLi1PXrl0ds9j69++v5ORkRUREGLteM8LDwzV16lQdOnRIPXv2NJbPqXfv3nr99df1xx9/6Omnn9bu3buNXVwWEBBgbKrQ2LFj1aNHD3311VeaPXu2seykR48eGjVqlI4ePaqhQ4cay+cVGxsrPz8/HTx4UAEBAed8zOnTp+v222/Xe++9p1WrVhnLFbrQ4xgXF6fOnTtr1qxZmjlzprEMoAJLly5VixYtHFdYnMs///lPPfPMMyoqKtKnn36qjz/+2NilxunZs6f69eunu+66Sx4eHpo6daoSEhKM3QCgRklMTFRgYKBTW3FxsWbNmqUNGzZoxowZys/P1y+//KJHHnlEN9xwg7744gu98cYb6t+/v/7+978rICBAtWvXls1m0/bt2zVjxgytXbtWOnOFRtk+FixYoKeeekqNGjWSJGVnZ+vDDz9UfHy847H79eunf/7zn7r55ptlMplUWFionTt36t1339XatWsd5/FbtmzRzz//rMjISDVt2lSSdOzYMS1evFhvvvmmY386c/XdP//5T3Xq1Elms1mSZLVatWnTJkVHRysjI8PR93yPL0ldunTRCy+8oDvvvFOenp6O1/3mm29qw4YNjn1djaKjo9W/f38tWLCA4BhwATObAdR4MTExysjI0Jw5cxwnULg0VqxYIYvFokaNGumuu+4yli+bHj166N5771Vqamqloe/ZVq1apZ07d8rPz089evQwls9p+vTpkqQ+ffooPz/fWC7nyy+/VEFBgQYMGGAsuSQ4OFjvvvuuNm3aVOHl5gDObcOGDapdu7batWtnLJVz4MAB5eTkqG7duho6dKheeOGFGvv+4u/vr9jYWH3wwQfq2bOnbrzxRrm7uxu7AUCN9OOPP2rlypUqKipSZmamEhIStGTJEm3dutXRp379+goPD9f+/fuVkJCgTZs2afjw4Xr11VfVvHlz/f7771q6dKl2796ttm3b6tVXXy0XYDdp0kRRUVHKycnRd999p8zMTDVu3FijR49WWFiYJCksLEwvv/yyGjVqpF9++UXLly9XVlaWbr75ZtWrV89pf82bN1dUVJTy8/O1bNkybdy4UXXr1lVkZKRefvllR7+wsDC99957uvfee5Wbm6vvvvtOK1eu1MmTJxUWFqZ3333X8Vyr8vhhYWF65513FBQUpIyMDCUkJGjHjh268847NWPGjGo7Rw0LC1NycrI2b96sQYMGGcsArjDCZgA13uTJk7VhwwZ17dpVkyZNMpZdcvYlU+PHj1eLFi0UERHhWEeysnUmr1Vl65Sdaz3lbdu2ydvbW507dzaWpDMzRCpaU7M6j1n79u0lSStXrjSWzqmgoEDHjh0zNp/TCy+8cEGzocuW02jWrFmFy21cjGHDhik2NlZdu3bVokWLtHHjRmMXqZqPMVDT/Oc//9HJkyfVoUOHCoPjs8e/hIQE9ejRQ7NmzZIkDR8+XIsWLVJoaKhxsyuqsvH2QowZM0b33HOPtmzZounTp2vEiBHq0qVLlWc1n2vcqeg9ZfTo0Vq9erW2bNminTt3ymKxyGKxKCMjQxs2bNDo0aOd9iFJUVFRSk9PP++MdAC4UNOnT1diYqJKSkqUnZ2tMWPGaNy4cU5Xp914441KTk5W3759HbV58+YpNjZWQ4YM0aBBg/Tcc88pPDxc27dvl7+/v/761786PY63t7d++OEH3X///Ro1apTCw8O1efNmNWzYUN26dZPOTCyoV6+evvvuOw0dOlSjRo1S9+7d1b9/fy1btsxpf02bNtU333yj3r1767nnntOAAQM0c+ZMFRcX6/7771dwcLAk6amnnlKTJk20fPly9erVS6NGjdIzzzyjhx9+WCkpKWrdurWGDBlS5cd/5pln5Ovrq9jYWPXt21djxoxR3759tXz5cjVq1Ei9e/d2ep4XKykpSR9++KFq1aqlESNGlHt/uRQqe0/t16+ffvrpJ2VmZiolJaXC9yngekPYDKDGs1qtmjp1qiwWi3r06KE+ffoYuygsLEyrVq26Zk4SzGazZs6cqW3btslisSglJUUTJkwwdrsifvvtN+Xn5+uOO+4wli6bO++884KC48jISAUFBWnTpk1KSUkxlqvdli1bdPr0ad14443G0gXr06ePhg0bpqysLP3jH//Qm2++KZvNZuwG4DxWrFihAwcOyM/PT/fee6+xXI7VatX06dPVp08frVmzRi1atNCMGTP06KOPGrtWqzFjxmjz5s3KzMxUenq65syZU26G3IX629/+ptTU1ArD2rZt26q4uFgrVqzQxx9/rB9++OGSrkvdpEkTBQQEqE6dOk434zKZTGrUqJEiIiLUvXt3p20A4ErKzc3V999/79RmtVoVExPjdF5ptVq1e/dumUwm+fj4OPU/fvy4Fi9e7NQ3JSVFdrvd0begoEA2m0133XWX01J3FS23dvDgQc2dO9epLT4+Xrt371aDBg3Url07de/eXbfddpuOHDmi+fPnO43tWVlZWrp0qU6dOqVOnTpJVXj87t27q0WLFjp06JDmz5/vqEtScnKyioqKqvXzQXx8vOLj4+Xr63tBEz+qU1hYmMaNG6dbb71Vbm5uqlevnv7+978z2xrXPcJmANeFjIwMffXVV6pdu7Yee+wxp1pgYKDGjRunli1bnvckoaIZWhW1XWpTpkzRgw8+KG9vb0lSvXr1NGjQoKvixnNr1qzR8ePH1aRJkysSCAQHB8tsNmvfvn3nDI7Pvkng4MGDdfDgQcXExBi7XRLHjh1TQUGB7rzzTmPpgvXp00e1a9fWV199dc7XC+D80tPTVadOHXXo0MFYqlRWVpaGDh2qzz77TDfccIOee+65S/ZeMHr0aD311FOqX7++3Nzc5OHhoXvuuUeTJk2qcDZ2VbVu3VpeXl7au3evsaRDhw7J29tbo0eP1uTJkyt8nE8//VQ7duzQM888YyxdsLS0NOXl5ek///mP+vbtqxYtWqhFixYaOnSo9u/fr+LiYhUUFBg3A4ArJjc3Vzt27DA2KzAwUFOnTtWyZcv0+++/a9u2bXrggQeM3aQz+1i3bp1TW2FhoUpLS9WkSRPpzD051q9fr1tvvVUfffSRUlJS9NlnnzlmKZ/t4MGD5UJoq9Wq3NxceXh4yNfXV3Xr1pWXl5dyc3MrvMm5xWLRyZMnVa9ePXXu3Pm8j1+2v1tuuUWrV692XJlisVj01ltvycfHR3Xq1DE+TIV69+6tzZs3KzExscL3nTIfffSR0tLS1LlzZz3++OPGcqWGDRum7du3V/gl64W4//771bhxY23evFkDBw50PN/+/fs7Pe+qvh6gpiBsBnDd+Oabb7R79261bt3asfaZztwQr1WrVkpPT9fAgQO1fv161alTR3379nXa3lVlJxlLly41lqQzs5XffPNNbdu2TRkZGVq4cGGFs9XCwsIUGhqqY8eOadKkSeratasSExPl7u6uXr16VfkGepeK1WpVdna2zGazWrVqZSxfcjfeeGO52SIVWbVqlfr06aPu3bs7QvFly5Zd8JrNV5q/v7/sdnuV1osGcG6HDh1SaWmpbr31VmPpvN566y39+OOPaty4sfr16+dU+/TTT7V9+3YNGzbMqb1Mjx499OOPP57z6pqAgADHlTnx8fFq166d3nnnHZ08eVLt27fX/fffb9ykysrGkYquBvnf//1fZWRk6IYbbtCQIUO0YMGCcu9Nv//+u+x2e4WBx4WKj49XXFycWrduraioKMeHck9PT/n4+MhisVQYigDAlXL69OlywW54eLji4+P12GOPycvLSxs3btS33357wUu8nc1qterJJ5/UyJEjtXLlSpWUlKhbt2767LPPqnxVjZubm+x2+wVdBVdSUqKioqIqP352drYSEhIq/PPjjz867bsyZVcbNWnS5Jzvb1arVT/99JNq1659QV/0rl+/XseOHVOLFi0uaDujZs2aqaSkRL/++qs2bNigt99+W3v37tVNN93kdJVUVV8PUFMQNgO4bpR9m+/t7a0GDRo42tu0aSO73a6VK1dqw4YNmjt3rv744w/dcsstuueee5z24YqbbrpJXl5eOnHihLEkSRowYID69u0rb29vmUwmBQcHa9SoUcZueuCBB2Q2mzV37lzFxcUpKytLY8eO1Z49e9SwYcPzXp4WHR2t9PR0jRkzxliqNocPH5aXl5fatGljLF1yZbOGL9RXX30lSbrvvvuMpUvm+PHjxqYLlp+fLx8fH/3tb39TYGCg/P395eHhYewGoAoOHDig4uJiBQYGXtQXd5s2bdKpU6fUrFkzp3Z/f38VFxfr8OHDTu1lnn32WbVo0cJxdU1ERITTJco6syZk8+bN9eOPP2rixImyWq364IMPtGbNGnl7e6t169ZO/S9Ew4YNdfr0ae3Zs8dY0oYNG9SzZ09Nnz5dOTk5at26dblQY9u2bcrLy1NAQEC1zNiKiYnRDz/8oNDQUC1atEgREREaP368JGnevHnG7gBw1XnkkUdUp04d/etf/1KPHj30zDPPaNKkSTKZTMauFywxMVHPPPOMOnfurISEBNWtW7fcZAlfX1+n/9eZLy2bNm2qgoIC7dq1S3l5eTp16pRuuOGGCr8sbNGihW644Qbl5OQoNTXV0V7Z4xcVFam4uFinTp3SBx98oDFjxpT7U3Zj7apIT0+v0vtbVlaWbDZbha+5Mqmpqdq/f7/q1q1b7gvUC5Gamio3Nzf17t1bPXv21O7du5WVlSUPDw95eno69a3q6wFqAsJmADVSUFCQevXq5fjQazabFRkZWeGbe1FRkdzd3dW5c2cFBQUpMTFRe/fuldlslp+fn6Ofv7+/+vbtK19fX9WrV09/+tOfZDab1a1bNzVo0EANGjRw3BwqNDRUDRo0kNVqdZyc+fj4yGQyVRo21KlTR+7u7lq8eLE++eQTnT59Wvfdd5/ef/99BQYGymw2a/LkyerVq5fsdruaN2+uoKAg6czsiXr16un06dPKy8sz7tpJkyZNZLPZdPLkSWPJib+/v9MsvODgYLVv317FxcXKzs6Wzlwe2Lt3b/n7+zv6RUREOEL60NBQx03wzGazXn75Zd18883y9vZWWFiYUyhRdszy8/NdmrWWkpIiq9Wqm2++ucIT5/Mpe22XUtns6+p4rI0bN+r06dMKCQlRYmKikpOT1blzZ3l4eOjuu+92OoGurmMMXOvMZrN69erlGEMlqUuXLurfv7+8vb3VvHlzjRo1yjFG9enTxzG+BwcHVzi2hISEKDQ0VF5eXuW+8PL09JTVatXRo0ed2st4e3vr6NGjGjNmjNLT0+Xr66uXXnpJERERkqShQ4dq4MCBcnd3l6+vr3r16iWdec5NmzaVyWTSn/70J6fnFRkZqcaNGys/P19ZWVmO9srUrl37nDO6Z82apVWrVsnNza3cB+h169bpxIkTjjWVy/j7++vxxx+Xn5+ffH19na4qOt8x/eSTT/T9998rICBAU6dOlZ+fnxYvXlzuPdTf31+dOnWSu7u7Dhw44FQDgOpUt25dY1OlfH19ZbPZnK4YCQ4O1m233ebUz1W//fabioqKyl3Vd+utt5ZbXu/ZZ59V8+bNtX//fq1Zs8ax1IW/v7+GDBnidF5e9rmndu3a5Zb3ONvZj79mzRrt379fzZo10z/+8Q9jV6f33KrYv3+/bDab43NGRe/dQUFBeuCBBxxLC16IPXv2qHbt2mrevLmjLS8vTzabTe3bt3e8L53rM8zbb7+tL774QvXr19cHH3ygtWvXqkOHDiouLlZRUZFjv6rg9QA1mVtAQIDd2AgA17opU6Zo0KBBqlWr/HdqO3bs0MiRIx2Xu0VGRmrs2LHlTtLK2Gw2p1kIp06dkru7u9zd3R1tp0+flslkcupnt9u1fPlyx+XQUVFRGj58uDZt2uT0YbxMSEiIYmJidPLkSY0cOVLDhg3TQw89JJPJ5PQciouLVVxcXO752u12rVu3Tk888YRTu1FcXJw6dOigt99+u9yNQ3RmDbPRo0fLy8tLklRaWup0HI8dO6Zx48YpKSlJQ4YM0bhx4yp8LhaLRU2aNJG3t7fc3NwcNZvNJpvNptq1a5c7tsZjVpGqzDYcO3asevTooa+++kqzZ882lssJDg52zJqLjo4ut/ZxbGysbrnlFm3evFkvvPCCU+1s06dPV1BQ0Hkf90Kfn/HSTKMJEybo4YcfVr169aQzf0fKbqx1MccYqOkCAgIc/66Njh8/ruLiYsfSEmXjl91uV2FhoXx8fJzajXJzc/XGG2/om2++cbQlJiaqadOmmjRpkhISEpz668wSHH369NEXX3yhTZs26Y033nB8GC17LJvNpt27dysgIKDcv+n8/HzVrVu33L93nZltbbxXgdG0adP0+OOPKykpSU8++aSxLJ0Jtl9//XX5+vpq8uTJ5ZaEiouLU9euXaUKxp2z3yMv9Jja7XZZrVaZzWanuvG9qaCgQNHR0S6vvwkARiEhIZoxY4Z8fX21YcMG5eXl6csvv5QkzZgxQ/n5+eWuRpk+fbr69eunPXv26KuvvtINN9yghx9+WGazWXXr1tWsWbM0c+ZMx74r2ofxs8Pw4cM1fPhwHTx4UBkZGfL09NTdd98tHx8fzZo1S++++67Cw8M1depUnT59Wl5eXtq5c6f279+v1q1bKzAwUNYzN7eNj4+XzizP98Ybb6hx48bau3evtm7dKg8PD7Vv316NGjXS+vXrNXz4cFmt1io9/qBBgzRmzBjVqVNH+/bt07Zt2+Th4aGgoCDVrVtXM2bMqNK5r85Mppk6daq2bNmiiIgIBQUF6YMPPnAKh8sUFRU5nkNVlR3fhIQEx+eAPn36aMqUKapfv36597JzfYY5W2WfyYyvB6jJyqcwAFAD7Nu3T7m5ubKdWY/Mbrfr5MmTSkpK0oQJE5zCu9mzZ2vmzJk6cOCAo39F7Ha7srKy9MYbb2jlypUqKiqS3W7X0aNHNX36dC1YsMAxm624uFibNm3SBx984Ng+MzNTp06d0i233FJuBpfOrB32/fff69Zbb1VERIQmT56suLg45eTkSGcePycnR/PmzdPgwYOVlJTkeLyioiKtW7dOr7/+umGv5RUUFMjT07PSGWx/+ctfVLt2bW3dutXpeNjtdmVnZ+uTTz5RUlKSdOY4Hz9+vNxxXr58uQYPHqwVK1aotLTUUcvJydGsWbMUFxdXbmZ12Ws4+5hdrC1btuj06dOOWXNGY8eO1erVqx1/YmJitG/fPj322GPlgmadtdzF7bffXu4yxcjISCUmJmr16tXq2LGj3N3dNXjwYK1evVqxsbFOfXUm2O7cubMOHjxY5ZPt83n99dfVsWNHtWzZUi1btlRkZKTS0tLK/X2uzmMMXMt2796tgwcP6tSpU46206dPKy0tTWPGjNGHH36owsJCR62oqEhJSUl69dVXy82s1ZnxraCgwLHe8tlBs85c4uvt7a2OHTs6tZf57LPPdOTIEfXp00d//PGHxo8fr7S0NMf4WVBQoOXLlys8PFwzZsxQdna27Ha7iouLtW7dOr3yyivKzMx02qfNZlNaWppmzpzp1F6RHTt2qLCwUKGhofr8888dM5D9/f3Vv39/ff755/r8888dN30yBs1liouLnZaKKnvffP3117V8+XKVlJQ4amcf0z179shu///zX2w2m06cOKFff/1Vr7zyikJCQjR9+nTH8zxb2XvL/PnzCZoBXBLr16/X119/rYKCAv3lL39RWFiY2rdvb+zm5NVXX9Xy5cvVtGlTTZgwQcOGDdPOnTv1888/G7tW2e7du5WZmalbb71Vffv21X333aeSkhLNnTu3XMi6c+dOLV68WK1atVLfvn0VGBioXbt26dVXX3UEzZKUlJSk559/Xr/99psaN26sBx98UPfdd59MJpNmz57tCJpVxcePj4/Xc889p9TUVDVt2tSxP3d3dy1fvlw//PCD47EvVGpqqrKzs53eu202m/bv369333233DG4GMuWLdOcOXMcn79UwWeYsuNhdOrUKR08eFBffPGFRowYYSwD1xVmNgNABeLj4xUUFFTpLLSLYTabNX/+fLVp00YHDhzQ/PnztWjRImVlZSkwMFC9evXSwIED5efnp/j4eE2ePNm4i2oxbtw4PfXUU8rPz9fcuXP19ddfKysrS2FhYRo8eLBCQ0N14sQJx+zlq01VZjbrImYPn0uPHj00atQox8y5igLpqpo+fbpuv/12vffee1q1apWxXKHzzWwGcHV75plnNGrUKNWqVUs///yz5s+f7xhfe/XqpUcffVShoaE6fPiwRo4c6bQ25uUSExPjuJqmIsXFxfr+++/1yiuvVPhBe+nSpWrevLkmTJigFStWGMsAgMugJs2eLbvacvPmzZfktZRdCbtw4ULHzOZL6VK/HuBqwsxmADAICQlRQEBAlde5rCqr1ar58+crLy9PzZs319ixY5WcnCyLxaLExERFRUWpcePGslgsWrx4sXHzapOQkKBdu3apQYMGGj16tOM5xMbGqlu3bpKkn376yRGEhISEKDk5WWlpaQoPD1diYqLS09MVFRVl2PP5hYeHKy0tTcnJyS7d+bkqYmJidPDgQQ0YMMCxbvTFuu++++Tj46NNmza5FDSPHTtWHTt21Jo1a6ocNFenqKgopaenKzEx0VgCcAnNnTtX//73v+Xu7q777rtPsbGxslgsslgs+uijj9StWzeVlpbqhx9+uCJBs86MTx9//LFjTUmdNZvrl19+0dNPP63nnnuuwqC5V69eatq0qXJzc7Vjxw7pzJJEFotFcXFxTmNPdb6nAABqrvbt28vT01N79+41llxmNpvVtm1blZSU6NChQ8byJXEpXw9wtSFsBnDdevLJJxUfH6+hQ4c6bqLWt29fvfLKK2rUqJG2bdtW7TdRi4+P16hRo5SSkuJ0KfDp06d18OBBff311xoyZIhLgeb5ZGRk6JVXXlFSUpJOnjzpuHT59OnTslgsmjFjxmX5dv9yGDp0qA4ePFjpchrnU7ZERlBQkObNm6eYmBhjlyorWz7j+++/d2k/AK49ZWtdfvHFFzpy5IhTmJufn6/Nmzdr/PjxeuONN4ybXlbvvPOO7r33XgUGBqpFixZq2bKlOnbsqCeeeEJr16519Hv00UcdNyns2bOnxowZowYNGig1NZUrMQAAFyw4OFhDhgxRYGCg/P39NW3aNHXr1k15eXn67bffjN0vWGhoqAYMGCB/f38FBgZqxowZCgoK0tGjR/XLL78Yu7vsUr8e4GrHMhoArltlN4Xw8PAwlpSVlaWXX375qlxG4nrXvHnzCn9nNVVxcbEOHDhgbAaAK+bsmwGWOXz4sMaOHVvtX9ICAKruWl1Go+x5m81mR5vNZtOSJUs0duxYp74Xo6LPfUVFRfr8888vySSQS/16gKsdM5sBXLeSkpL0ww8/6NixY45ZZkVFRUpJSdHzzz9P0HyVMt4cqqa73l4vgKvfoUOHnG5Qm5KSojFjxhA0AwAuSk5Ojk6cOCGbzea4AXtsbGy1BbN//PGHcnNzZbfbZbPZdODAAcXExFySoFmX4fUAVztmNgMArinu7u5q2rRppTexqklsNpsOHTqkkpISYwkAAAAAgKsOM5sBANeUkpISHT161DEbvaay2Ww6evQoQTMAAAAA4JrBzGYAwDXJ3d1d9erVk7e3d41aw7m4uFiFhYXKzc0laAYAAAAAXFMImwEAAAAAAAAALmMZDQAAAAAAAACAywibAQAAAAAAAAAuI2wGAAAAAAAAALiMsBkAAAAAAAAA4DLCZgAAAAAAAACAywibAQAAAAAAAAAuI2wGAAAAAAAAALiMsBkAAAAAAAAA4DLCZgAAAAAAAACAywibAQAAAAAAAAAuI2wGAAAAAAAAALiMsBkAAAAAAAAA4DLCZgAAAAAAAACAywibAQAAAAAAAAAuI2wGAAAAAAAAALjMLSAgwG5sBC4Hs9lsbAIAAAAAAKjRrFarsQmoMQibAQAAAAAAAAAuYxkNAAAAAAAAAIDLCJsBAAAAAAAAAC4jbAYAAAAAAAAAuIywGQAAAAAAAADgMsJmAAAAAAAAAIDLCJsBAAAAAAAAAC4jbAYAAAAAAAAAuIywGQAAAAAAAADgMsJmAAAAAAAAAIDLCJsBAAAAAAAAAC4jbAYAAAAAAAAAuIywGQAAAAAAAADgMsJmAAAAAAAAAIDLCJsBAAAAAAAAAC4jbAYAAAAAAAAAuIywGQAAAAAAAADgMsJmAAAAAAAAAIDLCJsBAAAAAAAAAC4jbAYAAAAAAAAAuIywGQAAAAAAAADgMsJmAAAAAAAAAIDLCJsBAAAAAAAAAC4jbAYAAAAAAAAAuIywGQCuMYmJiUpOTlZISIixdMkFBwdr3rx5mjJlirFUqfDwcKWlpSkxMdFYqlB0dLQsFouio6ONJQAAAOCSiIuLU3p6uqKiooylq8LFnCNHRUUpPT1dcXFxxhKqSVU/65jNZk2ePFlff/21sQTUOITNAIAqGTNmjGbPnq2uXbuqVi3ePgAAAADgfHr06KFly5ZpyJAhuuGGG4xloMYhLQAAnFNoaKiWLl2qESNG6PTp05o+fbomTpxo7HZJhYSEKDk5WWlpaRo6dKjj5/DwcGPX60JcXJxjZsvZPwMAAAC4Ovj7++vdd9/Ve++9pyZNmmj58uV68sknjd2AGoewGQAusysRnJ4vnCy7LO/sS+zKLvX68MMPFRgYqOXLl6tPnz6aNWuWow+cj11FxxEArgZX4r0HAK42V8t529nn41fyeeDS6d+/v+bPn68HH3xQGRkZGjZsmEaPHq2srCxjV6DGIWwGAJTTr18/fffddxo8eLD27t17xU+O1q9fr65du6pdu3aKjY11/JyQkGDsetUrW9ctOTlZQ4cOdfx8IWtwR0REqEWLFho/frzTzwAAAACunMDAQM2bN0/Tpk1TnTp1NH36dPXt21dr1641dgVqLLeAgAC7sREAcPVKTExUnTp1NGbMGK1fv95YdlmfPn302muvycPDQwsXLtTbb78tq9Vq7FZl4eHhmjp1qg4dOqSePXsay+VER0erf//+WrBgQY0MUMuOR35+vj777DNFRUUpPz//kv0+AeBK6t27t15//XX98ccfevrpp7V7925jFwC4KsTFxalz586aNWuWZs6caSxfcRdzjhwVFaXhw4dr06ZNioiIMJZRDYyfdb777jvddttt2rRpk95++22lpKQYNwFqPGY2AwCcHDt2TEeOHJGXl5f69eunyZMny9/f39gNFykhIUHt2rVT165dFRsb6/j5UgXNYWFhSk5O1ubNmzVo0CBjGQAcxo4dq+3bt+u7775TYGCgsXxRVqxYIYvFokaNGumuu+4ylgEA14jhw4drzZo1ysjIkMViUUZGhqZOnWrs5hJXz1tjYmKUkZGhOXPmyGw2G8uXxYEDB2Sz2dSpUye9+OKLCg0NNXYBajzCZgC4QqKiopSenn7Z1mcrW6+zoiUbzn4u69ev13333ac333xTJ06c0COPPKJFixapf//+TttUh7I16qpyc7suXbpoyZIlysjI0LZt2zRt2jRjlysqMTGx2tc/rex3ZjabNXPmTG3btk0ZGRlauHBhpcFQUlKSPvzwQ9WqVUsjRowo97sHcH0513tPTEyMVqxYodatW2vChAnG8kXbtm2bvL291blzZ6f2qKgobd68WZmZmbJYLNqxY4eWLVvG7DsAlZ4D6QLPHytzKc7bqtO5xuqKXMrXYzab9fnnn2vMmDG66aabZDKZJEkmk0m1a9c2dneJq+etkydP1oYNG9S1a1dNmjTJWD6v6vi7NWzYMD399NP6/fffddddd2nWrFmaMmXKFQu/gSuBsBkAUKHPPvtMDzzwgBYsWKAGDRpo4sSJGj16tLHbZREYGKhJkyapXbt2MplM8vb21sMPP6yxY8cau1Zq9OjRSklJUWZmppYuXaouXboYu1w2Xbp00ffff6/MzEylpKRc8HGdMmWKHnzwQXl7e8tkMik4OFiTJk2q9CQ2Pj5e8fHx8vX11dChQ41lAHCYPHmyNm7cqM6dO2v48OHGsgIDA7Vw4UJlZGRoy5YtVQqlf/vtN+Xn5+uOO+5wam/cuLHq168vNzc3SZKnp6fatGmjKVOmaOXKlfrnP/9Z4Rdp/fr1008//aTMzExlZGRoyZIlV3RMB1Dz1dRxZ8yYMY4v/dLT0zVnzpxy4+6AAQPUpUsXFRQUKDY2Vj179lSLFi3Us2dPzZ4926lvdXDlvNVqtWrq1KmyWCzq0aOH+vTpY+xyWaxdu1aPP/64Xn31VeXn52vgwIF67733Kj1XB2oawmYAuISWLl2qlJQU9e3b11i6JD799FPt2LFDzzzzjLF0UaxWq1566SW99dZbstlsioyM1KOPPmrsdsk9+OCDatmypfbs2aMnn3xS8fHx0pn1pYODg43dyxk0aJD+/ve/q169enJzc1Pbtm01ZsyYCzrhGzZsmLZv367PP//cWLogAQEBmjhxom677Ta5ubmpXr16evrppxUZGWnsWqGQkBB17dpVp06d0r/+9S+NHz9eR44c0V133aXBgwcbuzt89NFHSktLU+fOnfX4448bywBqEFfee6xWq+bOnSur1aqHHnpIAQEBjprZbNakSZMUHBwsk8mkOnXq6PHHHz/v+LVmzRodP35cTZo0Uffu3R3tK1as0OjRo9WuXTu1aNFC/fr10yeffKJdu3YpICBAUVFRWrZsmUaNGuXYJiwsTOPGjdOtt94qNzc3mUwmtWvXTpMmTSoXkAC4NpxrFvPFqq7zNlXDuDNt2jT997//1csvv2wsXVGjR4/WU0895fjSz8PDQ/fcc0+5CQytWrWSt7e3Vq5cqddff10ZGRmSpIyMDO3cufOsPZ5f7969tXnzZiUmJp7zPNyV89aMjAx99dVXql27th577DGnWtnjL1u27JyPX5GqPvezxcfHa/jw4dq1a5dCQ0MvarY1cC0ibAaASyglJUU33HDDZVun8vfff5fdbq9SAHshZs+erW+++UZms1kPPfSQsXzJNW7cWB4eHtq4caN+/vlnTZw4UampqfLz89Pdd99t7F5O3759ZTabtWTJEo0YMUJZWVlq27athgwZYuxaqfXr1+vYsWMKDAxUUFCQsVxljz76qAIDA5Wenq6BAwdq/fr18vb21iOPPFKlE1d/f3/VqVNHhw4d0nvvvacFCxYoISFB7u7u6tixo7G7g9Vq1U8//aTatWtX2wc5AFcnV997EhMTlZqaqptuukl//vOfHe3h4eEKDg5Wdna2RowYoSVLlsjT0/O845fValV2drbMZrNatWrlaF+7dq2WLVvmuAltamqq3nrrLX3++ec6ePCgJKmoqEh79uxxbBMeHi4/Pz+tXLlSPXv21Pjx45Wdna1WrVpdksvHAVSuLHxbunSpseTQr18/rV69Wrt27dKuXbtksViUmZmppKSkckvrVKfqOm9TNYw7zZs3l91uV2FhobF0xQQEBDhm/cbHx6tdu3Z65513dPLkSbVv317333+/o292draKi4vP2vrirVixQgcOHFCTJk2cHsPI1fPWb775Rrt371br1q0VFhbmaC97/GbNmunee+912uZ8qvrcjVJSUvSvf/1LOTk5+stf/nJRrwe41hA2A8AltHXrVhUVFTl9uD6X8PBwpaWlOWbuXqht27YpLy9PAQEB5/zgfzE2bNig3Nxc+fn5ObVHR0crPT1dY8aMcWqvTlu3blVBQYHuvfdex1qeu3fvlslkko+Pj7G7k86dO+umm27S0aNHtWDBAv3www9avHixY/mJqkpNTdX+/fvVsGFD3XbbbcZylbVp00Z2u10rV67Uhg0b9MEHHyg7O7vKJ73/+c9/lJ2drZtvvlnTpk2Tv7+/MjIyVFRUdN5jkZWVJZvNJl9fX2MJQA1yoe89FTl69Kg8PDycxvw77rhD3t7eWrt2rX744Qe999572rt3b5XGr8OHD8vLy0tt2rQxlhx69uypRYsWadq0abr55pu1b98+TZs2zRFkhYSEqHPnztq5c6fGjBmjjIwMLViwQAsXLpTdbnfp9QK4cDfddJO8vLx04sQJY0mSFBwcrKioKAUEBKhWrVqOJXPc3NxUu3Ztubu7GzepNtV13lYd407ZGse1alU9frmQvhejX79+at68uX788UdNnDhRVqtVH3zwgdasWSNvb2+1bt3a0Xf58uXKzMxUjx49yt20r0uXLvr444+1aNEip/ZzSU9PL/cYFXHlvNVqtSo3N1fe3t5q0KCBUy09PV1ms7nc0k5VUdXnbpSYmKi9e/eqTp063Hgd14VLO4IBwHVuz549ysvLU8uWLZ3WDPP391enTp3k7u6uAwcOONpvuukmeXh4OGZ5Xah169bpxIkTatSokdMNlvz9/fX444/Lz89Pvr6+Tt/wd+nSRT179pSHh4datWqlHj16OGplgoKCdN9996lu3boqKipyqjVp0kQ2m00nT550ajfy9/fXsGHDHP8fHBys9u3bq7i4WNnZ2Y72vLw82Ww2tW/f3hEGx8XFaebMmSopKdHkyZOVnJysnj17ymazqaCgwLFtRYqKilRSUqIGDRqoe/fu8vf319atW5Wbm6ubbrrJ2P2c9uzZI09PT4WGhjqdKEZGRqpx48bKz89XVlaWo33OnDnaunWr09IjRUVFcnd3V9euXdWlSxetX79eu3fvlpeXl9Pzqex3tnv3bk2YMEHbt2/X3/72NyUmJmrs2LHy8fFxHAuz2axevXo5zeQJCgrSAw88IG9vb0cbgJrpQt57AgMD1bt3b6cxrW/fvhVeNVJSUiK73a4OHTooLCxMR44c0c6dO+Xj4+MIXCraX0REhO655x5JUmhoqGPZDbPZrD59+uidd97Rr7/+qo8++kgdOnRQQUGB8vLylJ2d7bhEOzQ0VK+88ooaN24sk8mkXr16yWw2KzAwULfffrtMJpNyc3Mdjwng0vPx8ZHJZNLhw4eNJUnSrbfeqoYNG2r//v0aOHCgWrZsqccee0xZWVmqW7euOnToILPZrO7du8vX11f16tXTn/70J+nM0hW+vr5q0KCBQkNDHfus7PyxIhd63vbHH3/I3d1dnTp1kr+/f7WNO5mZmTKZTBo4cKBeeeUVx34qEhQUpFGjRumhhx6Su7u79u7d66hVdI5sNpv18ssv6+abb5a3t7fCwsIc+67sHH/o0KEaOHCg3N3d5evrq169ejn6N23aVCaTSX/6058cj5GRkaG3335b+fn5Gj9+vN555x19+umn2rRpk+Lj49WzZ88LOr/cv3+/bDab43fi6nlrUFCQ0zE1m82KjIysNBDev3+/7Ha7OnXq5LQMSlX+bhmfu878Xk6dOqXGjRtXuKyUv7+/nnzySd18880qLi4u91kKqIncAgIC7MZGAED1SUxMdJzIlJaWOs1UKCgoUHR0tONO01FRURo+fLgSExOd1qgsc8899ygmJkalpaUaPXq0Nm3aZOyiuLg4de3aVZJks9kcsykk6fTp0zKZTDKZTBU+F29vb8esk4oUFRVp1qxZevfddx1tcXFx6tChg95++23NnTvXqb/OrJk3evRoeXl5SRUcg2PHjmncuHFKSkqSzqzDPGXKFNWvX7/c8zfasWOHRo4cqd27dxtLTt5//3317t273GvLyMhQz549ndrOpez34+HhIbvdXm5/mzZtclobbunSpbrllls0ceJEx8y8yMhIRzhcEePxOft3di65ubl644039M033ygoKEgffPCBmjdvbuxW4e8QQM1T1fce4xh9tsOHD2vs2LFav369dGbm8euvv15ulllxcbFmzZqlmTNnasiQIRo3bly5Mc5ut8tisahJkyaVvtcUFhZq7dq1+vTTTzVmzBjHe9nZzz8vL09ms7ncmHj2GAjg8ig7L9q0aZPTJIcyAQEB+uCDD+Tr66uJEydq1apVkqSvv/663BIaFZ3vlJaWSmdm+RrPu4znjxW50PO24cOHa9SoUfLy8nLq7+q4ExISopiYGDVp0sRYOqesrCy9/PLLVTpHttlsstlsql27drnXevY5flnNZrNp9+7dCggIcNqP3W5Xfn6+6tatW+4xKpKfn69ffvlFn3/+uVJSUozlCoWHh2vq1KnasmWLIiIiXD5vnTJligYNGlThbPCKPiuUPX5ZOG18jzzX3y3jc9eZcPvLL79Uu3btpDPH0Ph3rax93bp1euKJJ4wloMYp/68RAFDtrFar0wxcu92unJwczZ8/3xE068zJoM1mU7NmzSqc8XDvvfeqYcOGOnbsWIVBc5ni4mKnSxrtdruysrL0+uuva/ny5U7rrtlsNm3evFnjxo3T1q1bZbeX/w7y1KlTSk9P1+TJk8ud7BUUFMjT01O33nqrU3uZv/zlL6pdu7a2bt0qm83maLfb7crOztYnn3zidDK3bNkyzZkzRzk5OY62s50+fVrHjh3TokWL9OSTT543aJak8ePHa+nSpY7fgdVqdWlWQVZWluMDkM4cw7S0NM2cOdOpn6enp6xWq44ePepomz17tmbOnKkDBw44HQ8j4++sor42m015eXn697//rdGjRzs+7KSmpio7O1unTp1y6rt//369++675X6HAGqmqrz37NmzRydOnHAaYwoLC5WSkqKXXnrJETTrTIA9bdo07d692xFsGMfqffv26fjx44792e12nTx5UsuXL9fgwYO1YsUKx/hpt9tltVq1Y8cOffzxx+revbueeeYZpaSk6IMPPlBaWpqjb9k4O3z4cM2YMcMxhpa9l3zwwQfnDXwAVK/MzEydOnVKt9xyS4VLk+3evVvvv/++3N3d9eyzzzraZ86cqbS0NMe/4aNHj2r69OlasGCBY13j3NxczZ49W19//bVKSkoc21Z2/nguVT1vmzVrlhISEnT69Gmnfq6OO+vXr9fIkSO1bNkyHTt2zOn8zOj06dM6ceKEfvrpJz377LPnPUcuG9dnzZqluLg4p3Why55/VFSUUlJSHOf4BQUFWr58ucLDwzVjxgxlZ2fLbreruLhY69at0yuvvKLMzEzHfs5W9vw2b96sadOmqWvXrho5cmSVg+aKuHreum/fPuXm5pZ730lKStKECRMq/axw9OhRp/e+i/m7pTPvtTNnztSuXbsq/Bxls9l05MgRffHFFxoxYoSxDNRIzGwGgEuo7Jt6SRo5cqRSU1ONXZx0795d0dHRqlu3rlatWqVPP/1UqampCgwM1JAhQ9SvXz95eXnpyy+/1OTJk42bS2dm0zZv3lwTJkzQihUrjOVqN27cOD311FPKz8/X3Llz9fXXXysrK0thYWEaPHiwQkNDdeLEiUpnCFwJZcf5jz/+uKCZzVOmTNHAgQPPefzPlpiYqKZNm2rSpElKSEgwlh3i4uLUsWNHvfvuu/rkk0+MZQC4IBf63uOK9957Tz179nTMbAZw/TCbzZo/f77atGmjAwcO6JtvvtEPP/ygjIwMx9II/fv3V8eOHbVr164LuqladbjQ8zZcHmVX1GzevLnCGfGXWtnjr1u3Tv/4xz+M5XO60s8duFYwsxkALqFOnTrJ19dXR44cqdKH/dWrV2vNmjWqVauWevfurcWLF8tisSgxMVGDBg2Sj4+P/vvf/zrNhj5br1691LRpU+Xm5mrHjh3G8iWRkJCgXbt2qUGDBho9erSSk5NlsVgUGxurbt26SZJ++umnCoPmxMREpaenKyoqyli6pLp06aJ69eo5rYN3PmazWW3btlVRUVGlsz2Mjh07Jm9vb3Xs2NFYcggLC1PLli118uRJpaenS2duumixWBQXF6eoqCilp6crMTHRuCkAVOhC33suVmBgoNq2bSur1eoYvwBcP6xWq+bPn6+cnBw1b95cUVFRSkxMlMViUVpamqZPn67OnTuruLjYsYTGxQoJCVFycrLS0tIUHh5+3nPIizlvu9acfY5YdpPx5ORkhYSEGLteVdq3by9PT88LOg+vTu3bt5eHh4f27NljLJ3379WVfu7AtYKwGQCqUWRkpOMELyIiQk8//bQ8PDy0ceNGY9dKTZ48WXPmzNGRI0ccl3aVXX61YMECPfnkk8rIyJAkPfroo46bevTs2VNjxoxRgwYNlJqaWuklY9UtIyNDr7zyipKSknTy5EnH5WOnT5+WxWLRjBkzNH78eONml8WMGTP0/vvvq0+fPjKbzfL399fzzz+v/v37q6SkRJs3bzZu4hAaGqoBAwbI399fgYGBmjFjhoKCgpSVlaVffvnF2L1CW7ZsUWlpqR555BG98847Tif/QUFBevHFFzV16lQ1atRIW7ZsqTCQB4DzqY73nnPp2bOn5s+fr1GjRjlu4BQWFqY33nhDt9xyi/bv3681a9YYNwNwHYiPj9dzzz2nlJQUFRQUOM4DbTabTpw4oV9++UVRUVF65513jJtWq+o4b0P1Cw4O1pAhQxQYGCh/f39NmzZN3bp1U15enn777Tdj92pX2eOfOHFCycnJxu5OKtv2cj134FrGMhoAUI3OviFTmYpuTFFdzr4ZYBnjDZ2uZxUdH51Zky05OVnDhw+X1Wo1liXDTWXKVOUmJWcLCAhQTEyMOnToUOGNQsrs2bNHU6dOJWwGcFEu9XuP8WZKZ8vLy9P06dMVHx9vLAHAZVMd522ofhW9f9hsNi1ZskRjx4516nspVPb4ixYt0osvvujU16iybS/XcweuZcxsBoBqdPjwYceN5woKCvTzzz/rueeeq5YP+xU5dOiQ4+ZPRUVFSklJ0ZgxYwiaz/j222+VmprqmGljt9uVm5urhISEcwbNknTkyBH98ccfstvtstlsOnDggGJiYi7oA8vu3bs1ZMgQffHFFzp48KDjhjM6M/P74MGD+vrrrzVw4ECCZgAX7VK/96xfv17Lly8vd8VNenq6Xn31VYJmAFdcdZy3ofrl5OQ4bkJbdjPI2NjYyxbW5uTkOG4EePbjny9o1lXw3IFrGTObAQAAAAAAAAAuY2YzAAAAAAAAAMBlhM0AAAAAAAAAAJcRNgMAAAAAAAAAXEbYDAAAAAAAAABwGWEzAAAAAAAAAMBlhM0AAAAAAAAAAJcRNgMAAAAAAAAAXEbYDAAAAAAAAABwGWEzAAAAAAAAAMBlhM0AAAAAAAAAAJcRNgMAAAAAAAAAXEbYDAAAAAAAAABwGWEzAAAAAAAAAMBlhM0AAAAAAAAAAJcRNgMAAAAAAAAAXEbYDAAAAAAAAABwGWEzAAAAAAAAAMBl/w+/Jg/5DaFyzQAAAABJRU5ErkJggg==)"
   ]
  },
  {
   "cell_type": "markdown",
   "metadata": {
    "id": "wWubqDZu6qxJ"
   },
   "source": [
    "<div dir=\"rtl\" align=\"right\">\n",
    "\n",
    "2. عملیات Broadcasting چه زمانی انجام می‌شود؟ یک مثال از جمع آرایه‌ای با شکل `(2,3)` و آرایه‌ای با شکل `(3,)` بنویس و توضیح بده چرا مجاز است.\n",
    "</div>"
   ]
  },
  {
   "cell_type": "markdown",
   "metadata": {
    "id": "YF0-OvvA6sg_"
   },
   "source": [
    "<div dir=\"rtl\" align=\"right\">\n",
    "\n",
    "### 📌 قانون کلی Broadcasting در NumPy\n",
    "\n",
    "عملیات بین دو آرایه فقط در شرایط زیر مجاز است:\n",
    "\n",
    "1. **تعداد ابعاد دو آرایه برابر باشد**  \n",
    "   و در هر بعد، یا اندازه‌ها برابر باشند،  \n",
    "   یا یکی از آن‌ها **۱** باشد (تا قابل تکرار باشد).\n",
    "\n",
    "2. اگر تعداد ابعاد برابر نیست:  \n",
    "   NumPy آرایه کوچک‌تر را با افزودن ابعاد چپ (leading 1s)  \n",
    "   به شکل مشابه آرایه بزرگ‌تر تبدیل می‌کند.\n",
    "\n",
    "---\n",
    "\n",
    "### 🔍 دو حالت ممکن برای Broadcast:\n",
    "\n",
    "#### ✅ حالت ۱: شکل هر دو آرایه دقیقاً یکی است\n",
    "```python\n",
    "a.shape = (3, 4)\n",
    "b.shape = (3, 4)\n",
    "# ➜ عملیات مستقیم انجام می‌شود\n",
    "#### ✅ حالت ۲: در یکی از ابعاد مقدار ۱ داریم\n",
    "\n",
    "\n",
    "\n",
    "```\n",
    "a.shape = (3, 1)\n",
    "b.shape = (3, 4)\n",
    "# ➜ a در ستون‌ها گسترش می‌یابد تا با b برابر شود\n",
    "# ➜ a → (3, 4)\n",
    "\n",
    "```\n",
    "\n"
   ]
  },
  {
   "cell_type": "markdown",
   "metadata": {
    "id": "M7I_hezQ7R4y"
   },
   "source": [
    "🔁 مثال کاربردی:"
   ]
  },
  {
   "cell_type": "code",
   "execution_count": 24,
   "metadata": {
    "colab": {
     "base_uri": "https://localhost:8080/"
    },
    "executionInfo": {
     "elapsed": 68,
     "status": "ok",
     "timestamp": 1754576866530,
     "user": {
      "displayName": "Iman Sorati Ashtiani",
      "userId": "01458661742524148253"
     },
     "user_tz": -120
    },
    "id": "qmRJcwOe7PeG",
    "outputId": "e1a0ed81-d137-4194-a96d-6771ab775bb7"
   },
   "outputs": [
    {
     "name": "stdout",
     "output_type": "stream",
     "text": [
      "[[11 21 31]\n",
      " [12 22 32]\n",
      " [13 23 33]]\n"
     ]
    }
   ],
   "source": [
    "a = np.array([[1], [2], [3]])  # shape: (3,1)\n",
    "b = np.array([10, 20, 30])  # shape: (3,)\n",
    "# NumPy شکل b را به (1,3) تبدیل می‌کند\n",
    "# سپس a و b به (3,3) تبدیل شده و جمع می‌شوند\n",
    "print(a + b)"
   ]
  },
  {
   "cell_type": "markdown",
   "metadata": {
    "id": "xPBG2tTq6xQU"
   },
   "source": [
    "✅ نتیجه‌گیری:"
   ]
  },
  {
   "cell_type": "markdown",
   "metadata": {
    "id": "yh4SfEsu7Uzu"
   },
   "source": [
    "![image.png](data:image/png;base64,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)"
   ]
  },
  {
   "cell_type": "markdown",
   "metadata": {
    "id": "UgKZRciC7amq"
   },
   "source": [
    "<div dir=\"rtl\" align=\"right\">\n",
    "3. تفاوت بین `a[1]` و `a[1, :]` در آرایه دو‌بعدی چیست؟\n",
    "</div>"
   ]
  },
  {
   "cell_type": "markdown",
   "metadata": {
    "id": "6nBwUrmI8Le2"
   },
   "source": [
    "<div dir=\"rtl\" align=\"right\">\n",
    "\n",
    "### ❓ تفاوت `a[1]` با `a[1, :]` در NumPy چیست؟\n",
    "\n",
    "هر دو عبارت به سطر دوم آرایه دوبعدی اشاره دارند، اما تفاوت‌های نحوی و جزئی در شکل نوشتار دارند.\n",
    "\n",
    "---\n",
    "\n",
    "#### ✅ `a[1]`\n",
    "- به سطر دوم آرایه اشاره می‌کند.\n",
    "- خروجی آن یک آرایه یک‌بعدی با طول برابر تعداد ستون‌هاست.\n",
    "- معادل `a[1, :]` است.\n",
    "\n",
    "```\n",
    "a = np.array([[10, 20], [30, 40]])\n",
    "print(a[1])         # [30 40]\n",
    "print(a[1].shape)   # (2,)\n",
    "```\n",
    "#### ✅ a[1, :]\n",
    "همان مفهوم a[1] را دارد اما با نحو واضح‌ تر.\n",
    "\n",
    "به‌صراحت گفته می‌شود: «از سطر ۱، همه ستون‌ها را بگیر.»\n",
    "\n",
    "```\n",
    "print(a[1, :])        # [30 40]\n",
    "print(a[1, :].shape)  # (2,)\n",
    "```\n",
    "🧠 نکته پایانی:\n",
    "هر دو روش نتیجه‌ی یکسانی دارند، اما استفاده از a[1, :] در کدهای چندبعدی یا پیچیده، خوانایی بیشتری دارد.\n",
    "\n",
    "</div>"
   ]
  }
 ],
 "metadata": {
  "colab": {
   "provenance": []
  },
  "kernelspec": {
   "display_name": "Python 3",
   "language": "python",
   "name": "python3"
  },
  "language_info": {
   "name": "python",
   "version": "3.10"
  }
 },
 "nbformat": 4,
 "nbformat_minor": 0
}
