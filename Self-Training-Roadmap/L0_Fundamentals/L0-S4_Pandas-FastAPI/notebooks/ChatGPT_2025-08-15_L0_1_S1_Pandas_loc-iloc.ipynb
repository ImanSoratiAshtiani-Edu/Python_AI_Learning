{
 "cells": [
  {
   "cell_type": "markdown",
   "id": "c61dbbe5",
   "metadata": {},
   "source": [
    "<div dir=\"rtl\" align=\"right\">\n",
    "\n",
    "# 📘 L0_1 — S1: انتخاب امن داده با `loc`/`iloc` + جداسازی استاندارد `X`,`y`\n",
    "\n",
    "**Roadmap (L0):**  \n",
    "L0_0 ✅ → **L0_1 (الان)** → L0_2 → L0_3 → L0_4\n",
    "\n",
    "**جریان افقی جلسه (Sها):**  \n",
    "Load → Frame → X,y → **S1: انتخاب امن + جداسازی** → S2: ارزیابی پایه → S3: Pipeline تمیز → S4: منحنی k\n",
    "\n",
    "</div>"
   ]
  },
  {
   "cell_type": "markdown",
   "id": "c62439e9",
   "metadata": {},
   "source": [
    "<div dir=\"rtl\" align=\"right\">\n",
    "\n",
    "## 🎯 هدف و جایگاه (#S1-00)\n",
    "- انتخاب دقیق و **ایمن** سطر/ستون با `loc` و `iloc`\n",
    "- ساخت `X` و `y` به‌صورت استاندارد و **هم‌تراز** برای مدل‌سازی\n",
    "- پیوند افقی با S2 (ارزیابی) و S3 (Pipeline)، و پیوند عمودی با L1/L2 برای انتخاب‌های پیشرفته\n",
    "\n",
    "**پیش‌نیاز:** DataFrame از L0_0 (در این یادداشت با Iris بارگذاری می‌شود)\n",
    "\n",
    "</div>"
   ]
  },
  {
   "cell_type": "code",
   "execution_count": null,
   "id": "ca41f92b",
   "metadata": {},
   "outputs": [],
   "source": [
    "\n",
    "# تنظیمات پایه: بارگذاری داده Iris و ساخت DataFrame\n",
    "import pandas as pd\n",
    "from sklearn.datasets import load_iris\n",
    "\n",
    "iris = load_iris(as_frame=True)\n",
    "df = iris.frame.copy()\n",
    "\n",
    "feature_names = iris.feature_names\n",
    "target_name = \"target\"\n",
    "\n",
    "df.head()\n"
   ]
  },
  {
   "cell_type": "markdown",
   "id": "cacada34",
   "metadata": {},
   "source": [
    "<div dir=\"rtl\" align=\"right\">\n",
    "\n",
    "## 🔎 تفاوت بنیادی `loc` و `iloc` (#S1-01)\n",
    "\n",
    "| ویژگی | `loc` | `iloc` |\n",
    "|---|---|---|\n",
    "| مبنا | **برچسب (Label)** | **موقعیت عددی (Index Position)** |\n",
    "| ورودی | نام ستون/ایندکس، شرط، لیست برچسب‌ها | اعداد صحیح یا بازه‌های عددی |\n",
    "| رفتار اسلایس | **شامل انتهای بازه** (`0:4` شامل 4) | **غیرشامل انتهای بازه** (`0:4` بدون 4) |\n",
    "| شرط‌پذیری | بله (ماسک‌های بولی) | خیر (نیاز به تبدیل پیشین) |\n",
    "\n",
    "**الگوی کلی:**\n",
    "```\n",
    "df.loc[row_selector, col_selector]\n",
    "df.iloc[row_index, col_index]\n",
    "```\n",
    "\n",
    "</div>"
   ]
  },
  {
   "cell_type": "markdown",
   "id": "48e9f826",
   "metadata": {},
   "source": [
    "<div dir=\"rtl\" align=\"right\">\n",
    "\n",
    "## 📌 مثال 1 — انتخاب برچسب‌محور با `loc` (#S1-02)\n",
    "\n",
    "</div>"
   ]
  },
  {
   "cell_type": "code",
   "execution_count": null,
   "id": "d444530a",
   "metadata": {},
   "outputs": [],
   "source": [
    "\n",
    "# سطرهای 0 تا 4 و ستون‌های مشخص (در loc انتها شامل می‌شود)\n",
    "ex_loc_1 = df.loc[0:4, [\"sepal length (cm)\", \"target\"]]\n",
    "ex_loc_1.head()\n"
   ]
  },
  {
   "cell_type": "markdown",
   "id": "b56aac74",
   "metadata": {},
   "source": [
    "<div dir=\"rtl\" align=\"right\">\n",
    "\n",
    "## 📌 مثال 2 — انتخاب شرطی با `loc` (#S1-03)\n",
    "\n",
    "</div>"
   ]
  },
  {
   "cell_type": "code",
   "execution_count": null,
   "id": "d7cd5ea3",
   "metadata": {},
   "outputs": [],
   "source": [
    "\n",
    "# سطرهایی که طول کاسبرگ > 5.5 باشند و دو ستون انتخاب‌شده\n",
    "ex_loc_2 = df.loc[df[\"sepal length (cm)\"] > 5.5, [\"sepal length (cm)\", \"target\"]]\n",
    "ex_loc_2.head()\n"
   ]
  },
  {
   "cell_type": "markdown",
   "id": "f453e973",
   "metadata": {},
   "source": [
    "<div dir=\"rtl\" align=\"right\">\n",
    "\n",
    "## 📌 مثال 3 — انتخاب عدد-محور با `iloc` (#S1-04)\n",
    "\n",
    "</div>"
   ]
  },
  {
   "cell_type": "code",
   "execution_count": null,
   "id": "196b4d9d",
   "metadata": {},
   "outputs": [],
   "source": [
    "\n",
    "# سطرهای 0 تا 4 (4 شامل نمی‌شود) و ستون‌های 0 و 4\n",
    "ex_iloc = df.iloc[0:4, [0, 4]]\n",
    "ex_iloc\n"
   ]
  },
  {
   "cell_type": "markdown",
   "id": "a7753650",
   "metadata": {},
   "source": [
    "<div dir=\"rtl\" align=\"right\">\n",
    "\n",
    "## ⚠️ خطاهای رایج و نکات ایمنی (#S1-05)\n",
    "- **ترکیب اشتباه انتخاب‌گرها:** `df.loc[0:5, 0:3]` ❌ (در loc ستون باید برچسب باشد) / `df.iloc[:, [\"c1\"]]` ❌ (در iloc ستون باید عدد باشد)\n",
    "- **جاافتادن `:`:** `df.loc[:, \"col\"]` برای همهٔ سطرها/یک ستون\n",
    "- **تک‌ورودی در `loc`:** `df.loc['col']` همیشه **انتخاب سطر** است، نه ستون\n",
    "- **کپی/ویو و هشدار SettingWithCopy:** در انتخاب‌های زنجیره‌ای، از `df.loc[rows, cols] = ...` استفاده کن\n",
    "\n",
    "</div>"
   ]
  },
  {
   "cell_type": "markdown",
   "id": "6afb1808",
   "metadata": {},
   "source": [
    "<div dir=\"rtl\" align=\"right\">\n",
    "\n",
    "## 🧪 دموی تله — `loc` تک‌ورودی (#S1-06) *(آموزشی، نه تمرین)*\n",
    "\n",
    "</div>"
   ]
  },
  {
   "cell_type": "code",
   "execution_count": null,
   "id": "46595ed8",
   "metadata": {},
   "outputs": [],
   "source": [
    "\n",
    "# تلاش برای گرفتن ستون 'target' با loc تک‌ورودی (منجر به KeyError چون انتخاب سطر است)\n",
    "try:\n",
    "    df.loc['target']\n",
    "except KeyError as e:\n",
    "    print(f\"❌ KeyError: {e}\")\n",
    "\n",
    "# دو روش صحیح برای گرفتن ستون:\n",
    "col_target_a = df['target']          # Series\n",
    "col_target_b = df.loc[:, 'target']   # Series (در حالت ستون یکتا)\n",
    "col_target_a.head(), col_target_b.head()\n"
   ]
  },
  {
   "cell_type": "markdown",
   "id": "1ce0b3a9",
   "metadata": {},
   "source": [
    "<div dir=\"rtl\" align=\"right\">\n",
    "\n",
    "## 🧱 جداسازی استاندارد `X` و `y` (#S1-07)\n",
    "- تا قبل از Split/مدل، `X` را **DataFrame** و `y` را **Series** نگه می‌داریم تا **هم‌ترازی ایندکس** حفظ شود.\n",
    "- مزایا: خوانایی، ایمنی در Split/Join، سازگاری با Pipeline.\n",
    "\n",
    "</div>"
   ]
  },
  {
   "cell_type": "code",
   "execution_count": null,
   "id": "1f35d2b5",
   "metadata": {},
   "outputs": [],
   "source": [
    "\n",
    "X = df[feature_names]      # DataFrame\n",
    "y = df[target_name]        # Series\n",
    "\n",
    "print(X.shape, y.shape)\n",
    "print(\"Aligned:\", (X.index.equals(y.index)))\n",
    "X.head(), y.head()\n"
   ]
  },
  {
   "cell_type": "markdown",
   "id": "015f0e28",
   "metadata": {},
   "source": [
    "<div dir=\"rtl\" align=\"right\">\n",
    "\n",
    "## ⏭ ادامه مسیر\n",
    "- **S2**: ارزیابی پایه با `accuracy_score`، `confusion_matrix`، `classification_report`\n",
    "- **S3**: Pipeline تمیز: `StandardScaler → KNN` و جلوگیری از Data Leakage\n",
    "- **L1**: انتخاب‌های پیشرفته (multi-index، `.at/.iat`، `query`)، کنترل Series vs DataFrame\n",
    "\n",
    "</div>"
   ]
  },
  {
   "cell_type": "code",
   "execution_count": null,
   "id": "42a7c613",
   "metadata": {},
   "outputs": [],
   "source": [
    "\n",
    "import pandas as pd\n",
    "from sklearn.datasets import load_iris\n",
    "\n",
    "iris = load_iris(as_frame=True)\n",
    "df = iris.frame.copy()\n",
    "\n",
    "feature_names = iris.feature_names\n",
    "target_name = \"target\"\n",
    "\n",
    "df.head()\n"
   ]
  },
  {
   "cell_type": "markdown",
   "id": "5428a4d1",
   "metadata": {},
   "source": [
    "<div dir=\"rtl\" align=\"right\">\n",
    "\n",
    "## 🧪 تمرین 1 — `loc` برچسب‌محور + شرط (#S1-01)\n",
    "- سطرهای 0 تا 4 و ستون‌های `sepal length (cm)` و `target` را با `loc` انتخاب کن.\n",
    "- سپس سطرهایی با شرط `sepal length (cm) > 5.5` را برای همان ستون‌ها بگیر.\n",
    "\n",
    "</div>"
   ]
  },
  {
   "cell_type": "code",
   "execution_count": null,
   "id": "98283dfa",
   "metadata": {},
   "outputs": [],
   "source": [
    "\n",
    "# --- حل ایمان: تمرین 1 ---\n",
    "from sklearn.datasets import load_iris\n",
    "iris = load_iris(as_frame = True)\n",
    "df = iris.frame.copy()\n",
    "\n",
    "selected_df_1 = df.loc[0:4, ['sepal length (cm)','target']]\n",
    "print(selected_df_1)\n",
    "\n",
    "selected_df_2 = df[df['sepal length (cm)']>5.5]\n",
    "print(selected_df_2)\n"
   ]
  },
  {
   "cell_type": "markdown",
   "id": "1628dd16",
   "metadata": {},
   "source": [
    "<div dir=\"rtl\" align=\"right\">\n",
    "\n",
    "### 📝 توضیح کوتاه\n",
    "- در `loc` انتهای بازه **شامل** است؛ `0:4` شامل ردیف 4 نیز می‌شود.\n",
    "- برای وضوح، وقتی فیلتر شرطی می‌نویسی بهتر است ستون‌های مورد نیاز را صریح مشخص کنی تا DataFrame کوچکتری بسازی:\n",
    "</div>\n",
    "\n",
    "```\n",
    "df.loc[df['sepal length (cm)'] > 5.5, ['sepal length (cm)', 'target']]\n",
    "```\n",
    "\n"
   ]
  },
  {
   "cell_type": "code",
   "execution_count": null,
   "id": "157f384d",
   "metadata": {},
   "outputs": [],
   "source": [
    "\n",
    "# --- حل حرفه‌ای: تمرین 1 ---\n",
    "ex_loc_1 = df.loc[0:4, [\"sepal length (cm)\", \"target\"]]\n",
    "ex_loc_2 = df.loc[df[\"sepal length (cm)\"] > 5.5, [\"sepal length (cm)\", \"target\"]]\n",
    "ex_loc_1.head(), ex_loc_2.head()\n"
   ]
  },
  {
   "cell_type": "markdown",
   "id": "0823724d",
   "metadata": {},
   "source": [
    "<div dir=\"rtl\" align=\"right\">\n",
    "\n",
    "## 🧪 تمرین 2 — `iloc` عدد-محور (#S1-02)\n",
    "- با `iloc` سطرهای 0 تا 4 (بدون 4) و ستون‌های 0 و 4 را انتخاب کن.\n",
    "\n",
    "</div>"
   ]
  },
  {
   "cell_type": "code",
   "execution_count": null,
   "id": "09dfd7d3",
   "metadata": {},
   "outputs": [],
   "source": [
    "\n",
    "# --- حل ایمان: تمرین 2 ---\n",
    "selected_df_3 = df.iloc[0:4,[0,4]]\n",
    "print(selected_df_3)\n"
   ]
  },
  {
   "cell_type": "markdown",
   "id": "7590fb93",
   "metadata": {},
   "source": [
    "<div dir=\"rtl\" align=\"right\">\n",
    "\n",
    "### 📝 توضیح کوتاه\n",
    "- در `iloc` انتهای بازه **شامل نمی‌شود**؛ بنابراین `0:4` ردیف‌های 0،1،2،3 را می‌دهد.\n",
    "- ستون‌ها در `iloc` با **شماره** تعیین می‌شوند و حساس به جابجایی ترتیب ستون‌ها هستند.\n",
    "\n",
    "</div>"
   ]
  },
  {
   "cell_type": "code",
   "execution_count": null,
   "id": "781d43e4",
   "metadata": {},
   "outputs": [],
   "source": [
    "\n",
    "# --- حل حرفه‌ای: تمرین 2 ---\n",
    "ex_iloc = df.iloc[0:4, [0, 4]]\n",
    "ex_iloc\n"
   ]
  },
  {
   "cell_type": "markdown",
   "id": "df59d343",
   "metadata": {},
   "source": [
    "<div dir=\"rtl\" align=\"right\">\n",
    "\n",
    "## 🧪 تمرین 3 — جداسازی استاندارد `X` و `y` (#S1-03)\n",
    "- `X` را از روی `feature_names` و `y` را از ستون `target` بساز (تا قبل از مدل‌سازی از نوع DataFrame/Series نگه داریم).\n",
    "\n",
    "</div>"
   ]
  },
  {
   "cell_type": "code",
   "execution_count": null,
   "id": "cc1f71b6",
   "metadata": {},
   "outputs": [],
   "source": [
    "\n",
    "# --- حل ایمان: تمرین 3 ---\n",
    "feature_names = iris.feature_names\n",
    "target = \"target\"\n",
    "X, y = df[feature_names].to_numpy(), df[target].to_numpy()\n"
   ]
  },
  {
   "cell_type": "markdown",
   "id": "c7049a02",
   "metadata": {},
   "source": [
    "<div dir=\"rtl\" align=\"right\">\n",
    "\n",
    "### 📝 توضیح کوتاه\n",
    "- برای حفظ **هم‌ترازی ایندکس**، بهتر است تا قبل از Split/مدل، `X` را DataFrame و `y` را Series نگه داریم:\n",
    "```\n",
    "X = df[feature_names]     # DataFrame\n",
    "y = df[target_name]       # Series\n",
    "```\n",
    "- تبدیل به NumPy را در صورت نیاز بعداً انجام بده.\n",
    "\n",
    "</div>"
   ]
  },
  {
   "cell_type": "code",
   "execution_count": null,
   "id": "588546cd",
   "metadata": {},
   "outputs": [],
   "source": [
    "\n",
    "# --- حل حرفه‌ای: تمرین 3 ---\n",
    "X_std = df[feature_names]   # DataFrame\n",
    "y_std = df[target_name]     # Series\n",
    "X_std.head(), y_std.head()\n"
   ]
  },
  {
   "cell_type": "markdown",
   "id": "a89995f5",
   "metadata": {},
   "source": [
    "<div dir=\"rtl\" align=\"right\">\n",
    "\n",
    "## 🧪 تمرین 4 — دام `loc` تک‌ورودی (#S1-04)\n",
    "- `df.loc['target']` را اجرا کن (باید `KeyError` بدهد چون این انتخاب **سطر** است).\n",
    "- سپس همان ستون را با `df['target']` و `df.loc[:, 'target']` بگیر و تفاوت منطقی را توضیح بده.\n",
    "\n",
    "</div>"
   ]
  },
  {
   "cell_type": "code",
   "execution_count": null,
   "id": "b4ccf594",
   "metadata": {},
   "outputs": [],
   "source": [
    "\n",
    "# --- حل ایمان: تمرین 4 ---\n",
    "try:\n",
    "  df.loc['target']\n",
    "  print(\"df.loc['target']\")\n",
    "except:\n",
    "  print(\"df.loc['target'] triggers a key error\")\n",
    "  selected_df_4 = df.loc[:,'target']\n",
    "  print(selected_df_4)\n",
    "  selected_df_5 = df['target']\n",
    "  print(selected_df_5)\n"
   ]
  },
  {
   "cell_type": "markdown",
   "id": "f3a5d0d6",
   "metadata": {},
   "source": [
    "<div dir=\"rtl\" align=\"right\">\n",
    "\n",
    "### 📝 توضیح کوتاه\n",
    "- `df.loc['target']` همیشه انتخاب **سطر** بر اساس برچسب ایندکس است؛ اگر چنین برچسبی در ایندکس سطر وجود نداشته باشد، `KeyError` دریافت می‌کنیم.\n",
    "- `df['target']` و `df.loc[:, 'target']` هر دو ستون را برمی‌گردانند (Series). اگر **اجباراً DataFrame** می‌خواهی، از لیست استفاده کن: `df.loc[:, ['target']]`.\n",
    "\n",
    "</div>"
   ]
  },
  {
   "cell_type": "code",
   "execution_count": null,
   "id": "867bd1ee",
   "metadata": {},
   "outputs": [],
   "source": [
    "\n",
    "# --- حل حرفه‌ای: تمرین 4 ---\n",
    "trap_error = None\n",
    "try:\n",
    "    _ = df.loc['target']\n",
    "except KeyError as e:\n",
    "    trap_error = str(e)\n",
    "\n",
    "col_series_a = df['target']\n",
    "col_series_b = df.loc[:, 'target']\n",
    "\n",
    "trap_error, col_series_a.head(), col_series_b.head()\n"
   ]
  },
  {
   "cell_type": "markdown",
   "id": "2f59d2f9",
   "metadata": {},
   "source": [
    "<div dir=\"rtl\" align=\"right\">\n",
    "\n",
    "## 🧾 خلاصهٔ جلسه S1\n",
    "- `loc` برچسب‌محور و شامل انتهای بازه است؛ `iloc` عدد-محور و انتها را شامل نمی‌شود.\n",
    "- برای جلوگیری از باگ‌های انتخاب ستون/سطر، از الگوی صریح `df.loc[rows, cols]` استفاده کن.\n",
    "- تا قبل از Split/مدل، `X` را DataFrame و `y` را Series نگه دار تا هم‌ترازی ایندکس حفظ شود.\n",
    "- دام رایج: `df.loc['col']` → انتخاب **سطر**؛ برای ستون از `df['col']` یا `df.loc[:, 'col']` استفاده کن.\n",
    "\n",
    "**بعدی: S2 — ارزیابی پایه (accuracy, confusion_matrix, classification_report)**\n",
    "\n",
    "</div>"
   ]
  }
 ],
 "metadata": {
  "language_info": {
   "name": "python"
  }
 },
 "nbformat": 4,
 "nbformat_minor": 5
}
