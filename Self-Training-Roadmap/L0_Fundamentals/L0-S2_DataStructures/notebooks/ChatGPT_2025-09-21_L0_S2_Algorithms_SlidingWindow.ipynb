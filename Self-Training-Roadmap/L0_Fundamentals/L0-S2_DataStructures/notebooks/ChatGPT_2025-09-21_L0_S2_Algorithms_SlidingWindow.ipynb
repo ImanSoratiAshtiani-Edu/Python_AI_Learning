{
  "cells": [
    {
      "cell_type": "markdown",
      "metadata": {},
      "source": [
        "# L0_S3 — Algorithms: Sliding Window (Lesson)\n\n**Date:** 2025-09-21\n\n**What you'll learn in this notebook:**\n- Sliding Window patterns & templates\n- Complexity & edge cases\n- Practice problems\n\n> این نوت‌بوک از ادغام چند منبع تهیه شده تا محتوای تکراری حذف و مسیر مطالعه یکپارچه شود.\n"
      ]
    },
    {
      "cell_type": "markdown",
      "id": "fa580fe7",
      "metadata": {
        "__source_file": "ChatGPT_2025-08-22_SlidingWindow_Algorithms.ipynb"
      },
      "source": [
        "\n",
        "<div dir=\"rtl\" align=\"right\">\n",
        "\n",
        "# 📘 الگوریتم‌های Sliding Window (پنجرهٔ لغزان)\n",
        "\n",
        "---\n",
        "\n",
        "## 🎯 هدف\n",
        "در این دفترچه چند الگوریتم پرکاربرد بر اساس **پنجرهٔ لغزان** را بررسی و پیاده‌سازی می‌کنیم:\n",
        "\n",
        "1. تولید تمام پنجره‌های kتایی\n",
        "2. محاسبهٔ میانگین متحرک (Moving Average)\n",
        "3. پیدا کردن بیشترین مجموع پنجرهٔ kتایی (Maximum Sum Subarray of size k)\n",
        "\n",
        "---\n",
        "\n",
        "## 🔹 ۱. تولید تمام پنجره‌های kتایی\n",
        "قاعده: اگر طول دنباله = n باشد، تعداد پنجره‌ها = n-k+1.\n",
        "\n",
        "</div>\n"
      ]
    },
    {
      "cell_type": "code",
      "execution_count": null,
      "id": "377789d6",
      "metadata": {
        "__source_file": "ChatGPT_2025-08-22_SlidingWindow_Algorithms.ipynb"
      },
      "outputs": [],
      "source": [
        "\n",
        "from typing import Sequence\n",
        "\n",
        "def sliding_windows(seq: Sequence[str], k: int) -> list[str]:\n",
        "    out = []\n",
        "    n = len(seq)\n",
        "    for i in range(n - k + 1):\n",
        "        out.append(\"\".join(seq[i:i+k]))\n",
        "    return out\n",
        "\n",
        "print(sliding_windows(\"ABCDE\", 2))  # ['AB','BC','CD','DE']\n",
        "print(sliding_windows(\"ABCDE\", 3))  # ['ABC','BCD','CDE']\n",
        "print(sliding_windows(\"ABCDE\", 4))  # ['ABCD','BCDE']\n",
        "print(sliding_windows(\"ABCDE\", 5))  # ['ABCDE']\n",
        "print(sliding_windows(\"ABCDE\", 6))  # []\n"
      ]
    },
    {
      "cell_type": "markdown",
      "id": "ef91d14d",
      "metadata": {
        "__source_file": "ChatGPT_2025-08-22_SlidingWindow_Algorithms.ipynb"
      },
      "source": [
        "\n",
        "<div dir=\"rtl\" align=\"right\">\n",
        "\n",
        "## 🔹 ۲. میانگین متحرک (Moving Average)\n",
        "با استفاده از پنجرهٔ طول k، در هر گام میانگین عناصر محاسبه می‌شود.\n",
        "\n",
        "</div>\n"
      ]
    },
    {
      "cell_type": "code",
      "execution_count": null,
      "id": "7915f2f3",
      "metadata": {
        "__source_file": "ChatGPT_2025-08-22_SlidingWindow_Algorithms.ipynb"
      },
      "outputs": [],
      "source": [
        "\n",
        "from collections import deque\n",
        "from typing import List\n",
        "\n",
        "def moving_average(nums: List[int], k: int) -> List[float]:\n",
        "    result = []\n",
        "    window = deque(maxlen=k)\n",
        "    s = 0\n",
        "    for num in nums:\n",
        "        window.append(num)\n",
        "        s += num\n",
        "        if len(window) == k:\n",
        "            result.append(s/k)\n",
        "            s -= window[0]\n",
        "    return result\n",
        "\n",
        "print(moving_average([1,2,3,4,5], 3))  # [2.0,3.0,4.0]\n",
        "print(moving_average([10,20,30,40], 2)) # [15.0,25.0,35.0]\n",
        "print(moving_average([5,10], 3))        # []\n"
      ]
    },
    {
      "cell_type": "markdown",
      "id": "97411a1a",
      "metadata": {
        "__source_file": "ChatGPT_2025-08-22_SlidingWindow_Algorithms.ipynb"
      },
      "source": [
        "\n",
        "<div dir=\"rtl\" align=\"right\">\n",
        "\n",
        "## 🔹 ۳. بیشترین مجموع پنجرهٔ kتایی\n",
        "الگوریتم:\n",
        "- یک جمع جاری نگه می‌داریم (s).\n",
        "- در هر گام عنصر جدید اضافه می‌شود.\n",
        "- وقتی پنجره پر شد: اگر مجموع از بهترین بیشتر بود، به‌روزرسانی می‌کنیم.\n",
        "- سپس عنصر قدیمی را از مجموع کم می‌کنیم.\n",
        "\n",
        "</div>\n"
      ]
    },
    {
      "cell_type": "code",
      "execution_count": null,
      "id": "b934b979",
      "metadata": {
        "__source_file": "ChatGPT_2025-08-22_SlidingWindow_Algorithms.ipynb"
      },
      "outputs": [],
      "source": [
        "\n",
        "from typing import Tuple, Optional, List\n",
        "from collections import deque\n",
        "\n",
        "def max_window_sum(nums: List[int], k: int) -> Optional[Tuple[int,int,List[int]]]:\n",
        "    n = len(nums)\n",
        "    if k <= 0 or k > n:\n",
        "        return None\n",
        "\n",
        "    window = deque(maxlen=k)\n",
        "    s = 0\n",
        "    best_sum = None\n",
        "    best_start = -1\n",
        "\n",
        "    for i, x in enumerate(nums):\n",
        "        window.append(x)\n",
        "        s += x\n",
        "        if len(window) == k:\n",
        "            if best_sum is None or s > best_sum:\n",
        "                best_sum = s\n",
        "                best_start = i-k+1\n",
        "            s -= window[0]\n",
        "    if best_sum is None:\n",
        "        return None\n",
        "    return best_sum, best_start, nums[best_start:best_start+k]\n",
        "\n",
        "print(max_window_sum([1,2,3,4,5], 3))     # (12, 2, [3,4,5])\n",
        "print(max_window_sum([2,-1,2,3,-9,4], 2)) # (5, 2, [2,3])\n",
        "print(max_window_sum([5,4,3,2,1], 5))     # (15, 0, [5,4,3,2,1])\n",
        "print(max_window_sum([1,2], 3))           # None\n",
        "print(max_window_sum([], 1))              # None\n"
      ]
    }
  ],
  "metadata": {
    "kernelspec": {
      "display_name": "Python 3",
      "language": "python",
      "name": "python3"
    },
    "language_info": {
      "name": "python",
      "version": "3.x"
    }
  },
  "nbformat": 4,
  "nbformat_minor": 5
}