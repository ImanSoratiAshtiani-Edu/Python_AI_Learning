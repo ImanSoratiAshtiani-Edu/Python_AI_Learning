{
 "cells": [
  {
   "cell_type": "markdown",
   "id": "0955b371",
   "metadata": {
    "id": "0955b371"
   },
   "source": [
    "<div dir=\"rtl\" align=\"right\">\n",
    "\n",
    "# 📘 L0_1 — S2 (Lesson Only): ارزیابی پایه — `accuracy_score`، `confusion_matrix`، `classification_report`\n",
    "\n",
    "**Roadmap (L0):**  \n",
    "L0_0 ✅ → **L0_1 (الان)** → L0_2 → L0_3 → L0_4\n",
    "\n",
    "**جریان افقی (Sها):**  \n",
    "Load → Frame → X,y → S1 ✅ → **S2 (الان)** → S3 → S4\n",
    "\n",
    "</div>"
   ]
  },
  {
   "cell_type": "markdown",
   "id": "59021f72",
   "metadata": {
    "id": "59021f72"
   },
   "source": [
    "<div dir=\"rtl\" align=\"right\">\n",
    "\n",
    "## 🔗 پیوست: خلاصهٔ درس S1 (بدون تمرین) — انتخاب امن با `loc`/`iloc` + جداسازی `X,y`  (#S1-ATTACH)\n",
    "\n",
    "### تفاوت بنیادی\n",
    "| ویژگی | `loc` | `iloc` |\n",
    "|---|---|---|\n",
    "| مبنا | **برچسب (Label)** | **موقعیت عددی (Index Position)** |\n",
    "| رفتار اسلایس | **شامل انتها** | **غیرشامل انتها** |\n",
    "| ورودی | نام ستون/ایندکس، شرط، لیست | اعداد صحیح/بازه‌ها |\n",
    "| شرط‌پذیری | بله (ماسک بولی) | خیر (پیش‌تبدیل لازم) |\n",
    "\n",
    "**الگو:**  \n",
    "```\n",
    "df.loc[row_selector, col_selector]\n",
    "df.iloc[row_index, col_index]\n",
    "```\n",
    "\n",
    "</div>"
   ]
  },
  {
   "cell_type": "code",
   "execution_count": null,
   "id": "ab803de4",
   "metadata": {
    "executionInfo": {
     "elapsed": 2623,
     "status": "ok",
     "timestamp": 1755268833331,
     "user": {
      "displayName": "Iman Sorati Ashtiani",
      "userId": "01458661742524148253"
     },
     "user_tz": -120
    },
    "id": "ab803de4"
   },
   "outputs": [],
   "source": [
    "\n",
    "# S1 Recap: Load iris and DataFrame\n",
    "import pandas as pd\n",
    "from sklearn.datasets import load_iris\n",
    "\n",
    "iris = load_iris(as_frame=True)\n",
    "df = iris.frame.copy()\n",
    "\n",
    "feature_names = iris.feature_names\n",
    "target_name = \"target\"\n"
   ]
  },
  {
   "cell_type": "markdown",
   "id": "06c662be",
   "metadata": {
    "id": "06c662be"
   },
   "source": [
    "<div dir=\"rtl\" align=\"right\">\n",
    "\n",
    "### نمونه‌های کلیدی S1\n",
    "- `loc` برچسب‌محور (انتهای بازه شامل) و انتخاب شرطی\n",
    "- `iloc` عدد-محور (انتهای بازه غیرشامل)\n",
    "- تله: `df.loc['col']` انتخاب **سطر** است نه ستون\n",
    "\n",
    "</div>"
   ]
  },
  {
   "cell_type": "code",
   "execution_count": null,
   "id": "5916f110",
   "metadata": {
    "colab": {
     "base_uri": "https://localhost:8080/"
    },
    "executionInfo": {
     "elapsed": 72,
     "status": "ok",
     "timestamp": 1755268833414,
     "user": {
      "displayName": "Iman Sorati Ashtiani",
      "userId": "01458661742524148253"
     },
     "user_tz": -120
    },
    "id": "5916f110",
    "outputId": "6dbffd93-d156-446e-d99b-669b8e0f47e3"
   },
   "outputs": [],
   "source": [
    "\n",
    "# loc: سطرهای 0..4 و ستون‌های مشخص\n",
    "ex_loc_1 = df.loc[0:4, [\"sepal length (cm)\", \"target\"]]\n",
    "\n",
    "# loc شرطی: طول کاسبرگ > 5.5 برای دو ستون انتخابی\n",
    "ex_loc_2 = df.loc[df[\"sepal length (cm)\"] > 5.5, [\"sepal length (cm)\", \"target\"]]\n",
    "\n",
    "# iloc: سطرهای 0..3 و ستون‌های 0 و 4\n",
    "ex_iloc = df.iloc[0:4, [0, 4]]\n",
    "\n",
    "ex_loc_1.head(), ex_loc_2.head(), ex_iloc\n"
   ]
  },
  {
   "cell_type": "code",
   "execution_count": null,
   "id": "35d5d37f",
   "metadata": {
    "colab": {
     "base_uri": "https://localhost:8080/"
    },
    "executionInfo": {
     "elapsed": 6,
     "status": "ok",
     "timestamp": 1755268833415,
     "user": {
      "displayName": "Iman Sorati Ashtiani",
      "userId": "01458661742524148253"
     },
     "user_tz": -120
    },
    "id": "35d5d37f",
    "outputId": "5aa29f52-752f-41f3-a87e-1d5aca830517"
   },
   "outputs": [],
   "source": [
    "\n",
    "# Trap: loc تک‌ورودی\n",
    "trap_error = None\n",
    "try:\n",
    "    _ = df.loc['target']\n",
    "except KeyError as e:\n",
    "    trap_error = str(e)\n",
    "\n",
    "# جداسازی استاندارد X,y\n",
    "X = df[feature_names]    # DataFrame\n",
    "y = df[target_name]      # Series\n",
    "\n",
    "trap_error, X.head(), y.head()\n"
   ]
  },
  {
   "cell_type": "markdown",
   "id": "26f3c2a1",
   "metadata": {
    "id": "26f3c2a1"
   },
   "source": [
    "<div dir=\"rtl\" align=\"right\">\n",
    "\n",
    "## 🎯 هدف S2\n",
    "- ساخت مدل پایه KNN (بدون Scaling) برای ارزیابی اولیه\n",
    "- فهم صحیح سه متریک: `accuracy_score`، `confusion_matrix`، `classification_report`\n",
    "- آماده‌سازی ذهنی برای S3 (Pipeline تمیز با `StandardScaler → KNN`)\n",
    "\n",
    "</div>"
   ]
  },
  {
   "cell_type": "markdown",
   "id": "a390e943",
   "metadata": {
    "id": "a390e943"
   },
   "source": [
    "<div dir=\"rtl\" align=\"right\">\n",
    "\n",
    "## #S2-00 آماده‌سازی: Split استاندارد\n",
    "- استفاده از `stratify=y` برای حفظ نسبت کلاس‌ها در Train/Test\n",
    "- `random_state=42` برای تکرارپذیری\n",
    "\n",
    "</div>"
   ]
  },
  {
   "cell_type": "code",
   "execution_count": null,
   "id": "dcdcfd1b",
   "metadata": {
    "colab": {
     "base_uri": "https://localhost:8080/"
    },
    "executionInfo": {
     "elapsed": 608,
     "status": "ok",
     "timestamp": 1755268834021,
     "user": {
      "displayName": "Iman Sorati Ashtiani",
      "userId": "01458661742524148253"
     },
     "user_tz": -120
    },
    "id": "dcdcfd1b",
    "outputId": "d01984de-e252-4c75-8eac-46e803057996"
   },
   "outputs": [],
   "source": [
    "\n",
    "from sklearn.model_selection import train_test_split\n",
    "\n",
    "X_tr, X_te, y_tr, y_te = train_test_split(\n",
    "    X, y, test_size=0.25, random_state=42, stratify=y\n",
    ")\n",
    "\n",
    "X_tr.shape, X_te.shape, y_tr.shape, y_te.shape\n"
   ]
  },
  {
   "cell_type": "markdown",
   "id": "cbde95f8",
   "metadata": {
    "id": "cbde95f8"
   },
   "source": [
    "<div dir=\"rtl\" align=\"right\">\n",
    "\n",
    "## #S2-01 مدل پایه KNN (بدون Scaling)\n",
    "- KNN به فاصله حساس است؛ در S3 نشان می‌دهیم چرا Scaling مهم است.\n",
    "\n",
    "</div>"
   ]
  },
  {
   "cell_type": "code",
   "execution_count": null,
   "id": "f264952c",
   "metadata": {
    "colab": {
     "base_uri": "https://localhost:8080/"
    },
    "executionInfo": {
     "elapsed": 848,
     "status": "ok",
     "timestamp": 1755268834868,
     "user": {
      "displayName": "Iman Sorati Ashtiani",
      "userId": "01458661742524148253"
     },
     "user_tz": -120
    },
    "id": "f264952c",
    "outputId": "e14a32a9-f4b9-4f67-d7de-6fd65b1df000"
   },
   "outputs": [],
   "source": [
    "\n",
    "from sklearn.neighbors import KNeighborsClassifier\n",
    "\n",
    "knn5 = KNeighborsClassifier(n_neighbors=5)\n",
    "knn5.fit(X_tr, y_tr)\n",
    "y_pred = knn5.predict(X_te)\n",
    "\n",
    "y_pred[:10]\n"
   ]
  },
  {
   "cell_type": "markdown",
   "id": "01a9b872",
   "metadata": {
    "id": "01a9b872"
   },
   "source": [
    "<div dir=\"rtl\" align=\"right\">\n",
    "\n",
    "## #S2-02 دقت (Accuracy)\n",
    "- تعریف: نسبت پیش‌بینی‌های درست به کل\n",
    "- `normalize=False` تعداد درست‌ها را می‌دهد (نه نسبت)\n",
    "\n",
    "</div>"
   ]
  },
  {
   "cell_type": "code",
   "execution_count": null,
   "id": "991cd810",
   "metadata": {
    "colab": {
     "base_uri": "https://localhost:8080/"
    },
    "executionInfo": {
     "elapsed": 6,
     "status": "ok",
     "timestamp": 1755268834868,
     "user": {
      "displayName": "Iman Sorati Ashtiani",
      "userId": "01458661742524148253"
     },
     "user_tz": -120
    },
    "id": "991cd810",
    "outputId": "f9b2e970-6624-44fa-fb18-e638b29b5c6f"
   },
   "outputs": [],
   "source": [
    "\n",
    "from sklearn.metrics import accuracy_score\n",
    "\n",
    "acc = accuracy_score(y_te, y_pred)\n",
    "acc_count = accuracy_score(y_te, y_pred, normalize=False)\n",
    "len_test = len(y_te)\n",
    "\n",
    "print(\"Accuracy:\", acc)\n",
    "print(f\"Correct predictions: {acc_count} / {len_test}\")\n"
   ]
  },
  {
   "cell_type": "markdown",
   "id": "c41d9493",
   "metadata": {
    "id": "c41d9493"
   },
   "source": [
    "<div dir=\"rtl\" align=\"right\">\n",
    "\n",
    "## #S2-03 ماتریس سردرگمی (Confusion Matrix)\n",
    "- ردیف‌ها: کلاس واقعی — ستون‌ها: کلاس پیش‌بینی‌شده\n",
    "- `normalize`: `'true'|'pred'|'all'`\n",
    "\n",
    "</div>"
   ]
  },
  {
   "cell_type": "code",
   "execution_count": null,
   "id": "382f724c",
   "metadata": {
    "colab": {
     "base_uri": "https://localhost:8080/"
    },
    "executionInfo": {
     "elapsed": 50,
     "status": "ok",
     "timestamp": 1755268834916,
     "user": {
      "displayName": "Iman Sorati Ashtiani",
      "userId": "01458661742524148253"
     },
     "user_tz": -120
    },
    "id": "382f724c",
    "outputId": "ffcfdb0b-369f-4509-cce9-3b8ffd28b758"
   },
   "outputs": [],
   "source": [
    "\n",
    "from sklearn.metrics import confusion_matrix\n",
    "import numpy as np\n",
    "import pandas as pd\n",
    "\n",
    "labels = list(range(len(iris.target_names)))  # [0,1,2]\n",
    "\n",
    "cm_raw = confusion_matrix(y_te, y_pred, labels=labels)\n",
    "cm_true = confusion_matrix(y_te, y_pred, labels=labels, normalize='true')\n",
    "cm_pred = confusion_matrix(y_te, y_pred, labels=labels, normalize='pred')\n",
    "cm_all  = confusion_matrix(y_te, y_pred, labels=labels, normalize='all')\n",
    "\n",
    "# نمایش خواناتر با برچسب نام کلاس‌ها\n",
    "df_cm_raw  = pd.DataFrame(cm_raw, index=iris.target_names, columns=iris.target_names)\n",
    "df_cm_true = pd.DataFrame(np.round(cm_true, 3), index=iris.target_names, columns=iris.target_names)\n",
    "df_cm_pred = pd.DataFrame(np.round(cm_pred, 3), index=iris.target_names, columns=iris.target_names)\n",
    "df_cm_all  = pd.DataFrame(np.round(cm_all, 3),  index=iris.target_names, columns=iris.target_names)\n",
    "\n",
    "df_cm_raw, df_cm_true, df_cm_pred, df_cm_all\n"
   ]
  },
  {
   "cell_type": "markdown",
   "id": "854359a0",
   "metadata": {
    "id": "854359a0"
   },
   "source": [
    "<div dir=\"rtl\" align=\"right\">\n",
    "\n",
    "### نمودار سادهٔ CM نرمال‌شده (به‌ازای کلاس واقعی)\n",
    "</div>"
   ]
  },
  {
   "cell_type": "code",
   "execution_count": null,
   "id": "8654a811",
   "metadata": {
    "colab": {
     "base_uri": "https://localhost:8080/",
     "height": 487
    },
    "executionInfo": {
     "elapsed": 742,
     "status": "ok",
     "timestamp": 1755268835690,
     "user": {
      "displayName": "Iman Sorati Ashtiani",
      "userId": "01458661742524148253"
     },
     "user_tz": -120
    },
    "id": "8654a811",
    "outputId": "0fc9c392-3ee9-4347-9aa5-67a5158cabcf"
   },
   "outputs": [],
   "source": [
    "\n",
    "import matplotlib.pyplot as plt\n",
    "\n",
    "plt.figure()\n",
    "plt.imshow(cm_true)\n",
    "plt.title(\"Confusion Matrix (normalize='true')\")\n",
    "plt.xlabel(\"Predicted\")\n",
    "plt.ylabel(\"True\")\n",
    "plt.xticks(ticks=[0,1,2], labels=iris.target_names, rotation=45, ha='right')\n",
    "plt.yticks(ticks=[0,1,2], labels=iris.target_names)\n",
    "plt.colorbar()\n",
    "plt.tight_layout()\n"
   ]
  },
  {
   "cell_type": "markdown",
   "id": "82487206",
   "metadata": {
    "id": "82487206"
   },
   "source": [
    "<div dir=\"rtl\" align=\"right\">\n",
    "\n",
    "## #S2-04 گزارش طبقه‌بندی (Classification Report)\n",
    "- `precision`، `recall`، `f1-score` و `support` برای هر کلاس\n",
    "- `digits` قالب نمایش را کنترل می‌کند\n",
    "- در صورت خطر تقسیم صفر، از `zero_division=0` استفاده کن\n",
    "\n",
    "</div>"
   ]
  },
  {
   "cell_type": "code",
   "execution_count": null,
   "id": "32423942",
   "metadata": {
    "colab": {
     "base_uri": "https://localhost:8080/"
    },
    "executionInfo": {
     "elapsed": 14,
     "status": "ok",
     "timestamp": 1755268835717,
     "user": {
      "displayName": "Iman Sorati Ashtiani",
      "userId": "01458661742524148253"
     },
     "user_tz": -120
    },
    "id": "32423942",
    "outputId": "b35ae738-3aa5-4b57-950d-0e51695b354f"
   },
   "outputs": [],
   "source": [
    "\n",
    "from sklearn.metrics import classification_report\n",
    "\n",
    "cr = classification_report(\n",
    "    y_te, y_pred,\n",
    "    target_names=iris.target_names,\n",
    "    digits=3\n",
    ")\n",
    "print(cr)\n"
   ]
  },
  {
   "cell_type": "markdown",
   "id": "9d391817",
   "metadata": {
    "id": "9d391817"
   },
   "source": [
    "<div dir=\"rtl\" align=\"right\">\n",
    "\n",
    "## #S2-05 الگوی تمیز ارزیابی (برای استفادهٔ تکراری)\n",
    "</div>"
   ]
  },
  {
   "cell_type": "code",
   "execution_count": null,
   "id": "24fe82cc",
   "metadata": {
    "colab": {
     "base_uri": "https://localhost:8080/"
    },
    "executionInfo": {
     "elapsed": 92,
     "status": "ok",
     "timestamp": 1755268835811,
     "user": {
      "displayName": "Iman Sorati Ashtiani",
      "userId": "01458661742524148253"
     },
     "user_tz": -120
    },
    "id": "24fe82cc",
    "outputId": "67f0693f-4124-402e-bc7c-1fe3f13fa6a8"
   },
   "outputs": [],
   "source": [
    "\n",
    "from typing import Dict, List\n",
    "from sklearn.base import ClassifierMixin\n",
    "\n",
    "def evaluate_model(\n",
    "    clf: ClassifierMixin,\n",
    "    X_test: pd.DataFrame,\n",
    "    y_test: pd.Series,\n",
    "    label_names: List[str]\n",
    ") -> Dict[str, object]:\n",
    "    y_pred_local = clf.predict(X_test)\n",
    "    acc_local = accuracy_score(y_test, y_pred_local)\n",
    "    cm_local = confusion_matrix(y_test, y_pred_local, labels=list(range(len(label_names))))\n",
    "    cr_local = classification_report(y_test, y_pred_local, target_names=label_names, digits=3)\n",
    "    return {\"accuracy\": acc_local, \"cm\": cm_local, \"report\": cr_local}\n",
    "\n",
    "res = evaluate_model(knn5, X_te, y_te, list(iris.target_names))\n",
    "print(\"Accuracy:\", res[\"accuracy\"])\n",
    "print(\"Confusion matrix:\\n\", res[\"cm\"])\n",
    "print(\"Classification report:\\n\", res[\"report\"])\n"
   ]
  },
  {
   "cell_type": "markdown",
   "id": "72fb65f9",
   "metadata": {
    "id": "72fb65f9"
   },
   "source": [
    "<div dir=\"rtl\" align=\"right\">\n",
    "\n",
    "## ⏭ ادامه (S3)\n",
    "- در S3، همین زنجیره را با **Pipeline تمیز** ادامه می‌دهیم: `StandardScaler → KNN`  \n",
    "- هدف: جلوگیری از *Data Leakage* و نشان دادن حساسیت KNN به مقیاس ویژگی‌ها\n",
    "\n",
    "</div>"
   ]
  }
 ],
 "metadata": {
  "colab": {
   "provenance": []
  },
  "kernelspec": {
   "display_name": "Python 3",
   "name": "python3"
  },
  "language_info": {
   "name": "python"
  }
 },
 "nbformat": 4,
 "nbformat_minor": 5
}
