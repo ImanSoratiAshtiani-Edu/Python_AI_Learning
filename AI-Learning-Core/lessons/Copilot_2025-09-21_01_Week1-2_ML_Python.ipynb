{
 "cells": [
  {
   "cell_type": "markdown",
   "id": "2448d505",
   "metadata": {},
   "source": [
    "<div dir=\"rtl\" align=\"right\">\n",
    "\n",
    "\n",
    "# 📘 درس ۱: آشنایی با پایتون برای یادگیری ماشین  \n",
    "\n",
    "### مفاهیم پایه پایتون\n",
    "- متغیرها و انواع داده\n",
    "- حلقه‌ها\n",
    "- توابع\n",
    "- ماژول‌ها\n",
    "- کار با فایل‌ها\n",
    "\n",
    "\n",
    "</div>"
   ]
  },
  {
   "cell_type": "code",
   "execution_count": null,
   "id": "bf311cbc",
   "metadata": {},
   "outputs": [],
   "source": [
    "\n",
    "# تعریف یک لیست و چاپ اعضای آن\n",
    "my_list = [1, 2, 3, 4]\n",
    "for item in my_list:\n",
    "    print(item)\n"
   ]
  },
  {
   "cell_type": "code",
   "execution_count": null,
   "id": "69f96f31",
   "metadata": {},
   "outputs": [],
   "source": [
    "\n",
    "import numpy as np\n",
    "a = np.array([1, 2, 3])\n",
    "print(a.mean())\n"
   ]
  },
  {
   "cell_type": "code",
   "execution_count": null,
   "id": "02afef37",
   "metadata": {},
   "outputs": [],
   "source": [
    "\n",
    "import pandas as pd\n",
    "data = {'نام': ['علی', 'زهرا'], 'سن': [23, 25]}\n",
    "df = pd.DataFrame(data)\n",
    "print(df)\n"
   ]
  },
  {
   "cell_type": "markdown",
   "id": "627771ef",
   "metadata": {},
   "source": [
    "<div dir=\"rtl\" align=\"right\">\n",
    "\n",
    "\n",
    "#### تمرین‌ها\n",
    "ex-01. یک لیست از اعداد بسازید و مجموع آن‌ها را با حلقه محاسبه کنید.  \n",
    "ex-02. یک DataFrame ساده با Pandas بسازید و میانگین یک ستون را حساب کنید.\n",
    "\n",
    "\n",
    "</div>"
   ]
  },
  {
   "cell_type": "markdown",
   "id": "11637b59",
   "metadata": {},
   "source": [
    "<div dir=\"rtl\" align=\"right\">\n",
    "\n",
    "\n",
    "# 📘 درس ۲: ساختارهای داده در پایتون\n",
    "\n",
    "\n",
    "</div>"
   ]
  },
  {
   "cell_type": "markdown",
   "id": "092c7bc3",
   "metadata": {},
   "source": [
    "<div dir=\"rtl\" align=\"right\">\n",
    "[ساختارهای داده]\n",
    "\n",
    "   |\n",
    "\n",
    "   |---> لیست (قابل تغییر، مرتب)\n",
    "\n",
    "   |---> تاپل (غیرقابل تغییر، مرتب)\n",
    "\n",
    "   |---> دیکشنری (کلید-مقدار)\n",
    "   \n",
    "   |---> مجموعه (بدون تکرار، نامرتب)\n",
    "</div>"
   ]
  },
  {
   "cell_type": "markdown",
   "id": "862ff613",
   "metadata": {},
   "source": [
    "<div dir=\"rtl\" align=\"right\">\n",
    "</div>"
   ]
  },
  {
   "cell_type": "code",
   "execution_count": null,
   "id": "cfbb0259",
   "metadata": {},
   "outputs": [],
   "source": [
    "\n",
    "# لیست\n",
    "my_list = [10, 20, 30]\n",
    "my_list.append(40)\n",
    "print(my_list[1])\n",
    "\n",
    "# دیکشنری\n",
    "student = {'نام': 'علی', 'سن': 23}\n",
    "print(student['نام'])\n",
    "\n",
    "# تاپل\n",
    "my_tuple = (1, 2, 3)\n",
    "print(my_tuple[0])\n",
    "\n",
    "# مجموعه\n",
    "my_set = {1, 2, 2, 3}\n",
    "print(my_set)\n"
   ]
  },
  {
   "cell_type": "markdown",
   "id": "beb6b1fe",
   "metadata": {},
   "source": [
    "<div dir=\"rtl\" align=\"right\">\n",
    "\n",
    "\n",
    "#### تمرین‌ها\n",
    "ex-03. یک لیست از نمرات بسازید و میانگین آن را محاسبه کنید.  \n",
    "ex-04. یک دیکشنری از اطلاعات یک کتاب بسازید و آن را چاپ کنید.  \n",
    "ex-05. یک مجموعه از اعداد تکراری بسازید و بررسی کنید که آیا تکرار حذف می‌شود یا نه.\n",
    "\n",
    "\n",
    "</div>"
   ]
  },
  {
   "cell_type": "markdown",
   "id": "68f61924",
   "metadata": {},
   "source": [
    "<div dir=\"rtl\" align=\"right\">\n",
    "\n",
    "\n",
    "# 📘 درس ۳: توابع و کلاس‌ها در پایتون\n",
    "\n",
    "\n",
    "</div>"
   ]
  },
  {
   "cell_type": "markdown",
   "id": "1d13425c",
   "metadata": {},
   "source": [
    "<div dir=\"rtl\" align=\"right\">\n",
    "[برنامه‌نویسی شی‌گرا]\n",
    "\n",
    "   |\n",
    "\n",
    "   |---> کلاس (قالب)\n",
    "\n",
    "         |\n",
    "\n",
    "         |---> شیء (نمونه)\n",
    "\n",
    "         |---> متد (رفتار)\n",
    "\n",
    "         |---> ویژگی (داده)\n",
    "\n",
    "   |\n",
    "   |---> تابع (کار خاص)\n",
    "\n",
    "</div>"
   ]
  },
  {
   "cell_type": "code",
   "execution_count": null,
   "id": "3f80614e",
   "metadata": {},
   "outputs": [],
   "source": [
    "\n",
    "# تابع جمع\n",
    "def jam(a, b):\n",
    "    return a + b\n",
    "\n",
    "natije = jam(3, 5)\n",
    "print(natije)\n"
   ]
  },
  {
   "cell_type": "code",
   "execution_count": null,
   "id": "534a494e",
   "metadata": {},
   "outputs": [],
   "source": [
    "\n",
    "# کلاس کتاب\n",
    "class Ketab:\n",
    "    def __init__(self, onvan, nevisande):\n",
    "        self.onvan = onvan\n",
    "        self.nevisande = nevisande\n",
    "\n",
    "    def namayesh(self):\n",
    "        print(f\"{self.onvan} - {self.nevisande}\")\n",
    "\n",
    "ketab1 = Ketab(\"یادگیری ماشین\", \"علی رضایی\")\n",
    "ketab1.namayesh()\n"
   ]
  },
  {
   "cell_type": "markdown",
   "id": "1eebde49",
   "metadata": {},
   "source": [
    "<div dir=\"rtl\" align=\"right\">\n",
    "\n",
    "\n",
    "#### تمرین‌ها\n",
    "ex-06. یک تابع بنویسید که عددی را دریافت کند و مربع آن را برگرداند.  \n",
    "ex-07. یک کلاس به نام \"دانشجو\" بسازید که ویژگی‌های نام و سن داشته باشد و متدی برای نمایش اطلاعات دانشجو بنویسید.  \n",
    "ex-08. یک شیء از کلاس \"دانشجو\" بسازید و اطلاعات آن را چاپ کنید.\n",
    "\n",
    "\n",
    "</div>"
   ]
  },
  {
   "cell_type": "markdown",
   "id": "9894ce09",
   "metadata": {},
   "source": [
    "<div dir=\"rtl\" align=\"right\">\n",
    "\n",
    "\n",
    "# 📘 درس ۴: ریاضیات پایه برای یادگیری ماشین\n",
    "\n",
    "\n",
    "</div>"
   ]
  },
  {
   "cell_type": "markdown",
   "id": "620e6569",
   "metadata": {},
   "source": [
    "<div dir=\"rtl\" align=\"right\">\n",
    "[ریاضیات پایه]\n",
    "\n",
    "   |\n",
    "\n",
    "   |---> جبر خطی\n",
    "\n",
    "   |        |---> بردار\n",
    "\n",
    "   |        |---> ماتریس\n",
    "\n",
    "   |        |---> ضرب ماتریسی\n",
    "\n",
    "   |\n",
    "   |---> آمار و احتمال\n",
    "\n",
    "   |        |---> میانگین\n",
    "\n",
    "   |        |---> واریانس\n",
    "\n",
    "   |        |---> احتمال\n",
    "\n",
    "   |\n",
    "   |---> مشتق و گرادیان\n",
    "   \n",
    "</div>"
   ]
  },
  {
   "cell_type": "code",
   "execution_count": null,
   "id": "e3f47214",
   "metadata": {},
   "outputs": [],
   "source": [
    "\n",
    "# جبر خطی\n",
    "import numpy as np\n",
    "A = np.array([[1, 2], [3, 4]])\n",
    "B = np.array([[5, 6], [7, 8]])\n",
    "C = np.dot(A, B)\n",
    "print(C)\n"
   ]
  },
  {
   "cell_type": "code",
   "execution_count": null,
   "id": "c365d7c2",
   "metadata": {},
   "outputs": [],
   "source": [
    "\n",
    "# آمار و احتمال\n",
    "data = [1, 2, 3, 4, 5]\n",
    "mean = np.mean(data)\n",
    "std = np.std(data)\n",
    "print(\"میانگین:\", mean)\n",
    "print(\"انحراف معیار:\", std)\n"
   ]
  },
  {
   "cell_type": "markdown",
   "id": "7ce2701c",
   "metadata": {},
   "source": [
    "<div dir=\"rtl\" align=\"right\">\n",
    "\n",
    "\n",
    "#### تمرین‌ها\n",
    "ex-09. یک آرایه دوبعدی (ماتریس) با NumPy بسازید و ترانهاده آن را محاسبه کنید.  \n",
    "ex-10. میانگین و انحراف معیار یک لیست از اعداد را حساب کنید.  \n",
    "ex-11. اگر f(x) = 3x² + 2x + 1 باشد، مشتق آن را به صورت دستی بنویسید.\n",
    "\n",
    "\n",
    "</div>"
   ]
  },
  {
   "cell_type": "markdown",
   "id": "a92795c3",
   "metadata": {},
   "source": [
    "<div dir=\"rtl\" align=\"right\">\n",
    "\n",
    "\n",
    "# 📘 درس ۵: داده‌کاوی و پیش‌پردازش داده‌ها\n",
    "\n",
    "\n",
    "</div>"
   ]
  },
  {
   "cell_type": "markdown",
   "id": "11385ef3",
   "metadata": {},
   "source": [
    "<div dir=\"rtl\" align=\"right\">\n",
    "    [پیش‌پردازش داده‌ها]\n",
    "   \n",
    "   |\n",
    "\n",
    "   |---> بارگذاری داده‌ها\n",
    "\n",
    "   |---> پاک‌سازی داده‌ها\n",
    "\n",
    "   |        |---> داده‌های گمشده\n",
    "\n",
    "   |        |---> داده‌های پرت\n",
    "\n",
    "   |\n",
    "   |---> نرمال‌سازی و استانداردسازی\n",
    "   \n",
    "   |\n",
    "   \n",
    "   |---> تبدیل داده‌های متنی به عددی\n",
    "</div>"
   ]
  },
  {
   "cell_type": "code",
   "execution_count": null,
   "id": "efec13bd",
   "metadata": {},
   "outputs": [],
   "source": [
    "\n",
    "# بارگذاری داده‌ها\n",
    "import pandas as pd\n",
    "df = pd.read_csv(\"data.csv\")\n",
    "print(df.head())\n"
   ]
  },
  {
   "cell_type": "code",
   "execution_count": null,
   "id": "b305e20b",
   "metadata": {},
   "outputs": [],
   "source": [
    "\n",
    "# بررسی داده‌های گمشده و پاک‌سازی\n",
    "print(df.isnull().sum())\n",
    "df = df.dropna()\n"
   ]
  },
  {
   "cell_type": "code",
   "execution_count": null,
   "id": "cc369846",
   "metadata": {},
   "outputs": [],
   "source": [
    "\n",
    "# نرمال‌سازی و استانداردسازی\n",
    "from sklearn.preprocessing import MinMaxScaler, StandardScaler\n",
    "scaler1 = MinMaxScaler()\n",
    "scaler2 = StandardScaler()\n",
    "normalized = scaler1.fit_transform(df[['ستون عددی']])\n",
    "standardized = scaler2.fit_transform(df[['ستون عددی']])\n"
   ]
  },
  {
   "cell_type": "code",
   "execution_count": null,
   "id": "9744aabc",
   "metadata": {},
   "outputs": [],
   "source": [
    "\n",
    "# تبدیل داده‌های متنی به عددی\n",
    "from sklearn.preprocessing import LabelEncoder\n",
    "df['جنسیت'] = LabelEncoder().fit_transform(df['جنسیت'])\n",
    "df = pd.get_dummies(df, columns=['شهر'])\n"
   ]
  },
  {
   "cell_type": "markdown",
   "id": "34a20e18",
   "metadata": {},
   "source": [
    "<div dir=\"rtl\" align=\"right\">\n",
    "\n",
    "\n",
    "#### تمرین‌ها\n",
    "ex-12. یک فایل CSV فرضی بارگذاری کن و تعداد داده‌های گمشده را بررسی کن.  \n",
    "ex-13. یک ستون عددی را نرمال‌سازی و استانداردسازی کن.  \n",
    "ex-14. یک ستون متنی مثل \"رنگ\" را با LabelEncoder و سپس با OneHotEncoder تبدیل کن.\n",
    "\n",
    "\n",
    "</div>"
   ]
  },
  {
   "cell_type": "markdown",
   "id": "2a4a5c70",
   "metadata": {},
   "source": [
    "<div dir=\"rtl\" align=\"right\">\n",
    "\n",
    "\n",
    "# 📘 درس ۶: تقسیم داده‌ها و ساخت مدل اولیه با Scikit-learn\n",
    "\n",
    "\n",
    "</div>"
   ]
  },
  {
   "cell_type": "markdown",
   "id": "fed5ca03",
   "metadata": {},
   "source": [
    "<div dir=\"rtl\" align=\"right\">\n",
    "[مدل‌سازی با Scikit-learn]\n",
    "\n",
    "   |\n",
    "\n",
    "   |---> تقسیم داده‌ها (train/test)\n",
    "\n",
    "   |---> ساخت مدل (LogisticRegression)\n",
    "\n",
    "   |---> آموزش مدل (fit)\n",
    "\n",
    "   |---> پیش‌بینی (predict)\n",
    "\n",
    "   |---> ارزیابی (accuracy, confusion_matrix)\n",
    "   \n",
    "</div>"
   ]
  },
  {
   "cell_type": "code",
   "execution_count": null,
   "id": "adf77bed",
   "metadata": {},
   "outputs": [],
   "source": [
    "\n",
    "# تقسیم داده‌ها\n",
    "from sklearn.model_selection import train_test_split\n",
    "X = df.drop('برچسب', axis=1)\n",
    "y = df['برچسب']\n",
    "X_train, X_test, y_train, y_test = train_test_split(X, y, test_size=0.2, random_state=42)\n"
   ]
  },
  {
   "cell_type": "code",
   "execution_count": null,
   "id": "50a7c7e6",
   "metadata": {},
   "outputs": [],
   "source": [
    "\n",
    "# ساخت مدل اولیه\n",
    "from sklearn.linear_model import LogisticRegression\n",
    "model = LogisticRegression()\n",
    "model.fit(X_train, y_train)\n"
   ]
  },
  {
   "cell_type": "code",
   "execution_count": null,
   "id": "ec5e048d",
   "metadata": {},
   "outputs": [],
   "source": [
    "\n",
    "# پیش‌بینی و ارزیابی مدل\n",
    "y_pred = model.predict(X_test)\n",
    "from sklearn.metrics import accuracy_score, confusion_matrix\n",
    "acc = accuracy_score(y_test, y_pred)\n",
    "cm = confusion_matrix(y_test, y_pred)\n",
    "print(\"دقت مدل:\", acc)\n",
    "print(\"ماتریس درهم‌ریختگی:\\n\", cm)\n"
   ]
  },
  {
   "cell_type": "markdown",
   "id": "5444c306",
   "metadata": {},
   "source": [
    "<div dir=\"rtl\" align=\"right\">\n",
    "\n",
    "\n",
    "#### تمرین‌ها\n",
    "ex-15. یک دیتافریم فرضی بساز و آن را به داده‌های آموزش و تست تقسیم کن.  \n",
    "ex-16. یک مدل رگرسیون لجستیک بساز و آن را آموزش بده.  \n",
    "ex-17. دقت مدل را محاسبه کن و ماتریس درهم‌ریختگی را چاپ کن.\n",
    "\n",
    "\n",
    "</div>"
   ]
  },
  {
   "cell_type": "markdown",
   "id": "36506891",
   "metadata": {},
   "source": [
    "<div dir=\"rtl\" align=\"right\">\n",
    "\n",
    "\n",
    "# 📘 درس ۷: انتخاب ویژگی‌ها و اهمیت آن‌ها\n",
    "\n",
    "\n",
    "</div>"
   ]
  },
  {
   "cell_type": "markdown",
   "id": "90e06679",
   "metadata": {},
   "source": [
    "<div dir=\"rtl\" align=\"right\">\n",
    "[مدل‌سازی با Scikit-learn]\n",
    "\n",
    "   |\n",
    "\n",
    "   |---> تقسیم داده‌ها (train/test)\n",
    "\n",
    "   |---> ساخت مدل (LogisticRegression)\n",
    "\n",
    "   |---> آموزش مدل (fit)\n",
    "\n",
    "   |---> پیش‌بینی (predict)\n",
    "\n",
    "   |---> ارزیابی (accuracy, confusion_matrix)\n",
    "   \n",
    "</div>"
   ]
  },
  {
   "cell_type": "code",
   "execution_count": null,
   "id": "c935be3f",
   "metadata": {},
   "outputs": [],
   "source": [
    "\n",
    "# انتخاب ویژگی با SelectKBest\n",
    "from sklearn.feature_selection import SelectKBest, chi2\n",
    "X_new = SelectKBest(chi2, k=2).fit_transform(X, y)\n"
   ]
  },
  {
   "cell_type": "code",
   "execution_count": null,
   "id": "5d85967c",
   "metadata": {},
   "outputs": [],
   "source": [
    "\n",
    "# اهمیت ویژگی با RandomForest\n",
    "from sklearn.ensemble import RandomForestClassifier\n",
    "model = RandomForestClassifier()\n",
    "model.fit(X, y)\n",
    "importances = model.feature_importances_\n",
    "print(importances)\n"
   ]
  },
  {
   "cell_type": "code",
   "execution_count": null,
   "id": "6257ef10",
   "metadata": {},
   "outputs": [],
   "source": [
    "\n",
    "# حذف ویژگی‌های همبسته\n",
    "import numpy as np\n",
    "corr_matrix = df.corr().abs()\n",
    "upper = corr_matrix.where(np.triu(np.ones(corr_matrix.shape), k=1).astype(bool))\n",
    "to_drop = [column for column in upper.columns if any(upper[column] > 0.8)]\n",
    "df_reduced = df.drop(to_drop, axis=1)\n"
   ]
  },
  {
   "cell_type": "markdown",
   "id": "278e4853",
   "metadata": {},
   "source": [
    "<div dir=\"rtl\" align=\"right\">\n",
    "\n",
    "\n",
    "#### تمرین‌ها\n",
    "ex-18. با استفاده از SelectKBest، دو ویژگی برتر دیتاست خود را انتخاب کن.  \n",
    "ex-19. اهمیت ویژگی‌ها را با RandomForestClassifier محاسبه کن و دو ویژگی مهم را مشخص کن.  \n",
    "ex-20. یک ماتریس همبستگی بساز و ویژگی‌های با همبستگی بالا را حذف کن.\n",
    "\n",
    "\n",
    "</div>"
   ]
  },
  {
   "cell_type": "markdown",
   "id": "939f0f5b",
   "metadata": {},
   "source": [
    "<div dir=\"rtl\" align=\"right\">\n",
    "\n",
    "\n",
    "# 📘 درس ۸: مرور و جمع‌بندی هفته دوم\n",
    "\n",
    "\n",
    "</div>"
   ]
  },
  {
   "cell_type": "markdown",
   "id": "0ed05a58",
   "metadata": {},
   "source": [
    "<div dir=\"rtl\" align=\"right\">\n",
    "\n",
    "\n",
    "#### تمرین جمع‌بندی (project 01)\n",
    "یک پروژه کوچک تعریف کن:\n",
    "- یک دیتاست فرضی بساز (مثلاً اطلاعات دانشجویان با ویژگی‌هایی مثل سن، معدل، جنسیت، شهر)  \n",
    "- مراحل زیر را انجام بده:  \n",
    "  1. پاک‌سازی داده‌ها  \n",
    "  2. نرمال‌سازی یک ستون عددی  \n",
    "  3. تبدیل یک ستون متنی به عددی  \n",
    "  4. تقسیم داده‌ها به آموزش و تست  \n",
    "  5. ساخت یک مدل ساده و ارزیابی آن  \n",
    "  6. انتخاب دو ویژگی مهم\n",
    "\n",
    "\n",
    "</div>"
   ]
  }
 ],
 "metadata": {
  "language_info": {
   "name": "python"
  }
 },
 "nbformat": 4,
 "nbformat_minor": 5
}
