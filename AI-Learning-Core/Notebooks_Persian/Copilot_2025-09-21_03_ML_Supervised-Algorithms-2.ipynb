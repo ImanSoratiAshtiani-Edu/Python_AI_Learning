{
 "cells": [
  {
   "cell_type": "markdown",
   "id": "d0658d67",
   "metadata": {},
   "source": [
    "<div dir=\"rtl\" align=\"right\">\n",
    "\n",
    "\n",
    "# 📘 درس ۱: ماشین بردار پشتیبان (SVM)\n",
    "\n",
    "### تعریف و کاربرد\n",
    "ماشین بردار پشتیبان (SVM) الگوریتمی برای دسته‌بندی است که یک مرز (خط یا صفحه) با بیشترین فاصله از نزدیک‌ترین نمونه‌های هر کلاس (بردار پشتیبان) پیدا می‌کند تا داده‌ها را جدا کند.\n",
    "\n",
    "\n",
    "</div>"
   ]
  },
  {
   "cell_type": "code",
   "execution_count": null,
   "id": "74404d37",
   "metadata": {},
   "outputs": [],
   "source": [
    "\n",
    "from sklearn.svm import SVC\n",
    "from sklearn.metrics import accuracy_score, confusion_matrix\n",
    "\n",
    "svm_model = SVC(kernel='linear', probability=False, random_state=42)\n",
    "svm_model.fit(X_train, y_train)\n",
    "y_pred_svm = svm_model.predict(X_test)\n",
    "acc_svm = accuracy_score(y_test, y_pred_svm)\n",
    "cm_svm = confusion_matrix(y_test, y_pred_svm)\n",
    "print(\"دقت مدل SVM:\", acc_svm)\n",
    "print(\"ماتریس درهم‌ریختگی:\\n\", cm_svm)\n"
   ]
  },
  {
   "cell_type": "markdown",
   "id": "47074e4f",
   "metadata": {},
   "source": [
    "<div dir=\"rtl\" align=\"right\">\n",
    "\n",
    "\n",
    "### تمرین‌ها\n",
    "- **ex-34:** یک مدل SVM با kernel خطی بساز و دقت آن را روی داده‌های تست محاسبه کن.  \n",
    "- **ex-35:** دقت مدل‌های KNN، درخت تصمیم، جنگل تصادفی و SVM را روی یک دیتاست مقایسه کن.  \n",
    "- **ex-36:** توضیح بده SVM در چه شرایطی نسبت به سایر الگوریتم‌ها برتری دارد.\n",
    "\n",
    "\n",
    "</div>"
   ]
  },
  {
   "cell_type": "markdown",
   "id": "c539e2e7",
   "metadata": {},
   "source": [
    "<div dir=\"rtl\" align=\"right\">\n",
    "\n",
    "\n",
    "# 📘 درس ۲: نزدیک‌ترین همسایه‌ها (KNN)\n",
    "\n",
    "### تعریف و کاربرد\n",
    "KNN الگوریتمی ساده و مؤثر برای دسته‌بندی و رگرسیون است که بر اساس شباهت نمونه‌ها عمل می‌کند: برای پیش‌بینی برچسب یک نمونه جدید، به K نمونه‌ی نزدیک‌تر نگاه می‌کند.\n",
    "\n",
    "\n",
    "</div>"
   ]
  },
  {
   "cell_type": "code",
   "execution_count": null,
   "id": "a90c3320",
   "metadata": {},
   "outputs": [],
   "source": [
    "\n",
    "from sklearn.neighbors import KNeighborsClassifier\n",
    "from sklearn.metrics import accuracy_score, confusion_matrix\n",
    "\n",
    "knn_model = KNeighborsClassifier(n_neighbors=5)\n",
    "knn_model.fit(X_train, y_train)\n",
    "y_pred_knn = knn_model.predict(X_test)\n",
    "\n",
    "acc_knn = accuracy_score(y_test, y_pred_knn)\n",
    "cm_knn = confusion_matrix(y_test, y_pred_knn)\n",
    "\n",
    "print(\"دقت مدل KNN:\", acc_knn)\n",
    "print(\"ماتریس درهم‌ریختگی:\\n\", cm_knn)\n"
   ]
  },
  {
   "cell_type": "markdown",
   "id": "2cfcdef0",
   "metadata": {},
   "source": [
    "<div dir=\"rtl\" align=\"right\">\n",
    "\n",
    "\n",
    "### تمرین‌ها\n",
    "- **ex-37:** یک مدل KNN با K=3 بساز و دقت آن را روی داده‌های تست محاسبه کن.  \n",
    "- **ex-38:** تأثیر تغییر مقدار K را روی دقت مدل بررسی کن.  \n",
    "- **ex-39:** داده‌ها را با و بدون نرمال‌سازی به مدل بده و تفاوت نتایج را تحلیل کن.\n",
    "\n",
    "\n",
    "</div>"
   ]
  },
  {
   "cell_type": "markdown",
   "id": "bf814b07",
   "metadata": {},
   "source": [
    "<div dir=\"rtl\" align=\"right\">\n",
    "\n",
    "\n",
    "# 📘 درس ۳: درخت تصمیم (Decision Tree)\n",
    "\n",
    "### تعریف و کاربرد\n",
    "درخت تصمیم الگوریتمی قابل فهم برای دسته‌بندی و رگرسیون است که داده‌ها را با پرسیدن سؤالات متوالی تقسیم می‌کند تا به یک تصمیم نهایی برسد.\n",
    "\n",
    "\n",
    "</div>"
   ]
  },
  {
   "cell_type": "code",
   "execution_count": null,
   "id": "1aa114e5",
   "metadata": {},
   "outputs": [],
   "source": [
    "\n",
    "from sklearn.tree import DecisionTreeClassifier\n",
    "from sklearn.metrics import accuracy_score, confusion_matrix\n",
    "\n",
    "dt_model = DecisionTreeClassifier(max_depth=3, random_state=42)\n",
    "dt_model.fit(X_train, y_train)\n",
    "y_pred_dt = dt_model.predict(X_test)\n",
    "\n",
    "acc_dt = accuracy_score(y_test, y_pred_dt)\n",
    "cm_dt = confusion_matrix(y_test, y_pred_dt)\n",
    "\n",
    "print(\"دقت مدل درخت تصمیم:\", acc_dt)\n",
    "print(\"ماتریس درهم‌ریختگی:\\n\", cm_dt)\n"
   ]
  },
  {
   "cell_type": "markdown",
   "id": "c1c5d9ee",
   "metadata": {},
   "source": [
    "<div dir=\"rtl\" align=\"right\">\n",
    "\n",
    "\n",
    "### تمرین‌ها\n",
    "- **ex-40:** یک مدل درخت تصمیم با عمق ۳ بساز و دقت آن را روی داده‌های تست محاسبه کن.  \n",
    "- **ex-41:** تأثیر تغییر عمق درخت را روی دقت مدل بررسی کن.  \n",
    "- **ex-42:** مدل درخت تصمیم را با مدل SVM و KNN مقایسه کن.\n",
    "\n",
    "\n",
    "</div>"
   ]
  },
  {
   "cell_type": "markdown",
   "id": "67f82b2e",
   "metadata": {},
   "source": [
    "<div dir=\"rtl\" align=\"right\">\n",
    "\n",
    "\n",
    "# 📘 درس ۴: جنگل تصادفی (Random Forest)\n",
    "\n",
    "### تعریف و کاربرد\n",
    "جنگل تصادفی یک الگوریتم ensemble است که با ترکیب چندین درخت تصمیم، عملکرد مدل را بهبود می‌دهد.\n",
    "\n",
    "\n",
    "</div>"
   ]
  },
  {
   "cell_type": "code",
   "execution_count": null,
   "id": "ee31df80",
   "metadata": {},
   "outputs": [],
   "source": [
    "\n",
    "from sklearn.ensemble import RandomForestClassifier\n",
    "from sklearn.metrics import accuracy_score, confusion_matrix\n",
    "\n",
    "rf_model = RandomForestClassifier(n_estimators=100, max_depth=5, random_state=42)\n",
    "rf_model.fit(X_train, y_train)\n",
    "y_pred_rf = rf_model.predict(X_test)\n",
    "\n",
    "acc_rf = accuracy_score(y_test, y_pred_rf)\n",
    "cm_rf = confusion_matrix(y_test, y_pred_rf)\n",
    "\n",
    "print(\"دقت مدل Random Forest:\", acc_rf)\n",
    "print(\"ماتریس درهم‌ریختگی:\\n\", cm_rf)\n"
   ]
  },
  {
   "cell_type": "markdown",
   "id": "309bbd61",
   "metadata": {},
   "source": [
    "<div dir=\"rtl\" align=\"right\">\n",
    "\n",
    "\n",
    "### تمرین‌ها\n",
    "- **ex-43:** یک مدل Random Forest با ۱۰۰ درخت بساز و دقت آن را روی داده‌های تست محاسبه کن.  \n",
    "- **ex-44:** تأثیر تغییر تعداد درخت‌ها را بررسی کن.  \n",
    "- **ex-45:** اهمیت ویژگی‌ها را با `feature_importances_` نمایش بده.\n",
    "\n",
    "\n",
    "</div>"
   ]
  },
  {
   "cell_type": "markdown",
   "id": "ce736e7c",
   "metadata": {},
   "source": [
    "<div dir=\"rtl\" align=\"right\">\n",
    "\n",
    "\n",
    "# 📘 درس ۵: XGBoost\n",
    "\n",
    "### تعریف و کاربرد\n",
    "XGBoost یکی از قدرتمندترین الگوریتم‌های یادگیری ماشین است که با ساخت مدل‌های ضعیف و بهبود تدریجی آن‌ها، به دقت بسیار بالا می‌رسد.\n",
    "\n",
    "\n",
    "</div>"
   ]
  },
  {
   "cell_type": "code",
   "execution_count": null,
   "id": "d864f0ad",
   "metadata": {},
   "outputs": [],
   "source": [
    "\n",
    "from xgboost import XGBClassifier\n",
    "from sklearn.metrics import accuracy_score, confusion_matrix\n",
    "\n",
    "xgb_model = XGBClassifier(n_estimators=100, max_depth=4, learning_rate=0.1, random_state=42)\n",
    "xgb_model.fit(X_train, y_train)\n",
    "y_pred_xgb = xgb_model.predict(X_test)\n",
    "\n",
    "acc_xgb = accuracy_score(y_test, y_pred_xgb)\n",
    "cm_xgb = confusion_matrix(y_test, y_pred_xgb)\n",
    "\n",
    "print(\"دقت مدل XGBoost:\", acc_xgb)\n",
    "print(\"ماتریس درهم‌ریختگی:\\n\", cm_xgb)\n"
   ]
  },
  {
   "cell_type": "markdown",
   "id": "5c8d048c",
   "metadata": {},
   "source": [
    "<div dir=\"rtl\" align=\"right\">\n",
    "\n",
    "\n",
    "### تمرین‌ها\n",
    "- **ex-46:** یک مدل XGBoost با ۱۰۰ درخت بساز و دقت آن را روی داده‌های تست محاسبه کن.  \n",
    "- **ex-47:** تأثیر تغییر `learning_rate` را بررسی کن.  \n",
    "- **ex-48:** مدل XGBoost را با Random Forest و SVM مقایسه کن.\n",
    "\n",
    "\n",
    "</div>"
   ]
  }
 ],
 "metadata": {},
 "nbformat": 4,
 "nbformat_minor": 5
}
