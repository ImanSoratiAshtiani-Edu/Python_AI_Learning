{
 "cells": [
  {
   "cell_type": "markdown",
   "id": "1431c358",
   "metadata": {},
   "source": [
    "<div dir=\"rtl\" align=\"right\">\n",
    "\n",
    "\n",
    "# 📚 هفته سوم: یادگیری ماشین کلاسیک (Machine Learning)\n",
    "\n",
    "این نوت‌بوک شامل **تمام درس‌های هفته سوم** با توضیحات کامل، ریشه‌ی اصطلاحات، معرفی کتابخانه‌ها و کلاس‌ها، کدهای قابل اجرا، **نمودارهای مفهومی (متنی)** و تمرین‌های progressive با برچسب‌های **ex-xx** و **project-xx** است.\n",
    "\n",
    "\n",
    "</div>"
   ]
  },
  {
   "cell_type": "markdown",
   "id": "7220f673",
   "metadata": {},
   "source": [
    "<div dir=\"rtl\" align=\"right\">\n",
    "\n",
    "\n",
    "## 🔧 (اختیاری) آماده‌سازی دادهٔ نمونه برای اجرای مثال‌ها\n",
    "برای اینکه سلول‌های کد در درس‌های ۲ تا ۵ بدون خطا اجرا شوند، در این بخش یک دیتاست اسباب‌بازی می‌سازیم و آن را به `X_train, X_test, y_train, y_test` تقسیم می‌کنیم.  \n",
    "در صورتیکه دیتاست خودت را داری، می‌توانی این سلول را نادیده بگیری.\n",
    "\n",
    "\n",
    "</div>"
   ]
  },
  {
   "cell_type": "code",
   "execution_count": null,
   "id": "53d68ed6",
   "metadata": {},
   "outputs": [],
   "source": [
    "\n",
    "# ساخت دیتاست نمونهٔ طبقه‌بندی و رگرسیون\n",
    "from sklearn.datasets import make_classification, make_regression\n",
    "from sklearn.model_selection import train_test_split\n",
    "import numpy as np\n",
    "\n",
    "# دیتاست طبقه‌بندی برای مدل‌های دسته‌بندی\n",
    "X_cls, y_cls = make_classification(n_samples=600, n_features=6, n_informative=4, n_redundant=0, random_state=42)\n",
    "X_train, X_test, y_train, y_test = train_test_split(X_cls, y_cls, test_size=0.2, random_state=42)\n",
    "\n",
    "# دیتاست رگرسیون (در صورت نیاز)\n",
    "X_reg, y_reg = make_regression(n_samples=600, n_features=6, n_informative=4, noise=15.0, random_state=42)\n",
    "Xr_train, Xr_test, yr_train, yr_test = train_test_split(X_reg, y_reg, test_size=0.2, random_state=42)\n",
    "\n",
    "print(\"Shapes (classification):\", X_train.shape, X_test.shape, y_train.shape, y_test.shape)\n",
    "print(\"Shapes (regression):\", Xr_train.shape, Xr_test.shape, yr_train.shape, yr_test.shape)\n"
   ]
  },
  {
   "cell_type": "markdown",
   "id": "1e972454",
   "metadata": {},
   "source": [
    "<div dir=\"rtl\" align=\"right\">\n",
    "\n",
    "\n",
    "# 📘 درس ۱: مفاهیم پایه یادگیری ماشین\n",
    "\n",
    "### تعریف یادگیری ماشین و انواع آن\n",
    "یادگیری ماشین (Machine Learning) شاخه‌ای از هوش مصنوعی است که به کامپیوترها امکان می‌دهد بدون برنامه‌نویسی صریح، از داده‌ها یاد بگیرند و پیش‌بینی یا تصمیم‌گیری کنند.\n",
    "\n",
    "#### انواع یادگیری ماشین:\n",
    "- **یادگیری نظارت‌شده (Supervised Learning):** مدل با داده‌های برچسب‌دار آموزش می‌بیند (مثلاً پیش‌بینی قیمت خانه).\n",
    "- **یادگیری بدون نظارت (Unsupervised Learning):** مدل با داده‌های بدون برچسب کار می‌کند (مثلاً خوشه‌بندی مشتریان).\n",
    "- **یادگیری نیمه‌نظارتی و تقویتی:** حالت‌های ترکیبی یا مبتنی بر پاداش.\n",
    "\n",
    "#### اصطلاحات کلیدی:\n",
    "- **ویژگی (Feature):** متغیرهای ورودی مدل (مثلاً سن، درآمد)\n",
    "- **برچسب (Label):** خروجی مورد انتظار (مثلاً قبول/رد)\n",
    "- **داده‌های آموزش و تست:** داده‌هایی که مدل با آن‌ها آموزش می‌بیند و سپس ارزیابی می‌شود.\n",
    "- **Overfitting و Underfitting:** بیش‌برازش و کم‌برازش مدل نسبت به داده‌ها\n",
    "\n",
    "\n",
    "</div>"
   ]
  },
  {
   "cell_type": "markdown",
   "id": "e98f4b31",
   "metadata": {},
   "source": [
    "<div dir=\"rtl\" align=\"right\">\n",
    "\n",
    "\n",
    "### نمودار مفهومی\n",
    "\n",
    "```\n",
    "[یادگیری ماشین]\n",
    "   |\n",
    "   |---> یادگیری نظارت‌شده\n",
    "   |---> یادگیری بدون نظارت\n",
    "   |---> یادگیری تقویتی\n",
    "   |\n",
    "   |---> ویژگی ← داده ← برچسب\n",
    "   |---> آموزش ← تست\n",
    "   |---> Overfitting / Underfitting\n",
    "```\n",
    "\n",
    "\n",
    "</div>"
   ]
  },
  {
   "cell_type": "markdown",
   "id": "f4561096",
   "metadata": {},
   "source": [
    "<div dir=\"rtl\" align=\"right\">\n",
    "\n",
    "\n",
    "### تمرین‌ها\n",
    "- **ex-22:** سه مثال واقعی از یادگیری نظارت‌شده و سه مثال از یادگیری بدون نظارت بنویس.  \n",
    "- **ex-23:** تفاوت Overfitting و Underfitting را با یک مثال ساده توضیح بده.  \n",
    "- **ex-24:** یک دیتاست فرضی با سه ویژگی و یک برچسب طراحی کن و توضیح بده هر ستون چه معنایی دارد.\n",
    "\n",
    "\n",
    "</div>"
   ]
  },
  {
   "cell_type": "markdown",
   "id": "df6c1632",
   "metadata": {},
   "source": [
    "<div dir=\"rtl\" align=\"right\">\n",
    "\n",
    "\n",
    "# 📘 درس ۲: رگرسیون خطی و لجستیک\n",
    "\n",
    "### ریشه‌ی اصطلاحات\n",
    "- **Regression (رگرسیون):** از واژه‌ی لاتین *regressus* به معنی \"بازگشت\" گرفته شده است. در آمار، اولین بار توسط فرانسیس گالتون برای توصیف بازگشت قد فرزندان به میانگین جامعه استفاده شد. در یادگیری ماشین، مدل‌هایی که هدفشان پیش‌بینی مقدار عددی (مثلاً قیمت، دما، درآمد) هستند، رگرسیون نامیده می‌شوند.\n",
    "- **Logistic (لجستیک):** از تابع لجستیک (Logistic Function) گرفته شده که یک تابع S-شکل است و خروجی آن بین ۰ و ۱ قرار می‌گیرد. در رگرسیون لجستیک، هدف پیش‌بینی احتمال وقوع یک رویداد است.\n",
    "\n",
    "\n",
    "</div>"
   ]
  },
  {
   "cell_type": "markdown",
   "id": "c5d635f6",
   "metadata": {},
   "source": [
    "<div dir=\"rtl\" align=\"right\">\n",
    "\n",
    "\n",
    "### معرفی کتابخانه و کلاس‌ها\n",
    "- **کتابخانه:** scikit-learn (sklearn)  \n",
    "- **ماژول:** `sklearn.linear_model`  \n",
    "- **کلاس‌ها:**  \n",
    "  - `LinearRegression`: مدل رگرسیون خطی  \n",
    "  - `LogisticRegression`: مدل رگرسیون لجستیک\n",
    "\n",
    "#### چرا این نام‌ها؟\n",
    "- **LinearRegression:** مدل خطی برای پیش‌بینی مقدار عددی.  \n",
    "- **LogisticRegression:** مدل مبتنی بر تابع لجستیک برای پیش‌بینی احتمال و دسته‌بندی دودویی.\n",
    "\n",
    "\n",
    "</div>"
   ]
  },
  {
   "cell_type": "code",
   "execution_count": null,
   "id": "edd3c93c",
   "metadata": {},
   "outputs": [],
   "source": [
    "\n",
    "# رگرسیون خطی\n",
    "from sklearn.linear_model import LinearRegression\n",
    "from sklearn.metrics import mean_squared_error\n",
    "\n",
    "model_lr = LinearRegression()\n",
    "model_lr.fit(Xr_train, yr_train)           # از دیتاست رگرسیون استفاده می‌کنیم\n",
    "y_pred_lr = model_lr.predict(Xr_test)\n",
    "mse = mean_squared_error(yr_test, y_pred_lr)\n",
    "print(\"میانگین مربع خطا:\", mse)\n"
   ]
  },
  {
   "cell_type": "code",
   "execution_count": null,
   "id": "eeaa6cff",
   "metadata": {},
   "outputs": [],
   "source": [
    "\n",
    "# رگرسیون لجستیک\n",
    "from sklearn.linear_model import LogisticRegression\n",
    "from sklearn.metrics import accuracy_score\n",
    "\n",
    "model_log = LogisticRegression(max_iter=1000)\n",
    "model_log.fit(X_train, y_train)            # از دیتاست طبقه‌بندی استفاده می‌کنیم\n",
    "y_pred_log = model_log.predict(X_test)\n",
    "acc = accuracy_score(y_test, y_pred_log)\n",
    "print(\"دقت مدل لجستیک:\", acc)\n"
   ]
  },
  {
   "cell_type": "markdown",
   "id": "a55abd5b",
   "metadata": {},
   "source": [
    "<div dir=\"rtl\" align=\"right\">\n",
    "\n",
    "\n",
    "### نکات و تفاوت‌ها\n",
    "- **LinearRegression:** خروجی عددی (مثلاً قیمت خانه)  \n",
    "- **LogisticRegression:** خروجی احتمال (مثلاً قبول/رد)  \n",
    "- **پارامترهای مهم:**  \n",
    "  - در `LogisticRegression`، پارامتر `solver` روش حل را تعیین می‌کند؛ `max_iter` تعداد تکرار را کنترل می‌کند.\n",
    "\n",
    "\n",
    "</div>"
   ]
  },
  {
   "cell_type": "markdown",
   "id": "10ea14f2",
   "metadata": {},
   "source": [
    "<div dir=\"rtl\" align=\"right\">\n",
    "\n",
    "\n",
    "### تمرین‌ها\n",
    "- **ex-25:** یک دیتاست فرضی بساز برای پیش‌بینی قیمت خانه و مدل رگرسیون خطی را آموزش بده.  \n",
    "- **ex-26:** یک دیتاست فرضی بساز برای پیش‌بینی قبولی دانش‌آموز و مدل رگرسیون لجستیک را آموزش بده.  \n",
    "- **ex-27:** تفاوت خروجی مدل خطی و لجستیک را با مثال عددی توضیح بده.\n",
    "\n",
    "\n",
    "</div>"
   ]
  },
  {
   "cell_type": "markdown",
   "id": "335ebd8d",
   "metadata": {},
   "source": [
    "<div dir=\"rtl\" align=\"right\">\n",
    "\n",
    "\n",
    "# 📘 درس ۳: درخت تصمیم و جنگل تصادفی\n",
    "\n",
    "### ریشه‌ی اصطلاحات\n",
    "- **Decision Tree (درخت تصمیم):** ساختار درختی که هر گره یک تصمیم می‌گیرد و داده را به شاخه‌های بعدی هدایت می‌کند. شبیه فرآیند تصمیم‌گیری انسان.  \n",
    "- **Random Forest (جنگل تصادفی):** مجموعه‌ای از درخت‌های تصمیم که هرکدام با نمونه‌گیری تصادفی از داده‌ها و ویژگی‌ها ساخته می‌شوند. واژه‌ی \"جنگل\" به مجموعه‌ای از درخت‌ها اشاره دارد.  \n",
    "- **Ensemble (مجموعه):** ترکیب چند مدل ساده برای ساخت مدل قوی‌تر.\n",
    "\n",
    "\n",
    "</div>"
   ]
  },
  {
   "cell_type": "markdown",
   "id": "ca066e73",
   "metadata": {},
   "source": [
    "<div dir=\"rtl\" align=\"right\">\n",
    "\n",
    "\n",
    "### معرفی کتابخانه و کلاس‌ها\n",
    "- **کتابخانه:** scikit-learn (sklearn)  \n",
    "- **ماژول‌ها:**  \n",
    "  - `sklearn.tree`: ابزارهای الگوریتم‌های درختی  \n",
    "  - `sklearn.ensemble`: ابزارهای ترکیبی  \n",
    "- **کلاس‌ها:**  \n",
    "  - `DecisionTreeClassifier`: دسته‌بندی با درخت تصمیم  \n",
    "  - `RandomForestClassifier`: جنگل تصادفی برای دسته‌بندی\n",
    "\n",
    "\n",
    "</div>"
   ]
  },
  {
   "cell_type": "code",
   "execution_count": null,
   "id": "63a08406",
   "metadata": {},
   "outputs": [],
   "source": [
    "\n",
    "from sklearn.tree import DecisionTreeClassifier\n",
    "from sklearn.ensemble import RandomForestClassifier\n",
    "from sklearn.metrics import accuracy_score\n",
    "\n",
    "# درخت تصمیم\n",
    "dt_model = DecisionTreeClassifier(random_state=42)\n",
    "dt_model.fit(X_train, y_train)\n",
    "y_pred_dt = dt_model.predict(X_test)\n",
    "acc_dt = accuracy_score(y_test, y_pred_dt)\n",
    "print(\"دقت مدل درخت تصمیم:\", acc_dt)\n",
    "\n",
    "# جنگل تصادفی\n",
    "rf_model = RandomForestClassifier(n_estimators=200, random_state=42)\n",
    "rf_model.fit(X_train, y_train)\n",
    "y_pred_rf = rf_model.predict(X_test)\n",
    "acc_rf = accuracy_score(y_test, y_pred_rf)\n",
    "print(\"دقت مدل جنگل تصادفی:\", acc_rf)\n"
   ]
  },
  {
   "cell_type": "markdown",
   "id": "163740fe",
   "metadata": {},
   "source": [
    "<div dir=\"rtl\" align=\"right\">\n",
    "\n",
    "\n",
    "### نکات و تفاوت‌ها\n",
    "- **درخت تصمیم:** ساده، تفسیرپذیر، اما مستعد Overfitting  \n",
    "- **جنگل تصادفی:** دقت بالاتر، مقاوم‌تر در برابر Overfitting، اما تفسیرپذیری کمتر\n",
    "\n",
    "\n",
    "</div>"
   ]
  },
  {
   "cell_type": "markdown",
   "id": "595c2884",
   "metadata": {},
   "source": [
    "<div dir=\"rtl\" align=\"right\">\n",
    "\n",
    "\n",
    "### تمرین‌ها\n",
    "- **ex-28:** یک مدل درخت تصمیم بساز و دقت آن را روی داده‌های تست محاسبه کن.  \n",
    "- **ex-29:** یک مدل جنگل تصادفی بساز و دقت آن را با مدل درخت تصمیم مقایسه کن.  \n",
    "- **ex-30:** تفاوت ساختاری بین درخت تصمیم و جنگل تصادفی را با مثال توضیح بده.\n",
    "\n",
    "\n",
    "</div>"
   ]
  },
  {
   "cell_type": "markdown",
   "id": "7415eb23",
   "metadata": {},
   "source": [
    "<div dir=\"rtl\" align=\"right\">\n",
    "\n",
    "\n",
    "# 📘 درس ۴: KNN و K-Means\n",
    "\n",
    "### ریشه‌ی اصطلاحات\n",
    "- **KNN (K-Nearest Neighbors):** الگوریتمی که برای پیش‌بینی برچسب یک نمونه جدید، به K نمونه‌ی نزدیک‌تر در داده‌های آموزش نگاه می‌کند. \"Neighbor\" به دلیل شباهت داده‌ها و \"K\" به تعداد همسایه‌هایی که بررسی می‌شوند اشاره دارد.  \n",
    "- **KMeans:** الگوریتم خوشه‌بندی که داده‌ها را به K خوشه تقسیم می‌کند و هر خوشه حول میانگین (مرکز ثقل) خودش شکل می‌گیرد.\n",
    "\n",
    "\n",
    "</div>"
   ]
  },
  {
   "cell_type": "markdown",
   "id": "4edf96f9",
   "metadata": {},
   "source": [
    "<div dir=\"rtl\" align=\"right\">\n",
    "\n",
    "\n",
    "### معرفی کتابخانه و کلاس‌ها\n",
    "- **کتابخانه:** scikit-learn (sklearn)  \n",
    "- **ماژول‌ها:**  \n",
    "  - `sklearn.neighbors`: ابزارهای مبتنی بر همسایگی  \n",
    "  - `sklearn.cluster`: ابزارهای خوشه‌بندی  \n",
    "- **کلاس‌ها:**  \n",
    "  - `KNeighborsClassifier`: دسته‌بندی با KNN  \n",
    "  - `KMeans`: خوشه‌بندی K-میانگین\n",
    "\n",
    "\n",
    "</div>"
   ]
  },
  {
   "cell_type": "code",
   "execution_count": null,
   "id": "47fc8ae0",
   "metadata": {},
   "outputs": [],
   "source": [
    "\n",
    "from sklearn.neighbors import KNeighborsClassifier\n",
    "from sklearn.cluster import KMeans\n",
    "from sklearn.metrics import accuracy_score\n",
    "\n",
    "# KNN\n",
    "knn_model = KNeighborsClassifier(n_neighbors=3)\n",
    "knn_model.fit(X_train, y_train)\n",
    "y_pred_knn = knn_model.predict(X_test)\n",
    "acc_knn = accuracy_score(y_test, y_pred_knn)\n",
    "print(\"دقت مدل KNN:\", acc_knn)\n"
   ]
  },
  {
   "cell_type": "code",
   "execution_count": null,
   "id": "f803326e",
   "metadata": {},
   "outputs": [],
   "source": [
    "\n",
    "# KMeans\n",
    "kmeans_model = KMeans(n_clusters=3, random_state=42, n_init=\"auto\")\n",
    "kmeans_model.fit(X_train)   # روی داده‌های آموزش خوشه‌بندی می‌کنیم\n",
    "labels = kmeans_model.labels_\n",
    "print(\"برچسب خوشه برای بخش آموزش:\", labels[:20])\n"
   ]
  },
  {
   "cell_type": "markdown",
   "id": "84ad860e",
   "metadata": {},
   "source": [
    "<div dir=\"rtl\" align=\"right\">\n",
    "\n",
    "\n",
    "### نکات و تفاوت‌ها\n",
    "- **KNN:** الگوریتم نظارتی (Supervised)، برای دسته‌بندی یا رگرسیون، نیاز به داده‌های برچسب‌دار دارد.  \n",
    "- **KMeans:** الگوریتم بدون نظارت (Unsupervised)، برای خوشه‌بندی داده‌های بدون برچسب.\n",
    "\n",
    "\n",
    "</div>"
   ]
  },
  {
   "cell_type": "markdown",
   "id": "c152a735",
   "metadata": {},
   "source": [
    "<div dir=\"rtl\" align=\"right\">\n",
    "\n",
    "\n",
    "### تمرین‌ها\n",
    "- **ex-31:** یک مدل KNN با K=3 بساز و دقت آن را روی داده‌های تست محاسبه کن.  \n",
    "- **ex-32:** یک مدل K-Means با K=3 روی داده‌های بدون برچسب اجرا کن و برچسب خوشه‌ها را چاپ کن.  \n",
    "- **ex-33:** تفاوت کاربردی KNN و K-Means را با مثال توضیح بده.\n",
    "\n",
    "\n",
    "</div>"
   ]
  },
  {
   "cell_type": "markdown",
   "id": "c858d47c",
   "metadata": {},
   "source": [
    "<div dir=\"rtl\" align=\"right\">\n",
    "\n",
    "\n",
    "# 📘 درس ۵: SVM و مقایسه الگوریتم‌ها\n",
    "\n",
    "### ریشه‌ی اصطلاحات\n",
    "- **SVM (Support Vector Machine):** الگوریتمی که یک مرز (خط یا صفحه) پیدا می‌کند که داده‌ها را با بیشترین فاصله از نزدیک‌ترین نمونه‌های هر کلاس (بردار پشتیبان) جدا کند.  \n",
    "- **Support Vector:** نمونه‌هایی که نزدیک‌ترین فاصله را به مرز تصمیم دارند و تعیین‌کننده‌ی موقعیت مرز هستند.  \n",
    "- **kernel:** تابعی که داده‌ها را به فضای بالاتر می‌برد تا مرز تصمیم ساده‌تر شود. واژه‌ی \"kernel\" به معنی \"هسته\" است.  \n",
    "- **metrics:** ابزارهای ارزیابی مدل.\n",
    "\n",
    "\n",
    "</div>"
   ]
  },
  {
   "cell_type": "markdown",
   "id": "32be88d8",
   "metadata": {},
   "source": [
    "<div dir=\"rtl\" align=\"right\">\n",
    "\n",
    "\n",
    "### معرفی کتابخانه و کلاس‌ها\n",
    "- **کتابخانه:** scikit-learn (sklearn)  \n",
    "- **ماژول‌ها:**  \n",
    "  - `sklearn.svm`: ابزارهای ماشین بردار پشتیبان  \n",
    "  - `sklearn.metrics`: ابزارهای ارزیابی مدل  \n",
    "- **کلاس‌ها و توابع:**  \n",
    "  - `SVC`: دسته‌بندی با SVM  \n",
    "  - `accuracy_score`, `confusion_matrix`: ارزیابی مدل\n",
    "\n",
    "\n",
    "</div>"
   ]
  },
  {
   "cell_type": "code",
   "execution_count": null,
   "id": "7f1acfdd",
   "metadata": {},
   "outputs": [],
   "source": [
    "\n",
    "from sklearn.svm import SVC\n",
    "from sklearn.metrics import accuracy_score, confusion_matrix\n",
    "\n",
    "svm_model = SVC(kernel='linear', probability=False, random_state=42)\n",
    "svm_model.fit(X_train, y_train)\n",
    "y_pred_svm = svm_model.predict(X_test)\n",
    "acc_svm = accuracy_score(y_test, y_pred_svm)\n",
    "cm_svm = confusion_matrix(y_test, y_pred_svm)\n",
    "print(\"دقت مدل SVM:\", acc_svm)\n",
    "print(\"ماتریس درهم‌ریختگی:\\n\", cm_svm)\n"
   ]
  },
  {
   "cell_type": "markdown",
   "id": "de5e81b3",
   "metadata": {},
   "source": [
    "<div dir=\"rtl\" align=\"right\">\n",
    "\n",
    "\n",
    "### نکات و تفاوت‌ها\n",
    "- **SVM:** مناسب برای داده‌هایی با مرز تصمیم واضح، مقاوم در برابر Overfitting، اما حساس به داده‌های پرت.  \n",
    "- **kernel:** می‌تواند مرز تصمیم را خطی یا غیرخطی کند (مثلاً `'linear'` یا `'rbf'`).\n",
    "\n",
    "\n",
    "</div>"
   ]
  },
  {
   "cell_type": "markdown",
   "id": "bfd1050a",
   "metadata": {},
   "source": [
    "<div dir=\"rtl\" align=\"right\">\n",
    "\n",
    "\n",
    "### تمرین‌ها\n",
    "- **ex-34:** یک مدل SVM با kernel خطی بساز و دقت آن را روی داده‌های تست محاسبه کن.  \n",
    "- **ex-35:** دقت مدل‌های KNN، درخت تصمیم، جنگل تصادفی و SVM را روی یک دیتاست مقایسه کن و نتیجه را تحلیل کن.  \n",
    "- **ex-36:** توضیح بده SVM در چه شرایطی نسبت به سایر الگوریتم‌ها برتری دارد.\n",
    "\n",
    "\n",
    "</div>"
   ]
  },
  {
   "cell_type": "markdown",
   "id": "a7ff319b",
   "metadata": {},
   "source": [
    "<div dir=\"rtl\" align=\"right\">\n",
    "\n",
    "\n",
    "# 📘 درس ۶: جمع‌بندی و پروژه‌ی عملی\n",
    "\n",
    "### مرور مفاهیم\n",
    "در این هفته با الگوریتم‌های کلاسیک یادگیری ماشین، ریشه‌ی اصطلاحات، ساختار کتابخانه‌ها و ماژول‌ها، تفاوت‌ها و کاربردهای هر مدل آشنا شدیم. همچنین یاد گرفتیم که هر الگوریتم برای نوع خاصی از داده و مسئله مناسب‌تر است و معیارهای مقایسه مدل‌ها را بررسی کردیم.\n",
    "\n",
    "\n",
    "</div>"
   ]
  },
  {
   "cell_type": "markdown",
   "id": "e6f3d1aa",
   "metadata": {},
   "source": [
    "<div dir=\"rtl\" align=\"right\">\n",
    "\n",
    "\n",
    "### تمرین‌ها\n",
    "- **ex-37:** یک جدول مقایسه‌ای از ویژگی‌های اصلی الگوریتم‌های هفته سوم تهیه کن (نوع داده، کاربرد، مزایا، معایب).  \n",
    "- **ex-38:** یک مثال واقعی برای هر الگوریتم بنویس که در دنیای واقعی کاربرد دارد.\n",
    "\n",
    "\n",
    "</div>"
   ]
  },
  {
   "cell_type": "markdown",
   "id": "cf9b0193",
   "metadata": {},
   "source": [
    "<div dir=\"rtl\" align=\"right\">\n",
    "\n",
    "\n",
    "### پروژه‌ی عملی — project-02\n",
    "یک پروژه‌ی کامل یادگیری ماشین کلاسیک انجام بده:\n",
    "1. یک دیتاست واقعی یا فرضی انتخاب کن (مثلاً اطلاعات دانش‌آموزان، مشتریان یا داده‌های پزشکی)  \n",
    "2. مراحل زیر را انجام بده:  \n",
    "   - پیش‌پردازش داده‌ها (پاک‌سازی، نرمال‌سازی، تبدیل داده‌های متنی)  \n",
    "   - تقسیم داده‌ها به آموزش و تست  \n",
    "   - ساخت و آموزش حداقل سه مدل مختلف (مثلاً رگرسیون لجستیک، درخت تصمیم، SVM)  \n",
    "   - ارزیابی و مقایسه دقت مدل‌ها  \n",
    "   - تحلیل و انتخاب بهترین مدل برای مسئله  \n",
    "3. کدها و تحلیل‌ها را به صورت مستند و قابل اجرا آماده کن.\n",
    "\n",
    "\n",
    "</div>"
   ]
  },
  {
   "cell_type": "markdown",
   "id": "b1b4d2b0",
   "metadata": {},
   "source": [
    "<div dir=\"rtl\" align=\"right\">\n",
    "\n",
    "\n",
    "## 📚 منابع جلسه\n",
    "- **Hands-On Machine Learning with Scikit-Learn, Keras & TensorFlow (Géron)** — فصل‌های 1، 2، 3، 4  \n",
    "- **Pattern Recognition and Machine Learning (Bishop)** — فصل 1 (مقدمات)، 4 (مدل‌های خطی)، 7 (SVM)  \n",
    "- **Python for Data Analysis (McKinney)** — فصل‌های مقدماتی برای آماده‌سازی داده  \n",
    "- **Fluent Python (Ramalho)** — فصل‌های مربوط به مدل ذهنی پایتون و ساختارهای داده (برای کدنویسی بهتر)  \n",
    "- **Effective Python (Slatkin)** — آیتم‌های مربوط به سبک کدنویسی و تست‌پذیری\n",
    "\n",
    "\n",
    "</div>"
   ]
  }
 ],
 "metadata": {},
 "nbformat": 4,
 "nbformat_minor": 5
}
