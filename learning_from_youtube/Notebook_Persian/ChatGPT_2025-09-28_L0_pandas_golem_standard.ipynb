{
 "cells": [
  {
   "cell_type": "markdown",
   "id": "a6fbcb92",
   "metadata": {},
   "source": [
    "<a id=\"top\"></a>"
   ]
  },
  {
   "cell_type": "markdown",
   "id": "c7822b71",
   "metadata": {},
   "source": [
    "<div dir=\"rtl\" align=\"right\">\n",
    "\n",
    "# 📑 فهرست مطالب\n",
    "\n",
    "- [- [داده جدولی | درس یک](#sec-1)](#sec-1)\n",
    "- [- [اجزاء دیتافریم | درس دو](#sec-8)](#sec-2)\n",
    "- [داده جدولی | درس یک](#sec-3)\n",
    "  - [ساختن دیتا فریم از دیکشنری](#sec-4)\n",
    "  - [### اجزای دیتافریم:](#sec-5)\n",
    "  - [### ساختن یک سری:](#sec-6)\n",
    "  - [## 🔍 Differenza chiave:](#sec-7)\n",
    "  - [**ds_1**](#sec-8)\n",
    "  - [**ds_2**](#sec-9)\n",
    "- [اجزاء دیتافریم | درس دو](#sec-10)\n",
    "- [pathlib استفاده از کتابخانه](#sec-11)\n",
    "- [برای سهولت استفاده از آدرس ها](#sec-12)\n",
    "  - [### دسترسی به اجزای دیتافریم:](#sec-13)\n",
    "  - [بررسی کلاس ها و آبجکت های](#sec-14)\n",
    "  - [کار روی فایل csv](#sec-15)\n",
    "  - [- نگاشت رایج:](#sec-16)\n",
    "  - [- در صورت **ترکیب داده‌های مختلف** در یک ستون:](#sec-17)\n",
    "- [🧮 محاسبه فراوانی مقادیر](#sec-18)\n",
    "  - [برای به دست آوردن فراوانی (Frequency) مقادیر در یک ستون از تابع value_counts استفاده می‌کنیم:](#sec-19)\n",
    "  - [خلاصه‌ای از اطلاعات دیتافریم را نمایش می‌دهد:](#sec-20)\n",
    "- [انتخاب تک ستون | درس چهار](#sec-21)\n",
    "- [خواندن و نوشتن | درس پنج](#sec-22)\n",
    "  - [موارد زیر بیشتر برای داده های استرینگ کاربرد دارند:](#sec-23)\n",
    "  - [### برخی دیگر از اطلاعات آماری:](#sec-24)\n",
    "- [انتخاب چند سری | درس هفت](#sec-25)\n",
    "  - [برای به دست آوردن فقط چند سطر دلخواه از تعدادی ستون دلخواه:](#sec-26)\n",
    "- [عملگرها | درس هشت](#sec-27)\n",
    "- [تغییر نام ستون‌ها | درس نه](#sec-28)\n",
    "  - [تابع زیر از یکی از سری ها به عنوان ایندکس استفاده میکند:](#sec-29)\n",
    "- [حذف و اضافه کردن ستون | درس ده](#sec-30)\n",
    "- [درس یازده](#sec-31)\n",
    "- [حل مسئله | درس دوازده](#sec-32)\n",
    "- [داده ناموجود | درس سیزده](#sec-33)\n",
    "- [عبارت‌های شرطی | درس چهارده](#sec-34)\n",
    "- [گروه‌بندی (groupby)| درس پانزده](#sec-35)\n",
    "  - [🧠 Obiettivo di:](#sec-36)\n",
    "  - [🔢 Supponiamo di avere questo DataFrame:](#sec-37)\n",
    "  - [🔍 E ora eseguiamo:](#sec-38)\n",
    "  - [🟢 Questo fa:](#sec-39)\n",
    "  - [🔁 Quindi head(2) dentro a groupby(\"state\") significa:](#sec-40)\n",
    "  - [به من اجازه میدهد تا توابع گوناگونی را همزمان روی موضوع مورد نظرم اعمال کنم:](#sec-41)\n",
    "- [کار با تاریخ | درس شانزده](#sec-42)\n",
    "- [حل مسئله | درس هفده](#sec-43)\n",
    "  - [تمرین:](#sec-44)\n",
    "  - [Use condition in loc:](#sec-45)\n",
    "  - [تمرین 2:](#sec-46)\n",
    "  - [استفاده از تابع دیگر در خود پانداس:](#sec-47)\n",
    "  - [###توضیح پارامترها:](#sec-48)\n",
    "  - [right=False:](#sec-49)\n",
    "  - [###💡 نکته امنیتی:](#sec-50)\n",
    "\n",
    "\n",
    "\n",
    "</div>"
   ]
  },
  {
   "cell_type": "markdown",
   "id": "8cbcc550",
   "metadata": {
    "id": "8cbcc550"
   },
   "source": [
    "<div dir=\"rtl\" align=\"right\">\n",
    "\n",
    "# https://www.youtube.com/watch?v=yuKAOHn7uvY&list=PLnEg28Nx10WHuT0Eiom77WnXONNWmq0Wb&index=1\n",
    "https://t.me/golemcourse\n",
    "https://github.com/aaghamohammadi\n",
    "  / aaghamohammadi  \n",
    "https://github.com/aaghamohammadi/pandasclass/tree/master/data\n",
    "\n",
    "</div>"
   ]
  },
  {
   "cell_type": "markdown",
   "id": "5ac8dad6",
   "metadata": {},
   "source": [
    "<div dir=\"rtl\" align=\"right\">\n",
    "\n",
    "# آموزش کتابخانه پانداس\n",
    "\n",
    "</div>"
   ]
  },
  {
   "cell_type": "markdown",
   "id": "e57d33bf",
   "metadata": {},
   "source": [
    "<div dir=\"rtl\" align=\"right\">\n",
    "\n",
    "<a id=\"sec-1\"></a>\n",
    "<a id=\"sec-3\"></a>\n",
    "## داده جدولی | درس یک  [↥ top](#top)\n",
    "\n",
    "</div>"
   ]
  },
  {
   "cell_type": "code",
   "execution_count": null,
   "id": "93175728",
   "metadata": {
    "id": "93175728"
   },
   "outputs": [],
   "source": [
    "import pandas"
   ]
  },
  {
   "cell_type": "markdown",
   "id": "219ba8d6",
   "metadata": {
    "id": "219ba8d6"
   },
   "source": [
    "<div dir=\"rtl\" align=\"right\">\n",
    "\n",
    "<a id=\"sec-2\"></a>\n",
    "<a id=\"sec-4\"></a>\n",
    "### ساختن دیتا فریم از دیکشنری\n",
    "\n",
    "کلید ها در نقش نام سری ها \n",
    "\n",
    " مقادیر هر کلید به صورت لیست یا تاپلی از مقدار هر سری\n",
    "</div>"
   ]
  },
  {
   "cell_type": "code",
   "execution_count": null,
   "id": "55d9a21b",
   "metadata": {
    "id": "55d9a21b"
   },
   "outputs": [],
   "source": [
    "df_1= pandas.DataFrame(\n",
    "    {\n",
    "        \"fName\": ('iman','lucia','MaryG'),\n",
    "        \"bornIn\": ('Tehran', 'Catania', 'Catania'),\n",
    "        \"occupation\": (\"impiegato\", \"studente\", \"disoccupata\")\n",
    "    }\n",
    ")\n",
    "df_1"
   ]
  },
  {
   "cell_type": "code",
   "execution_count": null,
   "id": "OcCixKgHmqR8",
   "metadata": {
    "id": "OcCixKgHmqR8"
   },
   "outputs": [],
   "source": [
    "df_2=pandas.DataFrame([[1,2,3],[2,3,4]],columns=(\"A\",\"B\",\"C\"), index=(2,5))\n",
    "df_2"
   ]
  },
  {
   "cell_type": "code",
   "execution_count": null,
   "id": "iIa05pzam0F4",
   "metadata": {
    "id": "iIa05pzam0F4"
   },
   "outputs": [],
   "source": [
    "df_3=pandas.DataFrame({'name':['iman', 'hanie'], 'age':[25,24]})\n",
    "df_3"
   ]
  },
  {
   "cell_type": "markdown",
   "id": "a7ac232b",
   "metadata": {
    "id": "a7ac232b"
   },
   "source": [
    "<div dir=\"rtl\" align=\"right\">\n",
    "\n",
    "<a id=\"sec-3\"></a>\n",
    "<a id=\"sec-5\"></a>\n",
    "### ### اجزای دیتافریم:\n",
    "\n",
    "نام سری ها\n",
    "\n",
    "مقادیر هر سری\n",
    "\n",
    "اندیس هر سطر\n",
    "\n",
    "</div>"
   ]
  },
  {
   "cell_type": "markdown",
   "id": "677293b9",
   "metadata": {
    "id": "677293b9"
   },
   "source": [
    "<div dir=\"rtl\" align=\"right\">\n",
    "\n",
    "<a id=\"sec-4\"></a>\n",
    "<a id=\"sec-6\"></a>\n",
    "### ### ساختن یک سری:\n",
    "اجزای یک سری شامل نام سری و مفادیر و اندیس\n",
    "</div>"
   ]
  },
  {
   "cell_type": "code",
   "execution_count": null,
   "id": "69058333",
   "metadata": {
    "id": "69058333"
   },
   "outputs": [],
   "source": [
    "ds_1=pandas.Series((\"Bologna\", \"Catania\", \"Perugia\"), name=\"città\")\n",
    "ds_2=pandas.Series({'città':[\"Bologna\",\"Catania\", \"Perugia\"]}) # it's a series but with just a\n",
    "print(ds_1.info(), ds_2.info())\n"
   ]
  },
  {
   "cell_type": "markdown",
   "id": "RF8uFeZoJ0ig",
   "metadata": {
    "id": "RF8uFeZoJ0ig"
   },
   "source": [
    "<div dir=\"rtl\" align=\"right\">\n",
    "\n",
    "<a id=\"sec-5\"></a>\n",
    "<a id=\"sec-7\"></a>\n",
    "### ## 🔍 Differenza chiave:\n",
    "\n",
    "<a id=\"sec-6\"></a>\n",
    "<a id=\"sec-8\"></a>\n",
    "### **ds_1**\n",
    "\n",
    "\n",
    ">#### **Tipo di input:**\n",
    "*   Tupla di valori ((\"Bologna\", ...))\n",
    "\n",
    ">#### **Risultato:**\n",
    "*   Una Series con valori testuali e nome \"città\"\n",
    "\n",
    "> #### **Output:**\n",
    "*  Serie con 3 elementi separati\n",
    "\n",
    "\n",
    "---\n",
    "\n",
    "\n",
    "<a id=\"sec-7\"></a>\n",
    "<a id=\"sec-9\"></a>\n",
    "### **ds_2**\n",
    "\n",
    ">#### **Tipo di input:**\n",
    "*  Dizionario con una sola chiave ('città') e una lista come valore\n",
    "\n",
    ">#### **Risultato:**\n",
    "* Una Series con una sola riga, dove l'indice è 'città' e il valore è una lista\n",
    "\n",
    ">#### **Output:**\n",
    " *  Serie con 1 elemento (una lista)\n",
    "\n",
    "\n",
    "\n",
    "\n",
    "</div>"
   ]
  },
  {
   "cell_type": "markdown",
   "id": "07b5c1a6",
   "metadata": {
    "id": "07b5c1a6"
   },
   "source": [
    "<div dir=\"rtl\" align=\"right\">\n",
    "\n",
    "<a id=\"sec-8\"></a>\n",
    "<a id=\"sec-10\"></a>\n",
    "## اجزاء دیتافریم | درس دو  [↥ top](#top)\n",
    "\n",
    "</div>"
   ]
  },
  {
   "cell_type": "markdown",
   "id": "03cbdf6c",
   "metadata": {
    "id": "03cbdf6c"
   },
   "source": [
    "<div dir=\"rtl\" align=\"right\">\n",
    "\n",
    "<a id=\"sec-9\"></a>\n",
    "<a id=\"sec-11\"></a>\n",
    "## pathlib استفاده از کتابخانه\n",
    "\n",
    "<a id=\"sec-12\"></a>\n",
    "## برای سهولت استفاده از آدرس ها  [↥ top](#top)\n",
    "</div>"
   ]
  },
  {
   "cell_type": "code",
   "execution_count": null,
   "id": "f2bba2a5",
   "metadata": {
    "id": "f2bba2a5"
   },
   "outputs": [],
   "source": [
    "from pathlib import Path\n",
    "#dpath=path(\"../data\")\n",
    "#df = pd.read_csv(dpath / \"all-states-history.csv\")"
   ]
  },
  {
   "cell_type": "markdown",
   "id": "f51d18fe",
   "metadata": {
    "id": "f51d18fe"
   },
   "source": [
    "\n",
    "<div dir=\"rtl\" align=\"right\">\n",
    "\n",
    "<a id=\"sec-10\"></a>\n",
    "<a id=\"sec-13\"></a>\n",
    "### ### دسترسی به اجزای دیتافریم:\n",
    "\n",
    "\n",
    "\n",
    "</div>\n",
    "\n",
    "1. index (RangeIndex(start=0, stop=3, step=1))\n",
    "\n",
    "2. columns names (index class)\n",
    "\n",
    "3. values"
   ]
  },
  {
   "cell_type": "code",
   "execution_count": null,
   "id": "56ab1b47",
   "metadata": {
    "id": "56ab1b47"
   },
   "outputs": [],
   "source": [
    "print(\"df_1: \", df_1,end=\"\\n..............\\n\",sep=\"\\n\")\n",
    "print(\".index: \",df_1.index,sep=\"\\n\\t\")\n",
    "print(\".columns: \",df_1.columns,sep=\"\\n\\t\")\n",
    "print(\".to_numpy(): \",df_1.to_numpy(),sep=\"\\n\\n\")"
   ]
  },
  {
   "cell_type": "markdown",
   "id": "f514a384",
   "metadata": {
    "id": "f514a384"
   },
   "source": [
    "<div dir=\"rtl\" align=\"right\">\n",
    "\n",
    "#### pandas.index کلاس اصلی\n",
    "\n",
    "#### pandas.rangeIndex کلاس اندیس ها، زیر مجموعه کلاس بالا\n",
    "\n",
    "#### df_1.columns.__class__  آبجکتی از کلاسی که زیر مجموعه کلاس اول است\n",
    "\n",
    "</div>"
   ]
  },
  {
   "cell_type": "markdown",
   "id": "7b727d23",
   "metadata": {
    "id": "7b727d23"
   },
   "source": [
    "<div dir=\"rtl\" align=\"right\">\n",
    "\n",
    "<a id=\"sec-11\"></a>\n",
    "<a id=\"sec-14\"></a>\n",
    "### بررسی کلاس ها و آبجکت های\n",
    "\n",
    "#### .columns\n",
    "\n",
    "#### .index\n",
    "\n",
    " \n",
    "</div>"
   ]
  },
  {
   "cell_type": "code",
   "execution_count": null,
   "id": "bcc219a1",
   "metadata": {
    "collapsed": true,
    "id": "bcc219a1"
   },
   "outputs": [],
   "source": [
    "print(issubclass(pandas.RangeIndex, pandas.Index))\n",
    "print(issubclass(df_1.columns.__class__, pandas.Index))"
   ]
  },
  {
   "cell_type": "markdown",
   "id": "c76b0d06",
   "metadata": {
    "id": "c76b0d06"
   },
   "source": [
    "<div dir=\"rtl\" align=\"right\">\n",
    "\n",
    "<a id=\"sec-12\"></a>\n",
    "<a id=\"sec-15\"></a>\n",
    "### کار روی فایل csv\n",
    "\n",
    "</div>"
   ]
  },
  {
   "cell_type": "code",
   "execution_count": null,
   "id": "a93ce3eb",
   "metadata": {
    "colab": {
     "base_uri": "https://localhost:8080/"
    },
    "executionInfo": {
     "elapsed": 119,
     "status": "ok",
     "timestamp": 1748099664787,
     "user": {
      "displayName": "Iman Sorati Ashtiani",
      "userId": "01458661742524148253"
     },
     "user_tz": -120
    },
    "id": "a93ce3eb",
    "outputId": "55e5872a-a3f2-466a-a1ae-8bb7e3cdafb0"
   },
   "outputs": [],
   "source": [
    "import pandas\n",
    "df_2= pandas.read_csv(\"all-states-history.csv\")\n",
    "print(df_2.head(1))"
   ]
  },
  {
   "cell_type": "markdown",
   "id": "b9fae32c",
   "metadata": {},
   "source": [
    "<div dir=\"rtl\" align=\"right\">\n",
    "\n",
    "# 📘 نوع داده‌ها در پانداس و محاسبه فراوانی  \n",
    "\n",
    "- پانداس به هر ستون یک **نوع داده (dtype)** اختصاص می‌دهد که با ویژگی `dtypes` قابل دسترسی است.  \n",
    "<a id=\"sec-13\"></a>\n",
    "<a id=\"sec-16\"></a>\n",
    "### - نگاشت رایج:\n",
    "  - `object` → رشته (string)  \n",
    "  - `NaN` (Not a Number) → به صورت پیش‌فرض `float64` ذخیره می‌شود.  \n",
    "\n",
    "<a id=\"sec-14\"></a>\n",
    "<a id=\"sec-17\"></a>\n",
    "### - در صورت **ترکیب داده‌های مختلف** در یک ستون:\n",
    "  - رشته (string) نسبت به انواع دیگر غالب می‌شود.  \n",
    "  - عدد اعشاری (float) نسبت به عدد صحیح (int) غالب می‌شود.  \n",
    "\n",
    "---\n",
    "\n",
    "<a id=\"sec-15\"></a>\n",
    "<a id=\"sec-18\"></a>\n",
    "## 🧮 محاسبه فراوانی مقادیر\n",
    "\n",
    "<a id=\"sec-16\"></a>\n",
    "<a id=\"sec-19\"></a>\n",
    "### برای به دست آوردن فراوانی (Frequency) مقادیر در یک ستون از تابع value_counts استفاده می‌کنیم:"
   ]
  },
  {
   "cell_type": "code",
   "execution_count": null,
   "id": "cc51489c",
   "metadata": {
    "colab": {
     "base_uri": "https://localhost:8080/"
    },
    "executionInfo": {
     "elapsed": 29,
     "status": "ok",
     "timestamp": 1748099961763,
     "user": {
      "displayName": "Iman Sorati Ashtiani",
      "userId": "01458661742524148253"
     },
     "user_tz": -120
    },
    "id": "cc51489c",
    "outputId": "3b8fb9fa-32e9-4bbe-d291-8648344eb36f"
   },
   "outputs": [],
   "source": [
    "#print(df_2.head())\n",
    "#print(df_2.tail())\n",
    "print(df_2.dtypes, \"type: \",type(df_2.dtypes),sep=\"\\n\\t\")\n",
    "print(df_2.dtypes.value_counts(), \"Type:\", type(df_2.dtypes.value_counts()),sep=\"\\n\\t\")"
   ]
  },
  {
   "cell_type": "markdown",
   "id": "b7109972",
   "metadata": {
    "id": "b7109972"
   },
   "source": [
    "<div dir=\"rtl\" align=\"right\">\n",
    "\n",
    ".info()✅\n",
    "\n",
    "این یک فراخوانی متداست.\n",
    "\n",
    "<a id=\"sec-17\"></a>\n",
    "<a id=\"sec-20\"></a>\n",
    "### خلاصه‌ای از اطلاعات دیتافریم را نمایش می‌دهد:\n",
    "\n",
    "تعداد ردیف‌ها (entries)\n",
    "\n",
    "نوع ایندکس (index)\n",
    "\n",
    "نام ستون‌ها و نوع داده هر ستون\n",
    "\n",
    "تعداد مقادیر غیر تهی (non-null)\n",
    "\n",
    "میزان حافظه مصرفی (memory usage)\n",
    "\n",
    "info() : type() .index + <Data columns (total 41 columns)> + dtypes() + <Non-Null Count> + <dtypes counts()> + ...\n",
    "\n",
    "</div>"
   ]
  },
  {
   "cell_type": "code",
   "execution_count": null,
   "id": "232b9050",
   "metadata": {
    "colab": {
     "base_uri": "https://localhost:8080/"
    },
    "executionInfo": {
     "elapsed": 12,
     "status": "ok",
     "timestamp": 1748100162597,
     "user": {
      "displayName": "Iman Sorati Ashtiani",
      "userId": "01458661742524148253"
     },
     "user_tz": -120
    },
    "id": "232b9050",
    "outputId": "994da3ac-cd57-4dd4-d6be-32cd88a53ca1"
   },
   "outputs": [],
   "source": [
    "print(df_2.info())"
   ]
  },
  {
   "cell_type": "markdown",
   "id": "c76b3893",
   "metadata": {
    "id": "c76b3893"
   },
   "source": [
    "<div dir=\"rtl\" align=\"right\">\n",
    "\n",
    "<a id=\"sec-21\"></a>\n",
    "## انتخاب تک ستون | درس چهار  [↥ top](#top)\n",
    "\n",
    "\n",
    "</div>"
   ]
  },
  {
   "cell_type": "markdown",
   "id": "363ad054",
   "metadata": {
    "id": "363ad054"
   },
   "source": [
    "<div dir=\"rtl\" align=\"right\">\n",
    "\n",
    "الف: بیرون کشیدن سری با استفاده از نام آن به عنوان کلید\n",
    "\n",
    "ب: بیرون کشیدن سری با استفاده از نام آن به عنوان اتریبیوت\n",
    "\n",
    "</div>"
   ]
  },
  {
   "cell_type": "code",
   "execution_count": null,
   "id": "fe403c6f",
   "metadata": {
    "id": "fe403c6f"
   },
   "outputs": [],
   "source": [
    "df_2[\"state\"]\n",
    "df_2.state"
   ]
  },
  {
   "cell_type": "markdown",
   "id": "f608047f",
   "metadata": {
    "id": "f608047f"
   },
   "source": [
    "<div dir=\"rtl\" align=\"right\">\n",
    "\n",
    "بیرون کشیدن قسمتی از یک یا چند سری با انتخاب سطر های خاص\n",
    "\n",
    "</div>"
   ]
  },
  {
   "cell_type": "code",
   "execution_count": null,
   "id": "b69325bc",
   "metadata": {
    "id": "b69325bc"
   },
   "outputs": [],
   "source": [
    "df_2.loc[:,\"state\"]\n",
    "df_2.iloc[:,[1,2]].head()"
   ]
  },
  {
   "cell_type": "markdown",
   "id": "86fd8b7a",
   "metadata": {
    "id": "86fd8b7a"
   },
   "source": [
    "<div dir=\"rtl\" align=\"right\">\n",
    "\n",
    "<a id=\"sec-22\"></a>\n",
    "## خواندن و نوشتن | درس پنج  [↥ top](#top)\n",
    "\n",
    "</div>"
   ]
  },
  {
   "cell_type": "markdown",
   "id": "171154b7",
   "metadata": {
    "id": "171154b7"
   },
   "source": [
    "<div dir=\"rtl\" align=\"right\">\n",
    "\n",
    "فایل  csv\n",
    "\n",
    "</div>"
   ]
  },
  {
   "cell_type": "code",
   "execution_count": null,
   "id": "d8be2c1f",
   "metadata": {
    "id": "d8be2c1f"
   },
   "outputs": [],
   "source": [
    "from pathlib import Path\n",
    "dpath=Path(r\"C:\\Users\\imana\\Documents\\Courses\\Youtube-farsi\")\n",
    "#df = pandas.read_csv(dpath / \"all-states-history.csv\")\n",
    "df=pandas.read_csv(\"all-states-history.csv\")"
   ]
  },
  {
   "cell_type": "markdown",
   "id": "5329c03e",
   "metadata": {
    "id": "5329c03e"
   },
   "source": [
    "<div dir=\"rtl\" align=\"right\">\n",
    "\n",
    "نوشتن و خواندن فایل excel\n",
    "\n",
    "df.to_excel(path=\"\",index=T/F,sheet_name=\"\")\n",
    "\n",
    "</div>"
   ]
  },
  {
   "cell_type": "code",
   "execution_count": null,
   "id": "52b85ef4",
   "metadata": {
    "id": "52b85ef4"
   },
   "outputs": [],
   "source": [
    "path_to_write=\"all-state-hostory.xlsx\"\n",
    "write_index=False\n",
    "sheet_name=\"my_sheet\"\n",
    "df.to_excel(path_to_write,index=write_index,sheet_name=sheet_name)\n",
    "pandas.read_excel(path_to_write,sheet_name=\"my_sheet\").head(2)"
   ]
  },
  {
   "cell_type": "markdown",
   "id": "8cc33249",
   "metadata": {
    "id": "8cc33249"
   },
   "source": [
    "<div dir=\"rtl\" align=\"right\">\n",
    "\n",
    "چند تابع پرکاربرد | جلسه شش\n",
    "\n",
    "</div>"
   ]
  },
  {
   "cell_type": "markdown",
   "id": "e9386947",
   "metadata": {
    "id": "e9386947"
   },
   "source": [
    "<div dir=\"rtl\" align=\"right\">\n",
    "\n",
    "به دست آوردن ابعاد(تعداد سطر و سری ها)\n",
    "\n",
    "* df.shape\n",
    "\n",
    "* df.info()\n",
    "\n",
    "* len(df)\n",
    "\n",
    "* df.size\n",
    "\n",
    "* df[\"state\"].size\n",
    "\n",
    "\n",
    "\n",
    "\n",
    "</div>"
   ]
  },
  {
   "cell_type": "code",
   "execution_count": null,
   "id": "107c7935",
   "metadata": {
    "colab": {
     "base_uri": "https://localhost:8080/"
    },
    "executionInfo": {
     "elapsed": 22,
     "status": "ok",
     "timestamp": 1748100447855,
     "user": {
      "displayName": "Iman Sorati Ashtiani",
      "userId": "01458661742524148253"
     },
     "user_tz": -120
    },
    "id": "107c7935",
    "outputId": "fa682aaf-f75d-4154-c91f-4764e7c64700"
   },
   "outputs": [],
   "source": [
    "df.shape, type(df.shape)"
   ]
  },
  {
   "cell_type": "code",
   "execution_count": null,
   "id": "f14e3642",
   "metadata": {
    "id": "f14e3642"
   },
   "outputs": [],
   "source": [
    "len(df), df.state.size, df[\"state\"].size, type(len(df)), type(df.state.size)"
   ]
  },
  {
   "cell_type": "markdown",
   "id": "69a9d24e",
   "metadata": {
    "id": "69a9d24e"
   },
   "source": [
    "<div dir=\"rtl\" align=\"right\">\n",
    "\n",
    "<a id=\"sec-18\"></a>\n",
    "<a id=\"sec-23\"></a>\n",
    "### موارد زیر بیشتر برای داده های استرینگ کاربرد دارند:\n",
    "\n",
    "پیدا کردن فراوانی هریک از مقادیر یک سری count\n",
    "\n",
    "پیدا کردن توزیع هراوانی هر مقدار یک سری proportion\n",
    "\n",
    "\n",
    "\n",
    "</div>"
   ]
  },
  {
   "cell_type": "code",
   "execution_count": null,
   "id": "54dcdfff",
   "metadata": {
    "colab": {
     "base_uri": "https://localhost:8080/"
    },
    "executionInfo": {
     "elapsed": 21,
     "status": "ok",
     "timestamp": 1748100501887,
     "user": {
      "displayName": "Iman Sorati Ashtiani",
      "userId": "01458661742524148253"
     },
     "user_tz": -120
    },
    "id": "54dcdfff",
    "outputId": "78381825-b386-48c9-c7ef-8cb5e0e0a76a"
   },
   "outputs": [],
   "source": [
    "count=df.state.value_counts()\n",
    "proportion=df.state.value_counts(normalize=True)\n",
    "print(count,proportion,sep=\"\\n....................................\\n\")\n"
   ]
  },
  {
   "cell_type": "markdown",
   "id": "ed104e37",
   "metadata": {
    "id": "ed104e37"
   },
   "source": [
    "<div dir=\"rtl\" align=\"right\">\n",
    "\n",
    "<a id=\"sec-19\"></a>\n",
    "<a id=\"sec-24\"></a>\n",
    "### برخی دیگر از اطلاعات آماری:\n",
    "\n",
    "\n",
    "\n",
    "\n",
    "\n",
    "\n",
    "\n",
    "\n",
    "\n",
    "</div>\n",
    "\n",
    "پیدا کردن تعداد داده های غیر تهی در  یک ستون count  \n",
    "min()  \n",
    "max()  \n",
    "mean()  \n",
    "quantile()  \n",
    "تشریح آماری مختصر یک ستون معمولا عددی describe()  "
   ]
  },
  {
   "cell_type": "code",
   "execution_count": null,
   "id": "29ce1e88",
   "metadata": {
    "colab": {
     "base_uri": "https://localhost:8080/"
    },
    "executionInfo": {
     "elapsed": 7,
     "status": "ok",
     "timestamp": 1748100596429,
     "user": {
      "displayName": "Iman Sorati Ashtiani",
      "userId": "01458661742524148253"
     },
     "user_tz": -120
    },
    "id": "29ce1e88",
    "outputId": "41dd3a42-7d49-40ca-99e3-f4d85f383c08"
   },
   "outputs": [],
   "source": [
    "not_NaN_count=df.totalTestsViral.count()\n",
    "min=df.totalTestsViral.min()\n",
    "max= df.totalTestsViral.max()\n",
    "mean=df.totalTestsViral.mean()\n",
    "quantiles=df.totalTestsViral.quantile([0.1,0.3])\n",
    "description=df.totalTestsViral.describe()\n",
    "print(not_NaN_count,min, max, mean, quantiles, description, sep=\"\\n.....................................\\n\")"
   ]
  },
  {
   "cell_type": "markdown",
   "id": "88090f09",
   "metadata": {
    "id": "88090f09"
   },
   "source": [
    "<div dir=\"rtl\" align=\"right\">\n",
    "\n",
    "<a id=\"sec-25\"></a>\n",
    "## انتخاب چند سری | درس هفت  [↥ top](#top)\n",
    "\n",
    "</div>"
   ]
  },
  {
   "cell_type": "markdown",
   "id": "b14afa72",
   "metadata": {
    "id": "b14afa72"
   },
   "source": [
    "<div dir=\"rtl\" align=\"right\">\n",
    "\n",
    "برای بیرون کشیدن چند سری از یک دیتافریم، باید یک لیست از نام سری ها را به عنوان کلید به دیتافریم بدهیم\n",
    "\n",
    "</div>"
   ]
  },
  {
   "cell_type": "code",
   "execution_count": null,
   "id": "f0fd1c0a",
   "metadata": {
    "colab": {
     "base_uri": "https://localhost:8080/",
     "height": 206
    },
    "executionInfo": {
     "elapsed": 96,
     "status": "ok",
     "timestamp": 1748100675207,
     "user": {
      "displayName": "Iman Sorati Ashtiani",
      "userId": "01458661742524148253"
     },
     "user_tz": -120
    },
    "id": "f0fd1c0a",
    "outputId": "1eaee625-2253-4814-d48d-43106807312a"
   },
   "outputs": [],
   "source": [
    "df_1=df[[\"state\", \"death\"]]\n",
    "df_1.head()"
   ]
  },
  {
   "cell_type": "markdown",
   "id": "757798ab",
   "metadata": {
    "id": "757798ab"
   },
   "source": [
    "<div dir=\"rtl\" align=\"right\">\n",
    "\n",
    "<a id=\"sec-20\"></a>\n",
    "<a id=\"sec-26\"></a>\n",
    "### برای به دست آوردن فقط چند سطر دلخواه از تعدادی ستون دلخواه:\n",
    "\n",
    "(دقت شود که در حال استفاده از اسلایس نیستیم و هر دو مفدار ابتدا و\n",
    "انتهای شماره سطر ها در داده به عنوان خروجی لحاظ میشوند!)\n",
    "\n",
    "\n",
    "</div>"
   ]
  },
  {
   "cell_type": "code",
   "execution_count": null,
   "id": "142b2a32",
   "metadata": {
    "id": "142b2a32"
   },
   "outputs": [],
   "source": [
    "df_2=df.loc[:5,[\"state\", \"death\"]] # rows: 0, 1, 2, 3, 4, 5 of columns \"state\", \"death\"\n",
    "df_2\n",
    "#df.loc[2:2], df.loc[2]\n",
    "print(df.loc[2:2])\n",
    "#print(df.iloc[2:3])\n",
    "\n",
    "# type(  df.iloc[2]   )    #pandas.core.series.Series\n",
    "# type(   )    #pandas.core.frame.DataFrame\n"
   ]
  },
  {
   "cell_type": "markdown",
   "id": "3757bcb1",
   "metadata": {
    "id": "3757bcb1"
   },
   "source": [
    "<div dir=\"rtl\" align=\"right\">\n",
    "\n",
    "به تفاوت استفاده از اندیس های سطر در\n",
    "loc و iloc\n",
    "در خروجی دقت کن\n",
    "\n",
    "</div>"
   ]
  },
  {
   "cell_type": "code",
   "execution_count": null,
   "id": "3e645176",
   "metadata": {
    "id": "3e645176"
   },
   "outputs": [],
   "source": [
    "df_3=df.iloc[:5,[1,2]]\n",
    "df_3"
   ]
  },
  {
   "cell_type": "markdown",
   "id": "236526c6",
   "metadata": {
    "id": "236526c6"
   },
   "source": [
    "<div dir=\"rtl\" align=\"right\">\n",
    "\n",
    "<a id=\"sec-27\"></a>\n",
    "## عملگرها | درس هشت  [↥ top](#top)\n",
    "\n",
    "</div>"
   ]
  },
  {
   "cell_type": "markdown",
   "id": "e0cccabf",
   "metadata": {
    "id": "e0cccabf"
   },
   "source": [
    "<div dir=\"rtl\" align=\"right\">\n",
    "\n",
    "میتوانیم عملگر های ریاضی را روی سری ها اعمال کنیم.\n",
    "این کار در پانداس مثل این است که عملگر یا تابع موردنظر، در یک حلقه، روی همه ی رکوردهای آن سری به طور موازی اعمال شود\n",
    "نکته مهم این است که اگر از عملگر ریاضی استفاده کنیم، باید عبارت را در درون پرانتز قرار دهیم. در غیر این صورت دیتافریم خالی بر میگرداند!\n",
    "\n",
    "</div>"
   ]
  },
  {
   "cell_type": "code",
   "execution_count": null,
   "id": "d1938b21",
   "metadata": {
    "colab": {
     "base_uri": "https://localhost:8080/",
     "height": 458
    },
    "executionInfo": {
     "elapsed": 48,
     "status": "ok",
     "timestamp": 1748100810079,
     "user": {
      "displayName": "Iman Sorati Ashtiani",
      "userId": "01458661742524148253"
     },
     "user_tz": -120
    },
    "id": "d1938b21",
    "outputId": "bdba8c4c-1fc5-4727-f8e5-ed95cf15c509"
   },
   "outputs": [],
   "source": [
    "df.death+1\n",
    "df[\"death\"]/df.death.max()\n",
    "df.death.div(df.death.max())\n",
    "df.death >= 100\n",
    "df.death.ge(100)\n",
    "df.state == \"WA\"\n",
    "df.state.eq(\"WA\")\n"
   ]
  },
  {
   "cell_type": "markdown",
   "id": "2e31ae55",
   "metadata": {
    "id": "2e31ae55"
   },
   "source": [
    "<div dir=\"rtl\" align=\"right\">\n",
    "\n",
    "همانطور که در مثال بالا دیدیم،\n",
    "هر عملگر دارای یک تابع معادل است.\n",
    "استفاده از توابع به ویژه زمانی معمول است که بخواهیم در یک خط، چندین عمل را یکی پس از دیگری روی سری انجام دهیم.\n",
    "\n",
    "</div>"
   ]
  },
  {
   "cell_type": "code",
   "execution_count": null,
   "id": "5e2ad898",
   "metadata": {
    "colab": {
     "base_uri": "https://localhost:8080/",
     "height": 423
    },
    "executionInfo": {
     "elapsed": 69,
     "status": "ok",
     "timestamp": 1748100874417,
     "user": {
      "displayName": "Iman Sorati Ashtiani",
      "userId": "01458661742524148253"
     },
     "user_tz": -120
    },
    "id": "5e2ad898",
    "outputId": "af1c807b-7d80-4e97-be74-6db96d49f998"
   },
   "outputs": [],
   "source": [
    "df[df.death.ge(100) & df.state.eq(\"WA\")][[\"death\",\"state\"]]"
   ]
  },
  {
   "cell_type": "markdown",
   "id": "e9d65a63",
   "metadata": {
    "id": "e9d65a63"
   },
   "source": [
    "<div dir=\"rtl\" align=\"right\">\n",
    "\n",
    "<a id=\"sec-28\"></a>\n",
    "## تغییر نام ستون‌ها | درس نه  [↥ top](#top)\n",
    "\n",
    "</div>"
   ]
  },
  {
   "cell_type": "markdown",
   "id": "d50e8fa3",
   "metadata": {
    "id": "d50e8fa3"
   },
   "source": [
    "<div dir=\"rtl\" align=\"right\">\n",
    "\n",
    "تابع زیر یک دیکشنری یا یک تابع را به عنوان آرگومان دریافت میکند.\n",
    "این دیکشنری از نام فعلی سری به عنوان کلید، و از نام جایگزین شونده به عنوان مقدار استفاده میکند.\n",
    "تابع مذکور برای تغییر نام سری و همچنین اندیس سودمند است.\n",
    ".rename(columns,index)\n",
    "این تابع دیتافریم اصلی را تغییر نمیدهد، بلکه خروجی آن یک دیتافریم تازه است.\n",
    "\n",
    "</div>"
   ]
  },
  {
   "cell_type": "code",
   "execution_count": null,
   "id": "fa1655eb",
   "metadata": {
    "id": "fa1655eb"
   },
   "outputs": [],
   "source": [
    "df.rename(columns= dict(state=\"States\")).head(1)\n",
    "df.rename(columns={\"state\":\"States\"}, index={0:\"first\"}).head(2)\n",
    "df.rename(index={i:i+1 for i in range(len(df))}).head(3)"
   ]
  },
  {
   "cell_type": "code",
   "execution_count": null,
   "id": "111c188d",
   "metadata": {
    "id": "111c188d"
   },
   "outputs": [],
   "source": [
    "# یک تابع تعریف میکنیم:\n",
    "def capitalize(value):\n",
    "    return value.capitalize()\n",
    "# حالا این تابع را یه عنوان آرگومان به تابع\n",
    "# rename\n",
    "# میفرستیم\n",
    "df.rename(columns=str.upper).columns"
   ]
  },
  {
   "cell_type": "markdown",
   "id": "d5080e73",
   "metadata": {
    "id": "d5080e73"
   },
   "source": [
    "<div dir=\"rtl\" align=\"right\">\n",
    "\n",
    "<a id=\"sec-21\"></a>\n",
    "<a id=\"sec-29\"></a>\n",
    "### تابع زیر از یکی از سری ها به عنوان ایندکس استفاده میکند:\n",
    ".set_index()\n",
    "\n",
    "</div>"
   ]
  },
  {
   "cell_type": "code",
   "execution_count": null,
   "id": "6d328efc",
   "metadata": {
    "id": "6d328efc"
   },
   "outputs": [],
   "source": [
    "df.rename(columns=dict(state=\"States\")).set_index(\"States\").rename(index={\"AK\": \"Alaska\"}).head(2)"
   ]
  },
  {
   "cell_type": "markdown",
   "id": "d15f5d9e",
   "metadata": {
    "id": "d15f5d9e"
   },
   "source": [
    "<div dir=\"rtl\" align=\"right\">\n",
    "\n",
    "<a id=\"sec-30\"></a>\n",
    "## حذف و اضافه کردن ستون | درس ده  [↥ top](#top)\n",
    "\n",
    "</div>"
   ]
  },
  {
   "cell_type": "markdown",
   "id": "2f2fc823",
   "metadata": {
    "id": "2f2fc823"
   },
   "source": [
    "<div dir=\"rtl\" align=\"right\">\n",
    "\n",
    "برای افزودن یک ستون بر حسب اعتبار سنجی از یک سری دیگر در درون دیتافریم\n",
    "سه روش در زیر آمده که سه کارکرد گوناگون دارند.\n",
    "\n",
    "روش اول: دیتافریم اصلی را تغییر میدهد\n",
    "\n",
    "روش دوم: دیتافریم جدیدی را به عنوان خروجی نمیدهد\n",
    "\n",
    "روش سوم: محاسبات را به یک تابع میسپارد\n",
    "\n",
    "</div>"
   ]
  },
  {
   "cell_type": "code",
   "execution_count": null,
   "id": "a17ded90",
   "metadata": {
    "colab": {
     "base_uri": "https://localhost:8080/",
     "height": 112
    },
    "executionInfo": {
     "elapsed": 43,
     "status": "ok",
     "timestamp": 1748101241996,
     "user": {
      "displayName": "Iman Sorati Ashtiani",
      "userId": "01458661742524148253"
     },
     "user_tz": -120
    },
    "id": "a17ded90",
    "outputId": "3415d975-4034-43df-ed21-49f01266bd1d"
   },
   "outputs": [],
   "source": [
    "#1\n",
    "df[\"death_to_positive\"]=df.death/df.positive*100\n",
    "#df.death_to_positive=df.death/df.positive*100 # اینطور کار نمی کند\n",
    "df.iloc[1:3, [-2,-1]]"
   ]
  },
  {
   "cell_type": "code",
   "execution_count": null,
   "id": "cd48b0d7",
   "metadata": {
    "colab": {
     "base_uri": "https://localhost:8080/",
     "height": 112
    },
    "executionInfo": {
     "elapsed": 64,
     "status": "ok",
     "timestamp": 1748101395954,
     "user": {
      "displayName": "Iman Sorati Ashtiani",
      "userId": "01458661742524148253"
     },
     "user_tz": -120
    },
    "id": "cd48b0d7",
    "outputId": "7a56d0a6-ec64-4e77-e5e1-b1e739f17b35"
   },
   "outputs": [],
   "source": [
    "#2\n",
    "df.assign(death_to_positive2=df.death/df.positive*100).iloc[1:3,[-2,-1]]\n",
    "df.iloc[1:3, [-2,-1]]"
   ]
  },
  {
   "cell_type": "code",
   "execution_count": null,
   "id": "2da7ef1c",
   "metadata": {
    "colab": {
     "base_uri": "https://localhost:8080/",
     "height": 112
    },
    "executionInfo": {
     "elapsed": 58,
     "status": "ok",
     "timestamp": 1748101429363,
     "user": {
      "displayName": "Iman Sorati Ashtiani",
      "userId": "01458661742524148253"
     },
     "user_tz": -120
    },
    "id": "2da7ef1c",
    "outputId": "80e8acee-f015-4ecd-ee73-bbbd3cc55d55"
   },
   "outputs": [],
   "source": [
    "#3\n",
    "def gt_100(df):\n",
    "    return df.death >= 100\n",
    "df_1=df.assign(death_gt_100=gt_100)\n",
    "df_1.loc[2:3, [\"death\",\"death_gt_100\"]]"
   ]
  },
  {
   "cell_type": "markdown",
   "id": "047d21b0",
   "metadata": {
    "id": "047d21b0"
   },
   "source": [
    "<div dir=\"rtl\" align=\"right\">\n",
    "\n",
    "حذف یک سری\n",
    "\n",
    "</div>"
   ]
  },
  {
   "cell_type": "code",
   "execution_count": null,
   "id": "289fdbca",
   "metadata": {
    "colab": {
     "base_uri": "https://localhost:8080/"
    },
    "executionInfo": {
     "elapsed": 25,
     "status": "ok",
     "timestamp": 1748101524951,
     "user": {
      "displayName": "Iman Sorati Ashtiani",
      "userId": "01458661742524148253"
     },
     "user_tz": -120
    },
    "id": "289fdbca",
    "outputId": "316f48c3-13b2-40ed-e885-ddd1b7b2f005"
   },
   "outputs": [],
   "source": [
    "print(df.drop(\"death_to_positive\",axis=\"columns\").iloc[:0,-1].name)\n",
    "print(df.iloc[:0,[-2,-1]].columns)"
   ]
  },
  {
   "cell_type": "markdown",
   "id": "f54bfd0f",
   "metadata": {
    "id": "f54bfd0f"
   },
   "source": [
    "<div dir=\"rtl\" align=\"right\">\n",
    "\n",
    "<a id=\"sec-31\"></a>\n",
    "## درس یازده  [↥ top](#top)\n",
    "\n",
    "</div>"
   ]
  },
  {
   "cell_type": "markdown",
   "id": "5c5d9419",
   "metadata": {
    "id": "5c5d9419"
   },
   "source": [
    "<div dir=\"rtl\" align=\"right\">\n",
    "\n",
    "select_dtypes: انتخاب سری ها بر اساس نوع داده\n",
    "\n",
    "</div>"
   ]
  },
  {
   "cell_type": "code",
   "execution_count": null,
   "id": "31fd667f",
   "metadata": {
    "id": "31fd667f"
   },
   "outputs": [],
   "source": [
    "print(  df.select_dtypes(include='object').head(2) )\n",
    "\n",
    "print(  df.select_dtypes(include=(\"integer\",\"object\")).head(1)   )\n",
    "\n",
    "print(  df.select_dtypes(include=\"number\").head(1)    )\n",
    "\n",
    "print(   df.select_dtypes(exclude=\"number\").head(3)    )"
   ]
  },
  {
   "cell_type": "markdown",
   "id": "ca27a317",
   "metadata": {
    "id": "ca27a317"
   },
   "source": [
    "<div dir=\"rtl\" align=\"right\">\n",
    "\n",
    "filter(items,like,regex)\n",
    "\n",
    "</div>"
   ]
  },
  {
   "cell_type": "code",
   "execution_count": null,
   "id": "f4d6b815",
   "metadata": {
    "colab": {
     "base_uri": "https://localhost:8080/"
    },
    "executionInfo": {
     "elapsed": 45,
     "status": "ok",
     "timestamp": 1748101679147,
     "user": {
      "displayName": "Iman Sorati Ashtiani",
      "userId": "01458661742524148253"
     },
     "user_tz": -120
    },
    "id": "f4d6b815",
    "outputId": "b4aded43-d8ae-4162-f879-8794c6d4227c"
   },
   "outputs": [],
   "source": [
    "print(    df.filter(items=(\"deth\",\"state\")).head(2) ,end=\"\\n\\n\")\n",
    "print(    df.filter(like=\"dat\").head(2)    ,end=\"\\n\\n\")\n",
    "print(    df.filter(regex=\"[dD]eath\").head(2)    )"
   ]
  },
  {
   "cell_type": "markdown",
   "id": "10564e9a",
   "metadata": {
    "id": "10564e9a"
   },
   "source": [
    "<div dir=\"rtl\" align=\"right\">\n",
    "\n",
    "<a id=\"sec-32\"></a>\n",
    "## حل مسئله | درس دوازده  [↥ top](#top)\n",
    "\n",
    "</div>"
   ]
  },
  {
   "cell_type": "markdown",
   "id": "39834a84",
   "metadata": {
    "id": "39834a84"
   },
   "source": [
    "<div dir=\"rtl\" align=\"right\">\n",
    "\n",
    "![Testo alternativo](q.png)\n",
    "\n",
    "</div>"
   ]
  },
  {
   "cell_type": "code",
   "execution_count": null,
   "id": "66bc789a",
   "metadata": {
    "colab": {
     "base_uri": "https://localhost:8080/"
    },
    "executionInfo": {
     "elapsed": 27,
     "status": "ok",
     "timestamp": 1748101814743,
     "user": {
      "displayName": "Iman Sorati Ashtiani",
      "userId": "01458661742524148253"
     },
     "user_tz": -120
    },
    "id": "66bc789a",
    "outputId": "fb98a9dc-83c7-43de-9acd-53ec0dd3d590"
   },
   "outputs": [],
   "source": [
    "#1\n",
    "import pandas\n",
    "df=pandas.read_csv(\"iris.csv\")\n",
    "df.columns\n",
    "df[\"sepal.length\"].min() , df[\"sepal.length\"].max()"
   ]
  },
  {
   "cell_type": "code",
   "execution_count": null,
   "id": "84e56250",
   "metadata": {
    "id": "84e56250"
   },
   "outputs": [],
   "source": [
    "#2\n",
    "#df.describe()\n",
    "df[\"petal.length\"].std()"
   ]
  },
  {
   "cell_type": "code",
   "execution_count": null,
   "id": "7f088583",
   "metadata": {
    "id": "7f088583"
   },
   "outputs": [],
   "source": [
    "df.drop(index=6, axis='index').head(7)"
   ]
  },
  {
   "cell_type": "code",
   "execution_count": null,
   "id": "e0915431",
   "metadata": {
    "id": "e0915431"
   },
   "outputs": [],
   "source": [
    "df.info()\n",
    "df.head(1)\n",
    "df.tail(1)"
   ]
  },
  {
   "cell_type": "code",
   "execution_count": null,
   "id": "40bc3907",
   "metadata": {
    "id": "40bc3907"
   },
   "outputs": [],
   "source": [
    "df.dtypes"
   ]
  },
  {
   "cell_type": "code",
   "execution_count": null,
   "id": "44bafc92",
   "metadata": {
    "id": "44bafc92"
   },
   "outputs": [],
   "source": [
    "df.assign(sepal=df[\"sepal.width\"]*df[\"sepal.length\"])"
   ]
  },
  {
   "cell_type": "code",
   "execution_count": null,
   "id": "25ea91c3",
   "metadata": {
    "colab": {
     "base_uri": "https://localhost:8080/"
    },
    "executionInfo": {
     "elapsed": 28,
     "status": "ok",
     "timestamp": 1748102015630,
     "user": {
      "displayName": "Iman Sorati Ashtiani",
      "userId": "01458661742524148253"
     },
     "user_tz": -120
    },
    "id": "25ea91c3",
    "outputId": "7e0229df-7c99-43a0-acfb-7a1354245f77"
   },
   "outputs": [],
   "source": [
    "len(df[(df[\"petal.width\"]<1.5) & (df.variety==\"Versicolor\")])/len(df)*100\n",
    "sum((df[\"petal.width\"]<1.5)*(df.variety==\"Versicolor\"))/len(df)*100\n",
    "sum((df[\"petal.width\"]<1.5) & (df.variety==\"Versicolor\"))/len(df)*100\n"
   ]
  },
  {
   "cell_type": "markdown",
   "id": "w5bii810-_1S",
   "metadata": {
    "id": "w5bii810-_1S"
   },
   "source": [
    "<div dir=\"rtl\" align=\"right\">\n",
    "\n",
    "\n",
    "\n",
    "</div>"
   ]
  },
  {
   "cell_type": "markdown",
   "id": "eca7b4f1",
   "metadata": {
    "id": "eca7b4f1"
   },
   "source": [
    "<div dir=\"rtl\" align=\"right\">\n",
    "\n",
    "<a id=\"sec-33\"></a>\n",
    "## داده ناموجود | درس سیزده  [↥ top](#top)\n",
    "\n",
    "</div>"
   ]
  },
  {
   "cell_type": "markdown",
   "id": "6eb68efd",
   "metadata": {
    "id": "6eb68efd"
   },
   "source": [
    "<div dir=\"rtl\" align=\"right\">\n",
    "\n",
    "دستورات زیر برای کار با داده های تهی استفاده میشوند\"\n",
    "df.isna()\n",
    "df.fillna(value)\n",
    "df.dropna(how=\"any\"|\"all\")0\n",
    "\n",
    "</div>"
   ]
  },
  {
   "cell_type": "code",
   "execution_count": null,
   "id": "75352397",
   "metadata": {
    "colab": {
     "base_uri": "https://localhost:8080/"
    },
    "executionInfo": {
     "elapsed": 635,
     "status": "ok",
     "timestamp": 1748438883480,
     "user": {
      "displayName": "Iman Sorati Ashtiani",
      "userId": "01458661742524148253"
     },
     "user_tz": -120
    },
    "id": "75352397",
    "outputId": "e743baed-374f-40de-f599-0be668ea57fa"
   },
   "outputs": [],
   "source": [
    "\n",
    "import pandas\n",
    "df=pandas.read_csv(\"all-states-history.csv\")\n",
    "print(df.isna())"
   ]
  },
  {
   "cell_type": "code",
   "execution_count": null,
   "id": "o5DBHUADLi7Q",
   "metadata": {
    "id": "o5DBHUADLi7Q"
   },
   "outputs": [],
   "source": [
    "df.isna().sum()\n"
   ]
  },
  {
   "cell_type": "markdown",
   "id": "qwLw8VXGL_IG",
   "metadata": {
    "id": "qwLw8VXGL_IG"
   },
   "source": [
    "<div dir=\"rtl\" align=\"right\">\n",
    "\n",
    "fillna()\n",
    "مقدار دیتافریم اوریجینال را تغییر نمیدهد\n",
    "\n",
    "</div>"
   ]
  },
  {
   "cell_type": "code",
   "execution_count": null,
   "id": "HqKVM4K6L3JR",
   "metadata": {
    "id": "HqKVM4K6L3JR"
   },
   "outputs": [],
   "source": [
    "df.fillna(0)"
   ]
  },
  {
   "cell_type": "markdown",
   "id": "9PfktjG_MflR",
   "metadata": {
    "id": "9PfktjG_MflR"
   },
   "source": [
    "<div dir=\"rtl\" align=\"right\">\n",
    "\n",
    "dropna()\n",
    "با دو استراتژی اقدام به حذف سطر یا ستون هایی میکند که مقدار تهی در آنها یافت میشود، یا سرتاسر تهی هستند.\n",
    "به طور پیش فرض،\n",
    "axis=index\n",
    "\n",
    "</div>"
   ]
  },
  {
   "cell_type": "code",
   "execution_count": null,
   "id": "IYix9KTSM79M",
   "metadata": {
    "id": "IYix9KTSM79M"
   },
   "outputs": [],
   "source": [
    "df[[\"death\",\"totalTestsAntibody\"]].dropna(how=\"any\")"
   ]
  },
  {
   "cell_type": "code",
   "execution_count": null,
   "id": "tNB1KB5LNtsM",
   "metadata": {
    "id": "tNB1KB5LNtsM"
   },
   "outputs": [],
   "source": [
    "df[[\"death\",\"totalTestsAntibody\"]].dropna(how=\"all\")"
   ]
  },
  {
   "cell_type": "markdown",
   "id": "oQGsTwNVOz9O",
   "metadata": {
    "id": "oQGsTwNVOz9O"
   },
   "source": [
    "<div dir=\"rtl\" align=\"right\">\n",
    "\n",
    "<a id=\"sec-34\"></a>\n",
    "## عبارت‌های شرطی | درس چهارده  [↥ top](#top)\n",
    "\n",
    "عبارت های شرطی در پایتون و پانداس متفاوت نوشته میشوند\n",
    "\n",
    "in python: and, or, not\n",
    "\n",
    "در پایتون عبارت های شرظی روی یک یا دو آبجکت اعمال میشوند\n",
    "\n",
    "in pandas: &, |, ~\n",
    "\n",
    "در پانداس عملگر های شرطی روی یک یا دو سطر یا ستون اعمال میشوند\n",
    "\n",
    "\n",
    "در پانداس عبارت های شرطی باید پرانتز بندی شوند\n",
    "\n",
    "</div>"
   ]
  },
  {
   "cell_type": "code",
   "execution_count": null,
   "id": "gq4lchCIOzn-",
   "metadata": {
    "id": "gq4lchCIOzn-"
   },
   "outputs": [],
   "source": [
    "criterion1 = df.death > 50\n",
    "criterion2 = (df.state ==\"WA\") | (df.state == \"AZ\")\n",
    "condition = criterion1 & criterion2\n",
    "print(condition)\n"
   ]
  },
  {
   "cell_type": "markdown",
   "id": "QLZGW3NjSl5i",
   "metadata": {
    "id": "QLZGW3NjSl5i"
   },
   "source": [
    "<div dir=\"rtl\" align=\"right\">\n",
    "\n",
    "نتیجه عبارت شرطی روی یک دیتافریم، یک سری با مقادیر ترو و فالس است.\n",
    "\n",
    "</div>"
   ]
  },
  {
   "cell_type": "markdown",
   "id": "lRahZne6Ru0P",
   "metadata": {
    "id": "lRahZne6Ru0P"
   },
   "source": [
    "<div dir=\"rtl\" align=\"right\">\n",
    "\n",
    "برای شمارش سطرهای مشمول شرط و سطرهای غیر مشمول، از تابع شناخته شده خودمان استفاده میکنیم\n",
    "\n",
    "</div>"
   ]
  },
  {
   "cell_type": "code",
   "execution_count": null,
   "id": "gbvB-bJcSC0v",
   "metadata": {
    "colab": {
     "base_uri": "https://localhost:8080/"
    },
    "executionInfo": {
     "elapsed": 9,
     "status": "ok",
     "timestamp": 1748424857451,
     "user": {
      "displayName": "Iman Sorati Ashtiani",
      "userId": "01458661742524148253"
     },
     "user_tz": -120
    },
    "id": "gbvB-bJcSC0v",
    "outputId": "ff2bcfd4-d652-4f4f-a435-2ea5f537fafb"
   },
   "outputs": [],
   "source": [
    "print(condition.value_counts())"
   ]
  },
  {
   "cell_type": "markdown",
   "id": "QTE1YVELSJ1o",
   "metadata": {
    "id": "QTE1YVELSJ1o"
   },
   "source": [
    "<div dir=\"rtl\" align=\"right\">\n",
    "\n",
    "پایتون دارای این قابلیت است که اگر یک سری شامل مقادیر ترو و فالس به تعداد سطر های دیتافریم را به آن بدهیم، سطر های دیتافریم را بر مبنای آن فیلتر میکند.\n",
    "\n",
    "</div>"
   ]
  },
  {
   "cell_type": "code",
   "execution_count": null,
   "id": "vcJ7bi56SJR9",
   "metadata": {
    "colab": {
     "base_uri": "https://localhost:8080/",
     "height": 196
    },
    "executionInfo": {
     "elapsed": 65,
     "status": "ok",
     "timestamp": 1748424909597,
     "user": {
      "displayName": "Iman Sorati Ashtiani",
      "userId": "01458661742524148253"
     },
     "user_tz": -120
    },
    "id": "vcJ7bi56SJR9",
    "outputId": "7cd0f8df-0d0c-4f26-a4f5-f1696042b956"
   },
   "outputs": [],
   "source": [
    "df[condition].head(2)"
   ]
  },
  {
   "cell_type": "code",
   "execution_count": null,
   "id": "UsLiu1twPod3",
   "metadata": {
    "colab": {
     "base_uri": "https://localhost:8080/"
    },
    "executionInfo": {
     "elapsed": 14,
     "status": "ok",
     "timestamp": 1748424912270,
     "user": {
      "displayName": "Iman Sorati Ashtiani",
      "userId": "01458661742524148253"
     },
     "user_tz": -120
    },
    "id": "UsLiu1twPod3",
    "outputId": "ba52281a-0d15-4d14-f539-82b8dbb0ec90"
   },
   "outputs": [],
   "source": [
    "df[condition].shape"
   ]
  },
  {
   "cell_type": "code",
   "execution_count": null,
   "id": "DZ_GtvFXPoty",
   "metadata": {
    "colab": {
     "base_uri": "https://localhost:8080/"
    },
    "executionInfo": {
     "elapsed": 7,
     "status": "ok",
     "timestamp": 1748424913409,
     "user": {
      "displayName": "Iman Sorati Ashtiani",
      "userId": "01458661742524148253"
     },
     "user_tz": -120
    },
    "id": "DZ_GtvFXPoty",
    "outputId": "3c496852-1397-4b18-9a8a-8beae8a31773"
   },
   "outputs": [],
   "source": [
    "df.shape"
   ]
  },
  {
   "cell_type": "markdown",
   "id": "j1P74jjpTJnb",
   "metadata": {
    "id": "j1P74jjpTJnb"
   },
   "source": [
    "<div dir=\"rtl\" align=\"right\">\n",
    "\n",
    "<a id=\"sec-35\"></a>\n",
    "## گروه‌بندی (groupby)| درس پانزده  [↥ top](#top)\n",
    "\n",
    "</div>"
   ]
  },
  {
   "cell_type": "markdown",
   "id": "eW7DVZrdWlyI",
   "metadata": {
    "id": "eW7DVZrdWlyI"
   },
   "source": [
    "<div dir=\"rtl\" align=\"right\">\n",
    "\n",
    "سوال این است که میخواهیم آماری از کشته های هر ایالت داشته باشیم\n",
    "\n",
    "</div>"
   ]
  },
  {
   "cell_type": "markdown",
   "id": "sgjb9rTjW42A",
   "metadata": {
    "id": "sgjb9rTjW42A"
   },
   "source": [
    "<div dir=\"rtl\" align=\"right\">\n",
    "\n",
    "با گروه بندی سه عملیات روی داده انجام میشود\n",
    "\n",
    "داده را اسپلیت  میکند\n",
    "\n",
    "عملیاتی روی داده انجام میدهد\n",
    "\n",
    "نتایج را با هم ترکیب میکند\n",
    "\n",
    "</div>"
   ]
  },
  {
   "cell_type": "code",
   "execution_count": null,
   "id": "mu1rNAbOTZTK",
   "metadata": {
    "id": "mu1rNAbOTZTK"
   },
   "outputs": [],
   "source": [
    "df_1=df.groupby([\"state\"])[\"death\"].sum()\n",
    "df_1.sort_values(ascending=False)"
   ]
  },
  {
   "cell_type": "code",
   "execution_count": null,
   "id": "_zC1d2sWQUnN",
   "metadata": {
    "id": "_zC1d2sWQUnN"
   },
   "outputs": [],
   "source": [
    "type(df_1)"
   ]
  },
  {
   "cell_type": "markdown",
   "id": "pO68Asq4UkjH",
   "metadata": {
    "id": "pO68Asq4UkjH"
   },
   "source": [
    "<div dir=\"rtl\" align=\"right\">\n",
    "\n",
    "<a id=\"sec-22\"></a>\n",
    "<a id=\"sec-36\"></a>\n",
    "### 🧠 Obiettivo di:\n",
    "\n",
    "df.groupby(\"state\").head(2)\n",
    "\n",
    "→ Prendere le prime 2 righe da ogni gruppo formato dalla colonna \"state\".\n",
    "\n",
    "<a id=\"sec-23\"></a>\n",
    "<a id=\"sec-37\"></a>\n",
    "### 🔢 Supponiamo di avere questo DataFrame:\n",
    "\n",
    "</div>"
   ]
  },
  {
   "cell_type": "code",
   "execution_count": null,
   "id": "k3CGzn6DUvrj",
   "metadata": {
    "id": "k3CGzn6DUvrj"
   },
   "outputs": [],
   "source": [
    "import pandas as pd\n",
    "\n",
    "df_chatgpt = pd.DataFrame({\n",
    "    'state': ['CA', 'CA', 'CA', 'NY', 'NY', 'NY', 'TX', 'TX', 'TX'],\n",
    "    'value': [10, 15, 20, 30, 35, 40, 50, 55, 60]\n",
    "})"
   ]
  },
  {
   "cell_type": "markdown",
   "id": "m2ZPYDyoVALk",
   "metadata": {
    "id": "m2ZPYDyoVALk"
   },
   "source": [
    "<div dir=\"rtl\" align=\"right\">\n",
    "\n",
    "<a id=\"sec-24\"></a>\n",
    "<a id=\"sec-38\"></a>\n",
    "### 🔍 E ora eseguiamo:\n",
    "\n",
    "df.groupby(\"state\").head(2)\n",
    "\n",
    "<a id=\"sec-25\"></a>\n",
    "<a id=\"sec-39\"></a>\n",
    "### 🟢 Questo fa:\n",
    "\n",
    "Gruppo \"CA\" → Prende le prime 2 righe: index 0 e 1\n",
    "\n",
    "Gruppo \"NY\" → Prende le prime 2 righe: index 3 e 4\n",
    "\n",
    "Gruppo \"TX\" → Prende le prime 2 righe: index 6 e 7\n",
    "\n",
    "</div>"
   ]
  },
  {
   "cell_type": "code",
   "execution_count": null,
   "id": "-PmlovsMVJJG",
   "metadata": {
    "id": "-PmlovsMVJJG"
   },
   "outputs": [],
   "source": [
    "df_chatgpt.groupby(\"state\").head(2)"
   ]
  },
  {
   "cell_type": "markdown",
   "id": "YsUYcqCwVM49",
   "metadata": {
    "id": "YsUYcqCwVM49"
   },
   "source": [
    "<div dir=\"rtl\" align=\"right\">\n",
    "\n",
    "<a id=\"sec-26\"></a>\n",
    "<a id=\"sec-40\"></a>\n",
    "### 🔁 Quindi head(2) dentro a groupby(\"state\") significa:\n",
    "\n",
    "\"***Per ogni stato, prendi solo le prime 2 righe del gruppo.***\"\n",
    "\n",
    "</div>"
   ]
  },
  {
   "cell_type": "code",
   "execution_count": null,
   "id": "bImG2E4RQ1X-",
   "metadata": {
    "colab": {
     "base_uri": "https://localhost:8080/"
    },
    "executionInfo": {
     "elapsed": 6,
     "status": "ok",
     "timestamp": 1748426456558,
     "user": {
      "displayName": "Iman Sorati Ashtiani",
      "userId": "01458661742524148253"
     },
     "user_tz": -120
    },
    "id": "bImG2E4RQ1X-",
    "outputId": "67b0d420-1843-4eaf-fd77-83ec4e12540e"
   },
   "outputs": [],
   "source": [
    "df_chatgpt.groupby([\"state\"]).head(2).shape, df_chatgpt.shape, len(df_chatgpt.state.unique())"
   ]
  },
  {
   "cell_type": "markdown",
   "id": "jXsa5GhYZNlu",
   "metadata": {
    "id": "jXsa5GhYZNlu"
   },
   "source": [
    "<div dir=\"rtl\" align=\"right\">\n",
    "\n",
    "برای فهمیدن بهتر پشت پرده دستور گروه‌بندی، مثال‌های زیر توجه کن\n",
    "\n",
    "</div>"
   ]
  },
  {
   "cell_type": "code",
   "execution_count": null,
   "id": "J50a7nA5a1MK",
   "metadata": {
    "colab": {
     "base_uri": "https://localhost:8080/"
    },
    "executionInfo": {
     "elapsed": 52,
     "status": "ok",
     "timestamp": 1748426696249,
     "user": {
      "displayName": "Iman Sorati Ashtiani",
      "userId": "01458661742524148253"
     },
     "user_tz": -120
    },
    "id": "J50a7nA5a1MK",
    "outputId": "bd401c60-c492-451c-8002-a4c8f6ef9088"
   },
   "outputs": [],
   "source": [
    "group=df.groupby([\"state\"])\n",
    "print(group)"
   ]
  },
  {
   "cell_type": "markdown",
   "id": "mLWztji7YEaK",
   "metadata": {
    "id": "mLWztji7YEaK"
   },
   "source": [
    "<div dir=\"rtl\" align=\"right\">\n",
    "\n",
    "df.groupby([\"state\"])\n",
    "\n",
    "این دستور داده های دیتافریم را بر اساس ستون مورد نظر گروهبندی میکند. یعنی ردیف هایی که ایالت یکسان دارند، در یک گروه قرار میگیرند.\n",
    "\n",
    "پرینت آن فقط یک شی از نوع\n",
    "\n",
    "GROUPBY\n",
    "\n",
    "را چاپ میکند، نه خود داده ها را.\n",
    "\n",
    "توجه کن که نوع داده یک دیتافریم نیست، بلکه گروهبندی است\n",
    "\n",
    "</div>"
   ]
  },
  {
   "cell_type": "code",
   "execution_count": null,
   "id": "nfKRZaHsbX3P",
   "metadata": {
    "id": "nfKRZaHsbX3P"
   },
   "outputs": [],
   "source": [
    "print(group.groups)"
   ]
  },
  {
   "cell_type": "markdown",
   "id": "wLcSwov5Xa58",
   "metadata": {
    "id": "wLcSwov5Xa58"
   },
   "source": [
    "<div dir=\"rtl\" align=\"right\">\n",
    "\n",
    "group.groups\n",
    "\n",
    " یک دیکشنری است که کلیدهای آن مقادیر یکتا در ستون گروه‌بندی شده هستند\n",
    "\n",
    "و مقدار هر کلید لیستی از ایندکس (اندیس) ردیف‌هایی است که آن گروه را تشکیل می‌دهند\n",
    "\n",
    "</div>"
   ]
  },
  {
   "cell_type": "code",
   "execution_count": null,
   "id": "KUH1jSMJbgpc",
   "metadata": {
    "id": "KUH1jSMJbgpc"
   },
   "outputs": [],
   "source": [
    "print(group.get_group(\"NY\")) # همه داده های گروه مربوط به فقط نیویورک را نشان می‌دهد"
   ]
  },
  {
   "cell_type": "markdown",
   "id": "pMClQs_2b8nT",
   "metadata": {
    "id": "pMClQs_2b8nT"
   },
   "source": [
    "<div dir=\"rtl\" align=\"right\">\n",
    "\n",
    "تابع\n",
    "agg\n",
    "\n",
    "<a id=\"sec-27\"></a>\n",
    "<a id=\"sec-41\"></a>\n",
    "### به من اجازه میدهد تا توابع گوناگونی را همزمان روی موضوع مورد نظرم اعمال کنم:\n",
    "\n",
    "</div>"
   ]
  },
  {
   "cell_type": "code",
   "execution_count": null,
   "id": "VhzU0cN6b6ig",
   "metadata": {
    "colab": {
     "base_uri": "https://localhost:8080/",
     "height": 159
    },
    "executionInfo": {
     "elapsed": 351,
     "status": "error",
     "timestamp": 1748614052747,
     "user": {
      "displayName": "Iman Sorati Ashtiani",
      "userId": "01458661742524148253"
     },
     "user_tz": -120
    },
    "id": "VhzU0cN6b6ig",
    "outputId": "5e8738ef-f143-41ed-8bdc-2201c3444ace"
   },
   "outputs": [],
   "source": [
    "import numpy as np\n",
    "print(df.groupby(['state'])['death'].agg((np.sum,np.min,np.max,np.mean, np.size)))\n"
   ]
  },
  {
   "cell_type": "markdown",
   "id": "vdXD77deEeNT",
   "metadata": {
    "id": "vdXD77deEeNT"
   },
   "source": [
    "<div dir=\"rtl\" align=\"right\">\n",
    "\n",
    "<a id=\"sec-42\"></a>\n",
    "## کار با تاریخ | درس شانزده  [↥ top](#top)\n",
    "\n",
    "</div>"
   ]
  },
  {
   "cell_type": "code",
   "execution_count": null,
   "id": "NjBrAPD6FFe2",
   "metadata": {
    "executionInfo": {
     "elapsed": 915,
     "status": "ok",
     "timestamp": 1748614057195,
     "user": {
      "displayName": "Iman Sorati Ashtiani",
      "userId": "01458661742524148253"
     },
     "user_tz": -120
    },
    "id": "NjBrAPD6FFe2"
   },
   "outputs": [],
   "source": [
    "import pandas\n",
    "df=pandas.read_csv(\"all-states-history.csv\")"
   ]
  },
  {
   "cell_type": "markdown",
   "id": "Nb5IvmMQEe41",
   "metadata": {
    "id": "Nb5IvmMQEe41"
   },
   "source": [
    "<div dir=\"rtl\" align=\"right\">\n",
    "\n",
    "ساختن آبجکتی از نوع\n",
    "\n",
    "panas.to_atetime(DataSeries) -> data Series\n",
    "\n",
    "</div>"
   ]
  },
  {
   "cell_type": "code",
   "execution_count": null,
   "id": "q8C5g-_8ErtC",
   "metadata": {
    "colab": {
     "base_uri": "https://localhost:8080/"
    },
    "executionInfo": {
     "elapsed": 27,
     "status": "ok",
     "timestamp": 1748614057953,
     "user": {
      "displayName": "Iman Sorati Ashtiani",
      "userId": "01458661742524148253"
     },
     "user_tz": -120
    },
    "id": "q8C5g-_8ErtC",
    "outputId": "df2e0741-b3d2-4c36-9ab0-597f224054b9"
   },
   "outputs": [],
   "source": [
    "df.dtypes\n",
    "df_t=pandas.to_datetime(df.date) # input: a series, output: a Series\n",
    "type[df_t]\n"
   ]
  },
  {
   "cell_type": "markdown",
   "id": "-nW3NbYogShQ",
   "metadata": {
    "id": "-nW3NbYogShQ"
   },
   "source": [
    "<div dir=\"rtl\" align=\"right\">\n",
    "\n",
    "استفاده از متد ها و اتریبیوت های کلاس دیت تایم\n",
    "\n",
    ".year\n",
    ".month\n",
    ".day\n",
    "\n",
    "\n",
    "</div>"
   ]
  },
  {
   "cell_type": "code",
   "execution_count": null,
   "id": "aR89391cgm54",
   "metadata": {
    "colab": {
     "base_uri": "https://localhost:8080/",
     "height": 458
    },
    "executionInfo": {
     "elapsed": 27,
     "status": "ok",
     "timestamp": 1748614059661,
     "user": {
      "displayName": "Iman Sorati Ashtiani",
      "userId": "01458661742524148253"
     },
     "user_tz": -120
    },
    "id": "aR89391cgm54",
    "outputId": "8319e180-13ac-46b8-f09f-adcf10e5beed"
   },
   "outputs": [],
   "source": [
    "df.date=df_t\n",
    "df.date.dt.year\n",
    "df[\"date\"].dt.month\n",
    "df.date.dt.day\n",
    "df.date.dt.weekday\n"
   ]
  },
  {
   "cell_type": "markdown",
   "id": "yFUw1jZxhW6A",
   "metadata": {
    "id": "yFUw1jZxhW6A"
   },
   "source": [
    "<div dir=\"rtl\" align=\"right\">\n",
    "\n",
    "افزودن ستو.ن هایی به دیتافریم با مقادیر سال و ماه و روزو شماره هفته\n",
    "\n",
    "</div>"
   ]
  },
  {
   "cell_type": "code",
   "execution_count": null,
   "id": "sS-xXzUnogBP",
   "metadata": {
    "executionInfo": {
     "elapsed": 23,
     "status": "ok",
     "timestamp": 1748614336516,
     "user": {
      "displayName": "Iman Sorati Ashtiani",
      "userId": "01458661742524148253"
     },
     "user_tz": -120
    },
    "id": "sS-xXzUnogBP"
   },
   "outputs": [],
   "source": [
    "df=df \\\n",
    "  .assign(year=df[\"date\"].dt.year)\\\n",
    "  .assign(month=df.date.dt.month)\\\n",
    "  .assign(day=df.date.dt.day)\\\n",
    "  .assign(week=df.date.dt.isocalendar().week)"
   ]
  },
  {
   "cell_type": "code",
   "execution_count": null,
   "id": "SiFniXCniWrl",
   "metadata": {
    "colab": {
     "base_uri": "https://localhost:8080/",
     "height": 80
    },
    "executionInfo": {
     "elapsed": 51,
     "status": "ok",
     "timestamp": 1748614427184,
     "user": {
      "displayName": "Iman Sorati Ashtiani",
      "userId": "01458661742524148253"
     },
     "user_tz": -120
    },
    "id": "SiFniXCniWrl",
    "outputId": "dbf6af51-d6ab-4de7-9c67-c10c052f4e81"
   },
   "outputs": [],
   "source": [
    "df.iloc[:1,[-4,-3,-2,-1]]"
   ]
  },
  {
   "cell_type": "markdown",
   "id": "n6_e1c-1kuuB",
   "metadata": {
    "id": "n6_e1c-1kuuB"
   },
   "source": [
    "<div dir=\"rtl\" align=\"right\">\n",
    "\n",
    "در اینجا با بازگشت به مطالب قبل، از یک روش جالب برای انتخاب یک سمپل از دیتافریم استفاده میکنم\n",
    "\n",
    "</div>"
   ]
  },
  {
   "cell_type": "code",
   "execution_count": null,
   "id": "gHZarQF4ir1Q",
   "metadata": {
    "colab": {
     "base_uri": "https://localhost:8080/",
     "height": 143
    },
    "executionInfo": {
     "elapsed": 39,
     "status": "ok",
     "timestamp": 1748614920970,
     "user": {
      "displayName": "Iman Sorati Ashtiani",
      "userId": "01458661742524148253"
     },
     "user_tz": -120
    },
    "id": "gHZarQF4ir1Q",
    "outputId": "bc56174a-5180-4062-f54d-aa1e02b78896"
   },
   "outputs": [],
   "source": [
    "import random\n",
    "sample=random.sample(range(len(df)),k=3)\n",
    "df.iloc[sample,-4:]"
   ]
  },
  {
   "cell_type": "markdown",
   "id": "EyjSqrv_kwmE",
   "metadata": {
    "id": "EyjSqrv_kwmE"
   },
   "source": [
    "<div dir=\"rtl\" align=\"right\">\n",
    "\n",
    "حالا میخواهم باز با استفاده از مطالب گذشته، ایندکس دیتافریم را به تاریخ بدل کنم.\n",
    "\n",
    "علت: با این کار میتوانم از فیلتر هوشمندانه ای استفاده کنم\n",
    "\n",
    "</div>"
   ]
  },
  {
   "cell_type": "code",
   "execution_count": null,
   "id": "NUi6l0R4lZ_o",
   "metadata": {
    "colab": {
     "base_uri": "https://localhost:8080/",
     "height": 315
    },
    "executionInfo": {
     "elapsed": 29,
     "status": "error",
     "timestamp": 1748615317612,
     "user": {
      "displayName": "Iman Sorati Ashtiani",
      "userId": "01458661742524148253"
     },
     "user_tz": -120
    },
    "id": "NUi6l0R4lZ_o",
    "outputId": "6516898d-fc60-4c26-8e10-77683a8f1b51"
   },
   "outputs": [],
   "source": [
    "df = df.set_index(\"date\")"
   ]
  },
  {
   "cell_type": "code",
   "execution_count": null,
   "id": "Jr8Ld4BImHcY",
   "metadata": {
    "colab": {
     "base_uri": "https://localhost:8080/",
     "height": 1000
    },
    "executionInfo": {
     "elapsed": 36,
     "status": "ok",
     "timestamp": 1748615398459,
     "user": {
      "displayName": "Iman Sorati Ashtiani",
      "userId": "01458661742524148253"
     },
     "user_tz": -120
    },
    "id": "Jr8Ld4BImHcY",
    "outputId": "4411689c-a4f6-420a-bfae-44a918e59f32"
   },
   "outputs": [],
   "source": [
    "df.loc[\"2021\"]\n",
    "df.columns\n",
    "df.loc[\"2021\"].groupby(\"state\").hospitalized.sum()"
   ]
  },
  {
   "cell_type": "markdown",
   "id": "R5tk99lWnBso",
   "metadata": {
    "id": "R5tk99lWnBso"
   },
   "source": [
    "<div dir=\"rtl\" align=\"right\">\n",
    "\n",
    "<a id=\"sec-43\"></a>\n",
    "## حل مسئله | درس هفده  [↥ top](#top)\n",
    "\n",
    "</div>"
   ]
  },
  {
   "cell_type": "code",
   "execution_count": null,
   "id": "DP8Qt6R8nDIi",
   "metadata": {
    "executionInfo": {
     "elapsed": 38,
     "status": "ok",
     "timestamp": 1748618578682,
     "user": {
      "displayName": "Iman Sorati Ashtiani",
      "userId": "01458661742524148253"
     },
     "user_tz": -120
    },
    "id": "DP8Qt6R8nDIi"
   },
   "outputs": [],
   "source": [
    "import pandas\n",
    "df=pandas.read_csv(\"Golem_Pandas_students.csv\")"
   ]
  },
  {
   "cell_type": "markdown",
   "id": "6C5cicS8p1sO",
   "metadata": {
    "id": "6C5cicS8p1sO"
   },
   "source": [
    "<div dir=\"rtl\" align=\"right\">\n",
    "\n",
    "<a id=\"sec-28\"></a>\n",
    "<a id=\"sec-44\"></a>\n",
    "### تمرین:\n",
    "ساختن یک ستون با مقادیر 0و1 برای مرد و زن\n",
    "\n",
    "</div>"
   ]
  },
  {
   "cell_type": "code",
   "execution_count": null,
   "id": "gPshDjULnP_z",
   "metadata": {
    "colab": {
     "base_uri": "https://localhost:8080/",
     "height": 174
    },
    "executionInfo": {
     "elapsed": 25,
     "status": "ok",
     "timestamp": 1748616945081,
     "user": {
      "displayName": "Iman Sorati Ashtiani",
      "userId": "01458661742524148253"
     },
     "user_tz": -120
    },
    "id": "gPshDjULnP_z",
    "outputId": "133a332e-38e0-4501-a162-0296e5f78899"
   },
   "outputs": [],
   "source": [
    "df[\"is_male\"]=1\n",
    "df.loc[df[\"Gender\"]==\"Female\", \"is_male\"]=0\n",
    "df.loc[:3,[\"Gender\", \"is_male\"]]"
   ]
  },
  {
   "cell_type": "markdown",
   "id": "sXKjwTQUr4fp",
   "metadata": {
    "id": "sXKjwTQUr4fp"
   },
   "source": [
    "<div dir=\"rtl\" align=\"right\">\n",
    "\n",
    "<a id=\"sec-29\"></a>\n",
    "<a id=\"sec-45\"></a>\n",
    "### Use condition in loc:\n",
    "\n",
    "\n",
    "\n",
    "```\n",
    "df.loc[df[\"Gender\"] == \"Female\", \"is_male\"] = 0\n",
    "```\n",
    "\n",
    "\n",
    "→ for all rows where \"Gender\" is \"Female\", set \"is_male\" to 0.\n",
    "\n",
    "</div>"
   ]
  },
  {
   "cell_type": "markdown",
   "id": "yV6mnHZSsn-r",
   "metadata": {
    "id": "yV6mnHZSsn-r"
   },
   "source": [
    "<div dir=\"rtl\" align=\"right\">\n",
    "\n",
    "<a id=\"sec-30\"></a>\n",
    "<a id=\"sec-46\"></a>\n",
    "### تمرین 2:\n",
    "\n",
    "میخواهیم ستون نمرات را از عدد به دسته های  زیر تقسیم کنیم>\n",
    "\n",
    "categories-condition\n",
    "\n",
    "D:<50\n",
    "\n",
    "C: >=50 and <70\n",
    "\n",
    "B: >=70 and > 80\n",
    "\n",
    "A: >=80\n",
    "\n",
    "</div>"
   ]
  },
  {
   "cell_type": "markdown",
   "id": "PYfC0TmEtpt1",
   "metadata": {
    "id": "PYfC0TmEtpt1"
   },
   "source": [
    "<div dir=\"rtl\" align=\"right\">\n",
    "\n",
    "استفاده از تابع\n",
    "\n",
    "\n",
    "\n",
    "```\n",
    "numpy.select(condition-list, choice-list, default=0)\n",
    "```\n",
    "دیفالت باید یک داده باشد که نوع آن برای ساختن آرایه مهم است.\n",
    "\n",
    "\n",
    "\n",
    "</div>"
   ]
  },
  {
   "cell_type": "code",
   "execution_count": null,
   "id": "MduZs6txunM9",
   "metadata": {
    "executionInfo": {
     "elapsed": 53,
     "status": "ok",
     "timestamp": 1748619351819,
     "user": {
      "displayName": "Iman Sorati Ashtiani",
      "userId": "01458661742524148253"
     },
     "user_tz": -120
    },
    "id": "MduZs6txunM9"
   },
   "outputs": [],
   "source": [
    "conditions=(\n",
    "    (df[\"college mark\"] <50) ,\n",
    "    (df[\"college mark\"] >=50) & (df[\"college mark\"] <70),\n",
    "    (df[\"college mark\"] >=70) & (df[\"college mark\"] <80),\n",
    "    (df[\"college mark\"] >=80)\n",
    ")\n",
    "scores=(\"D\",\"C\",\"B\",\"A\")"
   ]
  },
  {
   "cell_type": "code",
   "execution_count": null,
   "id": "6XZ7vG3ctbFP",
   "metadata": {
    "executionInfo": {
     "elapsed": 17,
     "status": "ok",
     "timestamp": 1748619352580,
     "user": {
      "displayName": "Iman Sorati Ashtiani",
      "userId": "01458661742524148253"
     },
     "user_tz": -120
    },
    "id": "6XZ7vG3ctbFP"
   },
   "outputs": [],
   "source": [
    "import numpy\n",
    "df[\"college score\"] = numpy.select(conditions,scores, default=\"D\")# type(\"D\"): string, the same as scores\n"
   ]
  },
  {
   "cell_type": "code",
   "execution_count": null,
   "id": "mhSt_860utVR",
   "metadata": {
    "colab": {
     "base_uri": "https://localhost:8080/",
     "height": 237
    },
    "executionInfo": {
     "elapsed": 23,
     "status": "ok",
     "timestamp": 1748619370200,
     "user": {
      "displayName": "Iman Sorati Ashtiani",
      "userId": "01458661742524148253"
     },
     "user_tz": -120
    },
    "id": "mhSt_860utVR",
    "outputId": "26dc2185-5a90-4973-d4e9-5f250cc391ca"
   },
   "outputs": [],
   "source": [
    "df.loc[:5,(\"college mark\", \"college score\")]"
   ]
  },
  {
   "cell_type": "markdown",
   "id": "uquS6ob51-pH",
   "metadata": {
    "id": "uquS6ob51-pH"
   },
   "source": [
    "<div dir=\"rtl\" align=\"right\">\n",
    "\n",
    "<a id=\"sec-31\"></a>\n",
    "<a id=\"sec-47\"></a>\n",
    "### استفاده از تابع دیگر در خود پانداس:\n",
    "\n",
    "\n",
    "\n",
    "```\n",
    "pandas.cut(series,bins,labels,right,include_lowest)\n",
    "```\n",
    "\n",
    "\n",
    "\n",
    "</div>"
   ]
  },
  {
   "cell_type": "code",
   "execution_count": null,
   "id": "QIWqQ0yP2ec2",
   "metadata": {
    "executionInfo": {
     "elapsed": 41,
     "status": "ok",
     "timestamp": 1748619951851,
     "user": {
      "displayName": "Iman Sorati Ashtiani",
      "userId": "01458661742524148253"
     },
     "user_tz": -120
    },
    "id": "QIWqQ0yP2ec2"
   },
   "outputs": [],
   "source": [
    "bins=(0,50,70,80,100)\n",
    "labels=(\"D\",\"C\",\"B\",\"A\")\n",
    "df[\"collegeScore\"]=pandas.cut(df[\"college mark\"],bins=bins, labels=labels, right=False, include_lowest=True)"
   ]
  },
  {
   "cell_type": "code",
   "execution_count": null,
   "id": "jX-eZuXx3PL0",
   "metadata": {
    "colab": {
     "base_uri": "https://localhost:8080/",
     "height": 206
    },
    "executionInfo": {
     "elapsed": 36,
     "status": "ok",
     "timestamp": 1748619953981,
     "user": {
      "displayName": "Iman Sorati Ashtiani",
      "userId": "01458661742524148253"
     },
     "user_tz": -120
    },
    "id": "jX-eZuXx3PL0",
    "outputId": "784a2d04-278f-4bec-9528-4b85a1a7bc30"
   },
   "outputs": [],
   "source": [
    "df.loc[:4, [\"college mark\", \"college_score\", \"collegeScore\"]]"
   ]
  },
  {
   "cell_type": "markdown",
   "id": "Wl8WVgVt4AJb",
   "metadata": {
    "id": "Wl8WVgVt4AJb"
   },
   "source": [
    "<div dir=\"rtl\" align=\"right\">\n",
    "\n",
    "<a id=\"sec-32\"></a>\n",
    "<a id=\"sec-48\"></a>\n",
    "### ###توضیح پارامترها:\n",
    "\n",
    "```\n",
    "bins = [0, 50, 70, 80, 100]\n",
    "```\n",
    "\n",
    "\n",
    "یعنی\n",
    "\n",
    "\n",
    "```\n",
    "0 ≤ mark < 50 → \"D\"\n",
    "\n",
    "50 ≤ mark < 70 → \"C\"\n",
    "\n",
    "70 ≤ mark < 80 → \"B\"\n",
    "\n",
    "80 ≤ mark < 100 → \"A\"\n",
    "```\n",
    "\n",
    "\n",
    "```\n",
    "labels = [...]\n",
    "```\n",
    "\n",
    "\n",
    "\n",
    "لیبل‌هایی که برای هر بازه می‌گذاری\n",
    "\n",
    "\n",
    "```\n",
    "<a id=\"sec-33\"></a>\n",
    "<a id=\"sec-49\"></a>\n",
    "### right=False:\n",
    "```\n",
    "\n",
    "یعنی سمت راست بازه شامل نمی‌شود\n",
    "\n",
    "(مثلاً 50 شامل بازه‌ی دوم است، نه اول)\n",
    "\n",
    "<a id=\"sec-34\"></a>\n",
    "<a id=\"sec-50\"></a>\n",
    "### ###💡 نکته امنیتی:\n",
    "\n",
    "\n",
    "اگر نمره‌ای خارج از بازه‌ی 0 تا 100 باشه، مقدار\n",
    "\n",
    "NaN خواهد بود\n",
    "\n",
    " می‌تونی\n",
    "\n",
    "```\n",
    "include_lowest=True\n",
    "```\n",
    "\n",
    "\n",
    "\n",
    " رو هم اضافه کنی اگه بخوای مقدار 0 هم دقیقاً لحاظ شه\n",
    "\n",
    "\n",
    "\n",
    "</div>"
   ]
  }
 ],
 "metadata": {
  "colab": {
   "provenance": [],
   "toc_visible": true
  },
  "kernelspec": {
   "display_name": "Python 3",
   "language": "python",
   "name": "python3"
  },
  "language_info": {
   "codemirror_mode": {
    "name": "ipython",
    "version": 3
   },
   "file_extension": ".py",
   "mimetype": "text/x-python",
   "name": "python",
   "nbconvert_exporter": "python",
   "pygments_lexer": "ipython3",
   "version": "3.12.4"
  }
 },
 "nbformat": 4,
 "nbformat_minor": 5
}
